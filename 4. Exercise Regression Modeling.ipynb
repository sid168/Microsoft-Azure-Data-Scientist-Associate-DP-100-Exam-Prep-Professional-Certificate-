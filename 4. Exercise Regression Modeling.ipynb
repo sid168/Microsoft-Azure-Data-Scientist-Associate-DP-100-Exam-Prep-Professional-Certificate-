{
 "cells": [
  {
   "cell_type": "markdown",
   "metadata": {
    "application/vnd.databricks.v1+cell": {
     "cellMetadata": {},
     "inputWidgets": {},
     "nuid": "b448ab64-6ed1-4e29-b2f6-09414902b6a5",
     "showTitle": false,
     "title": ""
    }
   },
   "source": [
    "## Exercise: Improve the Regression Model\n",
    "\n",
    "Improve on the model trained in the **Regression Modeling** unit by adding features and interpreting the results."
   ]
  },
  {
   "cell_type": "markdown",
   "metadata": {
    "application/vnd.databricks.v1+cell": {
     "cellMetadata": {},
     "inputWidgets": {},
     "nuid": "e5f401bc-ba5f-4905-88a9-5db984944754",
     "showTitle": false,
     "title": ""
    }
   },
   "source": [
    "Run the following cell to set up our environment."
   ]
  },
  {
   "cell_type": "code",
   "execution_count": 0,
   "metadata": {
    "application/vnd.databricks.v1+cell": {
     "cellMetadata": {},
     "inputWidgets": {},
     "nuid": "39499bf9-e778-41d6-ba90-689a7364c98a",
     "showTitle": false,
     "title": ""
    }
   },
   "outputs": [],
   "source": [
    "%run \"./Includes/Classroom-Setup\""
   ]
  },
  {
   "cell_type": "markdown",
   "metadata": {
    "application/vnd.databricks.v1+cell": {
     "cellMetadata": {},
     "inputWidgets": {},
     "nuid": "b7ab5ceb-f4bd-45b8-acc1-423488fd0559",
     "showTitle": false,
     "title": ""
    }
   },
   "source": [
    "Import the Boston dataset."
   ]
  },
  {
   "cell_type": "code",
   "execution_count": 0,
   "metadata": {
    "application/vnd.databricks.v1+cell": {
     "cellMetadata": {},
     "inputWidgets": {},
     "nuid": "720cad0e-018c-4b42-b535-abcff701c789",
     "showTitle": false,
     "title": ""
    }
   },
   "outputs": [],
   "source": [
    "bostonDF = (spark.read\n",
    "  .option(\"HEADER\", True)\n",
    "  .option(\"inferSchema\", True)\n",
    "  .csv(\"/mnt/training/bostonhousing/bostonhousing/bostonhousing.csv\")\n",
    "  .drop(\"_c0\")\n",
    ")\n",
    "\n",
    "display(bostonDF)"
   ]
  },
  {
   "cell_type": "markdown",
   "metadata": {
    "application/vnd.databricks.v1+cell": {
     "cellMetadata": {},
     "inputWidgets": {},
     "nuid": "067824f6-3e5b-4bb3-a5fa-3fbe5fd8b863",
     "showTitle": false,
     "title": ""
    }
   },
   "source": [
    "### Step 1: Prepare the Features for a New Model\n",
    "\n",
    "Prepare a new column `allFeatures` for a new model that uses all of the features in `bostonDF` except for the label `medv`.  Create the following variables:<br><br>\n",
    "\n",
    "1. `allFeatures`: a list of all the column names\n",
    "2. `assemblerAllFeatures`: A `VectorAssembler` that uses `allFeatures` to create the output column `allFeatures`\n",
    "3. `bostonFeaturizedAllFeaturesDF`: The transformed `bostonDF`"
   ]
  },
  {
   "cell_type": "code",
   "execution_count": 0,
   "metadata": {
    "application/vnd.databricks.v1+cell": {
     "cellMetadata": {},
     "inputWidgets": {},
     "nuid": "4b495a7d-0d0f-4193-b7a9-1d6f5d843fd2",
     "showTitle": false,
     "title": ""
    }
   },
   "outputs": [],
   "source": [
    "# TODO\n",
    "allFeatures = ['crim', 'zn', 'indus', 'chas', 'nox', 'rm', 'age', 'dis', 'rad', 'tax', 'ptratio', 'black', 'lstat']\n",
    "assemblerAllFeatures = VectorAssembler(inputCols=allFeatures, outputCol='allFeatures')\n",
    "\n",
    "bostonFeaturizedAllFeaturesDF = assemblerAllFeatures.transform(bostonDF)\n",
    "display(bostonFeaturizedAllFeaturesDF)"
   ]
  },
  {
   "cell_type": "code",
   "execution_count": 0,
   "metadata": {
    "application/vnd.databricks.v1+cell": {
     "cellMetadata": {},
     "inputWidgets": {},
     "nuid": "d357924c-3e15-4579-85fe-30f483120241",
     "showTitle": false,
     "title": ""
    }
   },
   "outputs": [],
   "source": [
    "# TEST - Run this cell to test your solution\n",
    "from pyspark.ml.feature import VectorAssembler\n",
    "\n",
    "_features = ['crim',\n",
    "  'zn',\n",
    "  'indus',\n",
    "  'chas',\n",
    "  'nox',\n",
    "  'rm',\n",
    "  'age',\n",
    "  'dis',\n",
    "  'rad',\n",
    "  'tax',\n",
    "  'ptratio',\n",
    "  'black',\n",
    "  'lstat'\n",
    "]\n",
    "\n",
    "dbTest(\"ML1-P-06-01-01\", _features, allFeatures)\n",
    "dbTest(\"ML1-P-06-01-02\", True, type(assemblerAllFeatures) == type(VectorAssembler()))\n",
    "dbTest(\"ML1-P-06-01-03\", True, assemblerAllFeatures.getOutputCol() == 'allFeatures')\n",
    "dbTest(\"ML1-P-06-01-04\", True, \"allFeatures\" in bostonFeaturizedAllFeaturesDF.columns)\n",
    "\n",
    "print(\"Tests passed!\")"
   ]
  },
  {
   "cell_type": "markdown",
   "metadata": {
    "application/vnd.databricks.v1+cell": {
     "cellMetadata": {},
     "inputWidgets": {},
     "nuid": "f521f7cf-9415-413c-ba1f-d49c9510ebc2",
     "showTitle": false,
     "title": ""
    }
   },
   "source": [
    "### Step 2: Train the Model\n",
    "\n",
    "Create a linear regression model `lrAllFeatures`.  Save the trained model to lrModelAllFeatures."
   ]
  },
  {
   "cell_type": "code",
   "execution_count": 0,
   "metadata": {
    "application/vnd.databricks.v1+cell": {
     "cellMetadata": {},
     "inputWidgets": {},
     "nuid": "e257a3cb-4e4f-44a7-85e8-e8a9996f90b9",
     "showTitle": false,
     "title": ""
    }
   },
   "outputs": [],
   "source": [
    "# TODO\n",
    "lrAllFeatures = LinearRegression(featuresCol='allFeatures', labelCol='medv')\n",
    "lrModelAllFeatures = lrAllFeatures.fit(bostonFeaturizedAllFeaturesDF)"
   ]
  },
  {
   "cell_type": "code",
   "execution_count": 0,
   "metadata": {
    "application/vnd.databricks.v1+cell": {
     "cellMetadata": {},
     "inputWidgets": {},
     "nuid": "13a6c89a-486d-4351-b53b-a412889415ca",
     "showTitle": false,
     "title": ""
    }
   },
   "outputs": [],
   "source": [
    "# TEST - Run this cell to test your solution\n",
    "from pyspark.ml.regression import LinearRegression\n",
    "\n",
    "dbTest(\"ML1-P-06-02-01\", True, type(lrAllFeatures) == type(LinearRegression()))\n",
    "dbTest(\"ML1-P-06-02-02\", True, lrAllFeatures.getLabelCol() == 'medv')\n",
    "dbTest(\"ML1-P-06-02-03\", True, lrAllFeatures.getFeaturesCol() == 'allFeatures')\n",
    "dbTest(\"ML1-P-06-02-04\", True, \"LinearRegressionModel\" in str(type(lrModelAllFeatures)))\n",
    "\n",
    "print(\"Tests passed!\")"
   ]
  },
  {
   "cell_type": "markdown",
   "metadata": {
    "application/vnd.databricks.v1+cell": {
     "cellMetadata": {},
     "inputWidgets": {},
     "nuid": "acc64d4e-732d-4cb0-a092-af8da5ecdf03",
     "showTitle": false,
     "title": ""
    }
   },
   "source": [
    "### Step 3: Interpret the Coefficients and Variance Explained\n",
    "\n",
    "Take a look at the coefficients and variance explained.  What do these mean?"
   ]
  },
  {
   "cell_type": "code",
   "execution_count": 0,
   "metadata": {
    "application/vnd.databricks.v1+cell": {
     "cellMetadata": {},
     "inputWidgets": {},
     "nuid": "b108329e-0763-408d-bf43-419a2d7764da",
     "showTitle": false,
     "title": ""
    }
   },
   "outputs": [],
   "source": [
    "# TODO\n",
    "coefficients = lrModelAllFeatures.coefficients\n",
    "intercept = lrModelAllFeatures.intercept\n",
    "r2 = lrModelAllFeatures.summary.r2\n",
    "\n",
    "print(\"Coefficients: \", coefficients)\n",
    "print(\"Intercept: \", intercept)\n",
    "print(\"R^2: \", r2)"
   ]
  },
  {
   "cell_type": "markdown",
   "metadata": {
    "application/vnd.databricks.v1+cell": {
     "cellMetadata": {},
     "inputWidgets": {},
     "nuid": "ac34e673-48ae-4adf-a885-118346cf3ef7",
     "showTitle": false,
     "title": ""
    }
   },
   "source": [
    "### Step 4: Interpret the Statistical Significance of the Coefficients\n",
    "\n",
    "Print out the p-values associated with each coefficient and the intercept.  Which were statistically significant?"
   ]
  },
  {
   "cell_type": "code",
   "execution_count": 0,
   "metadata": {
    "application/vnd.databricks.v1+cell": {
     "cellMetadata": {},
     "inputWidgets": {},
     "nuid": "100c8836-4a34-49db-93ed-8f847caf55c0",
     "showTitle": false,
     "title": ""
    }
   },
   "outputs": [],
   "source": [
    "# TODO\n",
    "coefficients = lrModelAllFeatures.coefficients\n",
    "intercept = lrModelAllFeatures.intercept\n",
    "r2 = lrModelAllFeatures.summary.r2\n",
    "p_values = lrModelAllFeatures.summary.pValues\n",
    "\n",
    "print(\"Coefficients: \", coefficients)\n",
    "print(\"Intercept: \", intercept)\n",
    "print(\"R^2: \", r2)\n",
    "print(\"P-values: \", p_values)\n",
    "\n",
    "significance_level = 0.05\n",
    "significance = [\"Statistically Significant\" if p < significance_level else \"Not Statistically Significant\" for p in p_values]\n",
    "\n",
    "for i, (coef, p_val, sig) in enumerate(zip(coefficients, p_values, significance)):\n",
    "    print(f\"Coefficient {i}: {coef}, P-value: {p_val}, {sig}\")"
   ]
  }
 ],
 "metadata": {
  "application/vnd.databricks.v1+notebook": {
   "dashboards": [],
   "environmentMetadata": null,
   "language": "python",
   "notebookMetadata": {
    "pythonIndentUnit": 2
   },
   "notebookName": "4. Exercise Regression Modeling",
   "widgets": {}
  }
 },
 "nbformat": 4,
 "nbformat_minor": 0
}

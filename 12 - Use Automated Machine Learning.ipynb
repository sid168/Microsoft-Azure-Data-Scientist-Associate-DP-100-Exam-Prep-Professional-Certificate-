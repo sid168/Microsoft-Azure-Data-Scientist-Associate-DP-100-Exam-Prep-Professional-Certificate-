{
  "cells": [
    {
      "cell_type": "markdown",
      "source": [
        "# Use Automated Machine Learning\n\nThere are many kinds of machine learning algorithm that you can use to train a model, and sometimes it's not easy to determine the most effective algorithm for your particular data and prediction requirements. Additionally, you can significantly affect the predictive performance of a model by preprocessing the training data, using techniques such as normalization, missing feature imputation, and others. In your quest to find the *best* model for your requirements, you may need to try many combinations of algorithms and preprocessing transformations; which takes a lot of time and compute resources.\n\nAzure Machine Learning enables you to automate the comparison of models trained using different algorithms and preprocessing options. You can use the visual interface in [Azure Machine Learning studio](https://ml/azure.com) or the SDK to leverage this capability. The SDK gives you greater control over the settings for the automated machine learning experiment, but the visual interface is easier to use.\n\n## Install the Azure Machine Learning SDK, including the *automl* package\n\nThe Azure Machine Learning SDK is updated frequently. Run the following cell to upgrade to the latest release, along with the additional package to support notebook widgets."
      ],
      "metadata": {}
    },
    {
      "cell_type": "code",
      "source": [
        "!pip install --upgrade azureml-sdk azureml-widgets"
      ],
      "outputs": [
        {
          "output_type": "stream",
          "name": "stdout",
          "text": "Requirement already satisfied: azureml-sdk in /anaconda/envs/azureml_py38/lib/python3.10/site-packages (1.57.0)\nRequirement already satisfied: azureml-widgets in /anaconda/envs/azureml_py38/lib/python3.10/site-packages (1.57.0)\nRequirement already satisfied: azureml-train-core~=1.57.0 in /anaconda/envs/azureml_py38/lib/python3.10/site-packages (from azureml-sdk) (1.57.0)\nRequirement already satisfied: azureml-dataset-runtime[fuse]~=1.57.0 in /anaconda/envs/azureml_py38/lib/python3.10/site-packages (from azureml-sdk) (1.57.0)\nRequirement already satisfied: azureml-core~=1.57.0 in /anaconda/envs/azureml_py38/lib/python3.10/site-packages (from azureml-sdk) (1.57.0)\nRequirement already satisfied: azureml-train-automl-client~=1.57.0 in /anaconda/envs/azureml_py38/lib/python3.10/site-packages (from azureml-sdk) (1.57.0)\nRequirement already satisfied: azureml-pipeline~=1.57.0 in /anaconda/envs/azureml_py38/lib/python3.10/site-packages (from azureml-sdk) (1.57.0)\nRequirement already satisfied: azureml-telemetry~=1.57.0 in /anaconda/envs/azureml_py38/lib/python3.10/site-packages (from azureml-widgets) (1.57.0)\nRequirement already satisfied: azure-storage-blob>=12.6.0 in /anaconda/envs/azureml_py38/lib/python3.10/site-packages (from azureml-widgets) (12.19.0)\nRequirement already satisfied: jinja2<4.0 in /anaconda/envs/azureml_py38/lib/python3.10/site-packages (from azureml-widgets) (3.1.4)\nRequirement already satisfied: ipywidgets<8.0.0,>=7.0.0 in /anaconda/envs/azureml_py38/lib/python3.10/site-packages (from azureml-widgets) (7.7.1)\nRequirement already satisfied: typing-extensions>=4.3.0 in /anaconda/envs/azureml_py38/lib/python3.10/site-packages (from azure-storage-blob>=12.6.0->azureml-widgets) (4.12.2)\nRequirement already satisfied: azure-core<2.0.0,>=1.28.0 in /anaconda/envs/azureml_py38/lib/python3.10/site-packages (from azure-storage-blob>=12.6.0->azureml-widgets) (1.30.2)\nRequirement already satisfied: cryptography>=2.1.4 in /anaconda/envs/azureml_py38/lib/python3.10/site-packages (from azure-storage-blob>=12.6.0->azureml-widgets) (38.0.4)\nRequirement already satisfied: isodate>=0.6.1 in /anaconda/envs/azureml_py38/lib/python3.10/site-packages (from azure-storage-blob>=12.6.0->azureml-widgets) (0.6.1)\nRequirement already satisfied: knack<0.12.0 in /anaconda/envs/azureml_py38/lib/python3.10/site-packages (from azureml-core~=1.57.0->azureml-sdk) (0.11.0)\nRequirement already satisfied: urllib3<3.0.0,>1.26.17 in /anaconda/envs/azureml_py38/lib/python3.10/site-packages (from azureml-core~=1.57.0->azureml-sdk) (1.26.19)\nRequirement already satisfied: azure-mgmt-network<=26.0.0 in /anaconda/envs/azureml_py38/lib/python3.10/site-packages (from azureml-core~=1.57.0->azureml-sdk) (25.1.0)\nRequirement already satisfied: azure-mgmt-storage<=22.0.0,>=16.0.0 in /anaconda/envs/azureml_py38/lib/python3.10/site-packages (from azureml-core~=1.57.0->azureml-sdk) (21.2.0)\nRequirement already satisfied: PyJWT<3.0.0 in /anaconda/envs/azureml_py38/lib/python3.10/site-packages (from azureml-core~=1.57.0->azureml-sdk) (2.4.0)\nRequirement already satisfied: humanfriendly<11.0,>=4.7 in /anaconda/envs/azureml_py38/lib/python3.10/site-packages (from azureml-core~=1.57.0->azureml-sdk) (10.0)\nRequirement already satisfied: azure-mgmt-keyvault<11.0.0,>=0.40.0 in /anaconda/envs/azureml_py38/lib/python3.10/site-packages (from azureml-core~=1.57.0->azureml-sdk) (10.3.0)\nRequirement already satisfied: azure-graphrbac<1.0.0,>=0.40.0 in /anaconda/envs/azureml_py38/lib/python3.10/site-packages (from azureml-core~=1.57.0->azureml-sdk) (0.60.0)\nRequirement already satisfied: pytz in /anaconda/envs/azureml_py38/lib/python3.10/site-packages (from azureml-core~=1.57.0->azureml-sdk) (2022.5)\nRequirement already satisfied: SecretStorage<4.0.0 in /anaconda/envs/azureml_py38/lib/python3.10/site-packages (from azureml-core~=1.57.0->azureml-sdk) (3.3.3)\nRequirement already satisfied: adal<=1.2.7,>=1.2.0 in /anaconda/envs/azureml_py38/lib/python3.10/site-packages (from azureml-core~=1.57.0->azureml-sdk) (1.2.7)\nRequirement already satisfied: msrestazure<=0.7,>=0.4.33 in /anaconda/envs/azureml_py38/lib/python3.10/site-packages (from azureml-core~=1.57.0->azureml-sdk) (0.6.4.post1)\nRequirement already satisfied: msal-extensions<=2.0.0,>=0.3.0 in /anaconda/envs/azureml_py38/lib/python3.10/site-packages (from azureml-core~=1.57.0->azureml-sdk) (1.2.0)\nRequirement already satisfied: pkginfo in /anaconda/envs/azureml_py38/lib/python3.10/site-packages (from azureml-core~=1.57.0->azureml-sdk) (1.11.1)\nRequirement already satisfied: msrest<=0.7.1,>=0.5.1 in /anaconda/envs/azureml_py38/lib/python3.10/site-packages (from azureml-core~=1.57.0->azureml-sdk) (0.7.1)\nRequirement already satisfied: contextlib2<22.0.0 in /anaconda/envs/azureml_py38/lib/python3.10/site-packages (from azureml-core~=1.57.0->azureml-sdk) (21.6.0)\nRequirement already satisfied: jsonpickle<4.0.0 in /anaconda/envs/azureml_py38/lib/python3.10/site-packages (from azureml-core~=1.57.0->azureml-sdk) (3.2.2)\nRequirement already satisfied: paramiko<4.0.0,>=2.0.8 in /anaconda/envs/azureml_py38/lib/python3.10/site-packages (from azureml-core~=1.57.0->azureml-sdk) (3.4.0)\nRequirement already satisfied: requests[socks]<3.0.0,>=2.19.1 in /anaconda/envs/azureml_py38/lib/python3.10/site-packages (from azureml-core~=1.57.0->azureml-sdk) (2.32.3)\nRequirement already satisfied: backports.tempfile in /anaconda/envs/azureml_py38/lib/python3.10/site-packages (from azureml-core~=1.57.0->azureml-sdk) (1.0)\nRequirement already satisfied: pyopenssl<25.0.0 in /anaconda/envs/azureml_py38/lib/python3.10/site-packages (from azureml-core~=1.57.0->azureml-sdk) (23.0.0)\nRequirement already satisfied: docker<8.0.0 in /anaconda/envs/azureml_py38/lib/python3.10/site-packages (from azureml-core~=1.57.0->azureml-sdk) (7.1.0)\nRequirement already satisfied: jmespath<2.0.0 in /anaconda/envs/azureml_py38/lib/python3.10/site-packages (from azureml-core~=1.57.0->azureml-sdk) (0.10.0)\nRequirement already satisfied: ndg-httpsclient<=0.5.1 in /anaconda/envs/azureml_py38/lib/python3.10/site-packages (from azureml-core~=1.57.0->azureml-sdk) (0.5.1)\nRequirement already satisfied: azure-mgmt-authorization<5,>=0.40.0 in /anaconda/envs/azureml_py38/lib/python3.10/site-packages (from azureml-core~=1.57.0->azureml-sdk) (4.0.0)\nRequirement already satisfied: packaging<=25.0,>=20.0 in /anaconda/envs/azureml_py38/lib/python3.10/site-packages (from azureml-core~=1.57.0->azureml-sdk) (24.1)\nRequirement already satisfied: python-dateutil<3.0.0,>=2.7.3 in /anaconda/envs/azureml_py38/lib/python3.10/site-packages (from azureml-core~=1.57.0->azureml-sdk) (2.9.0.post0)\nRequirement already satisfied: azure-mgmt-containerregistry<11,>=8.2.0 in /anaconda/envs/azureml_py38/lib/python3.10/site-packages (from azureml-core~=1.57.0->azureml-sdk) (10.3.0)\nRequirement already satisfied: azure-common<2.0.0,>=1.1.12 in /anaconda/envs/azureml_py38/lib/python3.10/site-packages (from azureml-core~=1.57.0->azureml-sdk) (1.1.28)\nRequirement already satisfied: azure-mgmt-resource<=24.0.0,>=15.0.0 in /anaconda/envs/azureml_py38/lib/python3.10/site-packages (from azureml-core~=1.57.0->azureml-sdk) (23.1.1)\nRequirement already satisfied: msal<2.0.0,>=1.15.0 in /anaconda/envs/azureml_py38/lib/python3.10/site-packages (from azureml-core~=1.57.0->azureml-sdk) (1.30.0)\nRequirement already satisfied: pathspec<1.0.0 in /anaconda/envs/azureml_py38/lib/python3.10/site-packages (from azureml-core~=1.57.0->azureml-sdk) (0.12.1)\nRequirement already satisfied: argcomplete<4 in /anaconda/envs/azureml_py38/lib/python3.10/site-packages (from azureml-core~=1.57.0->azureml-sdk) (3.3.0)\nRequirement already satisfied: azureml-dataprep<5.2.0a,>=5.1.0a in /anaconda/envs/azureml_py38/lib/python3.10/site-packages (from azureml-dataset-runtime[fuse]~=1.57.0->azureml-sdk) (5.1.6)\nRequirement already satisfied: numpy!=1.19.3,<1.24 in /anaconda/envs/azureml_py38/lib/python3.10/site-packages (from azureml-dataset-runtime[fuse]~=1.57.0->azureml-sdk) (1.23.5)\nRequirement already satisfied: pyarrow>=0.17.0 in /anaconda/envs/azureml_py38/lib/python3.10/site-packages (from azureml-dataset-runtime[fuse]~=1.57.0->azureml-sdk) (14.0.2)\nRequirement already satisfied: fusepy<4.0.0,>=3.0.1 in /anaconda/envs/azureml_py38/lib/python3.10/site-packages (from azureml-dataset-runtime[fuse]~=1.57.0->azureml-sdk) (3.0.1)\nRequirement already satisfied: azureml-pipeline-core~=1.57.0 in /anaconda/envs/azureml_py38/lib/python3.10/site-packages (from azureml-pipeline~=1.57.0->azureml-sdk) (1.57.0)\nRequirement already satisfied: azureml-pipeline-steps~=1.57.0 in /anaconda/envs/azureml_py38/lib/python3.10/site-packages (from azureml-pipeline~=1.57.0->azureml-sdk) (1.57.0)\nRequirement already satisfied: applicationinsights in /anaconda/envs/azureml_py38/lib/python3.10/site-packages (from azureml-telemetry~=1.57.0->azureml-widgets) (0.11.10)\nRequirement already satisfied: azureml-automl-core~=1.57.0 in /anaconda/envs/azureml_py38/lib/python3.10/site-packages (from azureml-train-automl-client~=1.57.0->azureml-sdk) (1.57.0)\nRequirement already satisfied: azureml-train-restclients-hyperdrive~=1.57.0 in /anaconda/envs/azureml_py38/lib/python3.10/site-packages (from azureml-train-core~=1.57.0->azureml-sdk) (1.57.0)\nRequirement already satisfied: ipykernel>=4.5.1 in /anaconda/envs/azureml_py38/lib/python3.10/site-packages (from ipywidgets<8.0.0,>=7.0.0->azureml-widgets) (6.29.5)\nRequirement already satisfied: ipython>=4.0.0 in /anaconda/envs/azureml_py38/lib/python3.10/site-packages (from ipywidgets<8.0.0,>=7.0.0->azureml-widgets) (8.27.0)\nRequirement already satisfied: traitlets>=4.3.1 in /anaconda/envs/azureml_py38/lib/python3.10/site-packages (from ipywidgets<8.0.0,>=7.0.0->azureml-widgets) (5.14.3)\nRequirement already satisfied: ipython-genutils~=0.2.0 in /anaconda/envs/azureml_py38/lib/python3.10/site-packages (from ipywidgets<8.0.0,>=7.0.0->azureml-widgets) (0.2.0)\nRequirement already satisfied: widgetsnbextension~=3.6.0 in /anaconda/envs/azureml_py38/lib/python3.10/site-packages (from ipywidgets<8.0.0,>=7.0.0->azureml-widgets) (3.6.8)\nRequirement already satisfied: jupyterlab-widgets>=1.0.0 in /anaconda/envs/azureml_py38/lib/python3.10/site-packages (from ipywidgets<8.0.0,>=7.0.0->azureml-widgets) (1.1.9)\nRequirement already satisfied: MarkupSafe>=2.0 in /anaconda/envs/azureml_py38/lib/python3.10/site-packages (from jinja2<4.0->azureml-widgets) (2.1.5)\nRequirement already satisfied: six>=1.11.0 in /anaconda/envs/azureml_py38/lib/python3.10/site-packages (from azure-core<2.0.0,>=1.28.0->azure-storage-blob>=12.6.0->azureml-widgets) (1.16.0)\nRequirement already satisfied: azure-mgmt-core<2.0.0,>=1.3.2 in /anaconda/envs/azureml_py38/lib/python3.10/site-packages (from azure-mgmt-authorization<5,>=0.40.0->azureml-core~=1.57.0->azureml-sdk) (1.4.0)\nRequirement already satisfied: importlib-resources<=6.4.0 in /anaconda/envs/azureml_py38/lib/python3.10/site-packages (from azureml-automl-core~=1.57.0->azureml-train-automl-client~=1.57.0->azureml-sdk) (6.4.0)\nRequirement already satisfied: importlib-metadata<=8.2.0 in /anaconda/envs/azureml_py38/lib/python3.10/site-packages (from azureml-automl-core~=1.57.0->azureml-train-automl-client~=1.57.0->azureml-sdk) (8.0.0)\nRequirement already satisfied: azureml-dataprep-native<42.0.0,>=41.0.0 in /anaconda/envs/azureml_py38/lib/python3.10/site-packages (from azureml-dataprep<5.2.0a,>=5.1.0a->azureml-dataset-runtime[fuse]~=1.57.0->azureml-sdk) (41.0.0)\nRequirement already satisfied: pyyaml<7.0.0,>=5.1.0 in /anaconda/envs/azureml_py38/lib/python3.10/site-packages (from azureml-dataprep<5.2.0a,>=5.1.0a->azureml-dataset-runtime[fuse]~=1.57.0->azureml-sdk) (6.0.1)\nRequirement already satisfied: jsonschema in /anaconda/envs/azureml_py38/lib/python3.10/site-packages (from azureml-dataprep<5.2.0a,>=5.1.0a->azureml-dataset-runtime[fuse]~=1.57.0->azureml-sdk) (4.23.0)\nRequirement already satisfied: azure-identity>=1.7.0 in /anaconda/envs/azureml_py38/lib/python3.10/site-packages (from azureml-dataprep<5.2.0a,>=5.1.0a->azureml-dataset-runtime[fuse]~=1.57.0->azureml-sdk) (1.17.1)\nRequirement already satisfied: cloudpickle<3.0.0,>=1.1.0 in /anaconda/envs/azureml_py38/lib/python3.10/site-packages (from azureml-dataprep<5.2.0a,>=5.1.0a->azureml-dataset-runtime[fuse]~=1.57.0->azureml-sdk) (2.2.1)\nRequirement already satisfied: azureml-dataprep-rslex~=2.22.2dev0 in /anaconda/envs/azureml_py38/lib/python3.10/site-packages (from azureml-dataprep<5.2.0a,>=5.1.0a->azureml-dataset-runtime[fuse]~=1.57.0->azureml-sdk) (2.22.2)\nRequirement already satisfied: cffi>=1.12 in /anaconda/envs/azureml_py38/lib/python3.10/site-packages (from cryptography>=2.1.4->azure-storage-blob>=12.6.0->azureml-widgets) (1.16.0)\nRequirement already satisfied: debugpy>=1.6.5 in /anaconda/envs/azureml_py38/lib/python3.10/site-packages (from ipykernel>=4.5.1->ipywidgets<8.0.0,>=7.0.0->azureml-widgets) (1.8.5)\nRequirement already satisfied: jupyter-core!=5.0.*,>=4.12 in /anaconda/envs/azureml_py38/lib/python3.10/site-packages (from ipykernel>=4.5.1->ipywidgets<8.0.0,>=7.0.0->azureml-widgets) (5.7.2)\nRequirement already satisfied: nest-asyncio in /anaconda/envs/azureml_py38/lib/python3.10/site-packages (from ipykernel>=4.5.1->ipywidgets<8.0.0,>=7.0.0->azureml-widgets) (1.6.0)\nRequirement already satisfied: tornado>=6.1 in /anaconda/envs/azureml_py38/lib/python3.10/site-packages (from ipykernel>=4.5.1->ipywidgets<8.0.0,>=7.0.0->azureml-widgets) (6.4.1)\nRequirement already satisfied: comm>=0.1.1 in /anaconda/envs/azureml_py38/lib/python3.10/site-packages (from ipykernel>=4.5.1->ipywidgets<8.0.0,>=7.0.0->azureml-widgets) (0.2.2)\nRequirement already satisfied: pyzmq>=24 in /anaconda/envs/azureml_py38/lib/python3.10/site-packages (from ipykernel>=4.5.1->ipywidgets<8.0.0,>=7.0.0->azureml-widgets) (26.2.0)\nRequirement already satisfied: matplotlib-inline>=0.1 in /anaconda/envs/azureml_py38/lib/python3.10/site-packages (from ipykernel>=4.5.1->ipywidgets<8.0.0,>=7.0.0->azureml-widgets) (0.1.7)\nRequirement already satisfied: psutil in /anaconda/envs/azureml_py38/lib/python3.10/site-packages (from ipykernel>=4.5.1->ipywidgets<8.0.0,>=7.0.0->azureml-widgets) (5.9.8)\nRequirement already satisfied: jupyter-client>=6.1.12 in /anaconda/envs/azureml_py38/lib/python3.10/site-packages (from ipykernel>=4.5.1->ipywidgets<8.0.0,>=7.0.0->azureml-widgets) (7.4.9)\nRequirement already satisfied: pygments>=2.4.0 in /anaconda/envs/azureml_py38/lib/python3.10/site-packages (from ipython>=4.0.0->ipywidgets<8.0.0,>=7.0.0->azureml-widgets) (2.18.0)\nRequirement already satisfied: decorator in /anaconda/envs/azureml_py38/lib/python3.10/site-packages (from ipython>=4.0.0->ipywidgets<8.0.0,>=7.0.0->azureml-widgets) (5.1.1)\nRequirement already satisfied: exceptiongroup in /anaconda/envs/azureml_py38/lib/python3.10/site-packages (from ipython>=4.0.0->ipywidgets<8.0.0,>=7.0.0->azureml-widgets) (1.2.2)\nRequirement already satisfied: prompt-toolkit<3.1.0,>=3.0.41 in /anaconda/envs/azureml_py38/lib/python3.10/site-packages (from ipython>=4.0.0->ipywidgets<8.0.0,>=7.0.0->azureml-widgets) (3.0.47)\nRequirement already satisfied: jedi>=0.16 in /anaconda/envs/azureml_py38/lib/python3.10/site-packages (from ipython>=4.0.0->ipywidgets<8.0.0,>=7.0.0->azureml-widgets) (0.18.0)\nRequirement already satisfied: stack-data in /anaconda/envs/azureml_py38/lib/python3.10/site-packages (from ipython>=4.0.0->ipywidgets<8.0.0,>=7.0.0->azureml-widgets) (0.6.3)\nRequirement already satisfied: pexpect>4.3 in /anaconda/envs/azureml_py38/lib/python3.10/site-packages (from ipython>=4.0.0->ipywidgets<8.0.0,>=7.0.0->azureml-widgets) (4.9.0)\nRequirement already satisfied: tabulate in /anaconda/envs/azureml_py38/lib/python3.10/site-packages (from knack<0.12.0->azureml-core~=1.57.0->azureml-sdk) (0.9.0)\nRequirement already satisfied: portalocker<3,>=1.4 in /anaconda/envs/azureml_py38/lib/python3.10/site-packages (from msal-extensions<=2.0.0,>=0.3.0->azureml-core~=1.57.0->azureml-sdk) (2.10.1)\nRequirement already satisfied: requests-oauthlib>=0.5.0 in /anaconda/envs/azureml_py38/lib/python3.10/site-packages (from msrest<=0.7.1,>=0.5.1->azureml-core~=1.57.0->azureml-sdk) (2.0.0)\nRequirement already satisfied: certifi>=2017.4.17 in /anaconda/envs/azureml_py38/lib/python3.10/site-packages (from msrest<=0.7.1,>=0.5.1->azureml-core~=1.57.0->azureml-sdk) (2024.8.30)\nRequirement already satisfied: pyasn1>=0.1.1 in /anaconda/envs/azureml_py38/lib/python3.10/site-packages (from ndg-httpsclient<=0.5.1->azureml-core~=1.57.0->azureml-sdk) (0.6.0)\nRequirement already satisfied: pynacl>=1.5 in /anaconda/envs/azureml_py38/lib/python3.10/site-packages (from paramiko<4.0.0,>=2.0.8->azureml-core~=1.57.0->azureml-sdk) (1.5.0)\nRequirement already satisfied: bcrypt>=3.2 in /anaconda/envs/azureml_py38/lib/python3.10/site-packages (from paramiko<4.0.0,>=2.0.8->azureml-core~=1.57.0->azureml-sdk) (4.2.0)\nRequirement already satisfied: idna<4,>=2.5 in /anaconda/envs/azureml_py38/lib/python3.10/site-packages (from requests[socks]<3.0.0,>=2.19.1->azureml-core~=1.57.0->azureml-sdk) (3.7)\nRequirement already satisfied: charset-normalizer<4,>=2 in /anaconda/envs/azureml_py38/lib/python3.10/site-packages (from requests[socks]<3.0.0,>=2.19.1->azureml-core~=1.57.0->azureml-sdk) (3.3.2)\nRequirement already satisfied: PySocks!=1.5.7,>=1.5.6 in /anaconda/envs/azureml_py38/lib/python3.10/site-packages (from requests[socks]<3.0.0,>=2.19.1->azureml-core~=1.57.0->azureml-sdk) (1.7.1)\nRequirement already satisfied: jeepney>=0.6 in /anaconda/envs/azureml_py38/lib/python3.10/site-packages (from SecretStorage<4.0.0->azureml-core~=1.57.0->azureml-sdk) (0.8.0)\nRequirement already satisfied: notebook>=4.4.1 in /anaconda/envs/azureml_py38/lib/python3.10/site-packages (from widgetsnbextension~=3.6.0->ipywidgets<8.0.0,>=7.0.0->azureml-widgets) (6.5.7)\nRequirement already satisfied: backports.weakref in /anaconda/envs/azureml_py38/lib/python3.10/site-packages (from backports.tempfile->azureml-core~=1.57.0->azureml-sdk) (1.0.post1)\nRequirement already satisfied: pycparser in /anaconda/envs/azureml_py38/lib/python3.10/site-packages (from cffi>=1.12->cryptography>=2.1.4->azure-storage-blob>=12.6.0->azureml-widgets) (2.22)\nRequirement already satisfied: zipp>=0.5 in /anaconda/envs/azureml_py38/lib/python3.10/site-packages (from importlib-metadata<=8.2.0->azureml-automl-core~=1.57.0->azureml-train-automl-client~=1.57.0->azureml-sdk) (3.20.2)\nRequirement already satisfied: parso<0.9.0,>=0.8.0 in /anaconda/envs/azureml_py38/lib/python3.10/site-packages (from jedi>=0.16->ipython>=4.0.0->ipywidgets<8.0.0,>=7.0.0->azureml-widgets) (0.8.4)\nRequirement already satisfied: entrypoints in /anaconda/envs/azureml_py38/lib/python3.10/site-packages (from jupyter-client>=6.1.12->ipykernel>=4.5.1->ipywidgets<8.0.0,>=7.0.0->azureml-widgets) (0.4)\nRequirement already satisfied: platformdirs>=2.5 in /anaconda/envs/azureml_py38/lib/python3.10/site-packages (from jupyter-core!=5.0.*,>=4.12->ipykernel>=4.5.1->ipywidgets<8.0.0,>=7.0.0->azureml-widgets) (4.3.6)\nRequirement already satisfied: nbconvert>=5 in /anaconda/envs/azureml_py38/lib/python3.10/site-packages (from notebook>=4.4.1->widgetsnbextension~=3.6.0->ipywidgets<8.0.0,>=7.0.0->azureml-widgets) (7.16.4)\nRequirement already satisfied: nbformat in /anaconda/envs/azureml_py38/lib/python3.10/site-packages (from notebook>=4.4.1->widgetsnbextension~=3.6.0->ipywidgets<8.0.0,>=7.0.0->azureml-widgets) (5.10.4)\nRequirement already satisfied: prometheus-client in /anaconda/envs/azureml_py38/lib/python3.10/site-packages (from notebook>=4.4.1->widgetsnbextension~=3.6.0->ipywidgets<8.0.0,>=7.0.0->azureml-widgets) (0.21.0)\nRequirement already satisfied: terminado>=0.8.3 in /anaconda/envs/azureml_py38/lib/python3.10/site-packages (from notebook>=4.4.1->widgetsnbextension~=3.6.0->ipywidgets<8.0.0,>=7.0.0->azureml-widgets) (0.18.1)\nRequirement already satisfied: Send2Trash>=1.8.0 in /anaconda/envs/azureml_py38/lib/python3.10/site-packages (from notebook>=4.4.1->widgetsnbextension~=3.6.0->ipywidgets<8.0.0,>=7.0.0->azureml-widgets) (1.8.3)\nRequirement already satisfied: nbclassic>=0.4.7 in /anaconda/envs/azureml_py38/lib/python3.10/site-packages (from notebook>=4.4.1->widgetsnbextension~=3.6.0->ipywidgets<8.0.0,>=7.0.0->azureml-widgets) (1.1.0)\nRequirement already satisfied: argon2-cffi in /anaconda/envs/azureml_py38/lib/python3.10/site-packages (from notebook>=4.4.1->widgetsnbextension~=3.6.0->ipywidgets<8.0.0,>=7.0.0->azureml-widgets) (23.1.0)\nRequirement already satisfied: ptyprocess>=0.5 in /anaconda/envs/azureml_py38/lib/python3.10/site-packages (from pexpect>4.3->ipython>=4.0.0->ipywidgets<8.0.0,>=7.0.0->azureml-widgets) (0.7.0)\nRequirement already satisfied: wcwidth in /anaconda/envs/azureml_py38/lib/python3.10/site-packages (from prompt-toolkit<3.1.0,>=3.0.41->ipython>=4.0.0->ipywidgets<8.0.0,>=7.0.0->azureml-widgets) (0.2.13)\nRequirement already satisfied: oauthlib>=3.0.0 in /anaconda/envs/azureml_py38/lib/python3.10/site-packages (from requests-oauthlib>=0.5.0->msrest<=0.7.1,>=0.5.1->azureml-core~=1.57.0->azureml-sdk) (3.2.2)\nRequirement already satisfied: referencing>=0.28.4 in /anaconda/envs/azureml_py38/lib/python3.10/site-packages (from jsonschema->azureml-dataprep<5.2.0a,>=5.1.0a->azureml-dataset-runtime[fuse]~=1.57.0->azureml-sdk) (0.35.1)\nRequirement already satisfied: rpds-py>=0.7.1 in /anaconda/envs/azureml_py38/lib/python3.10/site-packages (from jsonschema->azureml-dataprep<5.2.0a,>=5.1.0a->azureml-dataset-runtime[fuse]~=1.57.0->azureml-sdk) (0.20.0)\nRequirement already satisfied: jsonschema-specifications>=2023.03.6 in /anaconda/envs/azureml_py38/lib/python3.10/site-packages (from jsonschema->azureml-dataprep<5.2.0a,>=5.1.0a->azureml-dataset-runtime[fuse]~=1.57.0->azureml-sdk) (2023.12.1)\nRequirement already satisfied: attrs>=22.2.0 in /anaconda/envs/azureml_py38/lib/python3.10/site-packages (from jsonschema->azureml-dataprep<5.2.0a,>=5.1.0a->azureml-dataset-runtime[fuse]~=1.57.0->azureml-sdk) (24.2.0)\nRequirement already satisfied: executing>=1.2.0 in /anaconda/envs/azureml_py38/lib/python3.10/site-packages (from stack-data->ipython>=4.0.0->ipywidgets<8.0.0,>=7.0.0->azureml-widgets) (2.1.0)\nRequirement already satisfied: pure-eval in /anaconda/envs/azureml_py38/lib/python3.10/site-packages (from stack-data->ipython>=4.0.0->ipywidgets<8.0.0,>=7.0.0->azureml-widgets) (0.2.3)\nRequirement already satisfied: asttokens>=2.1.0 in /anaconda/envs/azureml_py38/lib/python3.10/site-packages (from stack-data->ipython>=4.0.0->ipywidgets<8.0.0,>=7.0.0->azureml-widgets) (2.4.1)\nRequirement already satisfied: notebook-shim>=0.2.3 in /anaconda/envs/azureml_py38/lib/python3.10/site-packages (from nbclassic>=0.4.7->notebook>=4.4.1->widgetsnbextension~=3.6.0->ipywidgets<8.0.0,>=7.0.0->azureml-widgets) (0.2.4)\nRequirement already satisfied: beautifulsoup4 in /anaconda/envs/azureml_py38/lib/python3.10/site-packages (from nbconvert>=5->notebook>=4.4.1->widgetsnbextension~=3.6.0->ipywidgets<8.0.0,>=7.0.0->azureml-widgets) (4.12.3)\nRequirement already satisfied: pandocfilters>=1.4.1 in /anaconda/envs/azureml_py38/lib/python3.10/site-packages (from nbconvert>=5->notebook>=4.4.1->widgetsnbextension~=3.6.0->ipywidgets<8.0.0,>=7.0.0->azureml-widgets) (1.5.1)\nRequirement already satisfied: jupyterlab-pygments in /anaconda/envs/azureml_py38/lib/python3.10/site-packages (from nbconvert>=5->notebook>=4.4.1->widgetsnbextension~=3.6.0->ipywidgets<8.0.0,>=7.0.0->azureml-widgets) (0.3.0)\nRequirement already satisfied: defusedxml in /anaconda/envs/azureml_py38/lib/python3.10/site-packages (from nbconvert>=5->notebook>=4.4.1->widgetsnbextension~=3.6.0->ipywidgets<8.0.0,>=7.0.0->azureml-widgets) (0.7.1)\nRequirement already satisfied: nbclient>=0.5.0 in /anaconda/envs/azureml_py38/lib/python3.10/site-packages (from nbconvert>=5->notebook>=4.4.1->widgetsnbextension~=3.6.0->ipywidgets<8.0.0,>=7.0.0->azureml-widgets) (0.10.0)\nRequirement already satisfied: mistune<4,>=2.0.3 in /anaconda/envs/azureml_py38/lib/python3.10/site-packages (from nbconvert>=5->notebook>=4.4.1->widgetsnbextension~=3.6.0->ipywidgets<8.0.0,>=7.0.0->azureml-widgets) (3.0.2)\nRequirement already satisfied: tinycss2 in /anaconda/envs/azureml_py38/lib/python3.10/site-packages (from nbconvert>=5->notebook>=4.4.1->widgetsnbextension~=3.6.0->ipywidgets<8.0.0,>=7.0.0->azureml-widgets) (1.3.0)\nRequirement already satisfied: bleach!=5.0.0 in /anaconda/envs/azureml_py38/lib/python3.10/site-packages (from nbconvert>=5->notebook>=4.4.1->widgetsnbextension~=3.6.0->ipywidgets<8.0.0,>=7.0.0->azureml-widgets) (6.1.0)\nRequirement already satisfied: fastjsonschema>=2.15 in /anaconda/envs/azureml_py38/lib/python3.10/site-packages (from nbformat->notebook>=4.4.1->widgetsnbextension~=3.6.0->ipywidgets<8.0.0,>=7.0.0->azureml-widgets) (2.20.0)\nRequirement already satisfied: argon2-cffi-bindings in /anaconda/envs/azureml_py38/lib/python3.10/site-packages (from argon2-cffi->notebook>=4.4.1->widgetsnbextension~=3.6.0->ipywidgets<8.0.0,>=7.0.0->azureml-widgets) (21.2.0)\nRequirement already satisfied: webencodings in /anaconda/envs/azureml_py38/lib/python3.10/site-packages (from bleach!=5.0.0->nbconvert>=5->notebook>=4.4.1->widgetsnbextension~=3.6.0->ipywidgets<8.0.0,>=7.0.0->azureml-widgets) (0.5.1)\nRequirement already satisfied: jupyter-server<3,>=1.8 in /anaconda/envs/azureml_py38/lib/python3.10/site-packages (from notebook-shim>=0.2.3->nbclassic>=0.4.7->notebook>=4.4.1->widgetsnbextension~=3.6.0->ipywidgets<8.0.0,>=7.0.0->azureml-widgets) (2.14.2)\nRequirement already satisfied: soupsieve>1.2 in /anaconda/envs/azureml_py38/lib/python3.10/site-packages (from beautifulsoup4->nbconvert>=5->notebook>=4.4.1->widgetsnbextension~=3.6.0->ipywidgets<8.0.0,>=7.0.0->azureml-widgets) (2.5)\nRequirement already satisfied: websocket-client>=1.7 in /anaconda/envs/azureml_py38/lib/python3.10/site-packages (from jupyter-server<3,>=1.8->notebook-shim>=0.2.3->nbclassic>=0.4.7->notebook>=4.4.1->widgetsnbextension~=3.6.0->ipywidgets<8.0.0,>=7.0.0->azureml-widgets) (1.8.0)\nRequirement already satisfied: jupyter-events>=0.9.0 in /anaconda/envs/azureml_py38/lib/python3.10/site-packages (from jupyter-server<3,>=1.8->notebook-shim>=0.2.3->nbclassic>=0.4.7->notebook>=4.4.1->widgetsnbextension~=3.6.0->ipywidgets<8.0.0,>=7.0.0->azureml-widgets) (0.10.0)\nRequirement already satisfied: overrides>=5.0 in /anaconda/envs/azureml_py38/lib/python3.10/site-packages (from jupyter-server<3,>=1.8->notebook-shim>=0.2.3->nbclassic>=0.4.7->notebook>=4.4.1->widgetsnbextension~=3.6.0->ipywidgets<8.0.0,>=7.0.0->azureml-widgets) (7.7.0)\nRequirement already satisfied: anyio>=3.1.0 in /anaconda/envs/azureml_py38/lib/python3.10/site-packages (from jupyter-server<3,>=1.8->notebook-shim>=0.2.3->nbclassic>=0.4.7->notebook>=4.4.1->widgetsnbextension~=3.6.0->ipywidgets<8.0.0,>=7.0.0->azureml-widgets) (4.6.0)\nRequirement already satisfied: jupyter-server-terminals>=0.4.4 in /anaconda/envs/azureml_py38/lib/python3.10/site-packages (from jupyter-server<3,>=1.8->notebook-shim>=0.2.3->nbclassic>=0.4.7->notebook>=4.4.1->widgetsnbextension~=3.6.0->ipywidgets<8.0.0,>=7.0.0->azureml-widgets) (0.5.3)\nRequirement already satisfied: sniffio>=1.1 in /anaconda/envs/azureml_py38/lib/python3.10/site-packages (from anyio>=3.1.0->jupyter-server<3,>=1.8->notebook-shim>=0.2.3->nbclassic>=0.4.7->notebook>=4.4.1->widgetsnbextension~=3.6.0->ipywidgets<8.0.0,>=7.0.0->azureml-widgets) (1.3.1)\nRequirement already satisfied: python-json-logger>=2.0.4 in /anaconda/envs/azureml_py38/lib/python3.10/site-packages (from jupyter-events>=0.9.0->jupyter-server<3,>=1.8->notebook-shim>=0.2.3->nbclassic>=0.4.7->notebook>=4.4.1->widgetsnbextension~=3.6.0->ipywidgets<8.0.0,>=7.0.0->azureml-widgets) (2.0.7)\nRequirement already satisfied: rfc3986-validator>=0.1.1 in /anaconda/envs/azureml_py38/lib/python3.10/site-packages (from jupyter-events>=0.9.0->jupyter-server<3,>=1.8->notebook-shim>=0.2.3->nbclassic>=0.4.7->notebook>=4.4.1->widgetsnbextension~=3.6.0->ipywidgets<8.0.0,>=7.0.0->azureml-widgets) (0.1.1)\nRequirement already satisfied: rfc3339-validator in /anaconda/envs/azureml_py38/lib/python3.10/site-packages (from jupyter-events>=0.9.0->jupyter-server<3,>=1.8->notebook-shim>=0.2.3->nbclassic>=0.4.7->notebook>=4.4.1->widgetsnbextension~=3.6.0->ipywidgets<8.0.0,>=7.0.0->azureml-widgets) (0.1.4)\nRequirement already satisfied: fqdn in /anaconda/envs/azureml_py38/lib/python3.10/site-packages (from jsonschema->azureml-dataprep<5.2.0a,>=5.1.0a->azureml-dataset-runtime[fuse]~=1.57.0->azureml-sdk) (1.5.1)\nRequirement already satisfied: jsonpointer>1.13 in /anaconda/envs/azureml_py38/lib/python3.10/site-packages (from jsonschema->azureml-dataprep<5.2.0a,>=5.1.0a->azureml-dataset-runtime[fuse]~=1.57.0->azureml-sdk) (3.0.0)\nRequirement already satisfied: uri-template in /anaconda/envs/azureml_py38/lib/python3.10/site-packages (from jsonschema->azureml-dataprep<5.2.0a,>=5.1.0a->azureml-dataset-runtime[fuse]~=1.57.0->azureml-sdk) (1.3.0)\nRequirement already satisfied: isoduration in /anaconda/envs/azureml_py38/lib/python3.10/site-packages (from jsonschema->azureml-dataprep<5.2.0a,>=5.1.0a->azureml-dataset-runtime[fuse]~=1.57.0->azureml-sdk) (20.11.0)\nRequirement already satisfied: webcolors>=24.6.0 in /anaconda/envs/azureml_py38/lib/python3.10/site-packages (from jsonschema->azureml-dataprep<5.2.0a,>=5.1.0a->azureml-dataset-runtime[fuse]~=1.57.0->azureml-sdk) (24.8.0)\nRequirement already satisfied: arrow>=0.15.0 in /anaconda/envs/azureml_py38/lib/python3.10/site-packages (from isoduration->jsonschema->azureml-dataprep<5.2.0a,>=5.1.0a->azureml-dataset-runtime[fuse]~=1.57.0->azureml-sdk) (1.3.0)\nRequirement already satisfied: types-python-dateutil>=2.8.10 in /anaconda/envs/azureml_py38/lib/python3.10/site-packages (from arrow>=0.15.0->isoduration->jsonschema->azureml-dataprep<5.2.0a,>=5.1.0a->azureml-dataset-runtime[fuse]~=1.57.0->azureml-sdk) (2.9.0.20240906)\n"
        }
      ],
      "execution_count": 1,
      "metadata": {}
    },
    {
      "cell_type": "markdown",
      "source": [
        "## Connect to your workspace\n",
        "\n",
        "With the latest version of the SDK installed, now you're ready to connect to your workspace.\n",
        "\n",
        "> **Note**: If you haven't already established an authenticated session with your Azure subscription, you'll be prompted to authenticate by clicking a link, entering an authentication code, and signing into Azure."
      ],
      "metadata": {}
    },
    {
      "cell_type": "code",
      "source": [
        "import azureml.core\n",
        "from azureml.core import Workspace\n",
        "\n",
        "# Load the workspace from the saved config file\n",
        "ws = Workspace.from_config()\n",
        "print('Ready to use Azure ML {} to work with {}'.format(azureml.core.VERSION, ws.name))"
      ],
      "outputs": [
        {
          "output_type": "stream",
          "name": "stdout",
          "text": "Ready to use Azure ML 1.57.0 to work with coursera\n"
        }
      ],
      "execution_count": 2,
      "metadata": {
        "gather": {
          "logged": 1728896110438
        }
      }
    },
    {
      "cell_type": "markdown",
      "source": [
        "## Prepare data\n",
        "\n",
        "You don't need to create a training script for automated machine learning, but you do need to load the training data. In this case, you'll use a dataset containing details of diabetes patients, and then split this into two datasets: one for training, and another for model validation."
      ],
      "metadata": {}
    },
    {
      "cell_type": "code",
      "source": [
        "from azureml.core import Dataset\n",
        "\n",
        "default_ds = ws.get_default_datastore()\n",
        "\n",
        "if 'diabetes dataset' not in ws.datasets:\n",
        "    default_ds.upload_files(files=['./data/diabetes.csv', './data/diabetes2.csv'], # Upload the diabetes csv files in /data\n",
        "                        target_path='diabetes-data/', # Put it in a folder path in the datastore\n",
        "                        overwrite=True, # Replace existing files of the same name\n",
        "                        show_progress=True)\n",
        "\n",
        "    #Create a tabular dataset from the path on the datastore (this may take a short while)\n",
        "    tab_data_set = Dataset.Tabular.from_delimited_files(path=(default_ds, 'diabetes-data/*.csv'))\n",
        "\n",
        "    # Register the tabular dataset\n",
        "    try:\n",
        "        tab_data_set = tab_data_set.register(workspace=ws, \n",
        "                                name='diabetes dataset',\n",
        "                                description='diabetes data',\n",
        "                                tags = {'format':'CSV'},\n",
        "                                create_new_version=True)\n",
        "        print('Dataset registered.')\n",
        "    except Exception as ex:\n",
        "        print(ex)\n",
        "else:\n",
        "    print('Dataset already registered.')\n",
        "\n",
        "\n",
        "# Split the dataset into training and validation subsets\n",
        "diabetes_ds = ws.datasets.get(\"diabetes dataset\")\n",
        "train_ds, test_ds = diabetes_ds.random_split(percentage=0.7, seed=123)\n",
        "print(\"Data ready!\")"
      ],
      "outputs": [
        {
          "output_type": "stream",
          "name": "stdout",
          "text": "Dataset already registered.\nData ready!\n"
        }
      ],
      "execution_count": 3,
      "metadata": {
        "gather": {
          "logged": 1728896111265
        }
      }
    },
    {
      "cell_type": "markdown",
      "source": [
        "## Prepare compute\n",
        "\n",
        "One of the benefits of cloud compute is that it scales on-demand, enabling you to provision enough compute resources to process multiple child-runs of an automated machine learning experiment in parallel.\n",
        "\n",
        "Use the following code to specify an Azure Machine Learning compute cluster (it will be created if it doesn't already exist)..\n",
        "\n",
        "> **Important**: Change *your-compute-cluster* to the name of your compute cluster in the code below before running it! Cluster names must be globally unique names between 2 to 16 characters in length. Valid characters are letters, digits, and the - character."
      ],
      "metadata": {}
    },
    {
      "cell_type": "code",
      "source": [
        "from azureml.core.compute import ComputeTarget, AmlCompute\n",
        "from azureml.core.compute_target import ComputeTargetException\n",
        "\n",
        "cluster_name = \"coursera3\"\n",
        "\n",
        "try:\n",
        "    # Check for existing compute target\n",
        "    training_cluster = ComputeTarget(workspace=ws, name=cluster_name)\n",
        "    print('Found existing cluster, use it.')\n",
        "except ComputeTargetException:\n",
        "    # If it doesn't already exist, create it\n",
        "    try:\n",
        "        compute_config = AmlCompute.provisioning_configuration(vm_size='STANDARD_DS11_V2', max_nodes=2)\n",
        "        training_cluster = ComputeTarget.create(ws, cluster_name, compute_config)\n",
        "        training_cluster.wait_for_completion(show_output=True)\n",
        "    except Exception as ex:\n",
        "        print(ex)\n",
        "    "
      ],
      "outputs": [
        {
          "output_type": "stream",
          "name": "stdout",
          "text": "Found existing cluster, use it.\n"
        }
      ],
      "execution_count": 4,
      "metadata": {
        "gather": {
          "logged": 1728896111395
        }
      }
    },
    {
      "cell_type": "markdown",
      "source": [
        "## Configure automated machine learning\n",
        "\n",
        "Now you're ready to configure the automated machine learning experiment.\n",
        "\n",
        "One of the most important configuration settings is the metric by which model performance should be evaluated. You can retrieve a list of the metrics that are calculated by automated machine learning for a particular type of model task (classification or regression) like this:"
      ],
      "metadata": {}
    },
    {
      "cell_type": "code",
      "source": [
        "import azureml.train.automl.utilities as automl_utils\n",
        "\n",
        "for metric in automl_utils.get_primary_metrics('classification'):\n",
        "    print(metric)"
      ],
      "outputs": [
        {
          "output_type": "stream",
          "name": "stdout",
          "text": "average_precision_score_weighted\nnorm_macro_recall\nprecision_score_weighted\nAUC_weighted\naccuracy\n"
        }
      ],
      "execution_count": 5,
      "metadata": {
        "gather": {
          "logged": 1728896111482
        }
      }
    },
    {
      "cell_type": "markdown",
      "source": [
        "Having decided the metric you want to optimize (in this example, *AUC_weighted*), you can configure the automated machine learning run. To do this, you'll need an AutoML configuration that specifies the target metric as well as options like the data to use, how many combinations to try, and so on.\n",
        "\n",
        "> **Note**: In this example, you'll restrict the experiment to 4 iterations to reduce the amount of time taken. In reality, you'd likely try many more iterations."
      ],
      "metadata": {}
    },
    {
      "cell_type": "code",
      "source": [
        "from azureml.train.automl import AutoMLConfig\n",
        "\n",
        "automl_config = AutoMLConfig(name='Automated ML Experiment',\n",
        "                             task='classification',\n",
        "                             compute_target=training_cluster,\n",
        "                             training_data = train_ds,\n",
        "                             validation_data = test_ds,\n",
        "                             label_column_name='Diabetic',\n",
        "                             iterations=4,\n",
        "                             primary_metric = 'AUC_weighted',\n",
        "                             max_concurrent_iterations=2,\n",
        "                             featurization='auto'\n",
        "                             )\n",
        "\n",
        "print(\"Ready for Auto ML run.\")"
      ],
      "outputs": [
        {
          "output_type": "stream",
          "name": "stdout",
          "text": "Ready for Auto ML run.\n"
        }
      ],
      "execution_count": 6,
      "metadata": {
        "gather": {
          "logged": 1728896111727
        }
      }
    },
    {
      "cell_type": "markdown",
      "source": [
        "## Run an automated machine learning experiment\n",
        "\n",
        "OK, you're ready to go. Let's run the automated machine learning experiment.\n",
        "\n",
        "> **Note**: This may take some time!"
      ],
      "metadata": {}
    },
    {
      "cell_type": "code",
      "source": [
        "from azureml.core.experiment import Experiment\n",
        "from azureml.widgets import RunDetails\n",
        "\n",
        "print('Submitting Auto ML experiment...')\n",
        "automl_experiment = Experiment(ws, 'mslearn-diabetes-automl-sdk')\n",
        "automl_run = automl_experiment.submit(automl_config)\n",
        "RunDetails(automl_run).show()\n",
        "automl_run.wait_for_completion(show_output=True)"
      ],
      "outputs": [
        {
          "output_type": "stream",
          "name": "stdout",
          "text": "Submitting Auto ML experiment...\nSubmitting remote run.\n"
        },
        {
          "output_type": "display_data",
          "data": {
            "text/html": "<table style=\"width:100%\"><tr><th>Experiment</th><th>Id</th><th>Type</th><th>Status</th><th>Details Page</th><th>Docs Page</th></tr><tr><td>mslearn-diabetes-automl-sdk</td><td>AutoML_773c3624-e330-44cb-af81-4326140a0e9d</td><td>automl</td><td>NotStarted</td><td><a href=\"https://ml.azure.com/runs/AutoML_773c3624-e330-44cb-af81-4326140a0e9d?wsid=/subscriptions/69c8f7e5-d34a-43ca-8fc8-17cce3dd848d/resourcegroups/saifahmed.k-rg/workspaces/coursera&amp;tid=44f1ecac-984f-479a-8b55-63bb294261f6\" target=\"_blank\" rel=\"noopener\">Link to Azure Machine Learning studio</a></td><td><a href=\"https://docs.microsoft.com/en-us/python/api/overview/azure/ml/intro?view=azure-ml-py\" target=\"_blank\" rel=\"noopener\">Link to Documentation</a></td></tr></table>"
          },
          "metadata": {}
        },
        {
          "output_type": "stream",
          "name": "stderr",
          "text": "2024-10-14 08:55:27.161737: E external/local_xla/xla/stream_executor/cuda/cuda_fft.cc:485] Unable to register cuFFT factory: Attempting to register factory for plugin cuFFT when one has already been registered\n2024-10-14 08:55:28.035151: E external/local_xla/xla/stream_executor/cuda/cuda_dnn.cc:8454] Unable to register cuDNN factory: Attempting to register factory for plugin cuDNN when one has already been registered\n2024-10-14 08:55:28.287049: E external/local_xla/xla/stream_executor/cuda/cuda_blas.cc:1452] Unable to register cuBLAS factory: Attempting to register factory for plugin cuBLAS when one has already been registered\n2024-10-14 08:55:30.134202: I tensorflow/core/platform/cpu_feature_guard.cc:210] This TensorFlow binary is optimized to use available CPU instructions in performance-critical operations.\nTo enable the following instructions: AVX2 AVX512F FMA, in other operations, rebuild TensorFlow with the appropriate compiler flags.\n2024-10-14 08:55:35.082509: W tensorflow/compiler/tf2tensorrt/utils/py_utils.cc:38] TF-TRT Warning: Could not find TensorRT\n"
        },
        {
          "output_type": "display_data",
          "data": {
            "text/plain": "_AutoMLWidget(widget_settings={'childWidgetDisplay': 'popup', 'send_telemetry': False, 'log_level': 'INFO', 's…",
            "application/vnd.jupyter.widget-view+json": {
              "version_major": 2,
              "version_minor": 0,
              "model_id": "fc00011d16324fd698b72f5fe62d9049"
            }
          },
          "metadata": {}
        },
        {
          "output_type": "display_data",
          "data": {
            "application/aml.mini.widget.v1": "{\"status\": \"Completed\", \"workbench_run_details_uri\": \"https://ml.azure.com/runs/AutoML_773c3624-e330-44cb-af81-4326140a0e9d?wsid=/subscriptions/69c8f7e5-d34a-43ca-8fc8-17cce3dd848d/resourcegroups/saifahmed.k-rg/workspaces/coursera&tid=44f1ecac-984f-479a-8b55-63bb294261f6\", \"run_id\": \"AutoML_773c3624-e330-44cb-af81-4326140a0e9d\", \"run_properties\": {\"run_id\": \"AutoML_773c3624-e330-44cb-af81-4326140a0e9d\", \"created_utc\": \"2024-10-14T08:55:16.195829Z\", \"properties\": {\"num_iterations\": \"4\", \"training_type\": \"TrainFull\", \"acquisition_function\": \"EI\", \"primary_metric\": \"AUC_weighted\", \"train_split\": \"0\", \"acquisition_parameter\": \"0\", \"num_cross_validation\": null, \"target\": \"coursera3\", \"AMLSettingsJsonString\": \"{\\\"path\\\":null,\\\"name\\\":\\\"Automated ML Experiment\\\",\\\"subscription_id\\\":\\\"69c8f7e5-d34a-43ca-8fc8-17cce3dd848d\\\",\\\"resource_group\\\":\\\"saifahmed.k-rg\\\",\\\"workspace_name\\\":\\\"coursera\\\",\\\"region\\\":\\\"eastus2\\\",\\\"compute_target\\\":\\\"coursera3\\\",\\\"spark_service\\\":null,\\\"azure_service\\\":\\\"remote\\\",\\\"many_models\\\":false,\\\"pipeline_fetch_max_batch_size\\\":1,\\\"enable_batch_run\\\":true,\\\"enable_parallel_run\\\":false,\\\"num_procs\\\":null,\\\"enable_run_restructure\\\":false,\\\"start_auxiliary_runs_before_parent_complete\\\":false,\\\"enable_code_generation\\\":true,\\\"force_curated_environment\\\":false,\\\"iterations\\\":4,\\\"primary_metric\\\":\\\"AUC_weighted\\\",\\\"task_type\\\":\\\"classification\\\",\\\"positive_label\\\":null,\\\"data_script\\\":null,\\\"test_size\\\":0.0,\\\"test_include_predictions_only\\\":false,\\\"validation_size\\\":0.0,\\\"n_cross_validations\\\":null,\\\"y_min\\\":null,\\\"y_max\\\":null,\\\"num_classes\\\":null,\\\"featurization\\\":\\\"auto\\\",\\\"_ignore_package_version_incompatibilities\\\":false,\\\"is_timeseries\\\":false,\\\"max_cores_per_iteration\\\":1,\\\"max_concurrent_iterations\\\":2,\\\"iteration_timeout_minutes\\\":null,\\\"mem_in_mb\\\":null,\\\"enforce_time_on_windows\\\":false,\\\"experiment_timeout_minutes\\\":8640,\\\"experiment_exit_score\\\":null,\\\"partition_column_names\\\":null,\\\"whitelist_models\\\":null,\\\"blacklist_algos\\\":[\\\"TensorFlowLinearClassifier\\\",\\\"TensorFlowDNN\\\"],\\\"supported_models\\\":[\\\"TabnetClassifier\\\",\\\"ExtremeRandomTrees\\\",\\\"DecisionTree\\\",\\\"AveragedPerceptronClassifier\\\",\\\"GradientBoosting\\\",\\\"SVM\\\",\\\"RandomForest\\\",\\\"LinearSVM\\\",\\\"KNN\\\",\\\"TensorFlowLinearClassifier\\\",\\\"LogisticRegression\\\",\\\"XGBoostClassifier\\\",\\\"MultinomialNaiveBayes\\\",\\\"TensorFlowDNN\\\",\\\"BernoulliNaiveBayes\\\",\\\"SGD\\\",\\\"LightGBM\\\"],\\\"private_models\\\":[],\\\"auto_blacklist\\\":true,\\\"blacklist_samples_reached\\\":false,\\\"exclude_nan_labels\\\":true,\\\"verbosity\\\":20,\\\"_debug_log\\\":\\\"azureml_automl.log\\\",\\\"show_warnings\\\":false,\\\"model_explainability\\\":true,\\\"service_url\\\":null,\\\"sdk_url\\\":null,\\\"sdk_packages\\\":null,\\\"enable_onnx_compatible_models\\\":false,\\\"enable_split_onnx_featurizer_estimator_models\\\":false,\\\"vm_type\\\":\\\"Standard_DS11_v2\\\",\\\"telemetry_verbosity\\\":20,\\\"send_telemetry\\\":true,\\\"enable_dnn\\\":false,\\\"scenario\\\":\\\"AutoML\\\",\\\"environment_label\\\":null,\\\"save_mlflow\\\":false,\\\"enable_categorical_indicators\\\":false,\\\"force_text_dnn\\\":false,\\\"enable_feature_sweeping\\\":true,\\\"enable_early_stopping\\\":true,\\\"early_stopping_n_iters\\\":10,\\\"arguments\\\":null,\\\"dataset_id\\\":\\\"a9f06041-9b2b-44e5-8b23-b8292f9caca8\\\",\\\"hyperdrive_config\\\":null,\\\"validation_dataset_id\\\":\\\"43f659db-5435-4f6c-9b42-45bb3d472c45\\\",\\\"run_source\\\":null,\\\"metrics\\\":null,\\\"enable_metric_confidence\\\":false,\\\"enable_ensembling\\\":true,\\\"enable_stack_ensembling\\\":true,\\\"ensemble_iterations\\\":4,\\\"enable_tf\\\":false,\\\"enable_subsampling\\\":false,\\\"subsample_seed\\\":null,\\\"enable_nimbusml\\\":false,\\\"enable_streaming\\\":false,\\\"force_streaming\\\":false,\\\"track_child_runs\\\":true,\\\"n_best_runs\\\":1,\\\"allowed_private_models\\\":[],\\\"label_column_name\\\":\\\"Diabetic\\\",\\\"weight_column_name\\\":null,\\\"cv_split_column_names\\\":null,\\\"enable_local_managed\\\":false,\\\"_local_managed_run_id\\\":null,\\\"cost_mode\\\":1,\\\"lag_length\\\":0,\\\"metric_operation\\\":\\\"maximize\\\",\\\"preprocess\\\":true}\", \"DataPrepJsonString\": \"{\\\\\\\"training_data\\\\\\\": {\\\\\\\"datasetId\\\\\\\": \\\\\\\"a9f06041-9b2b-44e5-8b23-b8292f9caca8\\\\\\\"}, \\\\\\\"validation_data\\\\\\\": {\\\\\\\"datasetId\\\\\\\": \\\\\\\"43f659db-5435-4f6c-9b42-45bb3d472c45\\\\\\\"}, \\\\\\\"datasets\\\\\\\": 0}\", \"EnableSubsampling\": \"False\", \"runTemplate\": \"AutoML\", \"azureml.runsource\": \"automl\", \"display_task_type\": \"classification\", \"dependencies_versions\": \"{\\\"azureml-contrib-notebook\\\": \\\"1.57.0\\\", \\\"azureml-inference-server-http\\\": \\\"1.2.2\\\", \\\"azureml-contrib-server\\\": \\\"1.57.0\\\", \\\"azureml-training-tabular\\\": \\\"1.57.0\\\", \\\"azureml-opendatasets\\\": \\\"1.57.0\\\", \\\"azureml-cli-common\\\": \\\"1.57.0\\\", \\\"azureml-automl-dnn-nlp\\\": \\\"1.57.0\\\", \\\"azureml-automl-runtime\\\": \\\"1.57.0\\\", \\\"azureml-dataprep-native\\\": \\\"41.0.0\\\", \\\"azureml-contrib-automl-pipeline-steps\\\": \\\"1.57.0\\\", \\\"azureml-dataprep-rslex\\\": \\\"2.22.2\\\", \\\"azureml-pipeline-steps\\\": \\\"1.57.0\\\", \\\"azureml-interpret\\\": \\\"1.57.0\\\", \\\"azureml-train\\\": \\\"1.57.0\\\", \\\"azureml-widgets\\\": \\\"1.57.0\\\", \\\"azureml-datadrift\\\": \\\"1.57.0\\\", \\\"azureml-tensorboard\\\": \\\"1.57.0\\\", \\\"azureml-telemetry\\\": \\\"1.57.0\\\", \\\"azureml-train-automl-client\\\": \\\"1.57.0\\\", \\\"azureml-contrib-reinforcementlearning\\\": \\\"1.57.0\\\", \\\"azureml-sdk\\\": \\\"1.57.0\\\", \\\"azureml-contrib-pipeline-steps\\\": \\\"1.57.0\\\", \\\"azureml-core\\\": \\\"1.57.0\\\", \\\"azureml-train-core\\\": \\\"1.57.0\\\", \\\"azureml-train-restclients-hyperdrive\\\": \\\"1.57.0\\\", \\\"azureml-contrib-dataset\\\": \\\"1.57.0\\\", \\\"azureml-mlflow\\\": \\\"1.57.0.post1\\\", \\\"azureml-pipeline-core\\\": \\\"1.57.0\\\", \\\"azureml-dataprep\\\": \\\"5.1.6\\\", \\\"azureml-dataset-runtime\\\": \\\"1.57.0\\\", \\\"azureml-pipeline\\\": \\\"1.57.0\\\", \\\"azureml-fsspec\\\": \\\"1.3.1\\\", \\\"azureml-contrib-services\\\": \\\"1.57.0\\\", \\\"azureml-train-automl-runtime\\\": \\\"1.57.0\\\", \\\"azureml-responsibleai\\\": \\\"1.57.0\\\", \\\"azureml-accel-models\\\": \\\"1.57.0\\\", \\\"azureml-automl-core\\\": \\\"1.57.0\\\", \\\"azureml-defaults\\\": \\\"1.57.0\\\", \\\"azureml-contrib-fairness\\\": \\\"1.57.0\\\", \\\"azureml-train-automl\\\": \\\"1.57.0\\\"}\", \"_aml_system_scenario_identification\": \"Remote.Parent\", \"ClientType\": \"SDK\", \"PlatformVersion\": \"DPV1\", \"environment_cpu_name\": \"AzureML-ai-ml-automl\", \"environment_cpu_label\": \"5\", \"environment_gpu_name\": \"AzureML-ai-ml-automl-gpu\", \"environment_gpu_label\": \"5\", \"root_attribution\": \"automl\", \"attribution\": \"AutoML\", \"Orchestrator\": \"AutoML\", \"CancelUri\": \"https://eastus2.api.azureml.ms/jasmine/v1.0/subscriptions/69c8f7e5-d34a-43ca-8fc8-17cce3dd848d/resourceGroups/saifahmed.k-rg/providers/Microsoft.MachineLearningServices/workspaces/coursera/experimentids/ea0203cb-17c8-4b9c-90a9-c8bc19eb847b/cancel/AutoML_773c3624-e330-44cb-af81-4326140a0e9d\", \"ClientSdkVersion\": null, \"snapshotId\": \"00000000-0000-0000-0000-000000000000\", \"SetupRunId\": \"AutoML_773c3624-e330-44cb-af81-4326140a0e9d_setup\", \"SetupRunContainerId\": \"dcid.AutoML_773c3624-e330-44cb-af81-4326140a0e9d_setup\", \"FeaturizationRunJsonPath\": \"featurizer_container.json\", \"FeaturizationRunId\": \"AutoML_773c3624-e330-44cb-af81-4326140a0e9d_featurize\", \"ProblemInfoJsonString\": \"{\\\"dataset_num_categorical\\\": 0, \\\"is_sparse\\\": true, \\\"subsampling\\\": false, \\\"has_extra_col\\\": true, \\\"dataset_classes\\\": 2, \\\"dataset_features\\\": 23, \\\"dataset_samples\\\": 10458, \\\"single_frequency_class_detected\\\": false}\", \"ModelExplainRunId\": \"AutoML_773c3624-e330-44cb-af81-4326140a0e9d_ModelExplain\"}, \"tags\": {\"model_explain_run\": \"best_run\", \"_aml_system_automl_run_workspace_id\": \"fbff0866-df0b-44e6-ad41-a794abec9d1a\", \"_aml_system_azureml.automlComponent\": \"AutoML\", \"pipeline_id_000\": \"5dfac790c5c209f98a1da2dc1c7fb76f0397324f;c7af0367625be6ac5c2fecbfc72ed444cb7a2111;__AutoML_Ensemble__;__AutoML_Stack_Ensemble__\", \"score_000\": \"0.9916932801615012;0.9919975776544208;0.9921701418400241;0.9920035948364841\", \"predicted_cost_000\": \"0;0;0;0\", \"fit_time_000\": \"0.237475;1.644528;1;4\", \"training_percent_000\": \"100;100;100;100\", \"iteration_000\": \"0;1;2;3\", \"run_preprocessor_000\": \"MaxAbsScaler;MaxAbsScaler;;\", \"run_algorithm_000\": \"LightGBM;XGBoostClassifier;VotingEnsemble;StackEnsemble\", \"automl_best_child_run_id\": \"AutoML_773c3624-e330-44cb-af81-4326140a0e9d_2\"}, \"end_time_utc\": \"2024-10-14T09:06:11.886449Z\", \"status\": \"Completed\", \"log_files\": {}, \"log_groups\": [], \"run_duration\": \"0:10:55\", \"run_number\": \"1728896116\", \"run_queued_details\": {\"status\": \"Completed\", \"details\": null}}, \"child_runs\": [{\"run_id\": \"AutoML_773c3624-e330-44cb-af81-4326140a0e9d_setup\", \"run_number\": 1728896128, \"metric\": null, \"status\": \"Completed\", \"run_type\": \"azureml.scriptrun\", \"training_percent\": null, \"start_time\": \"2024-10-14T08:59:08.307018Z\", \"end_time\": \"2024-10-14T09:02:48.13079Z\", \"created_time\": \"2024-10-14T08:55:28.365408Z\", \"created_time_dt\": \"2024-10-14T08:55:28.365408Z\", \"duration\": \"0:07:19\", \"iteration\": null, \"goal\": null, \"run_name\": \"Completed\", \"run_properties\": null}, {\"run_id\": \"AutoML_773c3624-e330-44cb-af81-4326140a0e9d_featurize\", \"run_number\": 1728896568, \"metric\": null, \"status\": \"Completed\", \"run_type\": \"automl.featurization\", \"training_percent\": null, \"start_time\": \"2024-10-14T09:02:48.83856Z\", \"end_time\": \"2024-10-14T09:03:50.088005Z\", \"created_time\": \"2024-10-14T09:02:48.402287Z\", \"created_time_dt\": \"2024-10-14T09:02:48.402287Z\", \"duration\": \"0:01:01\", \"iteration\": null, \"goal\": null, \"run_name\": \"Completed\", \"run_properties\": null}, {\"run_id\": \"AutoML_773c3624-e330-44cb-af81-4326140a0e9d_worker_0\", \"run_number\": 1728896631, \"metric\": null, \"status\": \"Completed\", \"run_type\": \"azureml.scriptrun\", \"training_percent\": null, \"start_time\": \"2024-10-14T09:04:13.196055Z\", \"end_time\": \"2024-10-14T09:04:39.090075Z\", \"created_time\": \"2024-10-14T09:03:51.341171Z\", \"created_time_dt\": \"2024-10-14T09:03:51.341171Z\", \"duration\": \"0:00:47\", \"iteration\": null, \"goal\": null, \"run_name\": \"Completed\", \"run_properties\": null}, {\"run_id\": \"AutoML_773c3624-e330-44cb-af81-4326140a0e9d_2\", \"run_number\": 1728896676, \"metric\": null, \"status\": \"Completed\", \"run_type\": \"azureml.scriptrun\", \"training_percent\": \"100\", \"start_time\": \"2024-10-14T09:05:31.886634Z\", \"end_time\": \"2024-10-14T09:05:58.606288Z\", \"created_time\": \"2024-10-14T09:04:36.654352Z\", \"created_time_dt\": \"2024-10-14T09:04:36.654352Z\", \"duration\": \"0:01:21\", \"iteration\": \"2\", \"goal\": \"AUC_weighted_max\", \"run_name\": \"VotingEnsemble\", \"run_properties\": \"classification_labels=numpy.array([0, 1]\", \"primary_metric\": 0.99217014, \"best_metric\": 0.99217014}], \"children_metrics\": {\"categories\": [0], \"series\": {\"AUC_micro\": [{\"categories\": [\"2\"], \"mode\": \"markers\", \"name\": \"AUC_micro\", \"stepped\": false, \"type\": \"scatter\", \"data\": [0.9929096135079392]}, {\"categories\": [\"2\"], \"mode\": \"lines\", \"name\": \"AUC_micro_max\", \"stepped\": true, \"type\": \"scatter\", \"data\": [0.9929096135079392]}], \"f1_score_weighted\": [{\"categories\": [\"2\"], \"mode\": \"markers\", \"name\": \"f1_score_weighted\", \"stepped\": false, \"type\": \"scatter\", \"data\": [0.9618428958795621]}, {\"categories\": [\"2\"], \"mode\": \"lines\", \"name\": \"f1_score_weighted_max\", \"stepped\": true, \"type\": \"scatter\", \"data\": [0.9618428958795621]}], \"AUC_macro\": [{\"categories\": [\"2\"], \"mode\": \"markers\", \"name\": \"AUC_macro\", \"stepped\": false, \"type\": \"scatter\", \"data\": [0.9921701418400242]}, {\"categories\": [\"2\"], \"mode\": \"lines\", \"name\": \"AUC_macro_max\", \"stepped\": true, \"type\": \"scatter\", \"data\": [0.9921701418400242]}], \"balanced_accuracy\": [{\"categories\": [\"2\"], \"mode\": \"markers\", \"name\": \"balanced_accuracy\", \"stepped\": false, \"type\": \"scatter\", \"data\": [0.9560301942195941]}, {\"categories\": [\"2\"], \"mode\": \"lines\", \"name\": \"balanced_accuracy_max\", \"stepped\": true, \"type\": \"scatter\", \"data\": [0.9560301942195941]}], \"norm_macro_recall\": [{\"categories\": [\"2\"], \"mode\": \"markers\", \"name\": \"norm_macro_recall\", \"stepped\": false, \"type\": \"scatter\", \"data\": [0.9120603884391882]}, {\"categories\": [\"2\"], \"mode\": \"lines\", \"name\": \"norm_macro_recall_max\", \"stepped\": true, \"type\": \"scatter\", \"data\": [0.9120603884391882]}], \"weighted_accuracy\": [{\"categories\": [\"2\"], \"mode\": \"markers\", \"name\": \"weighted_accuracy\", \"stepped\": false, \"type\": \"scatter\", \"data\": [0.9667446548563369]}, {\"categories\": [\"2\"], \"mode\": \"lines\", \"name\": \"weighted_accuracy_max\", \"stepped\": true, \"type\": \"scatter\", \"data\": [0.9667446548563369]}], \"matthews_correlation\": [{\"categories\": [\"2\"], \"mode\": \"markers\", \"name\": \"matthews_correlation\", \"stepped\": false, \"type\": \"scatter\", \"data\": [0.9153304328646035]}, {\"categories\": [\"2\"], \"mode\": \"lines\", \"name\": \"matthews_correlation_max\", \"stepped\": true, \"type\": \"scatter\", \"data\": [0.9153304328646035]}], \"precision_score_macro\": [{\"categories\": [\"2\"], \"mode\": \"markers\", \"name\": \"precision_score_macro\", \"stepped\": false, \"type\": \"scatter\", \"data\": [0.9593061007516636]}, {\"categories\": [\"2\"], \"mode\": \"lines\", \"name\": \"precision_score_macro_max\", \"stepped\": true, \"type\": \"scatter\", \"data\": [0.9593061007516636]}], \"precision_score_weighted\": [{\"categories\": [\"2\"], \"mode\": \"markers\", \"name\": \"precision_score_weighted\", \"stepped\": false, \"type\": \"scatter\", \"data\": [0.9618293144899906]}, {\"categories\": [\"2\"], \"mode\": \"lines\", \"name\": \"precision_score_weighted_max\", \"stepped\": true, \"type\": \"scatter\", \"data\": [0.9618293144899906]}], \"accuracy\": [{\"categories\": [\"2\"], \"mode\": \"markers\", \"name\": \"accuracy\", \"stepped\": false, \"type\": \"scatter\", \"data\": [0.9619110523998239]}, {\"categories\": [\"2\"], \"mode\": \"lines\", \"name\": \"accuracy_max\", \"stepped\": true, \"type\": \"scatter\", \"data\": [0.9619110523998239]}], \"average_precision_score_micro\": [{\"categories\": [\"2\"], \"mode\": \"markers\", \"name\": \"average_precision_score_micro\", \"stepped\": false, \"type\": \"scatter\", \"data\": [0.9930387904451217]}, {\"categories\": [\"2\"], \"mode\": \"lines\", \"name\": \"average_precision_score_micro_max\", \"stepped\": true, \"type\": \"scatter\", \"data\": [0.9930387904451217]}], \"AUC_weighted\": [{\"categories\": [\"2\"], \"mode\": \"markers\", \"name\": \"AUC_weighted\", \"stepped\": false, \"type\": \"scatter\", \"data\": [0.9921701418400241]}, {\"categories\": [\"2\"], \"mode\": \"lines\", \"name\": \"AUC_weighted_max\", \"stepped\": true, \"type\": \"scatter\", \"data\": [0.9921701418400241]}], \"recall_score_micro\": [{\"categories\": [\"2\"], \"mode\": \"markers\", \"name\": \"recall_score_micro\", \"stepped\": false, \"type\": \"scatter\", \"data\": [0.9619110523998239]}, {\"categories\": [\"2\"], \"mode\": \"lines\", \"name\": \"recall_score_micro_max\", \"stepped\": true, \"type\": \"scatter\", \"data\": [0.9619110523998239]}], \"average_precision_score_weighted\": [{\"categories\": [\"2\"], \"mode\": \"markers\", \"name\": \"average_precision_score_weighted\", \"stepped\": false, \"type\": \"scatter\", \"data\": [0.9923310428255883]}, {\"categories\": [\"2\"], \"mode\": \"lines\", \"name\": \"average_precision_score_weighted_max\", \"stepped\": true, \"type\": \"scatter\", \"data\": [0.9923310428255883]}], \"precision_score_micro\": [{\"categories\": [\"2\"], \"mode\": \"markers\", \"name\": \"precision_score_micro\", \"stepped\": false, \"type\": \"scatter\", \"data\": [0.9619110523998239]}, {\"categories\": [\"2\"], \"mode\": \"lines\", \"name\": \"precision_score_micro_max\", \"stepped\": true, \"type\": \"scatter\", \"data\": [0.9619110523998239]}], \"log_loss\": [{\"categories\": [\"2\"], \"mode\": \"markers\", \"name\": \"log_loss\", \"stepped\": false, \"type\": \"scatter\", \"data\": [0.10533821428404329]}, {\"categories\": [\"2\"], \"mode\": \"lines\", \"name\": \"log_loss_min\", \"stepped\": true, \"type\": \"scatter\", \"data\": [0.10533821428404329]}], \"average_precision_score_macro\": [{\"categories\": [\"2\"], \"mode\": \"markers\", \"name\": \"average_precision_score_macro\", \"stepped\": false, \"type\": \"scatter\", \"data\": [0.9907038093756348]}, {\"categories\": [\"2\"], \"mode\": \"lines\", \"name\": \"average_precision_score_macro_max\", \"stepped\": true, \"type\": \"scatter\", \"data\": [0.9907038093756348]}], \"f1_score_micro\": [{\"categories\": [\"2\"], \"mode\": \"markers\", \"name\": \"f1_score_micro\", \"stepped\": false, \"type\": \"scatter\", \"data\": [0.9619110523998239]}, {\"categories\": [\"2\"], \"mode\": \"lines\", \"name\": \"f1_score_micro_max\", \"stepped\": true, \"type\": \"scatter\", \"data\": [0.9619110523998239]}], \"f1_score_macro\": [{\"categories\": [\"2\"], \"mode\": \"markers\", \"name\": \"f1_score_macro\", \"stepped\": false, \"type\": \"scatter\", \"data\": [0.9576349715851422]}, {\"categories\": [\"2\"], \"mode\": \"lines\", \"name\": \"f1_score_macro_max\", \"stepped\": true, \"type\": \"scatter\", \"data\": [0.9576349715851422]}], \"recall_score_macro\": [{\"categories\": [\"2\"], \"mode\": \"markers\", \"name\": \"recall_score_macro\", \"stepped\": false, \"type\": \"scatter\", \"data\": [0.9560301942195941]}, {\"categories\": [\"2\"], \"mode\": \"lines\", \"name\": \"recall_score_macro_max\", \"stepped\": true, \"type\": \"scatter\", \"data\": [0.9560301942195941]}], \"recall_score_weighted\": [{\"categories\": [\"2\"], \"mode\": \"markers\", \"name\": \"recall_score_weighted\", \"stepped\": false, \"type\": \"scatter\", \"data\": [0.9619110523998239]}, {\"categories\": [\"2\"], \"mode\": \"lines\", \"name\": \"recall_score_weighted_max\", \"stepped\": true, \"type\": \"scatter\", \"data\": [0.9619110523998239]}]}, \"metricName\": null, \"primaryMetricName\": \"AUC_weighted\", \"showLegend\": false}, \"run_metrics\": [{\"name\": \"experiment_status\", \"run_id\": \"AutoML_773c3624-e330-44cb-af81-4326140a0e9d\", \"categories\": [0, 1, 2, 3, 4], \"series\": [{\"data\": [\"DatasetEvaluation\", \"FeaturesGeneration\", \"DatasetFeaturization\", \"DatasetFeaturizationCompleted\", \"ModelSelection\"]}]}, {\"name\": \"experiment_status_description\", \"run_id\": \"AutoML_773c3624-e330-44cb-af81-4326140a0e9d\", \"categories\": [0, 1, 2, 3, 4], \"series\": [{\"data\": [\"Gathering dataset statistics.\", \"Generating features for the dataset.\", \"Beginning to fit featurizers and featurize the dataset.\", \"Completed fit featurizers and featurizing the dataset.\", \"Beginning model selection.\"]}]}, {\"name\": \"recall_score_micro\", \"run_id\": \"AutoML_773c3624-e330-44cb-af81-4326140a0e9d\", \"categories\": [0], \"series\": [{\"data\": [0.9619110523998239]}]}, {\"name\": \"log_loss\", \"run_id\": \"AutoML_773c3624-e330-44cb-af81-4326140a0e9d\", \"categories\": [0], \"series\": [{\"data\": [0.10533821428404329]}]}, {\"name\": \"norm_macro_recall\", \"run_id\": \"AutoML_773c3624-e330-44cb-af81-4326140a0e9d\", \"categories\": [0], \"series\": [{\"data\": [0.9120603884391882]}]}, {\"name\": \"average_precision_score_micro\", \"run_id\": \"AutoML_773c3624-e330-44cb-af81-4326140a0e9d\", \"categories\": [0], \"series\": [{\"data\": [0.9930387904451217]}]}, {\"name\": \"precision_score_weighted\", \"run_id\": \"AutoML_773c3624-e330-44cb-af81-4326140a0e9d\", \"categories\": [0], \"series\": [{\"data\": [0.9618293144899906]}]}, {\"name\": \"f1_score_micro\", \"run_id\": \"AutoML_773c3624-e330-44cb-af81-4326140a0e9d\", \"categories\": [0], \"series\": [{\"data\": [0.9619110523998239]}]}, {\"name\": \"precision_score_micro\", \"run_id\": \"AutoML_773c3624-e330-44cb-af81-4326140a0e9d\", \"categories\": [0], \"series\": [{\"data\": [0.9619110523998239]}]}, {\"name\": \"f1_score_macro\", \"run_id\": \"AutoML_773c3624-e330-44cb-af81-4326140a0e9d\", \"categories\": [0], \"series\": [{\"data\": [0.9576349715851422]}]}, {\"name\": \"average_precision_score_macro\", \"run_id\": \"AutoML_773c3624-e330-44cb-af81-4326140a0e9d\", \"categories\": [0], \"series\": [{\"data\": [0.9907038093756348]}]}, {\"name\": \"weighted_accuracy\", \"run_id\": \"AutoML_773c3624-e330-44cb-af81-4326140a0e9d\", \"categories\": [0], \"series\": [{\"data\": [0.9667446548563369]}]}, {\"name\": \"balanced_accuracy\", \"run_id\": \"AutoML_773c3624-e330-44cb-af81-4326140a0e9d\", \"categories\": [0], \"series\": [{\"data\": [0.9560301942195941]}]}, {\"name\": \"accuracy\", \"run_id\": \"AutoML_773c3624-e330-44cb-af81-4326140a0e9d\", \"categories\": [0], \"series\": [{\"data\": [0.9619110523998239]}]}, {\"name\": \"AUC_weighted\", \"run_id\": \"AutoML_773c3624-e330-44cb-af81-4326140a0e9d\", \"categories\": [0], \"series\": [{\"data\": [0.9921701418400241]}]}, {\"name\": \"matthews_correlation\", \"run_id\": \"AutoML_773c3624-e330-44cb-af81-4326140a0e9d\", \"categories\": [0], \"series\": [{\"data\": [0.9153304328646035]}]}, {\"name\": \"average_precision_score_weighted\", \"run_id\": \"AutoML_773c3624-e330-44cb-af81-4326140a0e9d\", \"categories\": [0], \"series\": [{\"data\": [0.9923310428255883]}]}, {\"name\": \"AUC_macro\", \"run_id\": \"AutoML_773c3624-e330-44cb-af81-4326140a0e9d\", \"categories\": [0], \"series\": [{\"data\": [0.9921701418400242]}]}, {\"name\": \"precision_score_macro\", \"run_id\": \"AutoML_773c3624-e330-44cb-af81-4326140a0e9d\", \"categories\": [0], \"series\": [{\"data\": [0.9593061007516636]}]}, {\"name\": \"recall_score_macro\", \"run_id\": \"AutoML_773c3624-e330-44cb-af81-4326140a0e9d\", \"categories\": [0], \"series\": [{\"data\": [0.9560301942195941]}]}, {\"name\": \"recall_score_weighted\", \"run_id\": \"AutoML_773c3624-e330-44cb-af81-4326140a0e9d\", \"categories\": [0], \"series\": [{\"data\": [0.9619110523998239]}]}, {\"name\": \"AUC_micro\", \"run_id\": \"AutoML_773c3624-e330-44cb-af81-4326140a0e9d\", \"categories\": [0], \"series\": [{\"data\": [0.9929096135079392]}]}, {\"name\": \"f1_score_weighted\", \"run_id\": \"AutoML_773c3624-e330-44cb-af81-4326140a0e9d\", \"categories\": [0], \"series\": [{\"data\": [0.9618428958795621]}]}], \"run_logs\": \"\\nRun is completed.\", \"graph\": {}, \"widget_settings\": {\"childWidgetDisplay\": \"popup\", \"send_telemetry\": false, \"log_level\": \"INFO\", \"sdk_version\": \"1.57.0\"}, \"loading\": false}"
          },
          "metadata": {}
        },
        {
          "output_type": "display_data",
          "data": {
            "text/html": "<table style=\"width:100%\"><tr><th>Experiment</th><th>Id</th><th>Type</th><th>Status</th><th>Details Page</th><th>Docs Page</th></tr><tr><td>mslearn-diabetes-automl-sdk</td><td>AutoML_773c3624-e330-44cb-af81-4326140a0e9d</td><td>automl</td><td>NotStarted</td><td><a href=\"https://ml.azure.com/runs/AutoML_773c3624-e330-44cb-af81-4326140a0e9d?wsid=/subscriptions/69c8f7e5-d34a-43ca-8fc8-17cce3dd848d/resourcegroups/saifahmed.k-rg/workspaces/coursera&amp;tid=44f1ecac-984f-479a-8b55-63bb294261f6\" target=\"_blank\" rel=\"noopener\">Link to Azure Machine Learning studio</a></td><td><a href=\"https://docs.microsoft.com/en-us/python/api/overview/azure/ml/intro?view=azure-ml-py\" target=\"_blank\" rel=\"noopener\">Link to Documentation</a></td></tr></table>"
          },
          "metadata": {}
        },
        {
          "output_type": "stream",
          "name": "stdout",
          "text": "\nCurrent status: FeaturesGeneration. Generating features for the dataset.\nCurrent status: DatasetFeaturization. Beginning to fit featurizers and featurize the dataset.\nCurrent status: DatasetFeaturizationCompleted. Completed fit featurizers and featurizing the dataset.\nCurrent status: ModelSelection. Beginning model selection.\n\n********************************************************************************************\nDATA GUARDRAILS: \n\nTYPE:         Class balancing detection\nSTATUS:       PASSED\nDESCRIPTION:  Your inputs were analyzed, and all classes are balanced in your training data.\n              Learn more about imbalanced data: https://aka.ms/AutomatedMLImbalancedData\n\n********************************************************************************************\n\nTYPE:         Missing feature values imputation\nSTATUS:       PASSED\nDESCRIPTION:  No feature missing values were detected in the training data.\n              Learn more about missing value imputation: https://aka.ms/AutomatedMLFeaturization\n\n********************************************************************************************\n\nTYPE:         High cardinality feature detection\nSTATUS:       PASSED\nDESCRIPTION:  Your inputs were analyzed, and no high cardinality features were detected.\n              Learn more about high cardinality feature handling: https://aka.ms/AutomatedMLFeaturization\n\n********************************************************************************************\n\n********************************************************************************************\nITER: The iteration being evaluated.\nPIPELINE: A summary description of the pipeline being evaluated.\nDURATION: Time taken for the current iteration.\nMETRIC: The result of computing score on the fitted pipeline.\nBEST: The best observed score thus far.\n********************************************************************************************\n\n ITER   PIPELINE                                       DURATION            METRIC      BEST\n    0   MaxAbsScaler LightGBM                          0:00:08             0.9917    0.9917\n    1   MaxAbsScaler XGBoostClassifier                 0:00:09             0.9920    0.9920\n    2    VotingEnsemble                                0:00:27             0.9922    0.9922\n    3    StackEnsemble                                 0:00:30             0.9920    0.9922\n"
        },
        {
          "output_type": "execute_result",
          "execution_count": 7,
          "data": {
            "text/plain": "{'runId': 'AutoML_773c3624-e330-44cb-af81-4326140a0e9d',\n 'target': 'coursera3',\n 'status': 'Completed',\n 'startTimeUtc': '2024-10-14T08:55:29.530724Z',\n 'endTimeUtc': '2024-10-14T09:06:11.886449Z',\n 'services': {},\n 'properties': {'num_iterations': '4',\n  'training_type': 'TrainFull',\n  'acquisition_function': 'EI',\n  'primary_metric': 'AUC_weighted',\n  'train_split': '0',\n  'acquisition_parameter': '0',\n  'num_cross_validation': None,\n  'target': 'coursera3',\n  'AMLSettingsJsonString': '{\"path\":null,\"name\":\"Automated ML Experiment\",\"subscription_id\":\"69c8f7e5-d34a-43ca-8fc8-17cce3dd848d\",\"resource_group\":\"saifahmed.k-rg\",\"workspace_name\":\"coursera\",\"region\":\"eastus2\",\"compute_target\":\"coursera3\",\"spark_service\":null,\"azure_service\":\"remote\",\"many_models\":false,\"pipeline_fetch_max_batch_size\":1,\"enable_batch_run\":true,\"enable_parallel_run\":false,\"num_procs\":null,\"enable_run_restructure\":false,\"start_auxiliary_runs_before_parent_complete\":false,\"enable_code_generation\":true,\"force_curated_environment\":false,\"iterations\":4,\"primary_metric\":\"AUC_weighted\",\"task_type\":\"classification\",\"positive_label\":null,\"data_script\":null,\"test_size\":0.0,\"test_include_predictions_only\":false,\"validation_size\":0.0,\"n_cross_validations\":null,\"y_min\":null,\"y_max\":null,\"num_classes\":null,\"featurization\":\"auto\",\"_ignore_package_version_incompatibilities\":false,\"is_timeseries\":false,\"max_cores_per_iteration\":1,\"max_concurrent_iterations\":2,\"iteration_timeout_minutes\":null,\"mem_in_mb\":null,\"enforce_time_on_windows\":false,\"experiment_timeout_minutes\":8640,\"experiment_exit_score\":null,\"partition_column_names\":null,\"whitelist_models\":null,\"blacklist_algos\":[\"TensorFlowLinearClassifier\",\"TensorFlowDNN\"],\"supported_models\":[\"TabnetClassifier\",\"ExtremeRandomTrees\",\"DecisionTree\",\"AveragedPerceptronClassifier\",\"GradientBoosting\",\"SVM\",\"RandomForest\",\"LinearSVM\",\"KNN\",\"TensorFlowLinearClassifier\",\"LogisticRegression\",\"XGBoostClassifier\",\"MultinomialNaiveBayes\",\"TensorFlowDNN\",\"BernoulliNaiveBayes\",\"SGD\",\"LightGBM\"],\"private_models\":[],\"auto_blacklist\":true,\"blacklist_samples_reached\":false,\"exclude_nan_labels\":true,\"verbosity\":20,\"_debug_log\":\"azureml_automl.log\",\"show_warnings\":false,\"model_explainability\":true,\"service_url\":null,\"sdk_url\":null,\"sdk_packages\":null,\"enable_onnx_compatible_models\":false,\"enable_split_onnx_featurizer_estimator_models\":false,\"vm_type\":\"Standard_DS11_v2\",\"telemetry_verbosity\":20,\"send_telemetry\":true,\"enable_dnn\":false,\"scenario\":\"AutoML\",\"environment_label\":null,\"save_mlflow\":false,\"enable_categorical_indicators\":false,\"force_text_dnn\":false,\"enable_feature_sweeping\":true,\"enable_early_stopping\":true,\"early_stopping_n_iters\":10,\"arguments\":null,\"dataset_id\":\"a9f06041-9b2b-44e5-8b23-b8292f9caca8\",\"hyperdrive_config\":null,\"validation_dataset_id\":\"43f659db-5435-4f6c-9b42-45bb3d472c45\",\"run_source\":null,\"metrics\":null,\"enable_metric_confidence\":false,\"enable_ensembling\":true,\"enable_stack_ensembling\":true,\"ensemble_iterations\":4,\"enable_tf\":false,\"enable_subsampling\":false,\"subsample_seed\":null,\"enable_nimbusml\":false,\"enable_streaming\":false,\"force_streaming\":false,\"track_child_runs\":true,\"n_best_runs\":1,\"allowed_private_models\":[],\"label_column_name\":\"Diabetic\",\"weight_column_name\":null,\"cv_split_column_names\":null,\"enable_local_managed\":false,\"_local_managed_run_id\":null,\"cost_mode\":1,\"lag_length\":0,\"metric_operation\":\"maximize\",\"preprocess\":true}',\n  'DataPrepJsonString': '{\\\\\"training_data\\\\\": {\\\\\"datasetId\\\\\": \\\\\"a9f06041-9b2b-44e5-8b23-b8292f9caca8\\\\\"}, \\\\\"validation_data\\\\\": {\\\\\"datasetId\\\\\": \\\\\"43f659db-5435-4f6c-9b42-45bb3d472c45\\\\\"}, \\\\\"datasets\\\\\": 0}',\n  'EnableSubsampling': 'False',\n  'runTemplate': 'AutoML',\n  'azureml.runsource': 'automl',\n  'display_task_type': 'classification',\n  'dependencies_versions': '{\"azureml-contrib-notebook\": \"1.57.0\", \"azureml-inference-server-http\": \"1.2.2\", \"azureml-contrib-server\": \"1.57.0\", \"azureml-training-tabular\": \"1.57.0\", \"azureml-opendatasets\": \"1.57.0\", \"azureml-cli-common\": \"1.57.0\", \"azureml-automl-dnn-nlp\": \"1.57.0\", \"azureml-automl-runtime\": \"1.57.0\", \"azureml-dataprep-native\": \"41.0.0\", \"azureml-contrib-automl-pipeline-steps\": \"1.57.0\", \"azureml-dataprep-rslex\": \"2.22.2\", \"azureml-pipeline-steps\": \"1.57.0\", \"azureml-interpret\": \"1.57.0\", \"azureml-train\": \"1.57.0\", \"azureml-widgets\": \"1.57.0\", \"azureml-datadrift\": \"1.57.0\", \"azureml-tensorboard\": \"1.57.0\", \"azureml-telemetry\": \"1.57.0\", \"azureml-train-automl-client\": \"1.57.0\", \"azureml-contrib-reinforcementlearning\": \"1.57.0\", \"azureml-sdk\": \"1.57.0\", \"azureml-contrib-pipeline-steps\": \"1.57.0\", \"azureml-core\": \"1.57.0\", \"azureml-train-core\": \"1.57.0\", \"azureml-train-restclients-hyperdrive\": \"1.57.0\", \"azureml-contrib-dataset\": \"1.57.0\", \"azureml-mlflow\": \"1.57.0.post1\", \"azureml-pipeline-core\": \"1.57.0\", \"azureml-dataprep\": \"5.1.6\", \"azureml-dataset-runtime\": \"1.57.0\", \"azureml-pipeline\": \"1.57.0\", \"azureml-fsspec\": \"1.3.1\", \"azureml-contrib-services\": \"1.57.0\", \"azureml-train-automl-runtime\": \"1.57.0\", \"azureml-responsibleai\": \"1.57.0\", \"azureml-accel-models\": \"1.57.0\", \"azureml-automl-core\": \"1.57.0\", \"azureml-defaults\": \"1.57.0\", \"azureml-contrib-fairness\": \"1.57.0\", \"azureml-train-automl\": \"1.57.0\"}',\n  '_aml_system_scenario_identification': 'Remote.Parent',\n  'ClientType': 'SDK',\n  'PlatformVersion': 'DPV1',\n  'environment_cpu_name': 'AzureML-ai-ml-automl',\n  'environment_cpu_label': '5',\n  'environment_gpu_name': 'AzureML-ai-ml-automl-gpu',\n  'environment_gpu_label': '5',\n  'root_attribution': 'automl',\n  'attribution': 'AutoML',\n  'Orchestrator': 'AutoML',\n  'CancelUri': 'https://eastus2.api.azureml.ms/jasmine/v1.0/subscriptions/69c8f7e5-d34a-43ca-8fc8-17cce3dd848d/resourceGroups/saifahmed.k-rg/providers/Microsoft.MachineLearningServices/workspaces/coursera/experimentids/ea0203cb-17c8-4b9c-90a9-c8bc19eb847b/cancel/AutoML_773c3624-e330-44cb-af81-4326140a0e9d',\n  'ClientSdkVersion': None,\n  'snapshotId': '00000000-0000-0000-0000-000000000000',\n  'SetupRunId': 'AutoML_773c3624-e330-44cb-af81-4326140a0e9d_setup',\n  'SetupRunContainerId': 'dcid.AutoML_773c3624-e330-44cb-af81-4326140a0e9d_setup',\n  'FeaturizationRunJsonPath': 'featurizer_container.json',\n  'FeaturizationRunId': 'AutoML_773c3624-e330-44cb-af81-4326140a0e9d_featurize',\n  'ProblemInfoJsonString': '{\"dataset_num_categorical\": 0, \"is_sparse\": true, \"subsampling\": false, \"has_extra_col\": true, \"dataset_classes\": 2, \"dataset_features\": 23, \"dataset_samples\": 10458, \"single_frequency_class_detected\": false}',\n  'ModelExplainRunId': 'AutoML_773c3624-e330-44cb-af81-4326140a0e9d_ModelExplain'},\n 'inputDatasets': [{'dataset': {'id': 'a9f06041-9b2b-44e5-8b23-b8292f9caca8'}, 'consumptionDetails': {'type': 'RunInput', 'inputName': 'training_data', 'mechanism': 'Direct'}}, {'dataset': {'id': '43f659db-5435-4f6c-9b42-45bb3d472c45'}, 'consumptionDetails': {'type': 'RunInput', 'inputName': 'validation_data', 'mechanism': 'Direct'}}],\n 'outputDatasets': [],\n 'logFiles': {},\n 'submittedBy': 'Saif Ahmed Khaja'}"
          },
          "metadata": {}
        }
      ],
      "execution_count": 7,
      "metadata": {
        "scrolled": true,
        "gather": {
          "logged": 1728896786511
        }
      }
    },
    {
      "cell_type": "markdown",
      "source": [
        "## Determine the best model\n",
        "\n",
        "When the experiment has completed, view the output in the widget, and click the run that produced the best result to see its details.\n",
        "\n",
        "Then click the link to view the experiment details in Azure Machine Learning studio and view the overall experiment details before viewing the details for the individual run that produced the best result. There's lots of information here about the performance of the model generated.\n",
        "\n",
        "Let's get the best run and the model that it produced."
      ],
      "metadata": {}
    },
    {
      "cell_type": "code",
      "source": [
        "best_run, fitted_model = automl_run.get_output()\n",
        "print(best_run)\n",
        "print(fitted_model)\n",
        "best_run_metrics = best_run.get_metrics()\n",
        "for metric_name in best_run_metrics:\n",
        "    metric = best_run_metrics[metric_name]\n",
        "    print(metric_name, metric)"
      ],
      "outputs": [
        {
          "output_type": "stream",
          "name": "stdout",
          "text": "Run(Experiment: mslearn-diabetes-automl-sdk,\nId: AutoML_773c3624-e330-44cb-af81-4326140a0e9d_2,\nType: azureml.scriptrun,\nStatus: Completed)\nPipeline(steps=[('datatransformer',\n                 DataTransformer(enable_dnn=False, enable_feature_sweeping=True, working_dir='/mnt/batch/tasks/shared/LS_root/mounts/clusters/sid/code/Users/saifahmed.k/azure-ml-labs/Labs/02/mslearn-dp100')),\n                ('prefittedsoftvotingclassifier',\n                 PreFittedSoftVotingClassifier(classification_labels=array([0, 1]), estimators=[('1', Pipeline(st...aining_param_dict={'processing_unit_type': 'cpu'}), tree_method='auto'))])), ('0', Pipeline(steps=[('maxabsscaler', MaxAbsScaler()), ('lightgbmclassifier', LightGBMClassifier(min_data_in_leaf=20, problem_info=ProblemInfo(gpu_training_param_dict={'processing_unit_type': 'cpu'})))]))], flatten_transform=False, weights=[0.6666666666666666, 0.3333333333333333]))])\nY_transformer(['LabelEncoder', LabelEncoder()])\nAUC_micro 0.9929096135079392\nf1_score_weighted 0.9618428958795621\nAUC_macro 0.9921701418400242\nbalanced_accuracy 0.9560301942195941\nnorm_macro_recall 0.9120603884391882\nweighted_accuracy 0.9667446548563369\nmatthews_correlation 0.9153304328646035\nprecision_score_macro 0.9593061007516636\nprecision_score_weighted 0.9618293144899906\naccuracy 0.9619110523998239\naverage_precision_score_micro 0.9930387904451217\nAUC_weighted 0.9921701418400241\nrecall_score_micro 0.9619110523998239\naverage_precision_score_weighted 0.9923310428255883\nprecision_score_micro 0.9619110523998239\nlog_loss 0.10533821428404329\naverage_precision_score_macro 0.9907038093756348\nf1_score_micro 0.9619110523998239\nf1_score_macro 0.9576349715851422\nrecall_score_macro 0.9560301942195941\nrecall_score_weighted 0.9619110523998239\nconfusion_matrix aml://artifactId/ExperimentRun/dcid.AutoML_773c3624-e330-44cb-af81-4326140a0e9d_2/confusion_matrix\naccuracy_table aml://artifactId/ExperimentRun/dcid.AutoML_773c3624-e330-44cb-af81-4326140a0e9d_2/accuracy_table\n"
        }
      ],
      "execution_count": 8,
      "metadata": {
        "gather": {
          "logged": 1728896813924
        }
      }
    },
    {
      "cell_type": "markdown",
      "source": [
        "Automated machine learning includes the option to try preprocessing the data, which is accomplished through the use of [Scikit-Learn transformation pipelines](https://scikit-learn.org/stable/modules/compose.html#combining-estimators) (not to be confused with Azure Machine Learning pipelines!). These produce models that include steps to transform the data before inferencing. You can view the steps in a model like this:"
      ],
      "metadata": {}
    },
    {
      "cell_type": "code",
      "source": [
        "for step in fitted_model.named_steps:\n",
        "    print(step)"
      ],
      "outputs": [
        {
          "output_type": "stream",
          "name": "stdout",
          "text": "datatransformer\nprefittedsoftvotingclassifier\n"
        }
      ],
      "execution_count": 9,
      "metadata": {
        "gather": {
          "logged": 1728896814012
        }
      }
    },
    {
      "cell_type": "markdown",
      "source": [
        "Finally, having found the best performing model, you can register it."
      ],
      "metadata": {}
    },
    {
      "cell_type": "code",
      "source": [
        "from azureml.core import Model\n",
        "\n",
        "# Register model\n",
        "best_run.register_model(model_path='outputs/model.pkl', model_name='diabetes_model_automl',\n",
        "                        tags={'Training context':'Auto ML'},\n",
        "                        properties={'AUC': best_run_metrics['AUC_weighted'], 'Accuracy': best_run_metrics['accuracy']})\n",
        "\n",
        "# List registered models\n",
        "for model in Model.list(ws):\n",
        "    print(model.name, 'version:', model.version)\n",
        "    for tag_name in model.tags:\n",
        "        tag = model.tags[tag_name]\n",
        "        print ('\\t',tag_name, ':', tag)\n",
        "    for prop_name in model.properties:\n",
        "        prop = model.properties[prop_name]\n",
        "        print ('\\t',prop_name, ':', prop)\n",
        "    print('\\n')"
      ],
      "outputs": [
        {
          "output_type": "stream",
          "name": "stdout",
          "text": "diabetes_model_automl version: 1\n\t Training context : Auto ML\n\t AUC : 0.9921701418400241\n\t Accuracy : 0.9619110523998239\n\n\ndiabetes_model version: 8\n\t Training context : Pipeline\n\t AUC : 0.8840825658444825\n\t Accuracy : 0.8986666666666666\n\n\ndiabetes_model version: 7\n\t Training context : Hyperdrive\n\t AUC : 0.9885804604667666\n\t Accuracy : 0.9457777777777778\n\n\ndiabetes_model version: 6\n\t Training context : Inline Training\n\t AUC : 0.8746430170655255\n\t Accuracy : 0.889\n\n\ndiabetes_model version: 5\n\t Training context : Inline Training\n\t AUC : 0.8806060002985222\n\t Accuracy : 0.894\n\n\ndiabetes_model version: 4\n\t Training context : Inline Training\n\t AUC : 0.8788322802129458\n\t Accuracy : 0.891\n\n\ndiabetes_model version: 3\n\t Training context : Pipeline\n\t AUC : 0.8867338641533674\n\t Accuracy : 0.9008888888888889\n\n\ndiabetes_model version: 2\n\t Training context : Pipeline\n\t AUC : 0.8850872543910331\n\t Accuracy : 0.9\n\n\ndiabetes_model version: 1\n\t Training context : Compute cluster\n\t AUC : 0.88375696004516\n\t Accuracy : 0.8986666666666666\n\n\namlstudio-predict-penguin-clus version: 1\n\t CreatedByAMLStudio : true\n\n\namlstudio-predict-diabetes version: 1\n\t CreatedByAMLStudio : true\n\n\namlstudio-predict-auto-price-1 version: 1\n\t CreatedByAMLStudio : true\n\n\namlstudio-predict-auto-price version: 1\n\t CreatedByAMLStudio : true\n\n\nstoicpear99fgs621 version: 1\n\n\n"
        }
      ],
      "execution_count": 10,
      "metadata": {
        "gather": {
          "logged": 1728896818223
        }
      }
    },
    {
      "cell_type": "markdown",
      "source": [
        "> **More Information**: For more information Automated Machine Learning, see the [Azure ML documentation](https://docs.microsoft.com/azure/machine-learning/how-to-configure-auto-train)."
      ],
      "metadata": {}
    }
  ],
  "metadata": {
    "kernelspec": {
      "name": "python38-azureml",
      "language": "python",
      "display_name": "Python 3.8 - AzureML"
    },
    "language_info": {
      "name": "python",
      "version": "3.10.11",
      "mimetype": "text/x-python",
      "codemirror_mode": {
        "name": "ipython",
        "version": 3
      },
      "pygments_lexer": "ipython3",
      "nbconvert_exporter": "python",
      "file_extension": ".py"
    },
    "microsoft": {
      "ms_spell_check": {
        "ms_spell_check_language": "en"
      },
      "host": {
        "AzureML": {
          "notebookHasBeenCompleted": true
        }
      }
    },
    "kernel_info": {
      "name": "python38-azureml"
    },
    "nteract": {
      "version": "nteract-front-end@1.0.0"
    }
  },
  "nbformat": 4,
  "nbformat_minor": 2
}
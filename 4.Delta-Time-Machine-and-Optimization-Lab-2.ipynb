{
 "cells": [
  {
   "cell_type": "markdown",
   "metadata": {
    "application/vnd.databricks.v1+cell": {
     "cellMetadata": {},
     "inputWidgets": {},
     "nuid": "c3deebc4-a419-422f-bb92-f0f1078848fb",
     "showTitle": false,
     "title": ""
    }
   },
   "source": [
    "# Delta Lake Time Machine & Optimization Lab\n",
    "\n",
    "Delta Lake allows you to read, write and query data in data lakes in an efficient manner.\n",
    "\n",
    "## In this lesson you:\n",
    "* Compare different versions of a Delta table using Time Machine\n",
    "* Optimize your Delta Lake to increase speed and reduce number of files\n",
    "\n",
    "## Audience\n",
    "* Primary Audience: Data Engineers\n",
    "* Secondary Audience: Data Analysts and Data Scientists\n",
    "\n",
    "## Prerequisites\n",
    "* Web browser: current versions of Google Chrome, Firefox, Safari, Microsoft Edge and\n",
    "Internet Explorer 11 on Windows 7, 8, or 10 (see <a href=\"https://docs.databricks.com/user-guide/supported-browsers.html#supported-browsers#\" target=\"_blank\">Supported Web Browsers</a>)\n",
    "* Databricks Runtime 4.2 or greater\n",
    "## Datasets Used\n",
    "We will use online retail datasets from `/mnt/training/online_retail`"
   ]
  },
  {
   "cell_type": "code",
   "execution_count": 0,
   "metadata": {
    "application/vnd.databricks.v1+cell": {
     "cellMetadata": {
      "byteLimit": 2048000,
      "rowLimit": 10000
     },
     "inputWidgets": {},
     "nuid": "ff08db30-4088-483c-af54-285194453bb1",
     "showTitle": false,
     "title": ""
    }
   },
   "outputs": [
    {
     "output_type": "display_data",
     "data": {
      "text/html": [
       "Initialized classroom variables & functions..."
      ]
     },
     "metadata": {
      "application/vnd.databricks.v1+output": {
       "addedWidgets": {},
       "arguments": {},
       "data": "Initialized classroom variables & functions...",
       "datasetInfos": [],
       "metadata": {
        "isDbfsCommandResult": false
       },
       "removedWidgets": [],
       "textData": null,
       "type": "htmlSandbox"
      }
     },
     "output_type": "display_data"
    },
    {
     "output_type": "display_data",
     "data": {
      "text/html": [
       "Datasets are already mounted to <b>/mnt/training</b> from <b>wasbs://training@dbtrainwesteurope.blob.core.windows.net/</b>"
      ]
     },
     "metadata": {
      "application/vnd.databricks.v1+output": {
       "addedWidgets": {},
       "arguments": {},
       "data": "Datasets are already mounted to <b>/mnt/training</b> from <b>wasbs://training@dbtrainwesteurope.blob.core.windows.net/</b>",
       "datasetInfos": [],
       "metadata": {
        "isDbfsCommandResult": false
       },
       "removedWidgets": [],
       "textData": null,
       "type": "htmlSandbox"
      }
     },
     "output_type": "display_data"
    },
    {
     "output_type": "display_data",
     "data": {
      "text/html": [
       "Created user-specific database"
      ]
     },
     "metadata": {
      "application/vnd.databricks.v1+output": {
       "addedWidgets": {},
       "arguments": {},
       "data": "Created user-specific database",
       "datasetInfos": [],
       "metadata": {
        "isDbfsCommandResult": false
       },
       "removedWidgets": [],
       "textData": null,
       "type": "htmlSandbox"
      }
     },
     "output_type": "display_data"
    },
    {
     "output_type": "display_data",
     "data": {
      "text/html": [
       "Using the database <b style=\"color:green\">saifahmed_k_outlook_com_db</b>."
      ]
     },
     "metadata": {
      "application/vnd.databricks.v1+output": {
       "addedWidgets": {},
       "arguments": {},
       "data": "Using the database <b style=\"color:green\">saifahmed_k_outlook_com_db</b>.",
       "datasetInfos": [],
       "metadata": {
        "isDbfsCommandResult": false
       },
       "removedWidgets": [],
       "textData": null,
       "type": "htmlSandbox"
      }
     },
     "output_type": "display_data"
    },
    {
     "output_type": "display_data",
     "data": {
      "text/html": [
       "All done!"
      ]
     },
     "metadata": {
      "application/vnd.databricks.v1+output": {
       "addedWidgets": {},
       "arguments": {},
       "data": "All done!",
       "datasetInfos": [],
       "metadata": {},
       "removedWidgets": [],
       "textData": null,
       "type": "htmlSandbox"
      }
     },
     "output_type": "display_data"
    }
   ],
   "source": [
    "%run \"./Includes/Classroom-Setup\""
   ]
  },
  {
   "cell_type": "markdown",
   "metadata": {
    "application/vnd.databricks.v1+cell": {
     "cellMetadata": {},
     "inputWidgets": {},
     "nuid": "958fef05-c3f6-4806-922b-3d9003acf094",
     "showTitle": false,
     "title": ""
    }
   },
   "source": [
    "Because we'll be calculating some aggregates in this notebook, we'll change our partitions after shuffle from the default `200` to `8` (which is a good number for the 8 node cluster we're currently working on)."
   ]
  },
  {
   "cell_type": "code",
   "execution_count": 0,
   "metadata": {
    "application/vnd.databricks.v1+cell": {
     "cellMetadata": {
      "byteLimit": 2048000,
      "rowLimit": 10000
     },
     "inputWidgets": {},
     "nuid": "310c343c-2e1c-4706-9d86-e87976d0f1a6",
     "showTitle": false,
     "title": ""
    }
   },
   "outputs": [],
   "source": [
    "%python\n",
    "\n",
    "sqlContext.setConf(\"spark.sql.shuffle.partitions\", \"8\")"
   ]
  },
  {
   "cell_type": "markdown",
   "metadata": {
    "application/vnd.databricks.v1+cell": {
     "cellMetadata": {},
     "inputWidgets": {},
     "nuid": "43463f99-a922-494d-9d0f-01f4e1c7a50c",
     "showTitle": false,
     "title": ""
    }
   },
   "source": [
    "### Check for our previous Delta Lake tables\n",
    "\n",
    "This lab relies upon some tables created in previous Delta Lake lessons and labs. \n",
    "\n",
    "If you get an error from either of the next two SQL queries, running the solution code for the \"Delta-Lake-Lab-1\" will build all necessary tables."
   ]
  },
  {
   "cell_type": "code",
   "execution_count": 0,
   "metadata": {
    "application/vnd.databricks.v1+cell": {
     "cellMetadata": {
      "byteLimit": 2048000,
      "implicitDf": true,
      "rowLimit": 10000
     },
     "inputWidgets": {},
     "nuid": "7ba51a00-d6ee-414e-af5c-20ff95d9564e",
     "showTitle": false,
     "title": ""
    }
   },
   "outputs": [
    {
     "output_type": "display_data",
     "data": {
      "text/html": [
       "<style scoped>\n",
       "  .table-result-container {\n",
       "    max-height: 300px;\n",
       "    overflow: auto;\n",
       "  }\n",
       "  table, th, td {\n",
       "    border: 1px solid black;\n",
       "    border-collapse: collapse;\n",
       "  }\n",
       "  th, td {\n",
       "    padding: 5px;\n",
       "  }\n",
       "  th {\n",
       "    text-align: left;\n",
       "  }\n",
       "</style><div class='table-result-container'><table class='table-result'><thead style='background-color: white'><tr><th>count(1)</th></tr></thead><tbody><tr><td>65499</td></tr></tbody></table></div>"
      ]
     },
     "metadata": {
      "application/vnd.databricks.v1+output": {
       "addedWidgets": {},
       "aggData": [],
       "aggError": "",
       "aggOverflow": false,
       "aggSchema": [],
       "aggSeriesLimitReached": false,
       "aggType": "",
       "arguments": {},
       "columnCustomDisplayInfos": {},
       "data": [
        [
         65499
        ]
       ],
       "datasetInfos": [],
       "dbfsResultPath": null,
       "isJsonSchema": true,
       "metadata": {},
       "overflow": false,
       "plotOptions": {
        "customPlotOptions": {},
        "displayType": "table",
        "pivotAggregation": null,
        "pivotColumns": null,
        "xColumns": null,
        "yColumns": null
       },
       "removedWidgets": [],
       "schema": [
        {
         "metadata": "{\"__autoGeneratedAlias\":\"true\"}",
         "name": "count(1)",
         "type": "\"long\""
        }
       ],
       "type": "table"
      }
     },
     "output_type": "display_data"
    }
   ],
   "source": [
    "%sql\n",
    "\n",
    "SELECT COUNT(*) FROM customer_counts;\n",
    "SELECT COUNT(*) FROM customer_data_delta;"
   ]
  },
  {
   "cell_type": "markdown",
   "metadata": {
    "application/vnd.databricks.v1+cell": {
     "cellMetadata": {},
     "inputWidgets": {},
     "nuid": "ccebdeb8-43ae-4d15-a8e9-e75e420aaae0",
     "showTitle": false,
     "title": ""
    }
   },
   "source": [
    "-sandbox\n",
    "<img alt=\"Caution\" title=\"Caution\" style=\"vertical-align: text-bottom; position: relative; height:1.3em; top:0.0em\" src=\"https://files.training.databricks.com/static/images/icon-warning.svg\"/> **The following cell will take several minutes to execute, and is only necessary to run if you got an error in the previous cell.**"
   ]
  },
  {
   "cell_type": "code",
   "execution_count": 0,
   "metadata": {
    "application/vnd.databricks.v1+cell": {
     "cellMetadata": {},
     "inputWidgets": {},
     "nuid": "fa402dcb-a51b-45dc-987e-f0837a85d072",
     "showTitle": false,
     "title": ""
    }
   },
   "outputs": [],
   "source": [
    "%run \"./Includes/Delta-Lab-2-Prep\""
   ]
  },
  {
   "cell_type": "markdown",
   "metadata": {
    "application/vnd.databricks.v1+cell": {
     "cellMetadata": {},
     "inputWidgets": {},
     "nuid": "a1f5beaf-e803-4cc2-8b75-9c8be4486f27",
     "showTitle": false,
     "title": ""
    }
   },
   "source": [
    "For convenience later in this lab, the paths to the files defining our existing Delta tables are provided. You can use these paths to load the data into DataFrames, if desired, though this entire lab can be completed using SQL on the existant tables."
   ]
  },
  {
   "cell_type": "code",
   "execution_count": 0,
   "metadata": {
    "application/vnd.databricks.v1+cell": {
     "cellMetadata": {
      "byteLimit": 2048000,
      "rowLimit": 10000
     },
     "inputWidgets": {},
     "nuid": "ad42c539-fa1a-4070-a735-5fcd0ca784a8",
     "showTitle": false,
     "title": ""
    }
   },
   "outputs": [],
   "source": [
    "DeltaPath = userhome + \"/delta/customer-data/\"\n",
    "CustomerCountsPath = userhome + \"/delta/customer_counts/\""
   ]
  },
  {
   "cell_type": "markdown",
   "metadata": {
    "application/vnd.databricks.v1+cell": {
     "cellMetadata": {},
     "inputWidgets": {},
     "nuid": "05e9bf59-9041-457c-bb85-6d1ca63cb0a6",
     "showTitle": false,
     "title": ""
    }
   },
   "source": [
    "**Note: This lab depends upon the complete exectuion of the notebook titled \"Open-Source-Delta-Lake\" and the \"Delta-Lake-Basics\" lab. If these tables don't exist, go back and run all cells in these notebook.**"
   ]
  },
  {
   "cell_type": "markdown",
   "metadata": {
    "application/vnd.databricks.v1+cell": {
     "cellMetadata": {},
     "inputWidgets": {},
     "nuid": "136dbf77-dc39-41d4-889f-0f6f0de6896b",
     "showTitle": false,
     "title": ""
    }
   },
   "source": [
    "### Time Travel\n",
    "Because Delta Lake is version controlled, you have the option to query past versions of the data. Let's look at the history of our current Delta table."
   ]
  },
  {
   "cell_type": "code",
   "execution_count": 0,
   "metadata": {
    "application/vnd.databricks.v1+cell": {
     "cellMetadata": {
      "byteLimit": 2048000,
      "implicitDf": true,
      "rowLimit": 10000
     },
     "inputWidgets": {},
     "nuid": "66cbc915-753a-4192-a0fe-67c2f7bee20a",
     "showTitle": false,
     "title": ""
    }
   },
   "outputs": [
    {
     "output_type": "display_data",
     "data": {
      "text/html": [
       "<style scoped>\n",
       "  .table-result-container {\n",
       "    max-height: 300px;\n",
       "    overflow: auto;\n",
       "  }\n",
       "  table, th, td {\n",
       "    border: 1px solid black;\n",
       "    border-collapse: collapse;\n",
       "  }\n",
       "  th, td {\n",
       "    padding: 5px;\n",
       "  }\n",
       "  th {\n",
       "    text-align: left;\n",
       "  }\n",
       "</style><div class='table-result-container'><table class='table-result'><thead style='background-color: white'><tr><th>version</th><th>timestamp</th><th>userId</th><th>userName</th><th>operation</th><th>operationParameters</th><th>job</th><th>notebook</th><th>clusterId</th><th>readVersion</th><th>isolationLevel</th><th>isBlindAppend</th><th>operationMetrics</th><th>userMetadata</th><th>engineInfo</th></tr></thead><tbody><tr><td>0</td><td>2024-10-20T11:57:41.000+0000</td><td>7104407279782773</td><td>saifahmed.k@outlook.com</td><td>WRITE</td><td>Map(mode -> Overwrite, partitionBy -> [\"Country\"])</td><td>null</td><td>List(2599175015539894)</td><td>1019-080424-ac1xqx2j</td><td>null</td><td>WriteSerializable</td><td>false</td><td>Map(numFiles -> 37, numOutputRows -> 65499, numOutputBytes -> 633565)</td><td>null</td><td>Databricks-Runtime/11.3.x-photon-scala2.12</td></tr></tbody></table></div>"
      ]
     },
     "metadata": {
      "application/vnd.databricks.v1+output": {
       "addedWidgets": {},
       "aggData": [],
       "aggError": "",
       "aggOverflow": false,
       "aggSchema": [],
       "aggSeriesLimitReached": false,
       "aggType": "",
       "arguments": {},
       "columnCustomDisplayInfos": {},
       "data": [
        [
         0,
         "2024-10-20T11:57:41.000+0000",
         "7104407279782773",
         "saifahmed.k@outlook.com",
         "WRITE",
         {
          "mode": "Overwrite",
          "partitionBy": "[\"Country\"]"
         },
         null,
         [
          "2599175015539894"
         ],
         "1019-080424-ac1xqx2j",
         null,
         "WriteSerializable",
         false,
         {
          "numFiles": "37",
          "numOutputBytes": "633565",
          "numOutputRows": "65499"
         },
         null,
         "Databricks-Runtime/11.3.x-photon-scala2.12"
        ]
       ],
       "datasetInfos": [],
       "dbfsResultPath": null,
       "isJsonSchema": true,
       "metadata": {},
       "overflow": false,
       "plotOptions": {
        "customPlotOptions": {},
        "displayType": "table",
        "pivotAggregation": null,
        "pivotColumns": null,
        "xColumns": null,
        "yColumns": null
       },
       "removedWidgets": [],
       "schema": [
        {
         "metadata": "{}",
         "name": "version",
         "type": "\"long\""
        },
        {
         "metadata": "{}",
         "name": "timestamp",
         "type": "\"timestamp\""
        },
        {
         "metadata": "{}",
         "name": "userId",
         "type": "\"string\""
        },
        {
         "metadata": "{}",
         "name": "userName",
         "type": "\"string\""
        },
        {
         "metadata": "{}",
         "name": "operation",
         "type": "\"string\""
        },
        {
         "metadata": "{}",
         "name": "operationParameters",
         "type": "{\"type\":\"map\",\"keyType\":\"string\",\"valueType\":\"string\",\"valueContainsNull\":true}"
        },
        {
         "metadata": "{}",
         "name": "job",
         "type": "{\"type\":\"struct\",\"fields\":[{\"name\":\"jobId\",\"type\":\"string\",\"nullable\":true,\"metadata\":{}},{\"name\":\"jobName\",\"type\":\"string\",\"nullable\":true,\"metadata\":{}},{\"name\":\"runId\",\"type\":\"string\",\"nullable\":true,\"metadata\":{}},{\"name\":\"jobOwnerId\",\"type\":\"string\",\"nullable\":true,\"metadata\":{}},{\"name\":\"triggerType\",\"type\":\"string\",\"nullable\":true,\"metadata\":{}}]}"
        },
        {
         "metadata": "{}",
         "name": "notebook",
         "type": "{\"type\":\"struct\",\"fields\":[{\"name\":\"notebookId\",\"type\":\"string\",\"nullable\":true,\"metadata\":{}}]}"
        },
        {
         "metadata": "{}",
         "name": "clusterId",
         "type": "\"string\""
        },
        {
         "metadata": "{}",
         "name": "readVersion",
         "type": "\"long\""
        },
        {
         "metadata": "{}",
         "name": "isolationLevel",
         "type": "\"string\""
        },
        {
         "metadata": "{}",
         "name": "isBlindAppend",
         "type": "\"boolean\""
        },
        {
         "metadata": "{}",
         "name": "operationMetrics",
         "type": "{\"type\":\"map\",\"keyType\":\"string\",\"valueType\":\"string\",\"valueContainsNull\":true}"
        },
        {
         "metadata": "{}",
         "name": "userMetadata",
         "type": "\"string\""
        },
        {
         "metadata": "{}",
         "name": "engineInfo",
         "type": "\"string\""
        }
       ],
       "type": "table"
      }
     },
     "output_type": "display_data"
    }
   ],
   "source": [
    "%sql\n",
    "DESCRIBE HISTORY customer_data_delta"
   ]
  },
  {
   "cell_type": "markdown",
   "metadata": {
    "application/vnd.databricks.v1+cell": {
     "cellMetadata": {},
     "inputWidgets": {},
     "nuid": "5ddb81f5-3705-41c8-9f7b-e8046e83ff76",
     "showTitle": false,
     "title": ""
    }
   },
   "source": [
    "Querying an older version is as easy as adding `VERSION AS OF desired_version`. Let's verify that our table from one version back still exists."
   ]
  },
  {
   "cell_type": "code",
   "execution_count": 0,
   "metadata": {
    "application/vnd.databricks.v1+cell": {
     "cellMetadata": {
      "byteLimit": 2048000,
      "implicitDf": true,
      "rowLimit": 10000
     },
     "inputWidgets": {},
     "nuid": "56030d72-70da-41e0-a111-ca2fa2e03c19",
     "showTitle": false,
     "title": ""
    }
   },
   "outputs": [
    {
     "output_type": "display_data",
     "data": {
      "text/html": [
       "<style scoped>\n",
       "  .table-result-container {\n",
       "    max-height: 300px;\n",
       "    overflow: auto;\n",
       "  }\n",
       "  table, th, td {\n",
       "    border: 1px solid black;\n",
       "    border-collapse: collapse;\n",
       "  }\n",
       "  th, td {\n",
       "    padding: 5px;\n",
       "  }\n",
       "  th {\n",
       "    text-align: left;\n",
       "  }\n",
       "</style><div class='table-result-container'><table class='table-result'><thead style='background-color: white'><tr><th>count(1)</th></tr></thead><tbody><tr><td>65499</td></tr></tbody></table></div>"
      ]
     },
     "metadata": {
      "application/vnd.databricks.v1+output": {
       "addedWidgets": {},
       "aggData": [],
       "aggError": "",
       "aggOverflow": false,
       "aggSchema": [],
       "aggSeriesLimitReached": false,
       "aggType": "",
       "arguments": {},
       "columnCustomDisplayInfos": {},
       "data": [
        [
         65499
        ]
       ],
       "datasetInfos": [],
       "dbfsResultPath": null,
       "isJsonSchema": true,
       "metadata": {},
       "overflow": false,
       "plotOptions": {
        "customPlotOptions": {},
        "displayType": "table",
        "pivotAggregation": null,
        "pivotColumns": null,
        "xColumns": null,
        "yColumns": null
       },
       "removedWidgets": [],
       "schema": [
        {
         "metadata": "{\"__autoGeneratedAlias\":\"true\"}",
         "name": "count(1)",
         "type": "\"long\""
        }
       ],
       "type": "table"
      }
     },
     "output_type": "display_data"
    }
   ],
   "source": [
    "%sql\n",
    "SELECT COUNT(*)\n",
    "FROM customer_data_delta\n",
    "VERSION AS OF 0"
   ]
  },
  {
   "cell_type": "markdown",
   "metadata": {
    "application/vnd.databricks.v1+cell": {
     "cellMetadata": {},
     "inputWidgets": {},
     "nuid": "f48803a9-a87d-4ef9-ad39-5037f631b8d9",
     "showTitle": false,
     "title": ""
    }
   },
   "source": [
    "Using a single file storage system, you now have access to every version of your historical data, ensuring that your data analysts will be able to replicate their reports (and compare aggregate changes over time) and your data scientists will be able to replicate their experiments."
   ]
  },
  {
   "cell_type": "markdown",
   "metadata": {
    "application/vnd.databricks.v1+cell": {
     "cellMetadata": {},
     "inputWidgets": {},
     "nuid": "ed4c989a-3e20-4342-959b-5974cf5dccea",
     "showTitle": false,
     "title": ""
    }
   },
   "source": [
    "### Check difference between versions\n",
    "\n",
    "You want to compare how many orders from Sweden were added by your recent UPSERT to your BI table.\n",
    "\n",
    "Let's start by getting the total sum of our `total_orders` column where our country is Sweden."
   ]
  },
  {
   "cell_type": "code",
   "execution_count": 0,
   "metadata": {
    "application/vnd.databricks.v1+cell": {
     "cellMetadata": {
      "byteLimit": 2048000,
      "rowLimit": 10000
     },
     "inputWidgets": {},
     "nuid": "e7502c60-7db1-4f6c-bfc3-0b38efdc2c41",
     "showTitle": false,
     "title": ""
    }
   },
   "outputs": [],
   "source": [
    "# TODO\n",
    "count = spark.sql(f\"SELECT COUNT(*) FROM delta.`{DeltaPath}`\").collect()[0][0]"
   ]
  },
  {
   "cell_type": "markdown",
   "metadata": {
    "application/vnd.databricks.v1+cell": {
     "cellMetadata": {},
     "inputWidgets": {},
     "nuid": "0f087471-d754-4b3b-840f-b54923a96002",
     "showTitle": false,
     "title": ""
    }
   },
   "source": [
    "Again, we can look at the history of our Delta table here."
   ]
  },
  {
   "cell_type": "code",
   "execution_count": 0,
   "metadata": {
    "application/vnd.databricks.v1+cell": {
     "cellMetadata": {
      "byteLimit": 2048000,
      "implicitDf": true,
      "rowLimit": 10000
     },
     "inputWidgets": {},
     "nuid": "af03a98f-5e84-42aa-95e3-7a93974a5769",
     "showTitle": false,
     "title": ""
    }
   },
   "outputs": [
    {
     "output_type": "display_data",
     "data": {
      "text/html": [
       "<style scoped>\n",
       "  .table-result-container {\n",
       "    max-height: 300px;\n",
       "    overflow: auto;\n",
       "  }\n",
       "  table, th, td {\n",
       "    border: 1px solid black;\n",
       "    border-collapse: collapse;\n",
       "  }\n",
       "  th, td {\n",
       "    padding: 5px;\n",
       "  }\n",
       "  th {\n",
       "    text-align: left;\n",
       "  }\n",
       "</style><div class='table-result-container'><table class='table-result'><thead style='background-color: white'><tr><th>version</th><th>timestamp</th><th>userId</th><th>userName</th><th>operation</th><th>operationParameters</th><th>job</th><th>notebook</th><th>clusterId</th><th>readVersion</th><th>isolationLevel</th><th>isBlindAppend</th><th>operationMetrics</th><th>userMetadata</th><th>engineInfo</th></tr></thead><tbody><tr><td>1</td><td>2024-10-20T12:17:02.000+0000</td><td>7104407279782773</td><td>saifahmed.k@outlook.com</td><td>MERGE</td><td>Map(predicate -> [\"((Country#2287 = Country#2212) AND (CustomerID#2286 = CustomerID#2211))\"], matchedPredicates -> [{\"actionType\":\"update\"}], notMatchedPredicates -> [{\"actionType\":\"insert\"}])</td><td>null</td><td>List(930942090424827)</td><td>1019-080424-ac1xqx2j</td><td>0</td><td>WriteSerializable</td><td>false</td><td>Map(numTargetRowsCopied -> 4, numTargetRowsDeleted -> 0, numTargetFilesAdded -> 2, executionTimeMs -> 8440, materializeSourceTimeMs -> 893, numTargetRowsInserted -> 4, scanTimeMs -> 5959, numTargetRowsUpdated -> 1205, numOutputRows -> 1213, numTargetChangeFilesAdded -> 0, numSourceRows -> 1209, numTargetFilesRemoved -> 1, rewriteTimeMs -> 1160)</td><td>null</td><td>Databricks-Runtime/11.3.x-photon-scala2.12</td></tr><tr><td>0</td><td>2024-10-20T12:05:38.000+0000</td><td>7104407279782773</td><td>saifahmed.k@outlook.com</td><td>WRITE</td><td>Map(mode -> Overwrite, partitionBy -> [])</td><td>null</td><td>List(930942090424827)</td><td>1019-080424-ac1xqx2j</td><td>null</td><td>WriteSerializable</td><td>false</td><td>Map(numFiles -> 1, numOutputRows -> 1209, numOutputBytes -> 8070)</td><td>null</td><td>Databricks-Runtime/11.3.x-photon-scala2.12</td></tr></tbody></table></div>"
      ]
     },
     "metadata": {
      "application/vnd.databricks.v1+output": {
       "addedWidgets": {},
       "aggData": [],
       "aggError": "",
       "aggOverflow": false,
       "aggSchema": [],
       "aggSeriesLimitReached": false,
       "aggType": "",
       "arguments": {},
       "columnCustomDisplayInfos": {},
       "data": [
        [
         1,
         "2024-10-20T12:17:02.000+0000",
         "7104407279782773",
         "saifahmed.k@outlook.com",
         "MERGE",
         {
          "matchedPredicates": "[{\"actionType\":\"update\"}]",
          "notMatchedPredicates": "[{\"actionType\":\"insert\"}]",
          "predicate": "[\"((Country#2287 = Country#2212) AND (CustomerID#2286 = CustomerID#2211))\"]"
         },
         null,
         [
          "930942090424827"
         ],
         "1019-080424-ac1xqx2j",
         0,
         "WriteSerializable",
         false,
         {
          "executionTimeMs": "8440",
          "materializeSourceTimeMs": "893",
          "numOutputRows": "1213",
          "numSourceRows": "1209",
          "numTargetChangeFilesAdded": "0",
          "numTargetFilesAdded": "2",
          "numTargetFilesRemoved": "1",
          "numTargetRowsCopied": "4",
          "numTargetRowsDeleted": "0",
          "numTargetRowsInserted": "4",
          "numTargetRowsUpdated": "1205",
          "rewriteTimeMs": "1160",
          "scanTimeMs": "5959"
         },
         null,
         "Databricks-Runtime/11.3.x-photon-scala2.12"
        ],
        [
         0,
         "2024-10-20T12:05:38.000+0000",
         "7104407279782773",
         "saifahmed.k@outlook.com",
         "WRITE",
         {
          "mode": "Overwrite",
          "partitionBy": "[]"
         },
         null,
         [
          "930942090424827"
         ],
         "1019-080424-ac1xqx2j",
         null,
         "WriteSerializable",
         false,
         {
          "numFiles": "1",
          "numOutputBytes": "8070",
          "numOutputRows": "1209"
         },
         null,
         "Databricks-Runtime/11.3.x-photon-scala2.12"
        ]
       ],
       "datasetInfos": [],
       "dbfsResultPath": null,
       "isJsonSchema": true,
       "metadata": {},
       "overflow": false,
       "plotOptions": {
        "customPlotOptions": {},
        "displayType": "table",
        "pivotAggregation": null,
        "pivotColumns": null,
        "xColumns": null,
        "yColumns": null
       },
       "removedWidgets": [],
       "schema": [
        {
         "metadata": "{}",
         "name": "version",
         "type": "\"long\""
        },
        {
         "metadata": "{}",
         "name": "timestamp",
         "type": "\"timestamp\""
        },
        {
         "metadata": "{}",
         "name": "userId",
         "type": "\"string\""
        },
        {
         "metadata": "{}",
         "name": "userName",
         "type": "\"string\""
        },
        {
         "metadata": "{}",
         "name": "operation",
         "type": "\"string\""
        },
        {
         "metadata": "{}",
         "name": "operationParameters",
         "type": "{\"type\":\"map\",\"keyType\":\"string\",\"valueType\":\"string\",\"valueContainsNull\":true}"
        },
        {
         "metadata": "{}",
         "name": "job",
         "type": "{\"type\":\"struct\",\"fields\":[{\"name\":\"jobId\",\"type\":\"string\",\"nullable\":true,\"metadata\":{}},{\"name\":\"jobName\",\"type\":\"string\",\"nullable\":true,\"metadata\":{}},{\"name\":\"runId\",\"type\":\"string\",\"nullable\":true,\"metadata\":{}},{\"name\":\"jobOwnerId\",\"type\":\"string\",\"nullable\":true,\"metadata\":{}},{\"name\":\"triggerType\",\"type\":\"string\",\"nullable\":true,\"metadata\":{}}]}"
        },
        {
         "metadata": "{}",
         "name": "notebook",
         "type": "{\"type\":\"struct\",\"fields\":[{\"name\":\"notebookId\",\"type\":\"string\",\"nullable\":true,\"metadata\":{}}]}"
        },
        {
         "metadata": "{}",
         "name": "clusterId",
         "type": "\"string\""
        },
        {
         "metadata": "{}",
         "name": "readVersion",
         "type": "\"long\""
        },
        {
         "metadata": "{}",
         "name": "isolationLevel",
         "type": "\"string\""
        },
        {
         "metadata": "{}",
         "name": "isBlindAppend",
         "type": "\"boolean\""
        },
        {
         "metadata": "{}",
         "name": "operationMetrics",
         "type": "{\"type\":\"map\",\"keyType\":\"string\",\"valueType\":\"string\",\"valueContainsNull\":true}"
        },
        {
         "metadata": "{}",
         "name": "userMetadata",
         "type": "\"string\""
        },
        {
         "metadata": "{}",
         "name": "engineInfo",
         "type": "\"string\""
        }
       ],
       "type": "table"
      }
     },
     "output_type": "display_data"
    }
   ],
   "source": [
    "%sql\n",
    "DESCRIBE HISTORY customer_counts"
   ]
  },
  {
   "cell_type": "markdown",
   "metadata": {
    "application/vnd.databricks.v1+cell": {
     "cellMetadata": {},
     "inputWidgets": {},
     "nuid": "4a10360d-a1d2-43dc-9368-54e774097b4e",
     "showTitle": false,
     "title": ""
    }
   },
   "source": [
    "Our original table will be version `0`. Let's write a SQL query to see how many orders we originally had from Sweden."
   ]
  },
  {
   "cell_type": "code",
   "execution_count": 0,
   "metadata": {
    "application/vnd.databricks.v1+cell": {
     "cellMetadata": {
      "byteLimit": 2048000,
      "implicitDf": true,
      "rowLimit": 10000
     },
     "inputWidgets": {},
     "nuid": "9b0ecd97-c489-493c-9ae9-a5dba93ad2f5",
     "showTitle": false,
     "title": ""
    }
   },
   "outputs": [
    {
     "output_type": "display_data",
     "data": {
      "text/html": [
       "<style scoped>\n",
       "  .table-result-container {\n",
       "    max-height: 300px;\n",
       "    overflow: auto;\n",
       "  }\n",
       "  table, th, td {\n",
       "    border: 1px solid black;\n",
       "    border-collapse: collapse;\n",
       "  }\n",
       "  th, td {\n",
       "    padding: 5px;\n",
       "  }\n",
       "  th {\n",
       "    text-align: left;\n",
       "  }\n",
       "</style><div class='table-result-container'><table class='table-result'><thead style='background-color: white'><tr><th>sum(total_orders)</th></tr></thead><tbody><tr><td>41</td></tr></tbody></table></div>"
      ]
     },
     "metadata": {
      "application/vnd.databricks.v1+output": {
       "addedWidgets": {},
       "aggData": [],
       "aggError": "",
       "aggOverflow": false,
       "aggSchema": [],
       "aggSeriesLimitReached": false,
       "aggType": "",
       "arguments": {},
       "columnCustomDisplayInfos": {},
       "data": [
        [
         41
        ]
       ],
       "datasetInfos": [],
       "dbfsResultPath": null,
       "isJsonSchema": true,
       "metadata": {},
       "overflow": false,
       "plotOptions": {
        "customPlotOptions": {},
        "displayType": "table",
        "pivotAggregation": null,
        "pivotColumns": null,
        "xColumns": null,
        "yColumns": null
       },
       "removedWidgets": [],
       "schema": [
        {
         "metadata": "{\"__autoGeneratedAlias\":\"true\"}",
         "name": "sum(total_orders)",
         "type": "\"long\""
        }
       ],
       "type": "table"
      }
     },
     "output_type": "display_data"
    }
   ],
   "source": [
    "%sql\n",
    "SELECT SUM(total_orders)\n",
    "FROM customer_counts\n",
    "VERSION AS OF 0\n",
    "WHERE Country='Sweden'"
   ]
  },
  {
   "cell_type": "markdown",
   "metadata": {
    "application/vnd.databricks.v1+cell": {
     "cellMetadata": {},
     "inputWidgets": {},
     "nuid": "726aa148-929a-4136-a065-ce89ef82c523",
     "showTitle": false,
     "title": ""
    }
   },
   "source": [
    "We can combine these two queries and get our difference, which represents our new entries."
   ]
  },
  {
   "cell_type": "code",
   "execution_count": 0,
   "metadata": {
    "application/vnd.databricks.v1+cell": {
     "cellMetadata": {
      "byteLimit": 2048000,
      "implicitDf": true,
      "rowLimit": 10000
     },
     "inputWidgets": {},
     "nuid": "88389626-fd58-41d8-b572-d3d54bf33e38",
     "showTitle": false,
     "title": ""
    }
   },
   "outputs": [
    {
     "output_type": "display_data",
     "data": {
      "text/html": [
       "<style scoped>\n",
       "  .table-result-container {\n",
       "    max-height: 300px;\n",
       "    overflow: auto;\n",
       "  }\n",
       "  table, th, td {\n",
       "    border: 1px solid black;\n",
       "    border-collapse: collapse;\n",
       "  }\n",
       "  th, td {\n",
       "    padding: 5px;\n",
       "  }\n",
       "  th {\n",
       "    text-align: left;\n",
       "  }\n",
       "</style><div class='table-result-container'><table class='table-result'><thead style='background-color: white'><tr><th>new_entries</th></tr></thead><tbody><tr><td>41</td></tr></tbody></table></div>"
      ]
     },
     "metadata": {
      "application/vnd.databricks.v1+output": {
       "addedWidgets": {},
       "aggData": [],
       "aggError": "",
       "aggOverflow": false,
       "aggSchema": [],
       "aggSeriesLimitReached": false,
       "aggType": "",
       "arguments": {},
       "columnCustomDisplayInfos": {},
       "data": [
        [
         41
        ]
       ],
       "datasetInfos": [],
       "dbfsResultPath": null,
       "isJsonSchema": true,
       "metadata": {},
       "overflow": false,
       "plotOptions": {
        "customPlotOptions": {},
        "displayType": "table",
        "pivotAggregation": null,
        "pivotColumns": null,
        "xColumns": null,
        "yColumns": null
       },
       "removedWidgets": [],
       "schema": [
        {
         "metadata": "{}",
         "name": "new_entries",
         "type": "\"long\""
        }
       ],
       "type": "table"
      }
     },
     "output_type": "display_data"
    }
   ],
   "source": [
    "%sql\n",
    "SELECT SUM(total_orders) - (\n",
    "  SELECT SUM(total_orders)\n",
    "  FROM customer_counts\n",
    "  VERSION AS OF 0\n",
    "  WHERE Country='Sweden') AS new_entries\n",
    "FROM customer_counts\n",
    "WHERE Country='Sweden'"
   ]
  },
  {
   "cell_type": "markdown",
   "metadata": {
    "application/vnd.databricks.v1+cell": {
     "cellMetadata": {},
     "inputWidgets": {},
     "nuid": "e4e0758b-24e5-4438-9ff9-3b7845cb9d43",
     "showTitle": false,
     "title": ""
    }
   },
   "source": [
    "### OPTIMIZE and ZORDER\n",
    "\n",
    "Let's apply some of these optimizations to `../delta/customer-data/`.\n",
    "\n",
    "Our data is partitioned by `Country`.\n",
    "\n",
    "We want to query the data for `StockCode` equal to `22301`.\n",
    "\n",
    "We expect this query to be slow because we have to examine ALL OF `../delta/customer-data/` to find the desired `StockCode` and not just in one or two partitions.\n",
    "\n",
    "First, let's time the above query: you will need to form a DataFrame to pass to `preZorderQuery`."
   ]
  },
  {
   "cell_type": "code",
   "execution_count": 0,
   "metadata": {
    "application/vnd.databricks.v1+cell": {
     "cellMetadata": {
      "byteLimit": 2048000,
      "rowLimit": 10000
     },
     "inputWidgets": {},
     "nuid": "7fc5fd0e-80bc-4b36-830e-a936be6c9c28",
     "showTitle": false,
     "title": ""
    }
   },
   "outputs": [
    {
     "output_type": "stream",
     "name": "stdout",
     "output_type": "stream",
     "text": [
      "938 ms ± 76.5 ms per loop (mean ± std. dev. of 7 runs, 1 loop each)\n"
     ]
    }
   ],
   "source": [
    "# TODO\n",
    "%timeit preZorderQuery = spark.sql(f\"SELECT * FROM delta.`{DeltaPath}`\").collect()"
   ]
  },
  {
   "cell_type": "markdown",
   "metadata": {
    "application/vnd.databricks.v1+cell": {
     "cellMetadata": {},
     "inputWidgets": {},
     "nuid": "fac23e99-d39d-485f-bbe2-c31960ac1e12",
     "showTitle": false,
     "title": ""
    }
   },
   "source": [
    "Compact the files and re-order by `StockCode`."
   ]
  },
  {
   "cell_type": "code",
   "execution_count": 0,
   "metadata": {
    "application/vnd.databricks.v1+cell": {
     "cellMetadata": {
      "byteLimit": 2048000,
      "implicitDf": true,
      "rowLimit": 10000
     },
     "inputWidgets": {},
     "nuid": "054faf26-95e2-458c-83d3-e5108665eb8c",
     "showTitle": false,
     "title": ""
    }
   },
   "outputs": [
    {
     "output_type": "display_data",
     "data": {
      "text/html": [
       "<style scoped>\n",
       "  .table-result-container {\n",
       "    max-height: 300px;\n",
       "    overflow: auto;\n",
       "  }\n",
       "  table, th, td {\n",
       "    border: 1px solid black;\n",
       "    border-collapse: collapse;\n",
       "  }\n",
       "  th, td {\n",
       "    padding: 5px;\n",
       "  }\n",
       "  th {\n",
       "    text-align: left;\n",
       "  }\n",
       "</style><div class='table-result-container'><table class='table-result'><thead style='background-color: white'><tr><th>path</th><th>metrics</th></tr></thead><tbody><tr><td>dbfs:/user/saifahmed.k@outlook.com/delta/customer_counts</td><td>List(1, 2, List(8314, 8314, 8314.0, 1, 8314), List(1009, 8314, 4661.5, 2, 9323), 0, List(minCubeSize(107374182400), List(0, 0), List(2, 9323), 0, List(2, 9323), 1, null), 1, 2, 0, false, 0, 0, 1729453315810, 1729453318762, 4, 1, null)</td></tr></tbody></table></div>"
      ]
     },
     "metadata": {
      "application/vnd.databricks.v1+output": {
       "addedWidgets": {},
       "aggData": [],
       "aggError": "",
       "aggOverflow": false,
       "aggSchema": [],
       "aggSeriesLimitReached": false,
       "aggType": "",
       "arguments": {},
       "columnCustomDisplayInfos": {},
       "data": [
        [
         "dbfs:/user/saifahmed.k@outlook.com/delta/customer_counts",
         [
          1,
          2,
          [
           8314,
           8314,
           8314.0,
           1,
           8314
          ],
          [
           1009,
           8314,
           4661.5,
           2,
           9323
          ],
          0,
          [
           "minCubeSize(107374182400)",
           [
            0,
            0
           ],
           [
            2,
            9323
           ],
           0,
           [
            2,
            9323
           ],
           1,
           null
          ],
          1,
          2,
          0,
          false,
          0,
          0,
          1729453315810,
          1729453318762,
          4,
          1,
          null
         ]
        ]
       ],
       "datasetInfos": [],
       "dbfsResultPath": null,
       "isJsonSchema": true,
       "metadata": {},
       "overflow": false,
       "plotOptions": {
        "customPlotOptions": {},
        "displayType": "table",
        "pivotAggregation": null,
        "pivotColumns": null,
        "xColumns": null,
        "yColumns": null
       },
       "removedWidgets": [],
       "schema": [
        {
         "metadata": "{}",
         "name": "path",
         "type": "\"string\""
        },
        {
         "metadata": "{}",
         "name": "metrics",
         "type": "{\"type\":\"struct\",\"fields\":[{\"name\":\"numFilesAdded\",\"type\":\"long\",\"nullable\":false,\"metadata\":{}},{\"name\":\"numFilesRemoved\",\"type\":\"long\",\"nullable\":false,\"metadata\":{}},{\"name\":\"filesAdded\",\"type\":{\"type\":\"struct\",\"fields\":[{\"name\":\"min\",\"type\":\"long\",\"nullable\":true,\"metadata\":{}},{\"name\":\"max\",\"type\":\"long\",\"nullable\":true,\"metadata\":{}},{\"name\":\"avg\",\"type\":\"double\",\"nullable\":false,\"metadata\":{}},{\"name\":\"totalFiles\",\"type\":\"long\",\"nullable\":false,\"metadata\":{}},{\"name\":\"totalSize\",\"type\":\"long\",\"nullable\":false,\"metadata\":{}}]},\"nullable\":true,\"metadata\":{}},{\"name\":\"filesRemoved\",\"type\":{\"type\":\"struct\",\"fields\":[{\"name\":\"min\",\"type\":\"long\",\"nullable\":true,\"metadata\":{}},{\"name\":\"max\",\"type\":\"long\",\"nullable\":true,\"metadata\":{}},{\"name\":\"avg\",\"type\":\"double\",\"nullable\":false,\"metadata\":{}},{\"name\":\"totalFiles\",\"type\":\"long\",\"nullable\":false,\"metadata\":{}},{\"name\":\"totalSize\",\"type\":\"long\",\"nullable\":false,\"metadata\":{}}]},\"nullable\":true,\"metadata\":{}},{\"name\":\"partitionsOptimized\",\"type\":\"long\",\"nullable\":false,\"metadata\":{}},{\"name\":\"zOrderStats\",\"type\":{\"type\":\"struct\",\"fields\":[{\"name\":\"strategyName\",\"type\":\"string\",\"nullable\":true,\"metadata\":{}},{\"name\":\"inputCubeFiles\",\"type\":{\"type\":\"struct\",\"fields\":[{\"name\":\"num\",\"type\":\"long\",\"nullable\":false,\"metadata\":{}},{\"name\":\"size\",\"type\":\"long\",\"nullable\":false,\"metadata\":{}}]},\"nullable\":true,\"metadata\":{}},{\"name\":\"inputOtherFiles\",\"type\":{\"type\":\"struct\",\"fields\":[{\"name\":\"num\",\"type\":\"long\",\"nullable\":false,\"metadata\":{}},{\"name\":\"size\",\"type\":\"long\",\"nullable\":false,\"metadata\":{}}]},\"nullable\":true,\"metadata\":{}},{\"name\":\"inputNumCubes\",\"type\":\"long\",\"nullable\":false,\"metadata\":{}},{\"name\":\"mergedFiles\",\"type\":{\"type\":\"struct\",\"fields\":[{\"name\":\"num\",\"type\":\"long\",\"nullable\":false,\"metadata\":{}},{\"name\":\"size\",\"type\":\"long\",\"nullable\":false,\"metadata\":{}}]},\"nullable\":true,\"metadata\":{}},{\"name\":\"numOutputCubes\",\"type\":\"long\",\"nullable\":false,\"metadata\":{}},{\"name\":\"mergedNumCubes\",\"type\":\"long\",\"nullable\":true,\"metadata\":{}}]},\"nullable\":true,\"metadata\":{}},{\"name\":\"numBatches\",\"type\":\"long\",\"nullable\":false,\"metadata\":{}},{\"name\":\"totalConsideredFiles\",\"type\":\"long\",\"nullable\":false,\"metadata\":{}},{\"name\":\"totalFilesSkipped\",\"type\":\"long\",\"nullable\":false,\"metadata\":{}},{\"name\":\"preserveInsertionOrder\",\"type\":\"boolean\",\"nullable\":false,\"metadata\":{}},{\"name\":\"numFilesSkippedToReduceWriteAmplification\",\"type\":\"long\",\"nullable\":false,\"metadata\":{}},{\"name\":\"numBytesSkippedToReduceWriteAmplification\",\"type\":\"long\",\"nullable\":false,\"metadata\":{}},{\"name\":\"startTimeMs\",\"type\":\"long\",\"nullable\":false,\"metadata\":{}},{\"name\":\"endTimeMs\",\"type\":\"long\",\"nullable\":false,\"metadata\":{}},{\"name\":\"totalClusterParallelism\",\"type\":\"long\",\"nullable\":false,\"metadata\":{}},{\"name\":\"totalScheduledTasks\",\"type\":\"long\",\"nullable\":false,\"metadata\":{}},{\"name\":\"autoCompactParallelismStats\",\"type\":{\"type\":\"struct\",\"fields\":[{\"name\":\"maxClusterActiveParallelism\",\"type\":\"long\",\"nullable\":true,\"metadata\":{}},{\"name\":\"minClusterActiveParallelism\",\"type\":\"long\",\"nullable\":true,\"metadata\":{}},{\"name\":\"maxSessionActiveParallelism\",\"type\":\"long\",\"nullable\":true,\"metadata\":{}},{\"name\":\"minSessionActiveParallelism\",\"type\":\"long\",\"nullable\":true,\"metadata\":{}}]},\"nullable\":true,\"metadata\":{}}]}"
        }
       ],
       "type": "table"
      }
     },
     "output_type": "display_data"
    }
   ],
   "source": [
    "%sql\n",
    "-- TODO\n",
    "OPTIMIZE customer_counts\n",
    "ZORDER by (CustomerID)"
   ]
  },
  {
   "cell_type": "markdown",
   "metadata": {
    "application/vnd.databricks.v1+cell": {
     "cellMetadata": {},
     "inputWidgets": {},
     "nuid": "31ba9fc8-6bd3-45a3-b7fa-656d2b40557c",
     "showTitle": false,
     "title": ""
    }
   },
   "source": [
    "Let's time the above query again: you will need to form a DataFrame to pass to `postZorderQuery`."
   ]
  },
  {
   "cell_type": "code",
   "execution_count": 0,
   "metadata": {
    "application/vnd.databricks.v1+cell": {
     "cellMetadata": {
      "byteLimit": 2048000,
      "rowLimit": 10000
     },
     "inputWidgets": {},
     "nuid": "95af88e2-0656-4c78-bd29-0744c4f07896",
     "showTitle": false,
     "title": ""
    }
   },
   "outputs": [
    {
     "output_type": "stream",
     "name": "stdout",
     "output_type": "stream",
     "text": [
      "844 ms ± 51.2 ms per loop (mean ± std. dev. of 7 runs, 1 loop each)\n"
     ]
    }
   ],
   "source": [
    "# TODO\n",
    "%timeit postZorderQuery = spark.sql(f\"SELECT * FROM delta.`{DeltaPath}`\").collect()"
   ]
  },
  {
   "cell_type": "markdown",
   "metadata": {
    "application/vnd.databricks.v1+cell": {
     "cellMetadata": {},
     "inputWidgets": {},
     "nuid": "b14518b5-7967-4410-94d5-dc1332969f9f",
     "showTitle": false,
     "title": ""
    }
   },
   "source": [
    "### OPTIMIZE your BI table\n",
    "\n",
    "Here we'll optimize our `customer_counts` table so that we can quickly query on our `CustomerID` column."
   ]
  },
  {
   "cell_type": "code",
   "execution_count": 0,
   "metadata": {
    "application/vnd.databricks.v1+cell": {
     "cellMetadata": {
      "byteLimit": 2048000,
      "implicitDf": true,
      "rowLimit": 10000
     },
     "inputWidgets": {},
     "nuid": "1a088310-fa12-41d8-9d60-848ed64b24bb",
     "showTitle": false,
     "title": ""
    }
   },
   "outputs": [
    {
     "output_type": "display_data",
     "data": {
      "text/html": [
       "<style scoped>\n",
       "  .table-result-container {\n",
       "    max-height: 300px;\n",
       "    overflow: auto;\n",
       "  }\n",
       "  table, th, td {\n",
       "    border: 1px solid black;\n",
       "    border-collapse: collapse;\n",
       "  }\n",
       "  th, td {\n",
       "    padding: 5px;\n",
       "  }\n",
       "  th {\n",
       "    text-align: left;\n",
       "  }\n",
       "</style><div class='table-result-container'><table class='table-result'><thead style='background-color: white'><tr><th>path</th><th>metrics</th></tr></thead><tbody><tr><td>dbfs:/user/saifahmed.k@outlook.com/delta/customer_counts</td><td>List(0, 0, List(null, null, 0.0, 0, 0), List(null, null, 0.0, 0, 0), 0, List(minCubeSize(107374182400), List(1, 8314), List(0, 0), 1, List(0, 0), 0, null), 0, 1, 1, false, 0, 0, 1729453394124, 1729453394600, 4, 0, null)</td></tr></tbody></table></div>"
      ]
     },
     "metadata": {
      "application/vnd.databricks.v1+output": {
       "addedWidgets": {},
       "aggData": [],
       "aggError": "",
       "aggOverflow": false,
       "aggSchema": [],
       "aggSeriesLimitReached": false,
       "aggType": "",
       "arguments": {},
       "columnCustomDisplayInfos": {},
       "data": [
        [
         "dbfs:/user/saifahmed.k@outlook.com/delta/customer_counts",
         [
          0,
          0,
          [
           null,
           null,
           0.0,
           0,
           0
          ],
          [
           null,
           null,
           0.0,
           0,
           0
          ],
          0,
          [
           "minCubeSize(107374182400)",
           [
            1,
            8314
           ],
           [
            0,
            0
           ],
           1,
           [
            0,
            0
           ],
           0,
           null
          ],
          0,
          1,
          1,
          false,
          0,
          0,
          1729453394124,
          1729453394600,
          4,
          0,
          null
         ]
        ]
       ],
       "datasetInfos": [],
       "dbfsResultPath": null,
       "isJsonSchema": true,
       "metadata": {},
       "overflow": false,
       "plotOptions": {
        "customPlotOptions": {},
        "displayType": "table",
        "pivotAggregation": null,
        "pivotColumns": null,
        "xColumns": null,
        "yColumns": null
       },
       "removedWidgets": [],
       "schema": [
        {
         "metadata": "{}",
         "name": "path",
         "type": "\"string\""
        },
        {
         "metadata": "{}",
         "name": "metrics",
         "type": "{\"type\":\"struct\",\"fields\":[{\"name\":\"numFilesAdded\",\"type\":\"long\",\"nullable\":false,\"metadata\":{}},{\"name\":\"numFilesRemoved\",\"type\":\"long\",\"nullable\":false,\"metadata\":{}},{\"name\":\"filesAdded\",\"type\":{\"type\":\"struct\",\"fields\":[{\"name\":\"min\",\"type\":\"long\",\"nullable\":true,\"metadata\":{}},{\"name\":\"max\",\"type\":\"long\",\"nullable\":true,\"metadata\":{}},{\"name\":\"avg\",\"type\":\"double\",\"nullable\":false,\"metadata\":{}},{\"name\":\"totalFiles\",\"type\":\"long\",\"nullable\":false,\"metadata\":{}},{\"name\":\"totalSize\",\"type\":\"long\",\"nullable\":false,\"metadata\":{}}]},\"nullable\":true,\"metadata\":{}},{\"name\":\"filesRemoved\",\"type\":{\"type\":\"struct\",\"fields\":[{\"name\":\"min\",\"type\":\"long\",\"nullable\":true,\"metadata\":{}},{\"name\":\"max\",\"type\":\"long\",\"nullable\":true,\"metadata\":{}},{\"name\":\"avg\",\"type\":\"double\",\"nullable\":false,\"metadata\":{}},{\"name\":\"totalFiles\",\"type\":\"long\",\"nullable\":false,\"metadata\":{}},{\"name\":\"totalSize\",\"type\":\"long\",\"nullable\":false,\"metadata\":{}}]},\"nullable\":true,\"metadata\":{}},{\"name\":\"partitionsOptimized\",\"type\":\"long\",\"nullable\":false,\"metadata\":{}},{\"name\":\"zOrderStats\",\"type\":{\"type\":\"struct\",\"fields\":[{\"name\":\"strategyName\",\"type\":\"string\",\"nullable\":true,\"metadata\":{}},{\"name\":\"inputCubeFiles\",\"type\":{\"type\":\"struct\",\"fields\":[{\"name\":\"num\",\"type\":\"long\",\"nullable\":false,\"metadata\":{}},{\"name\":\"size\",\"type\":\"long\",\"nullable\":false,\"metadata\":{}}]},\"nullable\":true,\"metadata\":{}},{\"name\":\"inputOtherFiles\",\"type\":{\"type\":\"struct\",\"fields\":[{\"name\":\"num\",\"type\":\"long\",\"nullable\":false,\"metadata\":{}},{\"name\":\"size\",\"type\":\"long\",\"nullable\":false,\"metadata\":{}}]},\"nullable\":true,\"metadata\":{}},{\"name\":\"inputNumCubes\",\"type\":\"long\",\"nullable\":false,\"metadata\":{}},{\"name\":\"mergedFiles\",\"type\":{\"type\":\"struct\",\"fields\":[{\"name\":\"num\",\"type\":\"long\",\"nullable\":false,\"metadata\":{}},{\"name\":\"size\",\"type\":\"long\",\"nullable\":false,\"metadata\":{}}]},\"nullable\":true,\"metadata\":{}},{\"name\":\"numOutputCubes\",\"type\":\"long\",\"nullable\":false,\"metadata\":{}},{\"name\":\"mergedNumCubes\",\"type\":\"long\",\"nullable\":true,\"metadata\":{}}]},\"nullable\":true,\"metadata\":{}},{\"name\":\"numBatches\",\"type\":\"long\",\"nullable\":false,\"metadata\":{}},{\"name\":\"totalConsideredFiles\",\"type\":\"long\",\"nullable\":false,\"metadata\":{}},{\"name\":\"totalFilesSkipped\",\"type\":\"long\",\"nullable\":false,\"metadata\":{}},{\"name\":\"preserveInsertionOrder\",\"type\":\"boolean\",\"nullable\":false,\"metadata\":{}},{\"name\":\"numFilesSkippedToReduceWriteAmplification\",\"type\":\"long\",\"nullable\":false,\"metadata\":{}},{\"name\":\"numBytesSkippedToReduceWriteAmplification\",\"type\":\"long\",\"nullable\":false,\"metadata\":{}},{\"name\":\"startTimeMs\",\"type\":\"long\",\"nullable\":false,\"metadata\":{}},{\"name\":\"endTimeMs\",\"type\":\"long\",\"nullable\":false,\"metadata\":{}},{\"name\":\"totalClusterParallelism\",\"type\":\"long\",\"nullable\":false,\"metadata\":{}},{\"name\":\"totalScheduledTasks\",\"type\":\"long\",\"nullable\":false,\"metadata\":{}},{\"name\":\"autoCompactParallelismStats\",\"type\":{\"type\":\"struct\",\"fields\":[{\"name\":\"maxClusterActiveParallelism\",\"type\":\"long\",\"nullable\":true,\"metadata\":{}},{\"name\":\"minClusterActiveParallelism\",\"type\":\"long\",\"nullable\":true,\"metadata\":{}},{\"name\":\"maxSessionActiveParallelism\",\"type\":\"long\",\"nullable\":true,\"metadata\":{}},{\"name\":\"minSessionActiveParallelism\",\"type\":\"long\",\"nullable\":true,\"metadata\":{}}]},\"nullable\":true,\"metadata\":{}}]}"
        }
       ],
       "type": "table"
      }
     },
     "output_type": "display_data"
    }
   ],
   "source": [
    "%sql\n",
    "OPTIMIZE customer_counts\n",
    "ZORDER by (CustomerID)"
   ]
  },
  {
   "cell_type": "markdown",
   "metadata": {
    "application/vnd.databricks.v1+cell": {
     "cellMetadata": {},
     "inputWidgets": {},
     "nuid": "b0aa03cc-875b-4ace-a6a3-a01b3e793ae7",
     "showTitle": false,
     "title": ""
    }
   },
   "source": [
    "Now we can easily look at which of our customers have made the most orders."
   ]
  },
  {
   "cell_type": "code",
   "execution_count": 0,
   "metadata": {
    "application/vnd.databricks.v1+cell": {
     "cellMetadata": {
      "byteLimit": 2048000,
      "implicitDf": true,
      "rowLimit": 10000
     },
     "inputWidgets": {},
     "nuid": "9825f02d-99ae-4bb8-92ee-5b2aad8aba1c",
     "showTitle": false,
     "title": ""
    }
   },
   "outputs": [
    {
     "output_type": "display_data",
     "data": {
      "text/html": [
       "<style scoped>\n",
       "  .table-result-container {\n",
       "    max-height: 300px;\n",
       "    overflow: auto;\n",
       "  }\n",
       "  table, th, td {\n",
       "    border: 1px solid black;\n",
       "    border-collapse: collapse;\n",
       "  }\n",
       "  th, td {\n",
       "    padding: 5px;\n",
       "  }\n",
       "  th {\n",
       "    text-align: left;\n",
       "  }\n",
       "</style><div class='table-result-container'><table class='table-result'><thead style='background-color: white'><tr><th>CustomerID</th><th>total</th></tr></thead><tbody><tr><td>null</td><td>50562</td></tr><tr><td>12748</td><td>1390</td></tr><tr><td>17841</td><td>962</td></tr><tr><td>14606</td><td>842</td></tr><tr><td>15311</td><td>836</td></tr><tr><td>14911</td><td>754</td></tr><tr><td>17850</td><td>594</td></tr><tr><td>13089</td><td>522</td></tr><tr><td>13081</td><td>522</td></tr><tr><td>18118</td><td>500</td></tr><tr><td>15039</td><td>494</td></tr><tr><td>12681</td><td>406</td></tr><tr><td>14298</td><td>394</td></tr><tr><td>14646</td><td>368</td></tr><tr><td>14505</td><td>366</td></tr><tr><td>14527</td><td>348</td></tr><tr><td>13174</td><td>338</td></tr><tr><td>14667</td><td>336</td></tr><tr><td>15061</td><td>328</td></tr><tr><td>17341</td><td>322</td></tr><tr><td>15574</td><td>318</td></tr><tr><td>15464</td><td>314</td></tr><tr><td>18116</td><td>310</td></tr><tr><td>18041</td><td>306</td></tr><tr><td>15808</td><td>298</td></tr><tr><td>12501</td><td>298</td></tr><tr><td>12433</td><td>294</td></tr><tr><td>14800</td><td>292</td></tr><tr><td>14085</td><td>288</td></tr><tr><td>17511</td><td>288</td></tr><tr><td>15570</td><td>288</td></tr><tr><td>15498</td><td>288</td></tr><tr><td>16033</td><td>282</td></tr><tr><td>15379</td><td>276</td></tr><tr><td>17340</td><td>274</td></tr><tr><td>15044</td><td>268</td></tr><tr><td>17284</td><td>262</td></tr><tr><td>14733</td><td>248</td></tr><tr><td>17338</td><td>244</td></tr><tr><td>17218</td><td>238</td></tr><tr><td>15998</td><td>236</td></tr><tr><td>13488</td><td>234</td></tr><tr><td>17059</td><td>234</td></tr><tr><td>14415</td><td>234</td></tr><tr><td>17406</td><td>232</td></tr><tr><td>13093</td><td>232</td></tr><tr><td>15867</td><td>230</td></tr><tr><td>15640</td><td>230</td></tr><tr><td>15356</td><td>230</td></tr><tr><td>15601</td><td>230</td></tr><tr><td>13069</td><td>228</td></tr><tr><td>15514</td><td>226</td></tr><tr><td>17827</td><td>224</td></tr><tr><td>15005</td><td>224</td></tr><tr><td>14669</td><td>220</td></tr><tr><td>12471</td><td>218</td></tr><tr><td>15880</td><td>212</td></tr><tr><td>16713</td><td>212</td></tr><tr><td>17757</td><td>210</td></tr><tr><td>15023</td><td>210</td></tr><tr><td>15719</td><td>208</td></tr><tr><td>17602</td><td>206</td></tr><tr><td>12451</td><td>202</td></tr><tr><td>17609</td><td>200</td></tr><tr><td>13715</td><td>200</td></tr><tr><td>15727</td><td>198</td></tr><tr><td>12841</td><td>198</td></tr><tr><td>13319</td><td>196</td></tr><tr><td>12484</td><td>196</td></tr><tr><td>15194</td><td>196</td></tr><tr><td>16782</td><td>194</td></tr><tr><td>15555</td><td>192</td></tr><tr><td>17920</td><td>190</td></tr><tr><td>16161</td><td>190</td></tr><tr><td>14083</td><td>190</td></tr><tr><td>12539</td><td>186</td></tr><tr><td>16725</td><td>184</td></tr><tr><td>17894</td><td>184</td></tr><tr><td>12370</td><td>182</td></tr><tr><td>13680</td><td>182</td></tr><tr><td>17611</td><td>180</td></tr><tr><td>14723</td><td>180</td></tr><tr><td>17019</td><td>180</td></tr><tr><td>14796</td><td>178</td></tr><tr><td>12682</td><td>178</td></tr><tr><td>15708</td><td>178</td></tr><tr><td>13694</td><td>176</td></tr><tr><td>12766</td><td>176</td></tr><tr><td>14587</td><td>176</td></tr><tr><td>13458</td><td>174</td></tr><tr><td>15426</td><td>174</td></tr><tr><td>16686</td><td>174</td></tr><tr><td>13798</td><td>174</td></tr><tr><td>17259</td><td>174</td></tr><tr><td>17085</td><td>172</td></tr><tr><td>17231</td><td>170</td></tr><tr><td>17968</td><td>170</td></tr><tr><td>17954</td><td>168</td></tr><tr><td>12472</td><td>168</td></tr><tr><td>12567</td><td>166</td></tr><tr><td>15358</td><td>166</td></tr><tr><td>15034</td><td>164</td></tr><tr><td>18055</td><td>164</td></tr><tr><td>13564</td><td>164</td></tr><tr><td>16931</td><td>162</td></tr><tr><td>15983</td><td>162</td></tr><tr><td>17591</td><td>160</td></tr><tr><td>17961</td><td>158</td></tr><tr><td>17787</td><td>158</td></tr><tr><td>14307</td><td>158</td></tr><tr><td>17365</td><td>158</td></tr><tr><td>17811</td><td>156</td></tr><tr><td>17198</td><td>154</td></tr><tr><td>18069</td><td>154</td></tr><tr><td>12683</td><td>154</td></tr><tr><td>16923</td><td>154</td></tr><tr><td>17722</td><td>152</td></tr><tr><td>15529</td><td>152</td></tr><tr><td>14573</td><td>152</td></tr><tr><td>17690</td><td>152</td></tr><tr><td>14329</td><td>152</td></tr><tr><td>14180</td><td>152</td></tr><tr><td>16904</td><td>152</td></tr><tr><td>17965</td><td>152</td></tr><tr><td>17211</td><td>150</td></tr><tr><td>17372</td><td>150</td></tr><tr><td>17017</td><td>150</td></tr><tr><td>16710</td><td>150</td></tr><tr><td>16065</td><td>148</td></tr><tr><td>12585</td><td>148</td></tr><tr><td>17634</td><td>148</td></tr><tr><td>17450</td><td>148</td></tr><tr><td>17449</td><td>146</td></tr><tr><td>17897</td><td>146</td></tr><tr><td>13767</td><td>146</td></tr><tr><td>17191</td><td>144</td></tr><tr><td>18109</td><td>144</td></tr><tr><td>12637</td><td>144</td></tr><tr><td>13050</td><td>144</td></tr><tr><td>12578</td><td>142</td></tr><tr><td>14729</td><td>142</td></tr><tr><td>16241</td><td>142</td></tr><tr><td>14135</td><td>140</td></tr><tr><td>16016</td><td>140</td></tr><tr><td>14702</td><td>140</td></tr><tr><td>13102</td><td>140</td></tr><tr><td>14472</td><td>140</td></tr><tr><td>16873</td><td>140</td></tr><tr><td>15503</td><td>140</td></tr><tr><td>13764</td><td>138</td></tr><tr><td>16891</td><td>138</td></tr><tr><td>14081</td><td>138</td></tr><tr><td>12383</td><td>138</td></tr><tr><td>17315</td><td>136</td></tr><tr><td>13013</td><td>134</td></tr><tr><td>12577</td><td>134</td></tr><tr><td>16274</td><td>134</td></tr><tr><td>16327</td><td>132</td></tr><tr><td>18043</td><td>132</td></tr><tr><td>12872</td><td>132</td></tr><tr><td>16795</td><td>132</td></tr><tr><td>15889</td><td>132</td></tr><tr><td>17581</td><td>130</td></tr><tr><td>17976</td><td>130</td></tr><tr><td>16919</td><td>130</td></tr><tr><td>17530</td><td>130</td></tr><tr><td>15862</td><td>128</td></tr><tr><td>16814</td><td>128</td></tr><tr><td>17884</td><td>128</td></tr><tr><td>15898</td><td>128</td></tr><tr><td>17890</td><td>128</td></tr><tr><td>15033</td><td>128</td></tr><tr><td>14395</td><td>126</td></tr><tr><td>16244</td><td>126</td></tr><tr><td>17097</td><td>126</td></tr><tr><td>13155</td><td>126</td></tr><tr><td>17126</td><td>126</td></tr><tr><td>14657</td><td>124</td></tr><tr><td>15296</td><td>122</td></tr><tr><td>13124</td><td>122</td></tr><tr><td>14680</td><td>122</td></tr><tr><td>16719</td><td>120</td></tr><tr><td>16395</td><td>120</td></tr><tr><td>17238</td><td>120</td></tr><tr><td>17596</td><td>120</td></tr><tr><td>16779</td><td>120</td></tr><tr><td>13030</td><td>120</td></tr><tr><td>13468</td><td>120</td></tr><tr><td>16255</td><td>120</td></tr><tr><td>16520</td><td>120</td></tr><tr><td>12921</td><td>118</td></tr><tr><td>15159</td><td>118</td></tr><tr><td>12838</td><td>118</td></tr><tr><td>14769</td><td>118</td></tr><tr><td>14099</td><td>118</td></tr><tr><td>17975</td><td>116</td></tr><tr><td>14572</td><td>116</td></tr><tr><td>17908</td><td>116</td></tr><tr><td>15460</td><td>116</td></tr><tr><td>17860</td><td>116</td></tr><tr><td>12867</td><td>116</td></tr><tr><td>16402</td><td>114</td></tr><tr><td>15021</td><td>114</td></tr><tr><td>14544</td><td>114</td></tr><tr><td>15525</td><td>114</td></tr><tr><td>18283</td><td>114</td></tr><tr><td>15002</td><td>112</td></tr><tr><td>15547</td><td>112</td></tr><tr><td>15157</td><td>112</td></tr><tr><td>17243</td><td>110</td></tr><tr><td>16805</td><td>110</td></tr><tr><td>18156</td><td>110</td></tr><tr><td>16270</td><td>108</td></tr><tr><td>18223</td><td>108</td></tr><tr><td>15856</td><td>108</td></tr><tr><td>15012</td><td>108</td></tr><tr><td>17796</td><td>108</td></tr><tr><td>14565</td><td>108</td></tr><tr><td>17303</td><td>106</td></tr><tr><td>16503</td><td>106</td></tr><tr><td>12626</td><td>106</td></tr><tr><td>16791</td><td>106</td></tr><tr><td>12647</td><td>106</td></tr><tr><td>15351</td><td>106</td></tr><tr><td>15673</td><td>106</td></tr><tr><td>17618</td><td>106</td></tr><tr><td>17062</td><td>106</td></tr><tr><td>13982</td><td>104</td></tr><tr><td>13838</td><td>104</td></tr><tr><td>17364</td><td>104</td></tr><tr><td>16670</td><td>104</td></tr><tr><td>12753</td><td>104</td></tr><tr><td>13097</td><td>104</td></tr><tr><td>12540</td><td>104</td></tr><tr><td>14031</td><td>102</td></tr><tr><td>14159</td><td>102</td></tr><tr><td>16550</td><td>102</td></tr><tr><td>15235</td><td>102</td></tr><tr><td>13983</td><td>100</td></tr><tr><td>16916</td><td>100</td></tr><tr><td>14449</td><td>100</td></tr><tr><td>15281</td><td>100</td></tr><tr><td>14985</td><td>100</td></tr><tr><td>15532</td><td>100</td></tr><tr><td>14506</td><td>100</td></tr><tr><td>17091</td><td>100</td></tr><tr><td>15615</td><td>100</td></tr><tr><td>17428</td><td>100</td></tr><tr><td>13418</td><td>98</td></tr><tr><td>17555</td><td>98</td></tr><tr><td>16059</td><td>98</td></tr><tr><td>15581</td><td>98</td></tr><tr><td>15919</td><td>98</td></tr><tr><td>17392</td><td>98</td></tr><tr><td>15024</td><td>96</td></tr><tr><td>14057</td><td>96</td></tr><tr><td>12652</td><td>96</td></tr><tr><td>14907</td><td>96</td></tr><tr><td>16889</td><td>96</td></tr><tr><td>13408</td><td>96</td></tr><tr><td>13451</td><td>96</td></tr><tr><td>15916</td><td>96</td></tr><tr><td>17967</td><td>96</td></tr><tr><td>16746</td><td>94</td></tr><tr><td>16735</td><td>94</td></tr><tr><td>17346</td><td>94</td></tr><tr><td>12415</td><td>94</td></tr><tr><td>15518</td><td>92</td></tr><tr><td>16727</td><td>92</td></tr><tr><td>13267</td><td>92</td></tr><tr><td>12481</td><td>92</td></tr><tr><td>12720</td><td>92</td></tr><tr><td>14156</td><td>92</td></tr><tr><td>13004</td><td>92</td></tr><tr><td>14404</td><td>92</td></tr><tr><td>16442</td><td>92</td></tr><tr><td>16893</td><td>90</td></tr><tr><td>17377</td><td>90</td></tr><tr><td>16718</td><td>90</td></tr><tr><td>16558</td><td>90</td></tr><tr><td>13078</td><td>90</td></tr><tr><td>13370</td><td>88</td></tr><tr><td>17230</td><td>88</td></tr><tr><td>14062</td><td>88</td></tr><tr><td>14684</td><td>88</td></tr><tr><td>17576</td><td>88</td></tr><tr><td>14713</td><td>88</td></tr><tr><td>18168</td><td>88</td></tr><tr><td>15858</td><td>88</td></tr><tr><td>13777</td><td>86</td></tr><tr><td>17551</td><td>86</td></tr><tr><td>12490</td><td>86</td></tr><tr><td>17838</td><td>86</td></tr><tr><td>15485</td><td>86</td></tr><tr><td>18212</td><td>86</td></tr><tr><td>12377</td><td>86</td></tr><tr><td>14215</td><td>86</td></tr><tr><td>14639</td><td>84</td></tr><tr><td>12480</td><td>84</td></tr><tr><td>16722</td><td>84</td></tr><tr><td>12583</td><td>84</td></tr><tr><td>17865</td><td>84</td></tr><tr><td>14092</td><td>84</td></tr><tr><td>15596</td><td>84</td></tr><tr><td>17358</td><td>84</td></tr><tr><td>16029</td><td>82</td></tr><tr><td>14961</td><td>82</td></tr><tr><td>13668</td><td>82</td></tr><tr><td>15723</td><td>82</td></tr><tr><td>15535</td><td>82</td></tr><tr><td>15046</td><td>80</td></tr><tr><td>15271</td><td>80</td></tr><tr><td>13048</td><td>80</td></tr><tr><td>18004</td><td>80</td></tr><tr><td>15502</td><td>80</td></tr><tr><td>16011</td><td>80</td></tr><tr><td>16470</td><td>80</td></tr><tr><td>17950</td><td>80</td></tr><tr><td>13162</td><td>80</td></tr><tr><td>14901</td><td>80</td></tr><tr><td>13246</td><td>80</td></tr><tr><td>15093</td><td>78</td></tr><tr><td>15298</td><td>78</td></tr><tr><td>16422</td><td>78</td></tr><tr><td>14810</td><td>78</td></tr><tr><td>17251</td><td>78</td></tr><tr><td>13593</td><td>78</td></tr><tr><td>18106</td><td>78</td></tr><tr><td>14016</td><td>78</td></tr><tr><td>17675</td><td>78</td></tr><tr><td>13263</td><td>78</td></tr><tr><td>16655</td><td>78</td></tr><tr><td>14978</td><td>76</td></tr><tr><td>15894</td><td>76</td></tr><tr><td>14577</td><td>76</td></tr><tr><td>17912</td><td>76</td></tr><tr><td>15078</td><td>76</td></tr><tr><td>13842</td><td>76</td></tr><tr><td>15716</td><td>76</td></tr><tr><td>17999</td><td>76</td></tr><tr><td>17189</td><td>76</td></tr><tr><td>13634</td><td>76</td></tr><tr><td>16145</td><td>76</td></tr><tr><td>14688</td><td>76</td></tr><tr><td>16265</td><td>76</td></tr><tr><td>12553</td><td>76</td></tr><tr><td>12839</td><td>74</td></tr><tr><td>17400</td><td>74</td></tr><tr><td>17068</td><td>74</td></tr><tr><td>17419</td><td>74</td></tr><tr><td>13187</td><td>74</td></tr><tr><td>18260</td><td>74</td></tr><tr><td>13280</td><td>74</td></tr><tr><td>14210</td><td>74</td></tr><tr><td>16210</td><td>74</td></tr><tr><td>16367</td><td>74</td></tr><tr><td>14625</td><td>72</td></tr><tr><td>18077</td><td>72</td></tr><tr><td>13455</td><td>72</td></tr><tr><td>13448</td><td>72</td></tr><tr><td>13782</td><td>72</td></tr><tr><td>12356</td><td>72</td></tr><tr><td>12971</td><td>72</td></tr><tr><td>15332</td><td>70</td></tr><tr><td>17744</td><td>70</td></tr><tr><td>14748</td><td>70</td></tr><tr><td>14146</td><td>70</td></tr><tr><td>13385</td><td>70</td></tr><tr><td>15038</td><td>70</td></tr><tr><td>14696</td><td>70</td></tr><tr><td>16303</td><td>70</td></tr><tr><td>17964</td><td>70</td></tr><tr><td>12947</td><td>70</td></tr><tr><td>17213</td><td>70</td></tr><tr><td>13221</td><td>70</td></tr><tr><td>15513</td><td>70</td></tr><tr><td>18179</td><td>70</td></tr><tr><td>15301</td><td>68</td></tr><tr><td>12868</td><td>68</td></tr><tr><td>14396</td><td>68</td></tr><tr><td>14672</td><td>68</td></tr><tr><td>15291</td><td>68</td></tr><tr><td>16771</td><td>68</td></tr><tr><td>16907</td><td>68</td></tr><tr><td>12779</td><td>66</td></tr><tr><td>16898</td><td>66</td></tr><tr><td>17799</td><td>66</td></tr><tr><td>12621</td><td>66</td></tr><tr><td>13758</td><td>66</td></tr><tr><td>12708</td><td>66</td></tr><tr><td>16477</td><td>66</td></tr><tr><td>17812</td><td>66</td></tr><tr><td>16549</td><td>66</td></tr><tr><td>14051</td><td>66</td></tr><tr><td>18176</td><td>66</td></tr><tr><td>13126</td><td>64</td></tr><tr><td>13178</td><td>64</td></tr><tr><td>14256</td><td>64</td></tr><tr><td>14032</td><td>64</td></tr><tr><td>12395</td><td>64</td></tr><tr><td>12712</td><td>64</td></tr><tr><td>13426</td><td>64</td></tr><tr><td>15996</td><td>64</td></tr><tr><td>14896</td><td>64</td></tr><tr><td>17220</td><td>64</td></tr><tr><td>15696</td><td>62</td></tr><tr><td>13656</td><td>62</td></tr><tr><td>13001</td><td>62</td></tr><tr><td>12957</td><td>62</td></tr><tr><td>17913</td><td>62</td></tr><tr><td>14189</td><td>62</td></tr><tr><td>14258</td><td>62</td></tr><tr><td>15620</td><td>62</td></tr><tr><td>13520</td><td>62</td></tr><tr><td>14779</td><td>62</td></tr><tr><td>12347</td><td>62</td></tr><tr><td>15545</td><td>62</td></tr><tr><td>14594</td><td>62</td></tr><tr><td>15032</td><td>60</td></tr><tr><td>15680</td><td>60</td></tr><tr><td>13599</td><td>60</td></tr><tr><td>13769</td><td>60</td></tr><tr><td>13523</td><td>60</td></tr><tr><td>12705</td><td>60</td></tr><tr><td>16743</td><td>60</td></tr><tr><td>16885</td><td>60</td></tr><tr><td>16326</td><td>60</td></tr><tr><td>18119</td><td>60</td></tr><tr><td>17228</td><td>60</td></tr><tr><td>17223</td><td>60</td></tr><tr><td>16539</td><td>60</td></tr><tr><td>14813</td><td>60</td></tr><tr><td>16775</td><td>60</td></tr><tr><td>16455</td><td>60</td></tr><tr><td>17069</td><td>60</td></tr><tr><td>13576</td><td>60</td></tr><tr><td>17685</td><td>58</td></tr><tr><td>14653</td><td>58</td></tr><tr><td>15059</td><td>58</td></tr><tr><td>14082</td><td>58</td></tr><tr><td>17114</td><td>58</td></tr><tr><td>18085</td><td>58</td></tr><tr><td>16676</td><td>58</td></tr><tr><td>15950</td><td>58</td></tr><tr><td>18239</td><td>58</td></tr><tr><td>17917</td><td>58</td></tr><tr><td>13862</td><td>58</td></tr><tr><td>17569</td><td>58</td></tr><tr><td>12510</td><td>58</td></tr><tr><td>15326</td><td>58</td></tr><tr><td>14270</td><td>58</td></tr><tr><td>14321</td><td>58</td></tr><tr><td>14829</td><td>58</td></tr><tr><td>14060</td><td>58</td></tr><tr><td>13269</td><td>56</td></tr><tr><td>17706</td><td>56</td></tr><tr><td>14390</td><td>56</td></tr><tr><td>14849</td><td>56</td></tr><tr><td>14735</td><td>56</td></tr><tr><td>16875</td><td>56</td></tr><tr><td>16143</td><td>56</td></tr><tr><td>17585</td><td>56</td></tr><tr><td>16218</td><td>56</td></tr><tr><td>13846</td><td>56</td></tr><tr><td>17905</td><td>56</td></tr><tr><td>17194</td><td>56</td></tr><tr><td>13859</td><td>56</td></tr><tr><td>18011</td><td>56</td></tr><tr><td>17567</td><td>54</td></tr><tr><td>15738</td><td>54</td></tr><tr><td>13496</td><td>54</td></tr><tr><td>17858</td><td>54</td></tr><tr><td>14755</td><td>54</td></tr><tr><td>13113</td><td>54</td></tr><tr><td>17402</td><td>54</td></tr><tr><td>15953</td><td>54</td></tr><tr><td>15165</td><td>54</td></tr><tr><td>14525</td><td>54</td></tr><tr><td>14030</td><td>54</td></tr><tr><td>17677</td><td>54</td></tr><tr><td>18245</td><td>54</td></tr><tr><td>17404</td><td>54</td></tr><tr><td>13310</td><td>54</td></tr><tr><td>14161</td><td>52</td></tr><tr><td>17880</td><td>52</td></tr><tr><td>13117</td><td>52</td></tr><tr><td>14514</td><td>52</td></tr><tr><td>13495</td><td>52</td></tr><tr><td>14524</td><td>52</td></tr><tr><td>17708</td><td>52</td></tr><tr><td>16150</td><td>52</td></tr><tr><td>15544</td><td>52</td></tr><tr><td>12782</td><td>52</td></tr><tr><td>15456</td><td>52</td></tr><tr><td>12413</td><td>52</td></tr><tr><td>16567</td><td>52</td></tr><tr><td>13534</td><td>52</td></tr><tr><td>14037</td><td>52</td></tr><tr><td>16191</td><td>52</td></tr><tr><td>17593</td><td>52</td></tr><tr><td>15288</td><td>52</td></tr><tr><td>13700</td><td>52</td></tr><tr><td>16019</td><td>50</td></tr><tr><td>13969</td><td>50</td></tr><tr><td>16206</td><td>50</td></tr><tr><td>16350</td><td>50</td></tr><tr><td>17158</td><td>50</td></tr><tr><td>17368</td><td>50</td></tr><tr><td>13198</td><td>50</td></tr><tr><td>15789</td><td>50</td></tr><tr><td>17692</td><td>50</td></tr><tr><td>14871</td><td>50</td></tr><tr><td>15454</td><td>50</td></tr><tr><td>12826</td><td>50</td></tr><tr><td>13148</td><td>48</td></tr><tr><td>12725</td><td>48</td></tr><tr><td>14040</td><td>48</td></tr><tr><td>17790</td><td>48</td></tr><tr><td>12793</td><td>48</td></tr><tr><td>13569</td><td>48</td></tr><tr><td>12668</td><td>48</td></tr><tr><td>16010</td><td>48</td></tr><tr><td>15394</td><td>48</td></tr><tr><td>12431</td><td>48</td></tr><tr><td>14299</td><td>48</td></tr><tr><td>18219</td><td>48</td></tr><tr><td>14428</td><td>48</td></tr><tr><td>16684</td><td>46</td></tr><tr><td>14553</td><td>46</td></tr><tr><td>14388</td><td>46</td></tr><tr><td>14320</td><td>46</td></tr><tr><td>15211</td><td>46</td></tr><tr><td>13173</td><td>46</td></tr><tr><td>15048</td><td>46</td></tr><tr><td>13107</td><td>46</td></tr><tr><td>14413</td><td>46</td></tr><tr><td>15694</td><td>46</td></tr><tr><td>14443</td><td>46</td></tr><tr><td>15811</td><td>46</td></tr><tr><td>12673</td><td>46</td></tr><tr><td>14290</td><td>46</td></tr><tr><td>17064</td><td>46</td></tr><tr><td>18065</td><td>44</td></tr><tr><td>15213</td><td>44</td></tr><tr><td>14142</td><td>44</td></tr><tr><td>12735</td><td>44</td></tr><tr><td>12393</td><td>44</td></tr><tr><td>17320</td><td>44</td></tr><tr><td>15799</td><td>44</td></tr><tr><td>16081</td><td>44</td></tr><tr><td>15687</td><td>44</td></tr><tr><td>17771</td><td>44</td></tr><tr><td>15384</td><td>44</td></tr><tr><td>13491</td><td>44</td></tr><tr><td>16393</td><td>44</td></tr><tr><td>17735</td><td>44</td></tr><tr><td>17287</td><td>44</td></tr><tr><td>16839</td><td>44</td></tr><tr><td>18226</td><td>44</td></tr><tr><td>16499</td><td>44</td></tr><tr><td>15563</td><td>44</td></tr><tr><td>14419</td><td>42</td></tr><tr><td>16385</td><td>42</td></tr><tr><td>17375</td><td>42</td></tr><tr><td>15750</td><td>42</td></tr><tr><td>13327</td><td>42</td></tr><tr><td>16316</td><td>42</td></tr><tr><td>15373</td><td>42</td></tr><tr><td>16560</td><td>42</td></tr><tr><td>13240</td><td>42</td></tr><tr><td>16252</td><td>42</td></tr><tr><td>18092</td><td>42</td></tr><tr><td>13304</td><td>42</td></tr><tr><td>15279</td><td>42</td></tr><tr><td>14229</td><td>42</td></tr><tr><td>17412</td><td>42</td></tr><tr><td>13209</td><td>42</td></tr><tr><td>13869</td><td>42</td></tr><tr><td>16411</td><td>42</td></tr><tr><td>17863</td><td>42</td></tr><tr><td>15923</td><td>42</td></tr><tr><td>15854</td><td>40</td></tr><tr><td>16726</td><td>40</td></tr><tr><td>16525</td><td>40</td></tr><tr><td>15955</td><td>40</td></tr><tr><td>14334</td><td>40</td></tr><tr><td>17179</td><td>40</td></tr><tr><td>16003</td><td>40</td></tr><tr><td>13963</td><td>40</td></tr><tr><td>16186</td><td>40</td></tr><tr><td>13854</td><td>40</td></tr><tr><td>12747</td><td>40</td></tr><tr><td>15641</td><td>40</td></tr><tr><td>16701</td><td>40</td></tr><tr><td>14775</td><td>40</td></tr><tr><td>13183</td><td>40</td></tr><tr><td>15626</td><td>40</td></tr><tr><td>13627</td><td>40</td></tr><tr><td>15392</td><td>40</td></tr><tr><td>12429</td><td>40</td></tr><tr><td>12967</td><td>38</td></tr><tr><td>16781</td><td>38</td></tr><tr><td>15628</td><td>38</td></tr><tr><td>16945</td><td>38</td></tr><tr><td>14841</td><td>38</td></tr><tr><td>14243</td><td>38</td></tr><tr><td>16850</td><td>38</td></tr><tr><td>17519</td><td>38</td></tr><tr><td>18198</td><td>38</td></tr><tr><td>12388</td><td>38</td></tr><tr><td>17691</td><td>38</td></tr><tr><td>14741</td><td>38</td></tr><tr><td>18016</td><td>38</td></tr><tr><td>16817</td><td>38</td></tr><tr><td>15107</td><td>38</td></tr><tr><td>16134</td><td>38</td></tr><tr><td>15290</td><td>38</td></tr><tr><td>16122</td><td>38</td></tr><tr><td>13369</td><td>38</td></tr><tr><td>16843</td><td>38</td></tr><tr><td>13652</td><td>36</td></tr><tr><td>17041</td><td>36</td></tr><tr><td>16553</td><td>36</td></tr><tr><td>14643</td><td>36</td></tr><tr><td>15527</td><td>36</td></tr><tr><td>13993</td><td>36</td></tr><tr><td>14448</td><td>36</td></tr><tr><td>17732</td><td>36</td></tr><tr><td>13874</td><td>36</td></tr><tr><td>15831</td><td>36</td></tr><tr><td>17682</td><td>36</td></tr><tr><td>14167</td><td>36</td></tr><tr><td>16202</td><td>36</td></tr><tr><td>16985</td><td>36</td></tr><tr><td>18102</td><td>36</td></tr><tr><td>16833</td><td>36</td></tr><tr><td>12721</td><td>36</td></tr><tr><td>13047</td><td>36</td></tr><tr><td>17937</td><td>36</td></tr><tr><td>14825</td><td>36</td></tr><tr><td>14739</td><td>36</td></tr><tr><td>14221</td><td>36</td></tr><tr><td>15260</td><td>34</td></tr><tr><td>13506</td><td>34</td></tr><tr><td>14107</td><td>34</td></tr><tr><td>12877</td><td>34</td></tr><tr><td>16083</td><td>34</td></tr><tr><td>13233</td><td>34</td></tr><tr><td>17671</td><td>34</td></tr><tr><td>16705</td><td>34</td></tr><tr><td>17855</td><td>34</td></tr><tr><td>17095</td><td>34</td></tr><tr><td>12348</td><td>34</td></tr><tr><td>13999</td><td>34</td></tr><tr><td>17324</td><td>34</td></tr><tr><td>15465</td><td>34</td></tr><tr><td>14913</td><td>34</td></tr><tr><td>17188</td><td>34</td></tr><tr><td>15346</td><td>34</td></tr><tr><td>17456</td><td>34</td></tr><tr><td>15646</td><td>34</td></tr><tr><td>12928</td><td>34</td></tr><tr><td>14770</td><td>34</td></tr><tr><td>16883</td><td>34</td></tr><tr><td>17343</td><td>34</td></tr><tr><td>17730</td><td>34</td></tr><tr><td>15823</td><td>34</td></tr><tr><td>15984</td><td>34</td></tr><tr><td>13313</td><td>34</td></tr><tr><td>17659</td><td>34</td></tr><tr><td>15882</td><td>34</td></tr><tr><td>12797</td><td>34</td></tr><tr><td>14932</td><td>34</td></tr><tr><td>15312</td><td>34</td></tr><tr><td>13402</td><td>34</td></tr><tr><td>18229</td><td>34</td></tr><tr><td>15164</td><td>32</td></tr><tr><td>12963</td><td>32</td></tr><tr><td>12763</td><td>32</td></tr><tr><td>16293</td><td>32</td></tr><tr><td>16271</td><td>32</td></tr><tr><td>17869</td><td>32</td></tr><tr><td>12515</td><td>32</td></tr><tr><td>15965</td><td>32</td></tr><tr><td>15822</td><td>32</td></tr><tr><td>17146</td><td>32</td></tr><tr><td>13140</td><td>32</td></tr><tr><td>13756</td><td>32</td></tr><tr><td>16955</td><td>32</td></tr><tr><td>12423</td><td>32</td></tr><tr><td>12359</td><td>32</td></tr><tr><td>14976</td><td>32</td></tr><tr><td>12731</td><td>32</td></tr><tr><td>12942</td><td>32</td></tr><tr><td>13959</td><td>32</td></tr><tr><td>15363</td><td>32</td></tr><tr><td>15224</td><td>32</td></tr><tr><td>18097</td><td>32</td></tr><tr><td>16899</td><td>32</td></tr><tr><td>13253</td><td>32</td></tr><tr><td>14209</td><td>32</td></tr><tr><td>14217</td><td>32</td></tr><tr><td>16556</td><td>32</td></tr><tr><td>14867</td><td>32</td></tr><tr><td>12524</td><td>32</td></tr><tr><td>15111</td><td>32</td></tr><tr><td>18178</td><td>32</td></tr><tr><td>14621</td><td>32</td></tr><tr><td>16456</td><td>32</td></tr><tr><td>18095</td><td>32</td></tr><tr><td>14175</td><td>32</td></tr><tr><td>14401</td><td>30</td></tr><tr><td>16306</td><td>30</td></tr><tr><td>16717</td><td>30</td></tr><tr><td>16037</td><td>30</td></tr><tr><td>14312</td><td>30</td></tr><tr><td>13531</td><td>30</td></tr><tr><td>14047</td><td>30</td></tr><tr><td>14560</td><td>30</td></tr><tr><td>17809</td><td>30</td></tr><tr><td>14916</td><td>30</td></tr><tr><td>12489</td><td>30</td></tr><tr><td>15192</td><td>30</td></tr><tr><td>18171</td><td>30</td></tr><tr><td>14293</td><td>30</td></tr><tr><td>17980</td><td>30</td></tr><tr><td>12662</td><td>30</td></tr><tr><td>17676</td><td>30</td></tr><tr><td>13649</td><td>30</td></tr><tr><td>14709</td><td>30</td></tr><tr><td>13199</td><td>30</td></tr><tr><td>16812</td><td>30</td></tr><tr><td>15835</td><td>30</td></tr><tr><td>16748</td><td>30</td></tr><tr><td>13008</td><td>30</td></tr><tr><td>13611</td><td>30</td></tr><tr><td>17048</td><td>30</td></tr><tr><td>15860</td><td>30</td></tr><tr><td>14673</td><td>30</td></tr><tr><td>16497</td><td>30</td></tr><tr><td>17128</td><td>28</td></tr><tr><td>16926</td><td>28</td></tr><tr><td>14344</td><td>28</td></tr><tr><td>12944</td><td>28</td></tr><tr><td>12474</td><td>28</td></tr><tr><td>14176</td><td>28</td></tr><tr><td>15658</td><td>28</td></tr><tr><td>16401</td><td>28</td></tr><tr><td>16700</td><td>28</td></tr><tr><td>12417</td><td>28</td></tr><tr><td>14487</td><td>28</td></tr><tr><td>13077</td><td>28</td></tr><tr><td>14205</td><td>28</td></tr><tr><td>16583</td><td>28</td></tr><tr><td>17214</td><td>28</td></tr><tr><td>16250</td><td>28</td></tr><tr><td>17293</td><td>28</td></tr><tr><td>14498</td><td>28</td></tr><tr><td>13138</td><td>28</td></tr><tr><td>12951</td><td>28</td></tr><tr><td>15752</td><td>28</td></tr><tr><td>12785</td><td>28</td></tr><tr><td>15028</td><td>28</td></tr><tr><td>13317</td><td>28</td></tr><tr><td>18071</td><td>28</td></tr><tr><td>12709</td><td>28</td></tr><tr><td>15827</td><td>28</td></tr><tr><td>17819</td><td>28</td></tr><tr><td>14532</td><td>28</td></tr><tr><td>12483</td><td>28</td></tr><tr><td>18075</td><td>28</td></tr><tr><td>13065</td><td>28</td></tr><tr><td>16315</td><td>28</td></tr><tr><td>13090</td><td>26</td></tr><tr><td>16858</td><td>26</td></tr><tr><td>12915</td><td>26</td></tr><tr><td>16770</td><td>26</td></tr><tr><td>14708</td><td>26</td></tr><tr><td>14440</td><td>26</td></tr><tr><td>14878</td><td>26</td></tr><tr><td>13284</td><td>26</td></tr><tr><td>18074</td><td>26</td></tr><tr><td>16125</td><td>26</td></tr><tr><td>13230</td><td>26</td></tr><tr><td>17491</td><td>26</td></tr><tr><td>14715</td><td>26</td></tr><tr><td>12728</td><td>26</td></tr><tr><td>15845</td><td>26</td></tr><tr><td>15607</td><td>26</td></tr><tr><td>14282</td><td>26</td></tr><tr><td>13165</td><td>26</td></tr><tr><td>13473</td><td>26</td></tr><tr><td>16912</td><td>26</td></tr><tr><td>14078</td><td>26</td></tr><tr><td>16510</td><td>26</td></tr><tr><td>17988</td><td>26</td></tr><tr><td>12427</td><td>26</td></tr><tr><td>12530</td><td>26</td></tr><tr><td>17552</td><td>26</td></tr><tr><td>12422</td><td>26</td></tr><tr><td>17007</td><td>26</td></tr><tr><td>13565</td><td>26</td></tr><tr><td>17742</td><td>26</td></tr><tr><td>17802</td><td>24</td></tr><tr><td>17800</td><td>24</td></tr><tr><td>15246</td><td>24</td></tr><tr><td>16013</td><td>24</td></tr><tr><td>17978</td><td>24</td></tr><tr><td>14150</td><td>24</td></tr><tr><td>17739</td><td>24</td></tr><tr><td>17381</td><td>24</td></tr><tr><td>15769</td><td>24</td></tr><tr><td>16221</td><td>24</td></tr><tr><td>16203</td><td>24</td></tr><tr><td>15605</td><td>24</td></tr><tr><td>15922</td><td>24</td></tr><tr><td>16546</td><td>24</td></tr><tr><td>16353</td><td>24</td></tr><tr><td>14309</td><td>24</td></tr><tr><td>15939</td><td>24</td></tr><tr><td>13898</td><td>24</td></tr><tr><td>13941</td><td>24</td></tr><tr><td>16638</td><td>24</td></tr><tr><td>13225</td><td>24</td></tr><tr><td>17001</td><td>24</td></tr><tr><td>17288</td><td>24</td></tr><tr><td>17629</td><td>24</td></tr><tr><td>16233</td><td>24</td></tr><tr><td>16098</td><td>24</td></tr><tr><td>17990</td><td>24</td></tr><tr><td>14898</td><td>24</td></tr><tr><td>15780</td><td>24</td></tr><tr><td>17418</td><td>24</td></tr><tr><td>15353</td><td>24</td></tr><tr><td>16954</td><td>24</td></tr><tr><td>16551</td><td>22</td></tr><tr><td>13000</td><td>22</td></tr><tr><td>16282</td><td>22</td></tr><tr><td>15062</td><td>22</td></tr><tr><td>13034</td><td>22</td></tr><tr><td>15805</td><td>22</td></tr><tr><td>13890</td><td>22</td></tr><tr><td>12738</td><td>22</td></tr><tr><td>12402</td><td>22</td></tr><tr><td>17862</td><td>22</td></tr><tr><td>14220</td><td>22</td></tr><tr><td>12724</td><td>22</td></tr><tr><td>12829</td><td>22</td></tr><tr><td>12441</td><td>22</td></tr><tr><td>12820</td><td>22</td></tr><tr><td>14355</td><td>22</td></tr><tr><td>15221</td><td>22</td></tr><tr><td>17655</td><td>22</td></tr><tr><td>13033</td><td>22</td></tr><tr><td>17470</td><td>22</td></tr><tr><td>13295</td><td>22</td></tr><tr><td>17674</td><td>22</td></tr><tr><td>14114</td><td>22</td></tr><tr><td>13487</td><td>22</td></tr><tr><td>14952</td><td>20</td></tr><tr><td>16153</td><td>20</td></tr><tr><td>17848</td><td>20</td></tr><tr><td>15262</td><td>20</td></tr><tr><td>13705</td><td>20</td></tr><tr><td>15602</td><td>20</td></tr><tr><td>18190</td><td>20</td></tr><tr><td>12527</td><td>20</td></tr><tr><td>14533</td><td>20</td></tr><tr><td>15660</td><td>20</td></tr><tr><td>16656</td><td>20</td></tr><tr><td>16905</td><td>20</td></tr><tr><td>12672</td><td>20</td></tr><tr><td>13108</td><td>20</td></tr><tr><td>16458</td><td>20</td></tr><tr><td>17496</td><td>20</td></tr><tr><td>14889</td><td>20</td></tr><tr><td>17227</td><td>20</td></tr><tr><td>13497</td><td>20</td></tr><tr><td>16863</td><td>20</td></tr><tr><td>17951</td><td>20</td></tr><tr><td>17816</td><td>20</td></tr><tr><td>14479</td><td>20</td></tr><tr><td>12386</td><td>20</td></tr><tr><td>15606</td><td>20</td></tr><tr><td>16112</td><td>20</td></tr><tr><td>17235</td><td>20</td></tr><tr><td>14732</td><td>20</td></tr><tr><td>14466</td><td>20</td></tr><tr><td>12551</td><td>20</td></tr><tr><td>15713</td><td>20</td></tr><tr><td>17236</td><td>18</td></tr><tr><td>17525</td><td>18</td></tr><tr><td>12651</td><td>18</td></tr><tr><td>15447</td><td>18</td></tr><tr><td>16752</td><td>18</td></tr><tr><td>17646</td><td>18</td></tr><tr><td>15204</td><td>18</td></tr><tr><td>16607</td><td>18</td></tr><tr><td>12601</td><td>18</td></tr><tr><td>13064</td><td>18</td></tr><tr><td>14237</td><td>18</td></tr><tr><td>16983</td><td>18</td></tr><tr><td>16654</td><td>18</td></tr><tr><td>16600</td><td>18</td></tr><tr><td>13614</td><td>18</td></tr><tr><td>17454</td><td>18</td></tr><tr><td>13329</td><td>18</td></tr><tr><td>17873</td><td>18</td></tr><tr><td>13984</td><td>18</td></tr><tr><td>17760</td><td>18</td></tr><tr><td>16034</td><td>18</td></tr><tr><td>13817</td><td>18</td></tr><tr><td>12557</td><td>18</td></tr><tr><td>17135</td><td>18</td></tr><tr><td>14001</td><td>18</td></tr><tr><td>13579</td><td>18</td></tr><tr><td>16235</td><td>18</td></tr><tr><td>14794</td><td>18</td></tr><tr><td>15987</td><td>18</td></tr><tr><td>16665</td><td>18</td></tr><tr><td>18269</td><td>16</td></tr><tr><td>14414</td><td>16</td></tr><tr><td>13397</td><td>16</td></tr><tr><td>17849</td><td>16</td></tr><tr><td>17696</td><td>16</td></tr><tr><td>14242</td><td>16</td></tr><tr><td>15370</td><td>16</td></tr><tr><td>14766</td><td>16</td></tr><tr><td>17033</td><td>16</td></tr><tr><td>13021</td><td>16</td></tr><tr><td>14737</td><td>16</td></tr><tr><td>16086</td><td>16</td></tr><tr><td>16658</td><td>16</td></tr><tr><td>17643</td><td>16</td></tr><tr><td>16634</td><td>16</td></tr><tr><td>15081</td><td>16</td></tr><tr><td>15366</td><td>16</td></tr><tr><td>15139</td><td>16</td></tr><tr><td>16473</td><td>16</td></tr><tr><td>14238</td><td>16</td></tr><tr><td>17371</td><td>16</td></tr><tr><td>16048</td><td>16</td></tr><tr><td>15482</td><td>16</td></tr><tr><td>16351</td><td>16</td></tr><tr><td>12808</td><td>14</td></tr><tr><td>18259</td><td>14</td></tr><tr><td>16365</td><td>14</td></tr><tr><td>17420</td><td>14</td></tr><tr><td>17969</td><td>14</td></tr><tr><td>12523</td><td>14</td></tr><tr><td>13787</td><td>14</td></tr><tr><td>12686</td><td>14</td></tr><tr><td>13082</td><td>14</td></tr><tr><td>14761</td><td>14</td></tr><tr><td>15171</td><td>14</td></tr><tr><td>13807</td><td>14</td></tr><tr><td>15841</td><td>14</td></tr><tr><td>16140</td><td>14</td></tr><tr><td>13786</td><td>14</td></tr><tr><td>12494</td><td>14</td></tr><tr><td>12437</td><td>14</td></tr><tr><td>15361</td><td>14</td></tr><tr><td>18144</td><td>14</td></tr><tr><td>12600</td><td>14</td></tr><tr><td>15569</td><td>14</td></tr><tr><td>16062</td><td>14</td></tr><tr><td>13922</td><td>14</td></tr><tr><td>13092</td><td>14</td></tr><tr><td>17526</td><td>14</td></tr><tr><td>17076</td><td>14</td></tr><tr><td>17548</td><td>14</td></tr><tr><td>15395</td><td>14</td></tr><tr><td>18061</td><td>12</td></tr><tr><td>16042</td><td>12</td></tr><tr><td>18044</td><td>12</td></tr><tr><td>15100</td><td>12</td></tr><tr><td>13880</td><td>12</td></tr><tr><td>13255</td><td>12</td></tr><tr><td>17524</td><td>12</td></tr><tr><td>12476</td><td>12</td></tr><tr><td>15266</td><td>12</td></tr><tr><td>13672</td><td>12</td></tr><tr><td>15777</td><td>12</td></tr><tr><td>16531</td><td>12</td></tr><tr><td>12939</td><td>12</td></tr><tr><td>15422</td><td>12</td></tr><tr><td>13027</td><td>12</td></tr><tr><td>12726</td><td>12</td></tr><tr><td>15180</td><td>12</td></tr><tr><td>14618</td><td>12</td></tr><tr><td>16928</td><td>12</td></tr><tr><td>15512</td><td>12</td></tr><tr><td>12980</td><td>12</td></tr><tr><td>16493</td><td>12</td></tr><tr><td>16596</td><td>12</td></tr><tr><td>15689</td><td>12</td></tr><tr><td>18037</td><td>12</td></tr><tr><td>16996</td><td>12</td></tr><tr><td>17018</td><td>12</td></tr><tr><td>14496</td><td>10</td></tr><tr><td>15973</td><td>10</td></tr><tr><td>14437</td><td>10</td></tr><tr><td>17389</td><td>10</td></tr><tr><td>13238</td><td>10</td></tr><tr><td>14045</td><td>10</td></tr><tr><td>15350</td><td>10</td></tr><tr><td>16552</td><td>10</td></tr><tr><td>15018</td><td>10</td></tr><tr><td>13527</td><td>10</td></tr><tr><td>17430</td><td>10</td></tr><tr><td>15101</td><td>10</td></tr><tr><td>13324</td><td>10</td></tr><tr><td>15732</td><td>10</td></tr><tr><td>13958</td><td>10</td></tr><tr><td>14543</td><td>10</td></tr><tr><td>14828</td><td>10</td></tr><tr><td>16948</td><td>10</td></tr><tr><td>15304</td><td>10</td></tr><tr><td>13094</td><td>10</td></tr><tr><td>18062</td><td>10</td></tr><tr><td>15749</td><td>10</td></tr><tr><td>15189</td><td>10</td></tr><tr><td>16816</td><td>10</td></tr><tr><td>15347</td><td>10</td></tr><tr><td>12691</td><td>10</td></tr><tr><td>17702</td><td>10</td></tr><tr><td>16519</td><td>10</td></tr><tr><td>17857</td><td>10</td></tr><tr><td>18032</td><td>10</td></tr><tr><td>15881</td><td>10</td></tr><tr><td>13305</td><td>10</td></tr><tr><td>17025</td><td>10</td></tr><tr><td>16163</td><td>10</td></tr><tr><td>15938</td><td>10</td></tr><tr><td>16359</td><td>10</td></tr><tr><td>12500</td><td>10</td></tr><tr><td>16835</td><td>10</td></tr><tr><td>14213</td><td>10</td></tr><tr><td>18050</td><td>10</td></tr><tr><td>12678</td><td>10</td></tr><tr><td>17924</td><td>10</td></tr><tr><td>17572</td><td>8</td></tr><tr><td>14426</td><td>8</td></tr><tr><td>15759</td><td>8</td></tr><tr><td>13502</td><td>8</td></tr><tr><td>14784</td><td>8</td></tr><tr><td>14491</td><td>8</td></tr><tr><td>14373</td><td>8</td></tr><tr><td>15079</td><td>8</td></tr><tr><td>12736</td><td>8</td></tr><tr><td>17339</td><td>8</td></tr><tr><td>17457</td><td>8</td></tr><tr><td>15160</td><td>8</td></tr><tr><td>13784</td><td>8</td></tr><tr><td>14201</td><td>8</td></tr><tr><td>15197</td><td>8</td></tr><tr><td>18256</td><td>8</td></tr><tr><td>12734</td><td>8</td></tr><tr><td>16321</td><td>8</td></tr><tr><td>13693</td><td>8</td></tr><tr><td>12665</td><td>8</td></tr><tr><td>16997</td><td>8</td></tr><tr><td>15899</td><td>8</td></tr><tr><td>14113</td><td>8</td></tr><tr><td>17621</td><td>8</td></tr><tr><td>15838</td><td>8</td></tr><tr><td>12913</td><td>8</td></tr><tr><td>13629</td><td>6</td></tr><tr><td>15329</td><td>6</td></tr><tr><td>17888</td><td>6</td></tr><tr><td>13136</td><td>6</td></tr><tr><td>12434</td><td>6</td></tr><tr><td>15208</td><td>6</td></tr><tr><td>12855</td><td>6</td></tr><tr><td>16168</td><td>6</td></tr><tr><td>17580</td><td>6</td></tr><tr><td>14865</td><td>6</td></tr><tr><td>17044</td><td>6</td></tr><tr><td>14236</td><td>6</td></tr><tr><td>17700</td><td>6</td></tr><tr><td>15611</td><td>6</td></tr><tr><td>14589</td><td>6</td></tr><tr><td>14409</td><td>6</td></tr><tr><td>17204</td><td>6</td></tr><tr><td>16262</td><td>6</td></tr><tr><td>15299</td><td>6</td></tr><tr><td>15240</td><td>6</td></tr><tr><td>15587</td><td>6</td></tr><tr><td>17707</td><td>6</td></tr><tr><td>13011</td><td>6</td></tr><tr><td>16950</td><td>6</td></tr><tr><td>12605</td><td>6</td></tr><tr><td>16565</td><td>6</td></tr><tr><td>14101</td><td>6</td></tr><tr><td>13144</td><td>6</td></tr><tr><td>17820</td><td>6</td></tr><tr><td>18225</td><td>6</td></tr><tr><td>13948</td><td>6</td></tr><tr><td>17026</td><td>6</td></tr><tr><td>16679</td><td>6</td></tr><tr><td>14292</td><td>6</td></tr><tr><td>14185</td><td>6</td></tr><tr><td>14744</td><td>6</td></tr><tr><td>17396</td><td>6</td></tr><tr><td>14462</td><td>6</td></tr><tr><td>16861</td><td>4</td></tr><tr><td>16927</td><td>4</td></tr><tr><td>15664</td><td>4</td></tr><tr><td>18230</td><td>4</td></tr><tr><td>12666</td><td>4</td></tr><tr><td>12791</td><td>4</td></tr><tr><td>14264</td><td>4</td></tr><tr><td>13929</td><td>4</td></tr><tr><td>12643</td><td>4</td></tr><tr><td>13211</td><td>4</td></tr><tr><td>16570</td><td>4</td></tr><tr><td>17460</td><td>4</td></tr><tr><td>17547</td><td>4</td></tr><tr><td>17411</td><td>4</td></tr><tr><td>14821</td><td>4</td></tr><tr><td>15834</td><td>4</td></tr><tr><td>15649</td><td>4</td></tr><tr><td>12870</td><td>4</td></tr><tr><td>14777</td><td>4</td></tr><tr><td>17949</td><td>4</td></tr><tr><td>13115</td><td>4</td></tr><tr><td>15181</td><td>4</td></tr><tr><td>16094</td><td>4</td></tr><tr><td>14295</td><td>4</td></tr><tr><td>17090</td><td>4</td></tr><tr><td>16754</td><td>4</td></tr><tr><td>17262</td><td>4</td></tr><tr><td>15945</td><td>4</td></tr><tr><td>14987</td><td>4</td></tr><tr><td>13831</td><td>4</td></tr><tr><td>12931</td><td>4</td></tr><tr><td>16279</td><td>4</td></tr><tr><td>12989</td><td>4</td></tr><tr><td>16554</td><td>4</td></tr><tr><td>12346</td><td>4</td></tr><tr><td>17181</td><td>4</td></tr><tr><td>12649</td><td>4</td></tr><tr><td>12924</td><td>4</td></tr><tr><td>13802</td><td>4</td></tr><tr><td>16995</td><td>2</td></tr><tr><td>13029</td><td>2</td></tr><tr><td>17925</td><td>2</td></tr><tr><td>16579</td><td>2</td></tr><tr><td>17442</td><td>2</td></tr><tr><td>13145</td><td>2</td></tr><tr><td>18113</td><td>2</td></tr><tr><td>18141</td><td>2</td></tr><tr><td>17752</td><td>2</td></tr><tr><td>18233</td><td>2</td></tr><tr><td>13747</td><td>2</td></tr><tr><td>16424</td><td>2</td></tr><tr><td>12865</td><td>2</td></tr><tr><td>13750</td><td>2</td></tr><tr><td>13266</td><td>2</td></tr><tr><td>17633</td><td>2</td></tr><tr><td>16500</td><td>2</td></tr><tr><td>13748</td><td>2</td></tr><tr><td>12875</td><td>2</td></tr><tr><td>17616</td><td>2</td></tr><tr><td>13481</td><td>2</td></tr><tr><td>12503</td><td>2</td></tr><tr><td>13883</td><td>2</td></tr><tr><td>12586</td><td>2</td></tr><tr><td>12755</td><td>2</td></tr><tr><td>14441</td><td>2</td></tr><tr><td>14850</td><td>2</td></tr><tr><td>14119</td><td>2</td></tr><tr><td>13829</td><td>2</td></tr><tr><td>18193</td><td>2</td></tr><tr><td>13368</td><td>2</td></tr><tr><td>15510</td><td>2</td></tr><tr><td>15380</td><td>2</td></tr><tr><td>16532</td><td>2</td></tr><tr><td>14576</td><td>2</td></tr><tr><td>17720</td><td>2</td></tr><tr><td>14944</td><td>2</td></tr><tr><td>14608</td><td>2</td></tr><tr><td>16711</td><td>2</td></tr><tr><td>16593</td><td>2</td></tr><tr><td>15468</td><td>2</td></tr><tr><td>15661</td><td>2</td></tr><tr><td>17307</td><td>2</td></tr><tr><td>15562</td><td>2</td></tr><tr><td>15070</td><td>2</td></tr><tr><td>14206</td><td>2</td></tr><tr><td>16810</td><td>2</td></tr><tr><td>17306</td><td>2</td></tr><tr><td>14090</td><td>2</td></tr><tr><td>14679</td><td>2</td></tr><tr><td>16138</td><td>2</td></tr><tr><td>17870</td><td>2</td></tr><tr><td>13953</td><td>2</td></tr><tr><td>13270</td><td>2</td></tr><tr><td>13848</td><td>2</td></tr><tr><td>14866</td><td>2</td></tr><tr><td>15179</td><td>2</td></tr><tr><td>13104</td><td>2</td></tr><tr><td>17239</td><td>2</td></tr><tr><td>16892</td><td>2</td></tr><tr><td>15316</td><td>2</td></tr></tbody></table></div>"
      ]
     },
     "metadata": {
      "application/vnd.databricks.v1+output": {
       "addedWidgets": {},
       "aggData": [],
       "aggError": "",
       "aggOverflow": false,
       "aggSchema": [],
       "aggSeriesLimitReached": false,
       "aggType": "",
       "arguments": {},
       "columnCustomDisplayInfos": {},
       "data": [
        [
         null,
         50562
        ],
        [
         12748,
         1390
        ],
        [
         17841,
         962
        ],
        [
         14606,
         842
        ],
        [
         15311,
         836
        ],
        [
         14911,
         754
        ],
        [
         17850,
         594
        ],
        [
         13089,
         522
        ],
        [
         13081,
         522
        ],
        [
         18118,
         500
        ],
        [
         15039,
         494
        ],
        [
         12681,
         406
        ],
        [
         14298,
         394
        ],
        [
         14646,
         368
        ],
        [
         14505,
         366
        ],
        [
         14527,
         348
        ],
        [
         13174,
         338
        ],
        [
         14667,
         336
        ],
        [
         15061,
         328
        ],
        [
         17341,
         322
        ],
        [
         15574,
         318
        ],
        [
         15464,
         314
        ],
        [
         18116,
         310
        ],
        [
         18041,
         306
        ],
        [
         15808,
         298
        ],
        [
         12501,
         298
        ],
        [
         12433,
         294
        ],
        [
         14800,
         292
        ],
        [
         14085,
         288
        ],
        [
         17511,
         288
        ],
        [
         15570,
         288
        ],
        [
         15498,
         288
        ],
        [
         16033,
         282
        ],
        [
         15379,
         276
        ],
        [
         17340,
         274
        ],
        [
         15044,
         268
        ],
        [
         17284,
         262
        ],
        [
         14733,
         248
        ],
        [
         17338,
         244
        ],
        [
         17218,
         238
        ],
        [
         15998,
         236
        ],
        [
         13488,
         234
        ],
        [
         17059,
         234
        ],
        [
         14415,
         234
        ],
        [
         17406,
         232
        ],
        [
         13093,
         232
        ],
        [
         15867,
         230
        ],
        [
         15640,
         230
        ],
        [
         15356,
         230
        ],
        [
         15601,
         230
        ],
        [
         13069,
         228
        ],
        [
         15514,
         226
        ],
        [
         17827,
         224
        ],
        [
         15005,
         224
        ],
        [
         14669,
         220
        ],
        [
         12471,
         218
        ],
        [
         15880,
         212
        ],
        [
         16713,
         212
        ],
        [
         17757,
         210
        ],
        [
         15023,
         210
        ],
        [
         15719,
         208
        ],
        [
         17602,
         206
        ],
        [
         12451,
         202
        ],
        [
         17609,
         200
        ],
        [
         13715,
         200
        ],
        [
         15727,
         198
        ],
        [
         12841,
         198
        ],
        [
         13319,
         196
        ],
        [
         12484,
         196
        ],
        [
         15194,
         196
        ],
        [
         16782,
         194
        ],
        [
         15555,
         192
        ],
        [
         17920,
         190
        ],
        [
         16161,
         190
        ],
        [
         14083,
         190
        ],
        [
         12539,
         186
        ],
        [
         16725,
         184
        ],
        [
         17894,
         184
        ],
        [
         12370,
         182
        ],
        [
         13680,
         182
        ],
        [
         17611,
         180
        ],
        [
         14723,
         180
        ],
        [
         17019,
         180
        ],
        [
         14796,
         178
        ],
        [
         12682,
         178
        ],
        [
         15708,
         178
        ],
        [
         13694,
         176
        ],
        [
         12766,
         176
        ],
        [
         14587,
         176
        ],
        [
         13458,
         174
        ],
        [
         15426,
         174
        ],
        [
         16686,
         174
        ],
        [
         13798,
         174
        ],
        [
         17259,
         174
        ],
        [
         17085,
         172
        ],
        [
         17231,
         170
        ],
        [
         17968,
         170
        ],
        [
         17954,
         168
        ],
        [
         12472,
         168
        ],
        [
         12567,
         166
        ],
        [
         15358,
         166
        ],
        [
         15034,
         164
        ],
        [
         18055,
         164
        ],
        [
         13564,
         164
        ],
        [
         16931,
         162
        ],
        [
         15983,
         162
        ],
        [
         17591,
         160
        ],
        [
         17961,
         158
        ],
        [
         17787,
         158
        ],
        [
         14307,
         158
        ],
        [
         17365,
         158
        ],
        [
         17811,
         156
        ],
        [
         17198,
         154
        ],
        [
         18069,
         154
        ],
        [
         12683,
         154
        ],
        [
         16923,
         154
        ],
        [
         17722,
         152
        ],
        [
         15529,
         152
        ],
        [
         14573,
         152
        ],
        [
         17690,
         152
        ],
        [
         14329,
         152
        ],
        [
         14180,
         152
        ],
        [
         16904,
         152
        ],
        [
         17965,
         152
        ],
        [
         17211,
         150
        ],
        [
         17372,
         150
        ],
        [
         17017,
         150
        ],
        [
         16710,
         150
        ],
        [
         16065,
         148
        ],
        [
         12585,
         148
        ],
        [
         17634,
         148
        ],
        [
         17450,
         148
        ],
        [
         17449,
         146
        ],
        [
         17897,
         146
        ],
        [
         13767,
         146
        ],
        [
         17191,
         144
        ],
        [
         18109,
         144
        ],
        [
         12637,
         144
        ],
        [
         13050,
         144
        ],
        [
         12578,
         142
        ],
        [
         14729,
         142
        ],
        [
         16241,
         142
        ],
        [
         14135,
         140
        ],
        [
         16016,
         140
        ],
        [
         14702,
         140
        ],
        [
         13102,
         140
        ],
        [
         14472,
         140
        ],
        [
         16873,
         140
        ],
        [
         15503,
         140
        ],
        [
         13764,
         138
        ],
        [
         16891,
         138
        ],
        [
         14081,
         138
        ],
        [
         12383,
         138
        ],
        [
         17315,
         136
        ],
        [
         13013,
         134
        ],
        [
         12577,
         134
        ],
        [
         16274,
         134
        ],
        [
         16327,
         132
        ],
        [
         18043,
         132
        ],
        [
         12872,
         132
        ],
        [
         16795,
         132
        ],
        [
         15889,
         132
        ],
        [
         17581,
         130
        ],
        [
         17976,
         130
        ],
        [
         16919,
         130
        ],
        [
         17530,
         130
        ],
        [
         15862,
         128
        ],
        [
         16814,
         128
        ],
        [
         17884,
         128
        ],
        [
         15898,
         128
        ],
        [
         17890,
         128
        ],
        [
         15033,
         128
        ],
        [
         14395,
         126
        ],
        [
         16244,
         126
        ],
        [
         17097,
         126
        ],
        [
         13155,
         126
        ],
        [
         17126,
         126
        ],
        [
         14657,
         124
        ],
        [
         15296,
         122
        ],
        [
         13124,
         122
        ],
        [
         14680,
         122
        ],
        [
         16719,
         120
        ],
        [
         16395,
         120
        ],
        [
         17238,
         120
        ],
        [
         17596,
         120
        ],
        [
         16779,
         120
        ],
        [
         13030,
         120
        ],
        [
         13468,
         120
        ],
        [
         16255,
         120
        ],
        [
         16520,
         120
        ],
        [
         12921,
         118
        ],
        [
         15159,
         118
        ],
        [
         12838,
         118
        ],
        [
         14769,
         118
        ],
        [
         14099,
         118
        ],
        [
         17975,
         116
        ],
        [
         14572,
         116
        ],
        [
         17908,
         116
        ],
        [
         15460,
         116
        ],
        [
         17860,
         116
        ],
        [
         12867,
         116
        ],
        [
         16402,
         114
        ],
        [
         15021,
         114
        ],
        [
         14544,
         114
        ],
        [
         15525,
         114
        ],
        [
         18283,
         114
        ],
        [
         15002,
         112
        ],
        [
         15547,
         112
        ],
        [
         15157,
         112
        ],
        [
         17243,
         110
        ],
        [
         16805,
         110
        ],
        [
         18156,
         110
        ],
        [
         16270,
         108
        ],
        [
         18223,
         108
        ],
        [
         15856,
         108
        ],
        [
         15012,
         108
        ],
        [
         17796,
         108
        ],
        [
         14565,
         108
        ],
        [
         17303,
         106
        ],
        [
         16503,
         106
        ],
        [
         12626,
         106
        ],
        [
         16791,
         106
        ],
        [
         12647,
         106
        ],
        [
         15351,
         106
        ],
        [
         15673,
         106
        ],
        [
         17618,
         106
        ],
        [
         17062,
         106
        ],
        [
         13982,
         104
        ],
        [
         13838,
         104
        ],
        [
         17364,
         104
        ],
        [
         16670,
         104
        ],
        [
         12753,
         104
        ],
        [
         13097,
         104
        ],
        [
         12540,
         104
        ],
        [
         14031,
         102
        ],
        [
         14159,
         102
        ],
        [
         16550,
         102
        ],
        [
         15235,
         102
        ],
        [
         13983,
         100
        ],
        [
         16916,
         100
        ],
        [
         14449,
         100
        ],
        [
         15281,
         100
        ],
        [
         14985,
         100
        ],
        [
         15532,
         100
        ],
        [
         14506,
         100
        ],
        [
         17091,
         100
        ],
        [
         15615,
         100
        ],
        [
         17428,
         100
        ],
        [
         13418,
         98
        ],
        [
         17555,
         98
        ],
        [
         16059,
         98
        ],
        [
         15581,
         98
        ],
        [
         15919,
         98
        ],
        [
         17392,
         98
        ],
        [
         15024,
         96
        ],
        [
         14057,
         96
        ],
        [
         12652,
         96
        ],
        [
         14907,
         96
        ],
        [
         16889,
         96
        ],
        [
         13408,
         96
        ],
        [
         13451,
         96
        ],
        [
         15916,
         96
        ],
        [
         17967,
         96
        ],
        [
         16746,
         94
        ],
        [
         16735,
         94
        ],
        [
         17346,
         94
        ],
        [
         12415,
         94
        ],
        [
         15518,
         92
        ],
        [
         16727,
         92
        ],
        [
         13267,
         92
        ],
        [
         12481,
         92
        ],
        [
         12720,
         92
        ],
        [
         14156,
         92
        ],
        [
         13004,
         92
        ],
        [
         14404,
         92
        ],
        [
         16442,
         92
        ],
        [
         16893,
         90
        ],
        [
         17377,
         90
        ],
        [
         16718,
         90
        ],
        [
         16558,
         90
        ],
        [
         13078,
         90
        ],
        [
         13370,
         88
        ],
        [
         17230,
         88
        ],
        [
         14062,
         88
        ],
        [
         14684,
         88
        ],
        [
         17576,
         88
        ],
        [
         14713,
         88
        ],
        [
         18168,
         88
        ],
        [
         15858,
         88
        ],
        [
         13777,
         86
        ],
        [
         17551,
         86
        ],
        [
         12490,
         86
        ],
        [
         17838,
         86
        ],
        [
         15485,
         86
        ],
        [
         18212,
         86
        ],
        [
         12377,
         86
        ],
        [
         14215,
         86
        ],
        [
         14639,
         84
        ],
        [
         12480,
         84
        ],
        [
         16722,
         84
        ],
        [
         12583,
         84
        ],
        [
         17865,
         84
        ],
        [
         14092,
         84
        ],
        [
         15596,
         84
        ],
        [
         17358,
         84
        ],
        [
         16029,
         82
        ],
        [
         14961,
         82
        ],
        [
         13668,
         82
        ],
        [
         15723,
         82
        ],
        [
         15535,
         82
        ],
        [
         15046,
         80
        ],
        [
         15271,
         80
        ],
        [
         13048,
         80
        ],
        [
         18004,
         80
        ],
        [
         15502,
         80
        ],
        [
         16011,
         80
        ],
        [
         16470,
         80
        ],
        [
         17950,
         80
        ],
        [
         13162,
         80
        ],
        [
         14901,
         80
        ],
        [
         13246,
         80
        ],
        [
         15093,
         78
        ],
        [
         15298,
         78
        ],
        [
         16422,
         78
        ],
        [
         14810,
         78
        ],
        [
         17251,
         78
        ],
        [
         13593,
         78
        ],
        [
         18106,
         78
        ],
        [
         14016,
         78
        ],
        [
         17675,
         78
        ],
        [
         13263,
         78
        ],
        [
         16655,
         78
        ],
        [
         14978,
         76
        ],
        [
         15894,
         76
        ],
        [
         14577,
         76
        ],
        [
         17912,
         76
        ],
        [
         15078,
         76
        ],
        [
         13842,
         76
        ],
        [
         15716,
         76
        ],
        [
         17999,
         76
        ],
        [
         17189,
         76
        ],
        [
         13634,
         76
        ],
        [
         16145,
         76
        ],
        [
         14688,
         76
        ],
        [
         16265,
         76
        ],
        [
         12553,
         76
        ],
        [
         12839,
         74
        ],
        [
         17400,
         74
        ],
        [
         17068,
         74
        ],
        [
         17419,
         74
        ],
        [
         13187,
         74
        ],
        [
         18260,
         74
        ],
        [
         13280,
         74
        ],
        [
         14210,
         74
        ],
        [
         16210,
         74
        ],
        [
         16367,
         74
        ],
        [
         14625,
         72
        ],
        [
         18077,
         72
        ],
        [
         13455,
         72
        ],
        [
         13448,
         72
        ],
        [
         13782,
         72
        ],
        [
         12356,
         72
        ],
        [
         12971,
         72
        ],
        [
         15332,
         70
        ],
        [
         17744,
         70
        ],
        [
         14748,
         70
        ],
        [
         14146,
         70
        ],
        [
         13385,
         70
        ],
        [
         15038,
         70
        ],
        [
         14696,
         70
        ],
        [
         16303,
         70
        ],
        [
         17964,
         70
        ],
        [
         12947,
         70
        ],
        [
         17213,
         70
        ],
        [
         13221,
         70
        ],
        [
         15513,
         70
        ],
        [
         18179,
         70
        ],
        [
         15301,
         68
        ],
        [
         12868,
         68
        ],
        [
         14396,
         68
        ],
        [
         14672,
         68
        ],
        [
         15291,
         68
        ],
        [
         16771,
         68
        ],
        [
         16907,
         68
        ],
        [
         12779,
         66
        ],
        [
         16898,
         66
        ],
        [
         17799,
         66
        ],
        [
         12621,
         66
        ],
        [
         13758,
         66
        ],
        [
         12708,
         66
        ],
        [
         16477,
         66
        ],
        [
         17812,
         66
        ],
        [
         16549,
         66
        ],
        [
         14051,
         66
        ],
        [
         18176,
         66
        ],
        [
         13126,
         64
        ],
        [
         13178,
         64
        ],
        [
         14256,
         64
        ],
        [
         14032,
         64
        ],
        [
         12395,
         64
        ],
        [
         12712,
         64
        ],
        [
         13426,
         64
        ],
        [
         15996,
         64
        ],
        [
         14896,
         64
        ],
        [
         17220,
         64
        ],
        [
         15696,
         62
        ],
        [
         13656,
         62
        ],
        [
         13001,
         62
        ],
        [
         12957,
         62
        ],
        [
         17913,
         62
        ],
        [
         14189,
         62
        ],
        [
         14258,
         62
        ],
        [
         15620,
         62
        ],
        [
         13520,
         62
        ],
        [
         14779,
         62
        ],
        [
         12347,
         62
        ],
        [
         15545,
         62
        ],
        [
         14594,
         62
        ],
        [
         15032,
         60
        ],
        [
         15680,
         60
        ],
        [
         13599,
         60
        ],
        [
         13769,
         60
        ],
        [
         13523,
         60
        ],
        [
         12705,
         60
        ],
        [
         16743,
         60
        ],
        [
         16885,
         60
        ],
        [
         16326,
         60
        ],
        [
         18119,
         60
        ],
        [
         17228,
         60
        ],
        [
         17223,
         60
        ],
        [
         16539,
         60
        ],
        [
         14813,
         60
        ],
        [
         16775,
         60
        ],
        [
         16455,
         60
        ],
        [
         17069,
         60
        ],
        [
         13576,
         60
        ],
        [
         17685,
         58
        ],
        [
         14653,
         58
        ],
        [
         15059,
         58
        ],
        [
         14082,
         58
        ],
        [
         17114,
         58
        ],
        [
         18085,
         58
        ],
        [
         16676,
         58
        ],
        [
         15950,
         58
        ],
        [
         18239,
         58
        ],
        [
         17917,
         58
        ],
        [
         13862,
         58
        ],
        [
         17569,
         58
        ],
        [
         12510,
         58
        ],
        [
         15326,
         58
        ],
        [
         14270,
         58
        ],
        [
         14321,
         58
        ],
        [
         14829,
         58
        ],
        [
         14060,
         58
        ],
        [
         13269,
         56
        ],
        [
         17706,
         56
        ],
        [
         14390,
         56
        ],
        [
         14849,
         56
        ],
        [
         14735,
         56
        ],
        [
         16875,
         56
        ],
        [
         16143,
         56
        ],
        [
         17585,
         56
        ],
        [
         16218,
         56
        ],
        [
         13846,
         56
        ],
        [
         17905,
         56
        ],
        [
         17194,
         56
        ],
        [
         13859,
         56
        ],
        [
         18011,
         56
        ],
        [
         17567,
         54
        ],
        [
         15738,
         54
        ],
        [
         13496,
         54
        ],
        [
         17858,
         54
        ],
        [
         14755,
         54
        ],
        [
         13113,
         54
        ],
        [
         17402,
         54
        ],
        [
         15953,
         54
        ],
        [
         15165,
         54
        ],
        [
         14525,
         54
        ],
        [
         14030,
         54
        ],
        [
         17677,
         54
        ],
        [
         18245,
         54
        ],
        [
         17404,
         54
        ],
        [
         13310,
         54
        ],
        [
         14161,
         52
        ],
        [
         17880,
         52
        ],
        [
         13117,
         52
        ],
        [
         14514,
         52
        ],
        [
         13495,
         52
        ],
        [
         14524,
         52
        ],
        [
         17708,
         52
        ],
        [
         16150,
         52
        ],
        [
         15544,
         52
        ],
        [
         12782,
         52
        ],
        [
         15456,
         52
        ],
        [
         12413,
         52
        ],
        [
         16567,
         52
        ],
        [
         13534,
         52
        ],
        [
         14037,
         52
        ],
        [
         16191,
         52
        ],
        [
         17593,
         52
        ],
        [
         15288,
         52
        ],
        [
         13700,
         52
        ],
        [
         16019,
         50
        ],
        [
         13969,
         50
        ],
        [
         16206,
         50
        ],
        [
         16350,
         50
        ],
        [
         17158,
         50
        ],
        [
         17368,
         50
        ],
        [
         13198,
         50
        ],
        [
         15789,
         50
        ],
        [
         17692,
         50
        ],
        [
         14871,
         50
        ],
        [
         15454,
         50
        ],
        [
         12826,
         50
        ],
        [
         13148,
         48
        ],
        [
         12725,
         48
        ],
        [
         14040,
         48
        ],
        [
         17790,
         48
        ],
        [
         12793,
         48
        ],
        [
         13569,
         48
        ],
        [
         12668,
         48
        ],
        [
         16010,
         48
        ],
        [
         15394,
         48
        ],
        [
         12431,
         48
        ],
        [
         14299,
         48
        ],
        [
         18219,
         48
        ],
        [
         14428,
         48
        ],
        [
         16684,
         46
        ],
        [
         14553,
         46
        ],
        [
         14388,
         46
        ],
        [
         14320,
         46
        ],
        [
         15211,
         46
        ],
        [
         13173,
         46
        ],
        [
         15048,
         46
        ],
        [
         13107,
         46
        ],
        [
         14413,
         46
        ],
        [
         15694,
         46
        ],
        [
         14443,
         46
        ],
        [
         15811,
         46
        ],
        [
         12673,
         46
        ],
        [
         14290,
         46
        ],
        [
         17064,
         46
        ],
        [
         18065,
         44
        ],
        [
         15213,
         44
        ],
        [
         14142,
         44
        ],
        [
         12735,
         44
        ],
        [
         12393,
         44
        ],
        [
         17320,
         44
        ],
        [
         15799,
         44
        ],
        [
         16081,
         44
        ],
        [
         15687,
         44
        ],
        [
         17771,
         44
        ],
        [
         15384,
         44
        ],
        [
         13491,
         44
        ],
        [
         16393,
         44
        ],
        [
         17735,
         44
        ],
        [
         17287,
         44
        ],
        [
         16839,
         44
        ],
        [
         18226,
         44
        ],
        [
         16499,
         44
        ],
        [
         15563,
         44
        ],
        [
         14419,
         42
        ],
        [
         16385,
         42
        ],
        [
         17375,
         42
        ],
        [
         15750,
         42
        ],
        [
         13327,
         42
        ],
        [
         16316,
         42
        ],
        [
         15373,
         42
        ],
        [
         16560,
         42
        ],
        [
         13240,
         42
        ],
        [
         16252,
         42
        ],
        [
         18092,
         42
        ],
        [
         13304,
         42
        ],
        [
         15279,
         42
        ],
        [
         14229,
         42
        ],
        [
         17412,
         42
        ],
        [
         13209,
         42
        ],
        [
         13869,
         42
        ],
        [
         16411,
         42
        ],
        [
         17863,
         42
        ],
        [
         15923,
         42
        ],
        [
         15854,
         40
        ],
        [
         16726,
         40
        ],
        [
         16525,
         40
        ],
        [
         15955,
         40
        ],
        [
         14334,
         40
        ],
        [
         17179,
         40
        ],
        [
         16003,
         40
        ],
        [
         13963,
         40
        ],
        [
         16186,
         40
        ],
        [
         13854,
         40
        ],
        [
         12747,
         40
        ],
        [
         15641,
         40
        ],
        [
         16701,
         40
        ],
        [
         14775,
         40
        ],
        [
         13183,
         40
        ],
        [
         15626,
         40
        ],
        [
         13627,
         40
        ],
        [
         15392,
         40
        ],
        [
         12429,
         40
        ],
        [
         12967,
         38
        ],
        [
         16781,
         38
        ],
        [
         15628,
         38
        ],
        [
         16945,
         38
        ],
        [
         14841,
         38
        ],
        [
         14243,
         38
        ],
        [
         16850,
         38
        ],
        [
         17519,
         38
        ],
        [
         18198,
         38
        ],
        [
         12388,
         38
        ],
        [
         17691,
         38
        ],
        [
         14741,
         38
        ],
        [
         18016,
         38
        ],
        [
         16817,
         38
        ],
        [
         15107,
         38
        ],
        [
         16134,
         38
        ],
        [
         15290,
         38
        ],
        [
         16122,
         38
        ],
        [
         13369,
         38
        ],
        [
         16843,
         38
        ],
        [
         13652,
         36
        ],
        [
         17041,
         36
        ],
        [
         16553,
         36
        ],
        [
         14643,
         36
        ],
        [
         15527,
         36
        ],
        [
         13993,
         36
        ],
        [
         14448,
         36
        ],
        [
         17732,
         36
        ],
        [
         13874,
         36
        ],
        [
         15831,
         36
        ],
        [
         17682,
         36
        ],
        [
         14167,
         36
        ],
        [
         16202,
         36
        ],
        [
         16985,
         36
        ],
        [
         18102,
         36
        ],
        [
         16833,
         36
        ],
        [
         12721,
         36
        ],
        [
         13047,
         36
        ],
        [
         17937,
         36
        ],
        [
         14825,
         36
        ],
        [
         14739,
         36
        ],
        [
         14221,
         36
        ],
        [
         15260,
         34
        ],
        [
         13506,
         34
        ],
        [
         14107,
         34
        ],
        [
         12877,
         34
        ],
        [
         16083,
         34
        ],
        [
         13233,
         34
        ],
        [
         17671,
         34
        ],
        [
         16705,
         34
        ],
        [
         17855,
         34
        ],
        [
         17095,
         34
        ],
        [
         12348,
         34
        ],
        [
         13999,
         34
        ],
        [
         17324,
         34
        ],
        [
         15465,
         34
        ],
        [
         14913,
         34
        ],
        [
         17188,
         34
        ],
        [
         15346,
         34
        ],
        [
         17456,
         34
        ],
        [
         15646,
         34
        ],
        [
         12928,
         34
        ],
        [
         14770,
         34
        ],
        [
         16883,
         34
        ],
        [
         17343,
         34
        ],
        [
         17730,
         34
        ],
        [
         15823,
         34
        ],
        [
         15984,
         34
        ],
        [
         13313,
         34
        ],
        [
         17659,
         34
        ],
        [
         15882,
         34
        ],
        [
         12797,
         34
        ],
        [
         14932,
         34
        ],
        [
         15312,
         34
        ],
        [
         13402,
         34
        ],
        [
         18229,
         34
        ],
        [
         15164,
         32
        ],
        [
         12963,
         32
        ],
        [
         12763,
         32
        ],
        [
         16293,
         32
        ],
        [
         16271,
         32
        ],
        [
         17869,
         32
        ],
        [
         12515,
         32
        ],
        [
         15965,
         32
        ],
        [
         15822,
         32
        ],
        [
         17146,
         32
        ],
        [
         13140,
         32
        ],
        [
         13756,
         32
        ],
        [
         16955,
         32
        ],
        [
         12423,
         32
        ],
        [
         12359,
         32
        ],
        [
         14976,
         32
        ],
        [
         12731,
         32
        ],
        [
         12942,
         32
        ],
        [
         13959,
         32
        ],
        [
         15363,
         32
        ],
        [
         15224,
         32
        ],
        [
         18097,
         32
        ],
        [
         16899,
         32
        ],
        [
         13253,
         32
        ],
        [
         14209,
         32
        ],
        [
         14217,
         32
        ],
        [
         16556,
         32
        ],
        [
         14867,
         32
        ],
        [
         12524,
         32
        ],
        [
         15111,
         32
        ],
        [
         18178,
         32
        ],
        [
         14621,
         32
        ],
        [
         16456,
         32
        ],
        [
         18095,
         32
        ],
        [
         14175,
         32
        ],
        [
         14401,
         30
        ],
        [
         16306,
         30
        ],
        [
         16717,
         30
        ],
        [
         16037,
         30
        ],
        [
         14312,
         30
        ],
        [
         13531,
         30
        ],
        [
         14047,
         30
        ],
        [
         14560,
         30
        ],
        [
         17809,
         30
        ],
        [
         14916,
         30
        ],
        [
         12489,
         30
        ],
        [
         15192,
         30
        ],
        [
         18171,
         30
        ],
        [
         14293,
         30
        ],
        [
         17980,
         30
        ],
        [
         12662,
         30
        ],
        [
         17676,
         30
        ],
        [
         13649,
         30
        ],
        [
         14709,
         30
        ],
        [
         13199,
         30
        ],
        [
         16812,
         30
        ],
        [
         15835,
         30
        ],
        [
         16748,
         30
        ],
        [
         13008,
         30
        ],
        [
         13611,
         30
        ],
        [
         17048,
         30
        ],
        [
         15860,
         30
        ],
        [
         14673,
         30
        ],
        [
         16497,
         30
        ],
        [
         17128,
         28
        ],
        [
         16926,
         28
        ],
        [
         14344,
         28
        ],
        [
         12944,
         28
        ],
        [
         12474,
         28
        ],
        [
         14176,
         28
        ],
        [
         15658,
         28
        ],
        [
         16401,
         28
        ],
        [
         16700,
         28
        ],
        [
         12417,
         28
        ],
        [
         14487,
         28
        ],
        [
         13077,
         28
        ],
        [
         14205,
         28
        ],
        [
         16583,
         28
        ],
        [
         17214,
         28
        ],
        [
         16250,
         28
        ],
        [
         17293,
         28
        ],
        [
         14498,
         28
        ],
        [
         13138,
         28
        ],
        [
         12951,
         28
        ],
        [
         15752,
         28
        ],
        [
         12785,
         28
        ],
        [
         15028,
         28
        ],
        [
         13317,
         28
        ],
        [
         18071,
         28
        ],
        [
         12709,
         28
        ],
        [
         15827,
         28
        ],
        [
         17819,
         28
        ],
        [
         14532,
         28
        ],
        [
         12483,
         28
        ],
        [
         18075,
         28
        ],
        [
         13065,
         28
        ],
        [
         16315,
         28
        ],
        [
         13090,
         26
        ],
        [
         16858,
         26
        ],
        [
         12915,
         26
        ],
        [
         16770,
         26
        ],
        [
         14708,
         26
        ],
        [
         14440,
         26
        ],
        [
         14878,
         26
        ],
        [
         13284,
         26
        ],
        [
         18074,
         26
        ],
        [
         16125,
         26
        ],
        [
         13230,
         26
        ],
        [
         17491,
         26
        ],
        [
         14715,
         26
        ],
        [
         12728,
         26
        ],
        [
         15845,
         26
        ],
        [
         15607,
         26
        ],
        [
         14282,
         26
        ],
        [
         13165,
         26
        ],
        [
         13473,
         26
        ],
        [
         16912,
         26
        ],
        [
         14078,
         26
        ],
        [
         16510,
         26
        ],
        [
         17988,
         26
        ],
        [
         12427,
         26
        ],
        [
         12530,
         26
        ],
        [
         17552,
         26
        ],
        [
         12422,
         26
        ],
        [
         17007,
         26
        ],
        [
         13565,
         26
        ],
        [
         17742,
         26
        ],
        [
         17802,
         24
        ],
        [
         17800,
         24
        ],
        [
         15246,
         24
        ],
        [
         16013,
         24
        ],
        [
         17978,
         24
        ],
        [
         14150,
         24
        ],
        [
         17739,
         24
        ],
        [
         17381,
         24
        ],
        [
         15769,
         24
        ],
        [
         16221,
         24
        ],
        [
         16203,
         24
        ],
        [
         15605,
         24
        ],
        [
         15922,
         24
        ],
        [
         16546,
         24
        ],
        [
         16353,
         24
        ],
        [
         14309,
         24
        ],
        [
         15939,
         24
        ],
        [
         13898,
         24
        ],
        [
         13941,
         24
        ],
        [
         16638,
         24
        ],
        [
         13225,
         24
        ],
        [
         17001,
         24
        ],
        [
         17288,
         24
        ],
        [
         17629,
         24
        ],
        [
         16233,
         24
        ],
        [
         16098,
         24
        ],
        [
         17990,
         24
        ],
        [
         14898,
         24
        ],
        [
         15780,
         24
        ],
        [
         17418,
         24
        ],
        [
         15353,
         24
        ],
        [
         16954,
         24
        ],
        [
         16551,
         22
        ],
        [
         13000,
         22
        ],
        [
         16282,
         22
        ],
        [
         15062,
         22
        ],
        [
         13034,
         22
        ],
        [
         15805,
         22
        ],
        [
         13890,
         22
        ],
        [
         12738,
         22
        ],
        [
         12402,
         22
        ],
        [
         17862,
         22
        ],
        [
         14220,
         22
        ],
        [
         12724,
         22
        ],
        [
         12829,
         22
        ],
        [
         12441,
         22
        ],
        [
         12820,
         22
        ],
        [
         14355,
         22
        ],
        [
         15221,
         22
        ],
        [
         17655,
         22
        ],
        [
         13033,
         22
        ],
        [
         17470,
         22
        ],
        [
         13295,
         22
        ],
        [
         17674,
         22
        ],
        [
         14114,
         22
        ],
        [
         13487,
         22
        ],
        [
         14952,
         20
        ],
        [
         16153,
         20
        ],
        [
         17848,
         20
        ],
        [
         15262,
         20
        ],
        [
         13705,
         20
        ],
        [
         15602,
         20
        ],
        [
         18190,
         20
        ],
        [
         12527,
         20
        ],
        [
         14533,
         20
        ],
        [
         15660,
         20
        ],
        [
         16656,
         20
        ],
        [
         16905,
         20
        ],
        [
         12672,
         20
        ],
        [
         13108,
         20
        ],
        [
         16458,
         20
        ],
        [
         17496,
         20
        ],
        [
         14889,
         20
        ],
        [
         17227,
         20
        ],
        [
         13497,
         20
        ],
        [
         16863,
         20
        ],
        [
         17951,
         20
        ],
        [
         17816,
         20
        ],
        [
         14479,
         20
        ],
        [
         12386,
         20
        ],
        [
         15606,
         20
        ],
        [
         16112,
         20
        ],
        [
         17235,
         20
        ],
        [
         14732,
         20
        ],
        [
         14466,
         20
        ],
        [
         12551,
         20
        ],
        [
         15713,
         20
        ],
        [
         17236,
         18
        ],
        [
         17525,
         18
        ],
        [
         12651,
         18
        ],
        [
         15447,
         18
        ],
        [
         16752,
         18
        ],
        [
         17646,
         18
        ],
        [
         15204,
         18
        ],
        [
         16607,
         18
        ],
        [
         12601,
         18
        ],
        [
         13064,
         18
        ],
        [
         14237,
         18
        ],
        [
         16983,
         18
        ],
        [
         16654,
         18
        ],
        [
         16600,
         18
        ],
        [
         13614,
         18
        ],
        [
         17454,
         18
        ],
        [
         13329,
         18
        ],
        [
         17873,
         18
        ],
        [
         13984,
         18
        ],
        [
         17760,
         18
        ],
        [
         16034,
         18
        ],
        [
         13817,
         18
        ],
        [
         12557,
         18
        ],
        [
         17135,
         18
        ],
        [
         14001,
         18
        ],
        [
         13579,
         18
        ],
        [
         16235,
         18
        ],
        [
         14794,
         18
        ],
        [
         15987,
         18
        ],
        [
         16665,
         18
        ],
        [
         18269,
         16
        ],
        [
         14414,
         16
        ],
        [
         13397,
         16
        ],
        [
         17849,
         16
        ],
        [
         17696,
         16
        ],
        [
         14242,
         16
        ],
        [
         15370,
         16
        ],
        [
         14766,
         16
        ],
        [
         17033,
         16
        ],
        [
         13021,
         16
        ],
        [
         14737,
         16
        ],
        [
         16086,
         16
        ],
        [
         16658,
         16
        ],
        [
         17643,
         16
        ],
        [
         16634,
         16
        ],
        [
         15081,
         16
        ],
        [
         15366,
         16
        ],
        [
         15139,
         16
        ],
        [
         16473,
         16
        ],
        [
         14238,
         16
        ],
        [
         17371,
         16
        ],
        [
         16048,
         16
        ],
        [
         15482,
         16
        ],
        [
         16351,
         16
        ],
        [
         12808,
         14
        ],
        [
         18259,
         14
        ],
        [
         16365,
         14
        ],
        [
         17420,
         14
        ],
        [
         17969,
         14
        ],
        [
         12523,
         14
        ],
        [
         13787,
         14
        ],
        [
         12686,
         14
        ],
        [
         13082,
         14
        ],
        [
         14761,
         14
        ],
        [
         15171,
         14
        ],
        [
         13807,
         14
        ],
        [
         15841,
         14
        ],
        [
         16140,
         14
        ],
        [
         13786,
         14
        ],
        [
         12494,
         14
        ],
        [
         12437,
         14
        ],
        [
         15361,
         14
        ],
        [
         18144,
         14
        ],
        [
         12600,
         14
        ],
        [
         15569,
         14
        ],
        [
         16062,
         14
        ],
        [
         13922,
         14
        ],
        [
         13092,
         14
        ],
        [
         17526,
         14
        ],
        [
         17076,
         14
        ],
        [
         17548,
         14
        ],
        [
         15395,
         14
        ],
        [
         18061,
         12
        ],
        [
         16042,
         12
        ],
        [
         18044,
         12
        ],
        [
         15100,
         12
        ],
        [
         13880,
         12
        ],
        [
         13255,
         12
        ],
        [
         17524,
         12
        ],
        [
         12476,
         12
        ],
        [
         15266,
         12
        ],
        [
         13672,
         12
        ],
        [
         15777,
         12
        ],
        [
         16531,
         12
        ],
        [
         12939,
         12
        ],
        [
         15422,
         12
        ],
        [
         13027,
         12
        ],
        [
         12726,
         12
        ],
        [
         15180,
         12
        ],
        [
         14618,
         12
        ],
        [
         16928,
         12
        ],
        [
         15512,
         12
        ],
        [
         12980,
         12
        ],
        [
         16493,
         12
        ],
        [
         16596,
         12
        ],
        [
         15689,
         12
        ],
        [
         18037,
         12
        ],
        [
         16996,
         12
        ],
        [
         17018,
         12
        ],
        [
         14496,
         10
        ],
        [
         15973,
         10
        ],
        [
         14437,
         10
        ],
        [
         17389,
         10
        ],
        [
         13238,
         10
        ],
        [
         14045,
         10
        ],
        [
         15350,
         10
        ],
        [
         16552,
         10
        ],
        [
         15018,
         10
        ],
        [
         13527,
         10
        ],
        [
         17430,
         10
        ],
        [
         15101,
         10
        ],
        [
         13324,
         10
        ],
        [
         15732,
         10
        ],
        [
         13958,
         10
        ],
        [
         14543,
         10
        ],
        [
         14828,
         10
        ],
        [
         16948,
         10
        ],
        [
         15304,
         10
        ],
        [
         13094,
         10
        ],
        [
         18062,
         10
        ],
        [
         15749,
         10
        ],
        [
         15189,
         10
        ],
        [
         16816,
         10
        ],
        [
         15347,
         10
        ],
        [
         12691,
         10
        ],
        [
         17702,
         10
        ],
        [
         16519,
         10
        ],
        [
         17857,
         10
        ],
        [
         18032,
         10
        ],
        [
         15881,
         10
        ],
        [
         13305,
         10
        ],
        [
         17025,
         10
        ],
        [
         16163,
         10
        ],
        [
         15938,
         10
        ],
        [
         16359,
         10
        ],
        [
         12500,
         10
        ],
        [
         16835,
         10
        ],
        [
         14213,
         10
        ],
        [
         18050,
         10
        ],
        [
         12678,
         10
        ],
        [
         17924,
         10
        ],
        [
         17572,
         8
        ],
        [
         14426,
         8
        ],
        [
         15759,
         8
        ],
        [
         13502,
         8
        ],
        [
         14784,
         8
        ],
        [
         14491,
         8
        ],
        [
         14373,
         8
        ],
        [
         15079,
         8
        ],
        [
         12736,
         8
        ],
        [
         17339,
         8
        ],
        [
         17457,
         8
        ],
        [
         15160,
         8
        ],
        [
         13784,
         8
        ],
        [
         14201,
         8
        ],
        [
         15197,
         8
        ],
        [
         18256,
         8
        ],
        [
         12734,
         8
        ],
        [
         16321,
         8
        ],
        [
         13693,
         8
        ],
        [
         12665,
         8
        ],
        [
         16997,
         8
        ],
        [
         15899,
         8
        ],
        [
         14113,
         8
        ],
        [
         17621,
         8
        ],
        [
         15838,
         8
        ],
        [
         12913,
         8
        ],
        [
         13629,
         6
        ],
        [
         15329,
         6
        ],
        [
         17888,
         6
        ],
        [
         13136,
         6
        ],
        [
         12434,
         6
        ],
        [
         15208,
         6
        ],
        [
         12855,
         6
        ],
        [
         16168,
         6
        ],
        [
         17580,
         6
        ],
        [
         14865,
         6
        ],
        [
         17044,
         6
        ],
        [
         14236,
         6
        ],
        [
         17700,
         6
        ],
        [
         15611,
         6
        ],
        [
         14589,
         6
        ],
        [
         14409,
         6
        ],
        [
         17204,
         6
        ],
        [
         16262,
         6
        ],
        [
         15299,
         6
        ],
        [
         15240,
         6
        ],
        [
         15587,
         6
        ],
        [
         17707,
         6
        ],
        [
         13011,
         6
        ],
        [
         16950,
         6
        ],
        [
         12605,
         6
        ],
        [
         16565,
         6
        ],
        [
         14101,
         6
        ],
        [
         13144,
         6
        ],
        [
         17820,
         6
        ],
        [
         18225,
         6
        ],
        [
         13948,
         6
        ],
        [
         17026,
         6
        ],
        [
         16679,
         6
        ],
        [
         14292,
         6
        ],
        [
         14185,
         6
        ],
        [
         14744,
         6
        ],
        [
         17396,
         6
        ],
        [
         14462,
         6
        ],
        [
         16861,
         4
        ],
        [
         16927,
         4
        ],
        [
         15664,
         4
        ],
        [
         18230,
         4
        ],
        [
         12666,
         4
        ],
        [
         12791,
         4
        ],
        [
         14264,
         4
        ],
        [
         13929,
         4
        ],
        [
         12643,
         4
        ],
        [
         13211,
         4
        ],
        [
         16570,
         4
        ],
        [
         17460,
         4
        ],
        [
         17547,
         4
        ],
        [
         17411,
         4
        ],
        [
         14821,
         4
        ],
        [
         15834,
         4
        ],
        [
         15649,
         4
        ],
        [
         12870,
         4
        ],
        [
         14777,
         4
        ],
        [
         17949,
         4
        ],
        [
         13115,
         4
        ],
        [
         15181,
         4
        ],
        [
         16094,
         4
        ],
        [
         14295,
         4
        ],
        [
         17090,
         4
        ],
        [
         16754,
         4
        ],
        [
         17262,
         4
        ],
        [
         15945,
         4
        ],
        [
         14987,
         4
        ],
        [
         13831,
         4
        ],
        [
         12931,
         4
        ],
        [
         16279,
         4
        ],
        [
         12989,
         4
        ],
        [
         16554,
         4
        ],
        [
         12346,
         4
        ],
        [
         17181,
         4
        ],
        [
         12649,
         4
        ],
        [
         12924,
         4
        ],
        [
         13802,
         4
        ],
        [
         16995,
         2
        ],
        [
         13029,
         2
        ],
        [
         17925,
         2
        ],
        [
         16579,
         2
        ],
        [
         17442,
         2
        ],
        [
         13145,
         2
        ],
        [
         18113,
         2
        ],
        [
         18141,
         2
        ],
        [
         17752,
         2
        ],
        [
         18233,
         2
        ],
        [
         13747,
         2
        ],
        [
         16424,
         2
        ],
        [
         12865,
         2
        ],
        [
         13750,
         2
        ],
        [
         13266,
         2
        ],
        [
         17633,
         2
        ],
        [
         16500,
         2
        ],
        [
         13748,
         2
        ],
        [
         12875,
         2
        ],
        [
         17616,
         2
        ],
        [
         13481,
         2
        ],
        [
         12503,
         2
        ],
        [
         13883,
         2
        ],
        [
         12586,
         2
        ],
        [
         12755,
         2
        ],
        [
         14441,
         2
        ],
        [
         14850,
         2
        ],
        [
         14119,
         2
        ],
        [
         13829,
         2
        ],
        [
         18193,
         2
        ],
        [
         13368,
         2
        ],
        [
         15510,
         2
        ],
        [
         15380,
         2
        ],
        [
         16532,
         2
        ],
        [
         14576,
         2
        ],
        [
         17720,
         2
        ],
        [
         14944,
         2
        ],
        [
         14608,
         2
        ],
        [
         16711,
         2
        ],
        [
         16593,
         2
        ],
        [
         15468,
         2
        ],
        [
         15661,
         2
        ],
        [
         17307,
         2
        ],
        [
         15562,
         2
        ],
        [
         15070,
         2
        ],
        [
         14206,
         2
        ],
        [
         16810,
         2
        ],
        [
         17306,
         2
        ],
        [
         14090,
         2
        ],
        [
         14679,
         2
        ],
        [
         16138,
         2
        ],
        [
         17870,
         2
        ],
        [
         13953,
         2
        ],
        [
         13270,
         2
        ],
        [
         13848,
         2
        ],
        [
         14866,
         2
        ],
        [
         15179,
         2
        ],
        [
         13104,
         2
        ],
        [
         17239,
         2
        ],
        [
         16892,
         2
        ],
        [
         15316,
         2
        ]
       ],
       "datasetInfos": [],
       "dbfsResultPath": null,
       "isJsonSchema": true,
       "metadata": {},
       "overflow": false,
       "plotOptions": {
        "customPlotOptions": {},
        "displayType": "table",
        "pivotAggregation": null,
        "pivotColumns": null,
        "xColumns": null,
        "yColumns": null
       },
       "removedWidgets": [],
       "schema": [
        {
         "metadata": "{}",
         "name": "CustomerID",
         "type": "\"integer\""
        },
        {
         "metadata": "{}",
         "name": "total",
         "type": "\"long\""
        }
       ],
       "type": "table"
      }
     },
     "output_type": "display_data"
    }
   ],
   "source": [
    "%sql\n",
    "SELECT CustomerID, SUM(total_orders) AS total\n",
    "FROM customer_counts\n",
    "GROUP BY CustomerID\n",
    "ORDER BY total DESC"
   ]
  },
  {
   "cell_type": "markdown",
   "metadata": {
    "application/vnd.databricks.v1+cell": {
     "cellMetadata": {},
     "inputWidgets": {},
     "nuid": "2651063a-cb16-4bab-a7f7-26acbb622a3e",
     "showTitle": false,
     "title": ""
    }
   },
   "source": [
    "Or we can see examine those customers that operate in the most countries."
   ]
  },
  {
   "cell_type": "code",
   "execution_count": 0,
   "metadata": {
    "application/vnd.databricks.v1+cell": {
     "cellMetadata": {
      "byteLimit": 2048000,
      "implicitDf": true,
      "rowLimit": 10000
     },
     "inputWidgets": {},
     "nuid": "6c3177e8-7b53-415a-90fe-f07eaf788abc",
     "showTitle": false,
     "title": ""
    }
   },
   "outputs": [
    {
     "output_type": "display_data",
     "data": {
      "text/html": [
       "<style scoped>\n",
       "  .table-result-container {\n",
       "    max-height: 300px;\n",
       "    overflow: auto;\n",
       "  }\n",
       "  table, th, td {\n",
       "    border: 1px solid black;\n",
       "    border-collapse: collapse;\n",
       "  }\n",
       "  th, td {\n",
       "    padding: 5px;\n",
       "  }\n",
       "  th {\n",
       "    text-align: left;\n",
       "  }\n",
       "</style><div class='table-result-container'><table class='table-result'><thead style='background-color: white'><tr><th>CustomerID</th><th>num_countries</th></tr></thead><tbody><tr><td>null</td><td>8</td></tr><tr><td>12370</td><td>2</td></tr><tr><td>14496</td><td>1</td></tr><tr><td>13090</td><td>1</td></tr><tr><td>14135</td><td>1</td></tr><tr><td>15260</td><td>1</td></tr><tr><td>17802</td><td>1</td></tr><tr><td>16995</td><td>1</td></tr><tr><td>13370</td><td>1</td></tr><tr><td>13269</td><td>1</td></tr><tr><td>13652</td><td>1</td></tr><tr><td>16858</td><td>1</td></tr><tr><td>12808</td><td>1</td></tr><tr><td>17218</td><td>1</td></tr><tr><td>13983</td><td>1</td></tr><tr><td>18259</td><td>1</td></tr><tr><td>14419</td><td>1</td></tr><tr><td>17236</td><td>1</td></tr><tr><td>15854</td><td>1</td></tr><tr><td>17303</td><td>1</td></tr><tr><td>14401</td><td>1</td></tr><tr><td>17525</td><td>1</td></tr><tr><td>13629</td><td>1</td></tr><tr><td>15046</td><td>1</td></tr><tr><td>16551</td><td>1</td></tr><tr><td>12651</td><td>1</td></tr><tr><td>12921</td><td>1</td></tr><tr><td>13777</td><td>1</td></tr><tr><td>15061</td><td>1</td></tr><tr><td>14031</td><td>1</td></tr><tr><td>16861</td><td>1</td></tr><tr><td>16782</td><td>1</td></tr><tr><td>14952</td><td>1</td></tr><tr><td>18269</td><td>1</td></tr><tr><td>15329</td><td>1</td></tr><tr><td>13000</td><td>1</td></tr><tr><td>18065</td><td>1</td></tr><tr><td>16153</td><td>1</td></tr><tr><td>17128</td><td>1</td></tr><tr><td>13694</td><td>1</td></tr><tr><td>12915</td><td>1</td></tr><tr><td>16926</td><td>1</td></tr><tr><td>16725</td><td>1</td></tr><tr><td>15332</td><td>1</td></tr><tr><td>13506</td><td>1</td></tr><tr><td>15973</td><td>1</td></tr><tr><td>15032</td><td>1</td></tr><tr><td>14437</td><td>1</td></tr><tr><td>16019</td><td>1</td></tr><tr><td>13148</td><td>1</td></tr><tr><td>14107</td><td>1</td></tr><tr><td>16927</td><td>1</td></tr><tr><td>16726</td><td>1</td></tr><tr><td>17551</td><td>1</td></tr><tr><td>12877</td><td>1</td></tr><tr><td>13029</td><td>1</td></tr><tr><td>15164</td><td>1</td></tr><tr><td>15862</td><td>1</td></tr><tr><td>13319</td><td>1</td></tr><tr><td>15024</td><td>1</td></tr><tr><td>15680</td><td>1</td></tr><tr><td>16083</td><td>1</td></tr><tr><td>16282</td><td>1</td></tr><tr><td>17389</td><td>1</td></tr><tr><td>13233</td><td>1</td></tr><tr><td>17800</td><td>1</td></tr><tr><td>17581</td><td>1</td></tr><tr><td>14625</td><td>1</td></tr><tr><td>12967</td><td>1</td></tr><tr><td>16814</td><td>1</td></tr><tr><td>16306</td><td>1</td></tr><tr><td>16365</td><td>1</td></tr><tr><td>17406</td><td>1</td></tr><tr><td>12766</td><td>1</td></tr><tr><td>15271</td><td>1</td></tr><tr><td>17671</td><td>1</td></tr><tr><td>13969</td><td>1</td></tr><tr><td>14639</td><td>1</td></tr><tr><td>14057</td><td>1</td></tr><tr><td>16503</td><td>1</td></tr><tr><td>13238</td><td>1</td></tr><tr><td>15727</td><td>1</td></tr><tr><td>16705</td><td>1</td></tr><tr><td>14045</td><td>1</td></tr><tr><td>15350</td><td>1</td></tr><tr><td>17855</td><td>1</td></tr><tr><td>17925</td><td>1</td></tr><tr><td>17961</td><td>1</td></tr><tr><td>12839</td><td>1</td></tr><tr><td>17975</td><td>1</td></tr><tr><td>16579</td><td>1</td></tr><tr><td>15044</td><td>1</td></tr><tr><td>17041</td><td>1</td></tr><tr><td>15062</td><td>1</td></tr><tr><td>15246</td><td>1</td></tr><tr><td>17850</td><td>1</td></tr><tr><td>16552</td><td>1</td></tr><tr><td>16781</td><td>1</td></tr><tr><td>17685</td><td>1</td></tr><tr><td>12725</td><td>1</td></tr><tr><td>16402</td><td>1</td></tr><tr><td>17442</td><td>1</td></tr><tr><td>15664</td><td>1</td></tr><tr><td>14414</td><td>1</td></tr><tr><td>16684</td><td>1</td></tr><tr><td>17420</td><td>1</td></tr><tr><td>17572</td><td>1</td></tr><tr><td>16770</td><td>1</td></tr><tr><td>13145</td><td>1</td></tr><tr><td>13013</td><td>1</td></tr><tr><td>16013</td><td>1</td></tr><tr><td>17198</td><td>1</td></tr><tr><td>18113</td><td>1</td></tr><tr><td>15021</td><td>1</td></tr><tr><td>15018</td><td>1</td></tr><tr><td>18061</td><td>1</td></tr><tr><td>12963</td><td>1</td></tr><tr><td>14159</td><td>1</td></tr><tr><td>17969</td><td>1</td></tr><tr><td>18141</td><td>1</td></tr><tr><td>13458</td><td>1</td></tr><tr><td>14426</td><td>1</td></tr><tr><td>15759</td><td>1</td></tr><tr><td>17848</td><td>1</td></tr><tr><td>17752</td><td>1</td></tr><tr><td>12763</td><td>1</td></tr><tr><td>15696</td><td>1</td></tr><tr><td>13502</td><td>1</td></tr><tr><td>12523</td><td>1</td></tr><tr><td>15213</td><td>1</td></tr><tr><td>18233</td><td>1</td></tr><tr><td>12451</td><td>1</td></tr><tr><td>12652</td><td>1</td></tr><tr><td>14587</td><td>1</td></tr><tr><td>14978</td><td>1</td></tr><tr><td>15447</td><td>1</td></tr><tr><td>16206</td><td>1</td></tr><tr><td>12490</td><td>1</td></tr><tr><td>13048</td><td>1</td></tr><tr><td>13527</td><td>1</td></tr><tr><td>14784</td><td>1</td></tr><tr><td>14657</td><td>1</td></tr><tr><td>15262</td><td>1</td></tr><tr><td>12433</td><td>1</td></tr><tr><td>16042</td><td>1</td></tr><tr><td>17211</td><td>1</td></tr><tr><td>14161</td><td>1</td></tr><tr><td>14344</td><td>1</td></tr><tr><td>16293</td><td>1</td></tr><tr><td>13599</td><td>1</td></tr><tr><td>17706</td><td>1</td></tr><tr><td>16385</td><td>1</td></tr><tr><td>13787</td><td>1</td></tr><tr><td>18044</td><td>1</td></tr><tr><td>17230</td><td>1</td></tr><tr><td>17744</td><td>1</td></tr><tr><td>16271</td><td>1</td></tr><tr><td>15464</td><td>1</td></tr><tr><td>13656</td><td>1</td></tr><tr><td>13747</td><td>1</td></tr><tr><td>16752</td><td>1</td></tr><tr><td>16916</td><td>1</td></tr><tr><td>15301</td><td>1</td></tr><tr><td>13769</td><td>1</td></tr><tr><td>16525</td><td>1</td></tr><tr><td>13523</td><td>1</td></tr><tr><td>16717</td><td>1</td></tr><tr><td>17430</td><td>1</td></tr><tr><td>18230</td><td>1</td></tr><tr><td>17880</td><td>1</td></tr><tr><td>17231</td><td>1</td></tr><tr><td>15101</td><td>1</td></tr><tr><td>12705</td><td>1</td></tr><tr><td>16270</td><td>1</td></tr><tr><td>13397</td><td>1</td></tr><tr><td>16424</td><td>1</td></tr><tr><td>12868</td><td>1</td></tr><tr><td>12779</td><td>1</td></tr><tr><td>13034</td><td>1</td></tr><tr><td>12681</td><td>1</td></tr><tr><td>17646</td><td>1</td></tr><tr><td>18004</td><td>1</td></tr><tr><td>17375</td><td>1</td></tr><tr><td>17449</td><td>1</td></tr><tr><td>12865</td><td>1</td></tr><tr><td>12666</td><td>1</td></tr><tr><td>16037</td><td>1</td></tr><tr><td>17888</td><td>1</td></tr><tr><td>17400</td><td>1</td></tr><tr><td>17849</td><td>1</td></tr><tr><td>16029</td><td>1</td></tr><tr><td>17920</td><td>1</td></tr><tr><td>13418</td><td>1</td></tr><tr><td>15955</td><td>1</td></tr><tr><td>14491</td><td>1</td></tr><tr><td>12686</td><td>1</td></tr><tr><td>17243</td><td>1</td></tr><tr><td>14708</td><td>1</td></tr><tr><td>17068</td><td>1</td></tr><tr><td>13126</td><td>1</td></tr><tr><td>17722</td><td>1</td></tr><tr><td>16553</td><td>1</td></tr><tr><td>14440</td><td>1</td></tr><tr><td>17978</td><td>1</td></tr><tr><td>13136</td><td>1</td></tr><tr><td>13324</td><td>1</td></tr><tr><td>12434</td><td>1</td></tr><tr><td>14373</td><td>1</td></tr><tr><td>14334</td><td>1</td></tr><tr><td>12944</td><td>1</td></tr><tr><td>15208</td><td>1</td></tr><tr><td>13082</td><td>1</td></tr><tr><td>14312</td><td>1</td></tr><tr><td>15100</td><td>1</td></tr><tr><td>13705</td><td>1</td></tr><tr><td>12855</td><td>1</td></tr><tr><td>12471</td><td>1</td></tr><tr><td>17567</td><td>1</td></tr><tr><td>16168</td><td>1</td></tr><tr><td>15426</td><td>1</td></tr><tr><td>15555</td><td>1</td></tr><tr><td>12474</td><td>1</td></tr><tr><td>16719</td><td>1</td></tr><tr><td>17869</td><td>1</td></tr><tr><td>14907</td><td>1</td></tr><tr><td>15002</td><td>1</td></tr><tr><td>15750</td><td>1</td></tr><tr><td>15805</td><td>1</td></tr><tr><td>15547</td><td>1</td></tr><tr><td>13890</td><td>1</td></tr><tr><td>14643</td><td>1</td></tr><tr><td>12515</td><td>1</td></tr><tr><td>15719</td><td>1</td></tr><tr><td>17095</td><td>1</td></tr><tr><td>12539</td><td>1</td></tr><tr><td>13117</td><td>1</td></tr><tr><td>17884</td><td>1</td></tr><tr><td>13089</td><td>1</td></tr><tr><td>16931</td><td>1</td></tr><tr><td>15880</td><td>1</td></tr><tr><td>15602</td><td>1</td></tr><tr><td>14176</td><td>1</td></tr><tr><td>17419</td><td>1</td></tr><tr><td>15628</td><td>1</td></tr><tr><td>13327</td><td>1</td></tr><tr><td>17696</td><td>1</td></tr><tr><td>14062</td><td>1</td></tr><tr><td>14878</td><td>1</td></tr><tr><td>18223</td><td>1</td></tr><tr><td>16945</td><td>1</td></tr><tr><td>13750</td><td>1</td></tr><tr><td>14761</td><td>1</td></tr><tr><td>12791</td><td>1</td></tr><tr><td>14142</td><td>1</td></tr><tr><td>15658</td><td>1</td></tr><tr><td>15732</td><td>1</td></tr><tr><td>16033</td><td>1</td></tr><tr><td>15894</td><td>1</td></tr><tr><td>14748</td><td>1</td></tr><tr><td>14085</td><td>1</td></tr><tr><td>13880</td><td>1</td></tr><tr><td>14796</td><td>1</td></tr><tr><td>15529</td><td>1</td></tr><tr><td>13982</td><td>1</td></tr><tr><td>16350</td><td>1</td></tr><tr><td>13178</td><td>1</td></tr><tr><td>14150</td><td>1</td></tr><tr><td>13266</td><td>1</td></tr><tr><td>16316</td><td>1</td></tr><tr><td>17580</td><td>1</td></tr><tr><td>14146</td><td>1</td></tr><tr><td>14553</td><td>1</td></tr><tr><td>14653</td><td>1</td></tr><tr><td>12748</td><td>1</td></tr><tr><td>17976</td><td>1</td></tr><tr><td>13958</td><td>1</td></tr><tr><td>14264</td><td>1</td></tr><tr><td>12738</td><td>1</td></tr><tr><td>15373</td><td>1</td></tr><tr><td>13174</td><td>1</td></tr><tr><td>16550</td><td>1</td></tr><tr><td>15079</td><td>1</td></tr><tr><td>14256</td><td>1</td></tr><tr><td>14543</td><td>1</td></tr><tr><td>17372</td><td>1</td></tr><tr><td>17633</td><td>1</td></tr><tr><td>16743</td><td>1</td></tr><tr><td>12348</td><td>1</td></tr><tr><td>16885</td><td>1</td></tr><tr><td>15527</td><td>1</td></tr><tr><td>14828</td><td>1</td></tr><tr><td>16326</td><td>1</td></tr><tr><td>17841</td><td>1</td></tr><tr><td>15502</td><td>1</td></tr><tr><td>13531</td><td>1</td></tr><tr><td>14684</td><td>1</td></tr><tr><td>13999</td><td>1</td></tr><tr><td>13284</td><td>1</td></tr><tr><td>18190</td><td>1</td></tr><tr><td>16948</td><td>1</td></tr><tr><td>15171</td><td>1</td></tr><tr><td>13993</td><td>1</td></tr><tr><td>16395</td><td>1</td></tr><tr><td>13385</td><td>1</td></tr><tr><td>16401</td><td>1</td></tr><tr><td>13929</td><td>1</td></tr><tr><td>14242</td><td>1</td></tr><tr><td>15518</td><td>1</td></tr><tr><td>12527</td><td>1</td></tr><tr><td>12736</td><td>1</td></tr><tr><td>15370</td><td>1</td></tr><tr><td>18069</td><td>1</td></tr><tr><td>12643</td><td>1</td></tr><tr><td>12626</td><td>1</td></tr><tr><td>14669</td><td>1</td></tr><tr><td>16500</td><td>1</td></tr><tr><td>13001</td><td>1</td></tr><tr><td>12402</td><td>1</td></tr><tr><td>14514</td><td>1</td></tr><tr><td>17862</td><td>1</td></tr><tr><td>13748</td><td>1</td></tr><tr><td>15738</td><td>1</td></tr><tr><td>14865</td><td>1</td></tr><tr><td>13807</td><td>1</td></tr><tr><td>12683</td><td>1</td></tr><tr><td>15856</td><td>1</td></tr><tr><td>14544</td><td>1</td></tr><tr><td>15159</td><td>1</td></tr><tr><td>17739</td><td>1</td></tr><tr><td>13496</td><td>1</td></tr><tr><td>17044</td><td>1</td></tr><tr><td>14841</td><td>1</td></tr><tr><td>16560</td><td>1</td></tr><tr><td>14533</td><td>1</td></tr><tr><td>15841</td><td>1</td></tr><tr><td>13187</td><td>1</td></tr><tr><td>15059</td><td>1</td></tr><tr><td>15093</td><td>1</td></tr><tr><td>15867</td><td>1</td></tr><tr><td>17324</td><td>1</td></tr><tr><td>16700</td><td>1</td></tr><tr><td>13211</td><td>1</td></tr><tr><td>16746</td><td>1</td></tr><tr><td>15204</td><td>1</td></tr><tr><td>12480</td><td>1</td></tr><tr><td>18074</td><td>1</td></tr><tr><td>13255</td><td>1</td></tr><tr><td>15012</td><td>1</td></tr><tr><td>14766</td><td>1</td></tr><tr><td>17381</td><td>1</td></tr><tr><td>14449</td><td>1</td></tr><tr><td>14236</td><td>1</td></tr><tr><td>16898</td><td>1</td></tr><tr><td>13495</td><td>1</td></tr><tr><td>15965</td><td>1</td></tr><tr><td>15660</td><td>1</td></tr><tr><td>14082</td><td>1</td></tr><tr><td>16656</td><td>1</td></tr><tr><td>17799</td><td>1</td></tr><tr><td>17158</td><td>1</td></tr><tr><td>12417</td><td>1</td></tr><tr><td>15465</td><td>1</td></tr><tr><td>15304</td><td>1</td></tr><tr><td>15298</td><td>1</td></tr><tr><td>17340</td><td>1</td></tr><tr><td>14243</td><td>1</td></tr><tr><td>12621</td><td>1</td></tr><tr><td>17339</td><td>1</td></tr><tr><td>16727</td><td>1</td></tr><tr><td>12875</td><td>1</td></tr><tr><td>17524</td><td>1</td></tr><tr><td>12476</td><td>1</td></tr><tr><td>16570</td><td>1</td></tr><tr><td>14524</td><td>1</td></tr><tr><td>15822</td><td>1</td></tr><tr><td>18260</td><td>1</td></tr><tr><td>12957</td><td>1</td></tr><tr><td>13280</td><td>1</td></tr><tr><td>16850</td><td>1</td></tr><tr><td>14047</td><td>1</td></tr><tr><td>17017</td><td>1</td></tr><tr><td>14388</td><td>1</td></tr><tr><td>16140</td><td>1</td></tr><tr><td>14396</td><td>1</td></tr><tr><td>13081</td><td>1</td></tr><tr><td>17858</td><td>1</td></tr><tr><td>16722</td><td>1</td></tr><tr><td>17616</td><td>1</td></tr><tr><td>18077</td><td>1</td></tr><tr><td>16011</td><td>1</td></tr><tr><td>17700</td><td>1</td></tr><tr><td>17146</td><td>1</td></tr><tr><td>14220</td><td>1</td></tr><tr><td>17913</td><td>1</td></tr><tr><td>12735</td><td>1</td></tr><tr><td>15611</td><td>1</td></tr><tr><td>17114</td><td>1</td></tr><tr><td>12583</td><td>1</td></tr><tr><td>17838</td><td>1</td></tr><tr><td>16905</td><td>1</td></tr><tr><td>14589</td><td>1</td></tr><tr><td>15769</td><td>1</td></tr><tr><td>15038</td><td>1</td></tr><tr><td>13094</td><td>1</td></tr><tr><td>16221</td><td>1</td></tr><tr><td>14448</td><td>1</td></tr><tr><td>17033</td><td>1</td></tr><tr><td>12577</td><td>1</td></tr><tr><td>14560</td><td>1</td></tr><tr><td>13680</td><td>1</td></tr><tr><td>15266</td><td>1</td></tr><tr><td>17897</td><td>1</td></tr><tr><td>14210</td><td>1</td></tr><tr><td>16327</td><td>1</td></tr><tr><td>15039</td><td>1</td></tr><tr><td>13481</td><td>1</td></tr><tr><td>18119</td><td>1</td></tr><tr><td>13786</td><td>1</td></tr><tr><td>16893</td><td>1</td></tr><tr><td>13140</td><td>1</td></tr><tr><td>16065</td><td>1</td></tr><tr><td>17179</td><td>1</td></tr><tr><td>16607</td><td>1</td></tr><tr><td>14911</td><td>1</td></tr><tr><td>17460</td><td>1</td></tr><tr><td>17732</td><td>1</td></tr><tr><td>14390</td><td>1</td></tr><tr><td>17228</td><td>1</td></tr><tr><td>12567</td><td>1</td></tr><tr><td>14409</td><td>1</td></tr><tr><td>17519</td><td>1</td></tr><tr><td>13756</td><td>1</td></tr><tr><td>16713</td><td>1</td></tr><tr><td>16016</td><td>1</td></tr><tr><td>14577</td><td>1</td></tr><tr><td>14646</td><td>1</td></tr><tr><td>18062</td><td>1</td></tr><tr><td>12503</td><td>1</td></tr><tr><td>18198</td><td>1</td></tr><tr><td>17457</td><td>1</td></tr><tr><td>15160</td><td>1</td></tr><tr><td>15808</td><td>1</td></tr><tr><td>14573</td><td>1</td></tr><tr><td>16686</td><td>1</td></tr><tr><td>15034</td><td>1</td></tr><tr><td>14487</td><td>1</td></tr><tr><td>17809</td><td>1</td></tr><tr><td>14040</td><td>1</td></tr><tr><td>17708</td><td>1</td></tr><tr><td>14572</td><td>1</td></tr><tr><td>13784</td><td>1</td></tr><tr><td>14320</td><td>1</td></tr><tr><td>12393</td><td>1</td></tr><tr><td>12601</td><td>1</td></tr><tr><td>12724</td><td>1</td></tr><tr><td>17609</td><td>1</td></tr><tr><td>13883</td><td>1</td></tr><tr><td>15749</td><td>1</td></tr><tr><td>12388</td><td>1</td></tr><tr><td>13064</td><td>1</td></tr><tr><td>15281</td><td>1</td></tr><tr><td>15189</td><td>1</td></tr><tr><td>15296</td><td>1</td></tr><tr><td>16791</td><td>1</td></tr><tr><td>12672</td><td>1</td></tr><tr><td>14916</td><td>1</td></tr><tr><td>12489</td><td>1</td></tr><tr><td>18085</td><td>1</td></tr><tr><td>17377</td><td>1</td></tr><tr><td>13108</td><td>1</td></tr><tr><td>17547</td><td>1</td></tr><tr><td>17320</td><td>1</td></tr><tr><td>18043</td><td>1</td></tr><tr><td>13077</td><td>1</td></tr><tr><td>15358</td><td>1</td></tr><tr><td>14205</td><td>1</td></tr><tr><td>17338</td><td>1</td></tr><tr><td>14913</td><td>1</td></tr><tr><td>16458</td><td>1</td></tr><tr><td>13758</td><td>1</td></tr><tr><td>14849</td><td>1</td></tr><tr><td>17690</td><td>1</td></tr><tr><td>16422</td><td>1</td></tr><tr><td>12586</td><td>1</td></tr><tr><td>14189</td><td>1</td></tr><tr><td>17191</td><td>1</td></tr><tr><td>12755</td><td>1</td></tr><tr><td>17411</td><td>1</td></tr><tr><td>14702</td><td>1</td></tr><tr><td>17790</td><td>1</td></tr><tr><td>17912</td><td>1</td></tr><tr><td>14961</td><td>1</td></tr><tr><td>16816</td><td>1</td></tr><tr><td>17204</td><td>1</td></tr><tr><td>17368</td><td>1</td></tr><tr><td>14258</td><td>1</td></tr><tr><td>17555</td><td>1</td></tr><tr><td>14755</td><td>1</td></tr><tr><td>13767</td><td>1</td></tr><tr><td>14237</td><td>1</td></tr><tr><td>15485</td><td>1</td></tr><tr><td>16955</td><td>1</td></tr><tr><td>16203</td><td>1</td></tr><tr><td>13798</td><td>1</td></tr><tr><td>12708</td><td>1</td></tr><tr><td>15078</td><td>1</td></tr><tr><td>17223</td><td>1</td></tr><tr><td>13488</td><td>1</td></tr><tr><td>16125</td><td>1</td></tr><tr><td>14821</td><td>1</td></tr><tr><td>13113</td><td>1</td></tr><tr><td>15192</td><td>1</td></tr><tr><td>14441</td><td>1</td></tr><tr><td>13230</td><td>1</td></tr><tr><td>17496</td><td>1</td></tr><tr><td>16676</td><td>1</td></tr><tr><td>13764</td><td>1</td></tr><tr><td>14889</td><td>1</td></tr><tr><td>18171</td><td>1</td></tr><tr><td>16539</td><td>1</td></tr><tr><td>15834</td><td>1</td></tr><tr><td>14810</td><td>1</td></tr><tr><td>17691</td><td>1</td></tr><tr><td>13842</td><td>1</td></tr><tr><td>15347</td><td>1</td></tr><tr><td>12494</td><td>1</td></tr><tr><td>12872</td><td>1</td></tr><tr><td>17576</td><td>1</td></tr><tr><td>16923</td><td>1</td></tr><tr><td>17188</td><td>1</td></tr><tr><td>16262</td><td>1</td></tr><tr><td>14298</td><td>1</td></tr><tr><td>12829</td><td>1</td></tr><tr><td>13874</td><td>1</td></tr><tr><td>16583</td><td>1</td></tr><tr><td>15299</td><td>1</td></tr><tr><td>16150</td><td>1</td></tr><tr><td>15240</td><td>1</td></tr><tr><td>17238</td><td>1</td></tr><tr><td>13838</td><td>1</td></tr><tr><td>16983</td><td>1</td></tr><tr><td>15898</td><td>1</td></tr><tr><td>17227</td><td>1</td></tr><tr><td>16919</td><td>1</td></tr><tr><td>16654</td><td>1</td></tr><tr><td>14850</td><td>1</td></tr><tr><td>13240</td><td>1</td></tr><tr><td>13021</td><td>1</td></tr><tr><td>15211</td><td>1</td></tr><tr><td>17827</td><td>1</td></tr><tr><td>13198</td><td>1</td></tr><tr><td>17214</td><td>1</td></tr><tr><td>15789</td><td>1</td></tr><tr><td>14735</td><td>1</td></tr><tr><td>14119</td><td>1</td></tr><tr><td>15587</td><td>1</td></tr><tr><td>15799</td><td>1</td></tr><tr><td>16250</td><td>1</td></tr><tr><td>15605</td><td>1</td></tr><tr><td>12793</td><td>1</td></tr><tr><td>13497</td><td>1</td></tr><tr><td>16059</td><td>1</td></tr><tr><td>16863</td><td>1</td></tr><tr><td>16081</td><td>1</td></tr><tr><td>13455</td><td>1</td></tr><tr><td>13102</td><td>1</td></tr><tr><td>17251</td><td>1</td></tr><tr><td>13829</td><td>1</td></tr><tr><td>12423</td><td>1</td></tr><tr><td>16600</td><td>1</td></tr><tr><td>13672</td><td>1</td></tr><tr><td>17511</td><td>1</td></tr><tr><td>15922</td><td>1</td></tr><tr><td>16274</td><td>1</td></tr><tr><td>14696</td><td>1</td></tr><tr><td>14741</td><td>1</td></tr><tr><td>16546</td><td>1</td></tr><tr><td>15544</td><td>1</td></tr><tr><td>16477</td><td>1</td></tr><tr><td>15570</td><td>1</td></tr><tr><td>15649</td><td>1</td></tr><tr><td>17491</td><td>1</td></tr><tr><td>12870</td><td>1</td></tr><tr><td>15005</td><td>1</td></tr><tr><td>17865</td><td>1</td></tr><tr><td>13668</td><td>1</td></tr><tr><td>17293</td><td>1</td></tr><tr><td>16003</td><td>1</td></tr><tr><td>14201</td><td>1</td></tr><tr><td>14777</td><td>1</td></tr><tr><td>15197</td><td>1</td></tr><tr><td>12691</td><td>1</td></tr><tr><td>12484</td><td>1</td></tr><tr><td>18041</td><td>1</td></tr><tr><td>17787</td><td>1</td></tr><tr><td>16353</td><td>1</td></tr><tr><td>15716</td><td>1</td></tr><tr><td>17402</td><td>1</td></tr><tr><td>12647</td><td>1</td></tr><tr><td>16161</td><td>1</td></tr><tr><td>18193</td><td>1</td></tr><tr><td>15723</td><td>1</td></tr><tr><td>18016</td><td>1</td></tr><tr><td>15950</td><td>1</td></tr><tr><td>12782</td><td>1</td></tr><tr><td>14737</td><td>1</td></tr><tr><td>13368</td><td>1</td></tr><tr><td>16889</td><td>1</td></tr><tr><td>13569</td><td>1</td></tr><tr><td>14309</td><td>1</td></tr><tr><td>13593</td><td>1</td></tr><tr><td>16086</td><td>1</td></tr><tr><td>15687</td><td>1</td></tr><tr><td>15346</td><td>1</td></tr><tr><td>17771</td><td>1</td></tr><tr><td>14715</td><td>1</td></tr><tr><td>17364</td><td>1</td></tr><tr><td>18106</td><td>1</td></tr><tr><td>15831</td><td>1</td></tr><tr><td>12359</td><td>1</td></tr><tr><td>14976</td><td>1</td></tr><tr><td>12437</td><td>1</td></tr><tr><td>13614</td><td>1</td></tr><tr><td>15939</td><td>1</td></tr><tr><td>15510</td><td>1</td></tr><tr><td>18212</td><td>1</td></tr><tr><td>12728</td><td>1</td></tr><tr><td>13898</td><td>1</td></tr><tr><td>17951</td><td>1</td></tr><tr><td>15525</td><td>1</td></tr><tr><td>15640</td><td>1</td></tr><tr><td>18239</td><td>1</td></tr><tr><td>16891</td><td>1</td></tr><tr><td>18109</td><td>1</td></tr><tr><td>14293</td><td>1</td></tr><tr><td>13173</td><td>1</td></tr><tr><td>17999</td><td>1</td></tr><tr><td>15380</td><td>1</td></tr><tr><td>12731</td><td>1</td></tr><tr><td>14505</td><td>1</td></tr><tr><td>17454</td><td>1</td></tr><tr><td>17692</td><td>1</td></tr><tr><td>17980</td><td>1</td></tr><tr><td>15620</td><td>1</td></tr><tr><td>18256</td><td>1</td></tr><tr><td>16532</td><td>1</td></tr><tr><td>15845</td><td>1</td></tr><tr><td>15607</td><td>1</td></tr><tr><td>17707</td><td>1</td></tr><tr><td>13448</td><td>1</td></tr><tr><td>17908</td><td>1</td></tr><tr><td>12662</td><td>1</td></tr><tr><td>13011</td><td>1</td></tr><tr><td>15384</td><td>1</td></tr><tr><td>15953</td><td>1</td></tr><tr><td>17596</td><td>1</td></tr><tr><td>16817</td><td>1</td></tr><tr><td>15194</td><td>1</td></tr><tr><td>16950</td><td>1</td></tr><tr><td>17816</td><td>1</td></tr><tr><td>17456</td><td>1</td></tr><tr><td>15535</td><td>1</td></tr><tr><td>12605</td><td>1</td></tr><tr><td>18116</td><td>1</td></tr><tr><td>14498</td><td>1</td></tr><tr><td>17611</td><td>1</td></tr><tr><td>17189</td><td>1</td></tr><tr><td>14472</td><td>1</td></tr><tr><td>17284</td><td>1</td></tr><tr><td>13408</td><td>1</td></tr><tr><td>14307</td><td>1</td></tr><tr><td>17757</td><td>1</td></tr><tr><td>17796</td><td>1</td></tr><tr><td>13329</td><td>1</td></tr><tr><td>16252</td><td>1</td></tr><tr><td>18092</td><td>1</td></tr><tr><td>15361</td><td>1</td></tr><tr><td>15777</td><td>1</td></tr><tr><td>15456</td><td>1</td></tr><tr><td>16875</td><td>1</td></tr><tr><td>12413</td><td>1</td></tr><tr><td>14092</td><td>1</td></tr><tr><td>15646</td><td>1</td></tr><tr><td>14576</td><td>1</td></tr><tr><td>14395</td><td>1</td></tr><tr><td>13520</td><td>1</td></tr><tr><td>17954</td><td>1</td></tr><tr><td>16718</td><td>1</td></tr><tr><td>15048</td><td>1</td></tr><tr><td>17682</td><td>1</td></tr><tr><td>14282</td><td>1</td></tr><tr><td>17720</td><td>1</td></tr><tr><td>17676</td><td>1</td></tr><tr><td>12942</td><td>1</td></tr><tr><td>14479</td><td>1</td></tr><tr><td>13959</td><td>1</td></tr><tr><td>16531</td><td>1</td></tr><tr><td>12928</td><td>1</td></tr><tr><td>14944</td><td>1</td></tr><tr><td>13107</td><td>1</td></tr><tr><td>12472</td><td>1</td></tr><tr><td>17873</td><td>1</td></tr><tr><td>13941</td><td>1</td></tr><tr><td>15107</td><td>1</td></tr><tr><td>16638</td><td>1</td></tr><tr><td>13649</td><td>1</td></tr><tr><td>14713</td><td>1</td></tr><tr><td>14608</td><td>1</td></tr><tr><td>12939</td><td>1</td></tr><tr><td>17949</td><td>1</td></tr><tr><td>13267</td><td>1</td></tr><tr><td>15581</td><td>1</td></tr><tr><td>13115</td><td>1</td></tr><tr><td>13984</td><td>1</td></tr><tr><td>16670</td><td>1</td></tr><tr><td>16470</td><td>1</td></tr><tr><td>14709</td><td>1</td></tr><tr><td>15460</td><td>1</td></tr><tr><td>14672</td><td>1</td></tr><tr><td>14723</td><td>1</td></tr><tr><td>15351</td><td>1</td></tr><tr><td>14800</td><td>1</td></tr><tr><td>17812</td><td>1</td></tr><tr><td>14032</td><td>1</td></tr><tr><td>15181</td><td>1</td></tr><tr><td>17702</td><td>1</td></tr><tr><td>16565</td><td>1</td></tr><tr><td>16873</td><td>1</td></tr><tr><td>13225</td><td>1</td></tr><tr><td>17001</td><td>1</td></tr><tr><td>14985</td><td>1</td></tr><tr><td>14016</td><td>1</td></tr><tr><td>12734</td><td>1</td></tr><tr><td>13165</td><td>1</td></tr><tr><td>13304</td><td>1</td></tr><tr><td>16094</td><td>1</td></tr><tr><td>15165</td><td>1</td></tr><tr><td>17760</td><td>1</td></tr><tr><td>14606</td><td>1</td></tr><tr><td>15363</td><td>1</td></tr><tr><td>13491</td><td>1</td></tr><tr><td>13138</td><td>1</td></tr><tr><td>18118</td><td>1</td></tr><tr><td>16710</td><td>1</td></tr><tr><td>12441</td><td>1</td></tr><tr><td>13199</td><td>1</td></tr><tr><td>16558</td><td>1</td></tr><tr><td>12481</td><td>1</td></tr><tr><td>17917</td><td>1</td></tr><tr><td>16805</td><td>1</td></tr><tr><td>17288</td><td>1</td></tr><tr><td>16711</td><td>1</td></tr><tr><td>12668</td><td>1</td></tr><tr><td>12585</td><td>1</td></tr><tr><td>16735</td><td>1</td></tr><tr><td>17950</td><td>1</td></tr><tr><td>13473</td><td>1</td></tr><tr><td>13782</td><td>1</td></tr><tr><td>14101</td><td>1</td></tr><tr><td>16912</td><td>1</td></tr><tr><td>17365</td><td>1</td></tr><tr><td>13862</td><td>1</td></tr><tr><td>14167</td><td>1</td></tr><tr><td>16593</td><td>1</td></tr><tr><td>12820</td><td>1</td></tr><tr><td>16321</td><td>1</td></tr><tr><td>14770</td><td>1</td></tr><tr><td>14295</td><td>1</td></tr><tr><td>12951</td><td>1</td></tr><tr><td>14779</td><td>1</td></tr><tr><td>15673</td><td>1</td></tr><tr><td>13693</td><td>1</td></tr><tr><td>16034</td><td>1</td></tr><tr><td>17569</td><td>1</td></tr><tr><td>14329</td><td>1</td></tr><tr><td>15422</td><td>1</td></tr><tr><td>13144</td><td>1</td></tr><tr><td>13634</td><td>1</td></tr><tr><td>12356</td><td>1</td></tr><tr><td>14078</td><td>1</td></tr><tr><td>16244</td><td>1</td></tr><tr><td>14180</td><td>1</td></tr><tr><td>16143</td><td>1</td></tr><tr><td>17860</td><td>1</td></tr><tr><td>16658</td><td>1</td></tr><tr><td>16779</td><td>1</td></tr><tr><td>15224</td><td>1</td></tr><tr><td>16010</td><td>1</td></tr><tr><td>15468</td><td>1</td></tr><tr><td>12867</td><td>1</td></tr><tr><td>17629</td><td>1</td></tr><tr><td>17090</td><td>1</td></tr><tr><td>15661</td><td>1</td></tr><tr><td>17643</td><td>1</td></tr><tr><td>13963</td><td>1</td></tr><tr><td>16233</td><td>1</td></tr><tr><td>17307</td><td>1</td></tr><tr><td>15394</td><td>1</td></tr><tr><td>15379</td><td>1</td></tr><tr><td>15562</td><td>1</td></tr><tr><td>15752</td><td>1</td></tr><tr><td>15070</td><td>1</td></tr><tr><td>16634</td><td>1</td></tr><tr><td>15081</td><td>1</td></tr><tr><td>14355</td><td>1</td></tr><tr><td>16519</td><td>1</td></tr><tr><td>12785</td><td>1</td></tr><tr><td>16202</td><td>1</td></tr><tr><td>14871</td><td>1</td></tr><tr><td>13027</td><td>1</td></tr><tr><td>13817</td><td>1</td></tr><tr><td>16567</td><td>1</td></tr><tr><td>13451</td><td>1</td></tr><tr><td>16186</td><td>1</td></tr><tr><td>16883</td><td>1</td></tr><tr><td>12395</td><td>1</td></tr><tr><td>15028</td><td>1</td></tr><tr><td>13030</td><td>1</td></tr><tr><td>16904</td><td>1</td></tr><tr><td>13854</td><td>1</td></tr><tr><td>15279</td><td>1</td></tr><tr><td>14413</td><td>1</td></tr><tr><td>15454</td><td>1</td></tr><tr><td>16145</td><td>1</td></tr><tr><td>13317</td><td>1</td></tr><tr><td>18097</td><td>1</td></tr><tr><td>17585</td><td>1</td></tr><tr><td>16549</td><td>1</td></tr><tr><td>16218</td><td>1</td></tr><tr><td>18144</td><td>1</td></tr><tr><td>13715</td><td>1</td></tr><tr><td>16754</td><td>1</td></tr><tr><td>15221</td><td>1</td></tr><tr><td>16393</td><td>1</td></tr><tr><td>14667</td><td>1</td></tr><tr><td>17675</td><td>1</td></tr><tr><td>17262</td><td>1</td></tr><tr><td>17857</td><td>1</td></tr><tr><td>15945</td><td>1</td></tr><tr><td>15596</td><td>1</td></tr><tr><td>14525</td><td>1</td></tr><tr><td>14206</td><td>1</td></tr><tr><td>16810</td><td>1</td></tr><tr><td>16899</td><td>1</td></tr><tr><td>17820</td><td>1</td></tr><tr><td>15366</td><td>1</td></tr><tr><td>17343</td><td>1</td></tr><tr><td>15139</td><td>1</td></tr><tr><td>17811</td><td>1</td></tr><tr><td>16510</td><td>1</td></tr><tr><td>12557</td><td>1</td></tr><tr><td>17019</td><td>1</td></tr><tr><td>12347</td><td>1</td></tr><tr><td>12386</td><td>1</td></tr><tr><td>14987</td><td>1</td></tr><tr><td>16812</td><td>1</td></tr><tr><td>12726</td><td>1</td></tr><tr><td>15291</td><td>1</td></tr><tr><td>12431</td><td>1</td></tr><tr><td>12838</td><td>1</td></tr><tr><td>13468</td><td>1</td></tr><tr><td>18225</td><td>1</td></tr><tr><td>12600</td><td>1</td></tr><tr><td>12720</td><td>1</td></tr><tr><td>13078</td><td>1</td></tr><tr><td>17097</td><td>1</td></tr><tr><td>12826</td><td>1</td></tr><tr><td>15514</td><td>1</td></tr><tr><td>13846</td><td>1</td></tr><tr><td>17306</td><td>1</td></tr><tr><td>13253</td><td>1</td></tr><tr><td>12578</td><td>1</td></tr><tr><td>18032</td><td>1</td></tr><tr><td>17905</td><td>1</td></tr><tr><td>17346</td><td>1</td></tr><tr><td>15694</td><td>1</td></tr><tr><td>14156</td><td>1</td></tr><tr><td>18055</td><td>1</td></tr><tr><td>17059</td><td>1</td></tr><tr><td>15916</td><td>1</td></tr><tr><td>18071</td><td>1</td></tr><tr><td>13948</td><td>1</td></tr><tr><td>16985</td><td>1</td></tr><tr><td>12377</td><td>1</td></tr><tr><td>16771</td><td>1</td></tr><tr><td>16303</td><td>1</td></tr><tr><td>13155</td><td>1</td></tr><tr><td>17655</td><td>1</td></tr><tr><td>16473</td><td>1</td></tr><tr><td>18168</td><td>1</td></tr><tr><td>14209</td><td>1</td></tr><tr><td>12665</td><td>1</td></tr><tr><td>15835</td><td>1</td></tr><tr><td>12510</td><td>1</td></tr><tr><td>15606</td><td>1</td></tr><tr><td>14238</td><td>1</td></tr><tr><td>17730</td><td>1</td></tr><tr><td>12637</td><td>1</td></tr><tr><td>15569</td><td>1</td></tr><tr><td>17988</td><td>1</td></tr><tr><td>14090</td><td>1</td></tr><tr><td>16997</td><td>1</td></tr><tr><td>14688</td><td>1</td></tr><tr><td>15983</td><td>1</td></tr><tr><td>14443</td><td>1</td></tr><tr><td>14679</td><td>1</td></tr><tr><td>17026</td><td>1</td></tr><tr><td>12747</td><td>1</td></tr><tr><td>15899</td><td>1</td></tr><tr><td>15356</td><td>1</td></tr><tr><td>15180</td><td>1</td></tr><tr><td>17591</td><td>1</td></tr><tr><td>14618</td><td>1</td></tr><tr><td>16795</td><td>1</td></tr><tr><td>16062</td><td>1</td></tr><tr><td>13124</td><td>1</td></tr><tr><td>15532</td><td>1</td></tr><tr><td>13004</td><td>1</td></tr><tr><td>16748</td><td>1</td></tr><tr><td>16210</td><td>1</td></tr><tr><td>16928</td><td>1</td></tr><tr><td>17964</td><td>1</td></tr><tr><td>15823</td><td>1</td></tr><tr><td>12427</td><td>1</td></tr><tr><td>12682</td><td>1</td></tr><tr><td>12709</td><td>1</td></tr><tr><td>16265</td><td>1</td></tr><tr><td>15503</td><td>1</td></tr><tr><td>17085</td><td>1</td></tr><tr><td>17618</td><td>1</td></tr><tr><td>15641</td><td>1</td></tr><tr><td>17315</td><td>1</td></tr><tr><td>12415</td><td>1</td></tr><tr><td>15326</td><td>1</td></tr><tr><td>12971</td><td>1</td></tr><tr><td>17135</td><td>1</td></tr><tr><td>14680</td><td>1</td></tr><tr><td>14083</td><td>1</td></tr><tr><td>15545</td><td>1</td></tr><tr><td>13831</td><td>1</td></tr><tr><td>15919</td><td>1</td></tr><tr><td>17259</td><td>1</td></tr><tr><td>16138</td><td>1</td></tr><tr><td>14217</td><td>1</td></tr><tr><td>15811</td><td>1</td></tr><tr><td>16701</td><td>1</td></tr><tr><td>14565</td><td>1</td></tr><tr><td>16556</td><td>1</td></tr><tr><td>14229</td><td>1</td></tr><tr><td>12712</td><td>1</td></tr><tr><td>14813</td><td>1</td></tr><tr><td>14506</td><td>1</td></tr><tr><td>15984</td><td>1</td></tr><tr><td>17735</td><td>1</td></tr><tr><td>18102</td><td>1</td></tr><tr><td>17870</td><td>1</td></tr><tr><td>17894</td><td>1</td></tr><tr><td>15881</td><td>1</td></tr><tr><td>17890</td><td>1</td></tr><tr><td>13426</td><td>1</td></tr><tr><td>12931</td><td>1</td></tr><tr><td>13313</td><td>1</td></tr><tr><td>12530</td><td>1</td></tr><tr><td>16098</td><td>1</td></tr><tr><td>14001</td><td>1</td></tr><tr><td>12947</td><td>1</td></tr><tr><td>15827</td><td>1</td></tr><tr><td>13305</td><td>1</td></tr><tr><td>17659</td><td>1</td></tr><tr><td>14867</td><td>1</td></tr><tr><td>16775</td><td>1</td></tr><tr><td>17213</td><td>1</td></tr><tr><td>15996</td><td>1</td></tr><tr><td>14030</td><td>1</td></tr><tr><td>14896</td><td>1</td></tr><tr><td>12753</td><td>1</td></tr><tr><td>17990</td><td>1</td></tr><tr><td>17194</td><td>1</td></tr><tr><td>15512</td><td>1</td></tr><tr><td>12980</td><td>1</td></tr><tr><td>13033</td><td>1</td></tr><tr><td>14113</td><td>1</td></tr><tr><td>17621</td><td>1</td></tr><tr><td>13922</td><td>1</td></tr><tr><td>16112</td><td>1</td></tr><tr><td>16833</td><td>1</td></tr><tr><td>17025</td><td>1</td></tr><tr><td>17412</td><td>1</td></tr><tr><td>16455</td><td>1</td></tr><tr><td>13579</td><td>1</td></tr><tr><td>17677</td><td>1</td></tr><tr><td>17470</td><td>1</td></tr><tr><td>14051</td><td>1</td></tr><tr><td>13209</td><td>1</td></tr><tr><td>17371</td><td>1</td></tr><tr><td>13221</td><td>1</td></tr><tr><td>16134</td><td>1</td></tr><tr><td>12501</td><td>1</td></tr><tr><td>16279</td><td>1</td></tr><tr><td>14527</td><td>1</td></tr><tr><td>15838</td><td>1</td></tr><tr><td>15574</td><td>1</td></tr><tr><td>14775</td><td>1</td></tr><tr><td>13295</td><td>1</td></tr><tr><td>17819</td><td>1</td></tr><tr><td>15708</td><td>1</td></tr><tr><td>17674</td><td>1</td></tr><tr><td>14733</td><td>1</td></tr><tr><td>16679</td><td>1</td></tr><tr><td>16163</td><td>1</td></tr><tr><td>12989</td><td>1</td></tr><tr><td>17126</td><td>1</td></tr><tr><td>16367</td><td>1</td></tr><tr><td>13008</td><td>1</td></tr><tr><td>13611</td><td>1</td></tr><tr><td>13162</td><td>1</td></tr><tr><td>13183</td><td>1</td></tr><tr><td>15235</td><td>1</td></tr><tr><td>17287</td><td>1</td></tr><tr><td>17235</td><td>1</td></tr><tr><td>17552</td><td>1</td></tr><tr><td>14898</td><td>1</td></tr><tr><td>16839</td><td>1</td></tr><tr><td>14404</td><td>1</td></tr><tr><td>15882</td><td>1</td></tr><tr><td>15498</td><td>1</td></tr><tr><td>12721</td><td>1</td></tr><tr><td>12797</td><td>1</td></tr><tr><td>14932</td><td>1</td></tr><tr><td>16255</td><td>1</td></tr><tr><td>16907</td><td>1</td></tr><tr><td>17220</td><td>1</td></tr><tr><td>14415</td><td>1</td></tr><tr><td>13534</td><td>1</td></tr><tr><td>18176</td><td>1</td></tr><tr><td>15780</td><td>1</td></tr><tr><td>17358</td><td>1</td></tr><tr><td>15312</td><td>1</td></tr><tr><td>14037</td><td>1</td></tr><tr><td>15938</td><td>1</td></tr><tr><td>13859</td><td>1</td></tr><tr><td>17048</td><td>1</td></tr><tr><td>17602</td><td>1</td></tr><tr><td>17418</td><td>1</td></tr><tr><td>16359</td><td>1</td></tr><tr><td>12422</td><td>1</td></tr><tr><td>16493</td><td>1</td></tr><tr><td>14292</td><td>1</td></tr><tr><td>14270</td><td>1</td></tr><tr><td>14114</td><td>1</td></tr><tr><td>13263</td><td>1</td></tr><tr><td>16235</td><td>1</td></tr><tr><td>16554</td><td>1</td></tr><tr><td>15626</td><td>1</td></tr><tr><td>12673</td><td>1</td></tr><tr><td>14185</td><td>1</td></tr><tr><td>12346</td><td>1</td></tr><tr><td>13047</td><td>1</td></tr><tr><td>15513</td><td>1</td></tr><tr><td>17069</td><td>1</td></tr><tr><td>15023</td><td>1</td></tr><tr><td>15860</td><td>1</td></tr><tr><td>13564</td><td>1</td></tr><tr><td>15353</td><td>1</td></tr><tr><td>14673</td><td>1</td></tr><tr><td>14744</td><td>1</td></tr><tr><td>14299</td><td>1</td></tr><tr><td>17937</td><td>1</td></tr><tr><td>14290</td><td>1</td></tr><tr><td>13097</td><td>1</td></tr><tr><td>13953</td><td>1</td></tr><tr><td>17634</td><td>1</td></tr><tr><td>12500</td><td>1</td></tr><tr><td>14321</td><td>1</td></tr><tr><td>16835</td><td>1</td></tr><tr><td>14901</td><td>1</td></tr><tr><td>17967</td><td>1</td></tr><tr><td>18156</td><td>1</td></tr><tr><td>18219</td><td>1</td></tr><tr><td>14825</td><td>1</td></tr><tr><td>12913</td><td>1</td></tr><tr><td>17341</td><td>1</td></tr><tr><td>16520</td><td>1</td></tr><tr><td>17530</td><td>1</td></tr><tr><td>16191</td><td>1</td></tr><tr><td>13627</td><td>1</td></tr><tr><td>18245</td><td>1</td></tr><tr><td>17593</td><td>1</td></tr><tr><td>14532</td><td>1</td></tr><tr><td>12483</td><td>1</td></tr><tr><td>14732</td><td>1</td></tr><tr><td>13402</td><td>1</td></tr><tr><td>17396</td><td>1</td></tr><tr><td>17062</td><td>1</td></tr><tr><td>17091</td><td>1</td></tr><tr><td>13050</td><td>1</td></tr><tr><td>16596</td><td>1</td></tr><tr><td>15689</td><td>1</td></tr><tr><td>15615</td><td>1</td></tr><tr><td>18226</td><td>1</td></tr><tr><td>14794</td><td>1</td></tr><tr><td>12524</td><td>1</td></tr><tr><td>17968</td><td>1</td></tr><tr><td>17181</td><td>1</td></tr><tr><td>14729</td><td>1</td></tr><tr><td>15111</td><td>1</td></tr><tr><td>14466</td><td>1</td></tr><tr><td>17450</td><td>1</td></tr><tr><td>13270</td><td>1</td></tr><tr><td>15998</td><td>1</td></tr><tr><td>18037</td><td>1</td></tr><tr><td>18075</td><td>1</td></tr><tr><td>13092</td><td>1</td></tr><tr><td>12551</td><td>1</td></tr><tr><td>14769</td><td>1</td></tr><tr><td>17007</td><td>1</td></tr><tr><td>13869</td><td>1</td></tr><tr><td>18229</td><td>1</td></tr><tr><td>13065</td><td>1</td></tr><tr><td>16411</td><td>1</td></tr><tr><td>15889</td><td>1</td></tr><tr><td>15713</td><td>1</td></tr><tr><td>17526</td><td>1</td></tr><tr><td>17076</td><td>1</td></tr><tr><td>18178</td><td>1</td></tr><tr><td>12540</td><td>1</td></tr><tr><td>15392</td><td>1</td></tr><tr><td>15290</td><td>1</td></tr><tr><td>14099</td><td>1</td></tr><tr><td>13093</td><td>1</td></tr><tr><td>16048</td><td>1</td></tr><tr><td>18011</td><td>1</td></tr><tr><td>15601</td><td>1</td></tr><tr><td>14829</td><td>1</td></tr><tr><td>14213</td><td>1</td></tr><tr><td>17863</td><td>1</td></tr><tr><td>14081</td><td>1</td></tr><tr><td>15987</td><td>1</td></tr><tr><td>17428</td><td>1</td></tr><tr><td>13848</td><td>1</td></tr><tr><td>15288</td><td>1</td></tr><tr><td>18050</td><td>1</td></tr><tr><td>17392</td><td>1</td></tr><tr><td>14462</td><td>1</td></tr><tr><td>13565</td><td>1</td></tr><tr><td>14594</td><td>1</td></tr><tr><td>13576</td><td>1</td></tr><tr><td>14060</td><td>1</td></tr><tr><td>15923</td><td>1</td></tr><tr><td>12841</td><td>1</td></tr><tr><td>15858</td><td>1</td></tr><tr><td>16122</td><td>1</td></tr><tr><td>14866</td><td>1</td></tr><tr><td>13369</td><td>1</td></tr><tr><td>12429</td><td>1</td></tr><tr><td>12649</td><td>1</td></tr><tr><td>15179</td><td>1</td></tr><tr><td>16996</td><td>1</td></tr><tr><td>14621</td><td>1</td></tr><tr><td>15157</td><td>1</td></tr><tr><td>13104</td><td>1</td></tr><tr><td>12678</td><td>1</td></tr><tr><td>13487</td><td>1</td></tr><tr><td>15311</td><td>1</td></tr><tr><td>17548</td><td>1</td></tr><tr><td>17924</td><td>1</td></tr><tr><td>13069</td><td>1</td></tr><tr><td>16241</td><td>1</td></tr><tr><td>14215</td><td>1</td></tr><tr><td>14739</td><td>1</td></tr><tr><td>16499</td><td>1</td></tr><tr><td>17404</td><td>1</td></tr><tr><td>16954</td><td>1</td></tr><tr><td>15482</td><td>1</td></tr><tr><td>12383</td><td>1</td></tr><tr><td>18283</td><td>1</td></tr><tr><td>16497</td><td>1</td></tr><tr><td>17965</td><td>1</td></tr><tr><td>16442</td><td>1</td></tr><tr><td>16456</td><td>1</td></tr><tr><td>17239</td><td>1</td></tr><tr><td>16665</td><td>1</td></tr><tr><td>16315</td><td>1</td></tr><tr><td>15033</td><td>1</td></tr><tr><td>17064</td><td>1</td></tr><tr><td>12553</td><td>1</td></tr><tr><td>13700</td><td>1</td></tr><tr><td>16351</td><td>1</td></tr><tr><td>13246</td><td>1</td></tr><tr><td>15395</td><td>1</td></tr><tr><td>16843</td><td>1</td></tr><tr><td>16892</td><td>1</td></tr><tr><td>17742</td><td>1</td></tr><tr><td>18095</td><td>1</td></tr><tr><td>12924</td><td>1</td></tr><tr><td>17018</td><td>1</td></tr><tr><td>14428</td><td>1</td></tr><tr><td>16655</td><td>1</td></tr><tr><td>14175</td><td>1</td></tr><tr><td>15316</td><td>1</td></tr><tr><td>15563</td><td>1</td></tr><tr><td>18179</td><td>1</td></tr><tr><td>14221</td><td>1</td></tr><tr><td>13802</td><td>1</td></tr><tr><td>13310</td><td>1</td></tr></tbody></table></div>"
      ]
     },
     "metadata": {
      "application/vnd.databricks.v1+output": {
       "addedWidgets": {},
       "aggData": [],
       "aggError": "",
       "aggOverflow": false,
       "aggSchema": [],
       "aggSeriesLimitReached": false,
       "aggType": "",
       "arguments": {},
       "columnCustomDisplayInfos": {},
       "data": [
        [
         null,
         8
        ],
        [
         12370,
         2
        ],
        [
         14496,
         1
        ],
        [
         13090,
         1
        ],
        [
         14135,
         1
        ],
        [
         15260,
         1
        ],
        [
         17802,
         1
        ],
        [
         16995,
         1
        ],
        [
         13370,
         1
        ],
        [
         13269,
         1
        ],
        [
         13652,
         1
        ],
        [
         16858,
         1
        ],
        [
         12808,
         1
        ],
        [
         17218,
         1
        ],
        [
         13983,
         1
        ],
        [
         18259,
         1
        ],
        [
         14419,
         1
        ],
        [
         17236,
         1
        ],
        [
         15854,
         1
        ],
        [
         17303,
         1
        ],
        [
         14401,
         1
        ],
        [
         17525,
         1
        ],
        [
         13629,
         1
        ],
        [
         15046,
         1
        ],
        [
         16551,
         1
        ],
        [
         12651,
         1
        ],
        [
         12921,
         1
        ],
        [
         13777,
         1
        ],
        [
         15061,
         1
        ],
        [
         14031,
         1
        ],
        [
         16861,
         1
        ],
        [
         16782,
         1
        ],
        [
         14952,
         1
        ],
        [
         18269,
         1
        ],
        [
         15329,
         1
        ],
        [
         13000,
         1
        ],
        [
         18065,
         1
        ],
        [
         16153,
         1
        ],
        [
         17128,
         1
        ],
        [
         13694,
         1
        ],
        [
         12915,
         1
        ],
        [
         16926,
         1
        ],
        [
         16725,
         1
        ],
        [
         15332,
         1
        ],
        [
         13506,
         1
        ],
        [
         15973,
         1
        ],
        [
         15032,
         1
        ],
        [
         14437,
         1
        ],
        [
         16019,
         1
        ],
        [
         13148,
         1
        ],
        [
         14107,
         1
        ],
        [
         16927,
         1
        ],
        [
         16726,
         1
        ],
        [
         17551,
         1
        ],
        [
         12877,
         1
        ],
        [
         13029,
         1
        ],
        [
         15164,
         1
        ],
        [
         15862,
         1
        ],
        [
         13319,
         1
        ],
        [
         15024,
         1
        ],
        [
         15680,
         1
        ],
        [
         16083,
         1
        ],
        [
         16282,
         1
        ],
        [
         17389,
         1
        ],
        [
         13233,
         1
        ],
        [
         17800,
         1
        ],
        [
         17581,
         1
        ],
        [
         14625,
         1
        ],
        [
         12967,
         1
        ],
        [
         16814,
         1
        ],
        [
         16306,
         1
        ],
        [
         16365,
         1
        ],
        [
         17406,
         1
        ],
        [
         12766,
         1
        ],
        [
         15271,
         1
        ],
        [
         17671,
         1
        ],
        [
         13969,
         1
        ],
        [
         14639,
         1
        ],
        [
         14057,
         1
        ],
        [
         16503,
         1
        ],
        [
         13238,
         1
        ],
        [
         15727,
         1
        ],
        [
         16705,
         1
        ],
        [
         14045,
         1
        ],
        [
         15350,
         1
        ],
        [
         17855,
         1
        ],
        [
         17925,
         1
        ],
        [
         17961,
         1
        ],
        [
         12839,
         1
        ],
        [
         17975,
         1
        ],
        [
         16579,
         1
        ],
        [
         15044,
         1
        ],
        [
         17041,
         1
        ],
        [
         15062,
         1
        ],
        [
         15246,
         1
        ],
        [
         17850,
         1
        ],
        [
         16552,
         1
        ],
        [
         16781,
         1
        ],
        [
         17685,
         1
        ],
        [
         12725,
         1
        ],
        [
         16402,
         1
        ],
        [
         17442,
         1
        ],
        [
         15664,
         1
        ],
        [
         14414,
         1
        ],
        [
         16684,
         1
        ],
        [
         17420,
         1
        ],
        [
         17572,
         1
        ],
        [
         16770,
         1
        ],
        [
         13145,
         1
        ],
        [
         13013,
         1
        ],
        [
         16013,
         1
        ],
        [
         17198,
         1
        ],
        [
         18113,
         1
        ],
        [
         15021,
         1
        ],
        [
         15018,
         1
        ],
        [
         18061,
         1
        ],
        [
         12963,
         1
        ],
        [
         14159,
         1
        ],
        [
         17969,
         1
        ],
        [
         18141,
         1
        ],
        [
         13458,
         1
        ],
        [
         14426,
         1
        ],
        [
         15759,
         1
        ],
        [
         17848,
         1
        ],
        [
         17752,
         1
        ],
        [
         12763,
         1
        ],
        [
         15696,
         1
        ],
        [
         13502,
         1
        ],
        [
         12523,
         1
        ],
        [
         15213,
         1
        ],
        [
         18233,
         1
        ],
        [
         12451,
         1
        ],
        [
         12652,
         1
        ],
        [
         14587,
         1
        ],
        [
         14978,
         1
        ],
        [
         15447,
         1
        ],
        [
         16206,
         1
        ],
        [
         12490,
         1
        ],
        [
         13048,
         1
        ],
        [
         13527,
         1
        ],
        [
         14784,
         1
        ],
        [
         14657,
         1
        ],
        [
         15262,
         1
        ],
        [
         12433,
         1
        ],
        [
         16042,
         1
        ],
        [
         17211,
         1
        ],
        [
         14161,
         1
        ],
        [
         14344,
         1
        ],
        [
         16293,
         1
        ],
        [
         13599,
         1
        ],
        [
         17706,
         1
        ],
        [
         16385,
         1
        ],
        [
         13787,
         1
        ],
        [
         18044,
         1
        ],
        [
         17230,
         1
        ],
        [
         17744,
         1
        ],
        [
         16271,
         1
        ],
        [
         15464,
         1
        ],
        [
         13656,
         1
        ],
        [
         13747,
         1
        ],
        [
         16752,
         1
        ],
        [
         16916,
         1
        ],
        [
         15301,
         1
        ],
        [
         13769,
         1
        ],
        [
         16525,
         1
        ],
        [
         13523,
         1
        ],
        [
         16717,
         1
        ],
        [
         17430,
         1
        ],
        [
         18230,
         1
        ],
        [
         17880,
         1
        ],
        [
         17231,
         1
        ],
        [
         15101,
         1
        ],
        [
         12705,
         1
        ],
        [
         16270,
         1
        ],
        [
         13397,
         1
        ],
        [
         16424,
         1
        ],
        [
         12868,
         1
        ],
        [
         12779,
         1
        ],
        [
         13034,
         1
        ],
        [
         12681,
         1
        ],
        [
         17646,
         1
        ],
        [
         18004,
         1
        ],
        [
         17375,
         1
        ],
        [
         17449,
         1
        ],
        [
         12865,
         1
        ],
        [
         12666,
         1
        ],
        [
         16037,
         1
        ],
        [
         17888,
         1
        ],
        [
         17400,
         1
        ],
        [
         17849,
         1
        ],
        [
         16029,
         1
        ],
        [
         17920,
         1
        ],
        [
         13418,
         1
        ],
        [
         15955,
         1
        ],
        [
         14491,
         1
        ],
        [
         12686,
         1
        ],
        [
         17243,
         1
        ],
        [
         14708,
         1
        ],
        [
         17068,
         1
        ],
        [
         13126,
         1
        ],
        [
         17722,
         1
        ],
        [
         16553,
         1
        ],
        [
         14440,
         1
        ],
        [
         17978,
         1
        ],
        [
         13136,
         1
        ],
        [
         13324,
         1
        ],
        [
         12434,
         1
        ],
        [
         14373,
         1
        ],
        [
         14334,
         1
        ],
        [
         12944,
         1
        ],
        [
         15208,
         1
        ],
        [
         13082,
         1
        ],
        [
         14312,
         1
        ],
        [
         15100,
         1
        ],
        [
         13705,
         1
        ],
        [
         12855,
         1
        ],
        [
         12471,
         1
        ],
        [
         17567,
         1
        ],
        [
         16168,
         1
        ],
        [
         15426,
         1
        ],
        [
         15555,
         1
        ],
        [
         12474,
         1
        ],
        [
         16719,
         1
        ],
        [
         17869,
         1
        ],
        [
         14907,
         1
        ],
        [
         15002,
         1
        ],
        [
         15750,
         1
        ],
        [
         15805,
         1
        ],
        [
         15547,
         1
        ],
        [
         13890,
         1
        ],
        [
         14643,
         1
        ],
        [
         12515,
         1
        ],
        [
         15719,
         1
        ],
        [
         17095,
         1
        ],
        [
         12539,
         1
        ],
        [
         13117,
         1
        ],
        [
         17884,
         1
        ],
        [
         13089,
         1
        ],
        [
         16931,
         1
        ],
        [
         15880,
         1
        ],
        [
         15602,
         1
        ],
        [
         14176,
         1
        ],
        [
         17419,
         1
        ],
        [
         15628,
         1
        ],
        [
         13327,
         1
        ],
        [
         17696,
         1
        ],
        [
         14062,
         1
        ],
        [
         14878,
         1
        ],
        [
         18223,
         1
        ],
        [
         16945,
         1
        ],
        [
         13750,
         1
        ],
        [
         14761,
         1
        ],
        [
         12791,
         1
        ],
        [
         14142,
         1
        ],
        [
         15658,
         1
        ],
        [
         15732,
         1
        ],
        [
         16033,
         1
        ],
        [
         15894,
         1
        ],
        [
         14748,
         1
        ],
        [
         14085,
         1
        ],
        [
         13880,
         1
        ],
        [
         14796,
         1
        ],
        [
         15529,
         1
        ],
        [
         13982,
         1
        ],
        [
         16350,
         1
        ],
        [
         13178,
         1
        ],
        [
         14150,
         1
        ],
        [
         13266,
         1
        ],
        [
         16316,
         1
        ],
        [
         17580,
         1
        ],
        [
         14146,
         1
        ],
        [
         14553,
         1
        ],
        [
         14653,
         1
        ],
        [
         12748,
         1
        ],
        [
         17976,
         1
        ],
        [
         13958,
         1
        ],
        [
         14264,
         1
        ],
        [
         12738,
         1
        ],
        [
         15373,
         1
        ],
        [
         13174,
         1
        ],
        [
         16550,
         1
        ],
        [
         15079,
         1
        ],
        [
         14256,
         1
        ],
        [
         14543,
         1
        ],
        [
         17372,
         1
        ],
        [
         17633,
         1
        ],
        [
         16743,
         1
        ],
        [
         12348,
         1
        ],
        [
         16885,
         1
        ],
        [
         15527,
         1
        ],
        [
         14828,
         1
        ],
        [
         16326,
         1
        ],
        [
         17841,
         1
        ],
        [
         15502,
         1
        ],
        [
         13531,
         1
        ],
        [
         14684,
         1
        ],
        [
         13999,
         1
        ],
        [
         13284,
         1
        ],
        [
         18190,
         1
        ],
        [
         16948,
         1
        ],
        [
         15171,
         1
        ],
        [
         13993,
         1
        ],
        [
         16395,
         1
        ],
        [
         13385,
         1
        ],
        [
         16401,
         1
        ],
        [
         13929,
         1
        ],
        [
         14242,
         1
        ],
        [
         15518,
         1
        ],
        [
         12527,
         1
        ],
        [
         12736,
         1
        ],
        [
         15370,
         1
        ],
        [
         18069,
         1
        ],
        [
         12643,
         1
        ],
        [
         12626,
         1
        ],
        [
         14669,
         1
        ],
        [
         16500,
         1
        ],
        [
         13001,
         1
        ],
        [
         12402,
         1
        ],
        [
         14514,
         1
        ],
        [
         17862,
         1
        ],
        [
         13748,
         1
        ],
        [
         15738,
         1
        ],
        [
         14865,
         1
        ],
        [
         13807,
         1
        ],
        [
         12683,
         1
        ],
        [
         15856,
         1
        ],
        [
         14544,
         1
        ],
        [
         15159,
         1
        ],
        [
         17739,
         1
        ],
        [
         13496,
         1
        ],
        [
         17044,
         1
        ],
        [
         14841,
         1
        ],
        [
         16560,
         1
        ],
        [
         14533,
         1
        ],
        [
         15841,
         1
        ],
        [
         13187,
         1
        ],
        [
         15059,
         1
        ],
        [
         15093,
         1
        ],
        [
         15867,
         1
        ],
        [
         17324,
         1
        ],
        [
         16700,
         1
        ],
        [
         13211,
         1
        ],
        [
         16746,
         1
        ],
        [
         15204,
         1
        ],
        [
         12480,
         1
        ],
        [
         18074,
         1
        ],
        [
         13255,
         1
        ],
        [
         15012,
         1
        ],
        [
         14766,
         1
        ],
        [
         17381,
         1
        ],
        [
         14449,
         1
        ],
        [
         14236,
         1
        ],
        [
         16898,
         1
        ],
        [
         13495,
         1
        ],
        [
         15965,
         1
        ],
        [
         15660,
         1
        ],
        [
         14082,
         1
        ],
        [
         16656,
         1
        ],
        [
         17799,
         1
        ],
        [
         17158,
         1
        ],
        [
         12417,
         1
        ],
        [
         15465,
         1
        ],
        [
         15304,
         1
        ],
        [
         15298,
         1
        ],
        [
         17340,
         1
        ],
        [
         14243,
         1
        ],
        [
         12621,
         1
        ],
        [
         17339,
         1
        ],
        [
         16727,
         1
        ],
        [
         12875,
         1
        ],
        [
         17524,
         1
        ],
        [
         12476,
         1
        ],
        [
         16570,
         1
        ],
        [
         14524,
         1
        ],
        [
         15822,
         1
        ],
        [
         18260,
         1
        ],
        [
         12957,
         1
        ],
        [
         13280,
         1
        ],
        [
         16850,
         1
        ],
        [
         14047,
         1
        ],
        [
         17017,
         1
        ],
        [
         14388,
         1
        ],
        [
         16140,
         1
        ],
        [
         14396,
         1
        ],
        [
         13081,
         1
        ],
        [
         17858,
         1
        ],
        [
         16722,
         1
        ],
        [
         17616,
         1
        ],
        [
         18077,
         1
        ],
        [
         16011,
         1
        ],
        [
         17700,
         1
        ],
        [
         17146,
         1
        ],
        [
         14220,
         1
        ],
        [
         17913,
         1
        ],
        [
         12735,
         1
        ],
        [
         15611,
         1
        ],
        [
         17114,
         1
        ],
        [
         12583,
         1
        ],
        [
         17838,
         1
        ],
        [
         16905,
         1
        ],
        [
         14589,
         1
        ],
        [
         15769,
         1
        ],
        [
         15038,
         1
        ],
        [
         13094,
         1
        ],
        [
         16221,
         1
        ],
        [
         14448,
         1
        ],
        [
         17033,
         1
        ],
        [
         12577,
         1
        ],
        [
         14560,
         1
        ],
        [
         13680,
         1
        ],
        [
         15266,
         1
        ],
        [
         17897,
         1
        ],
        [
         14210,
         1
        ],
        [
         16327,
         1
        ],
        [
         15039,
         1
        ],
        [
         13481,
         1
        ],
        [
         18119,
         1
        ],
        [
         13786,
         1
        ],
        [
         16893,
         1
        ],
        [
         13140,
         1
        ],
        [
         16065,
         1
        ],
        [
         17179,
         1
        ],
        [
         16607,
         1
        ],
        [
         14911,
         1
        ],
        [
         17460,
         1
        ],
        [
         17732,
         1
        ],
        [
         14390,
         1
        ],
        [
         17228,
         1
        ],
        [
         12567,
         1
        ],
        [
         14409,
         1
        ],
        [
         17519,
         1
        ],
        [
         13756,
         1
        ],
        [
         16713,
         1
        ],
        [
         16016,
         1
        ],
        [
         14577,
         1
        ],
        [
         14646,
         1
        ],
        [
         18062,
         1
        ],
        [
         12503,
         1
        ],
        [
         18198,
         1
        ],
        [
         17457,
         1
        ],
        [
         15160,
         1
        ],
        [
         15808,
         1
        ],
        [
         14573,
         1
        ],
        [
         16686,
         1
        ],
        [
         15034,
         1
        ],
        [
         14487,
         1
        ],
        [
         17809,
         1
        ],
        [
         14040,
         1
        ],
        [
         17708,
         1
        ],
        [
         14572,
         1
        ],
        [
         13784,
         1
        ],
        [
         14320,
         1
        ],
        [
         12393,
         1
        ],
        [
         12601,
         1
        ],
        [
         12724,
         1
        ],
        [
         17609,
         1
        ],
        [
         13883,
         1
        ],
        [
         15749,
         1
        ],
        [
         12388,
         1
        ],
        [
         13064,
         1
        ],
        [
         15281,
         1
        ],
        [
         15189,
         1
        ],
        [
         15296,
         1
        ],
        [
         16791,
         1
        ],
        [
         12672,
         1
        ],
        [
         14916,
         1
        ],
        [
         12489,
         1
        ],
        [
         18085,
         1
        ],
        [
         17377,
         1
        ],
        [
         13108,
         1
        ],
        [
         17547,
         1
        ],
        [
         17320,
         1
        ],
        [
         18043,
         1
        ],
        [
         13077,
         1
        ],
        [
         15358,
         1
        ],
        [
         14205,
         1
        ],
        [
         17338,
         1
        ],
        [
         14913,
         1
        ],
        [
         16458,
         1
        ],
        [
         13758,
         1
        ],
        [
         14849,
         1
        ],
        [
         17690,
         1
        ],
        [
         16422,
         1
        ],
        [
         12586,
         1
        ],
        [
         14189,
         1
        ],
        [
         17191,
         1
        ],
        [
         12755,
         1
        ],
        [
         17411,
         1
        ],
        [
         14702,
         1
        ],
        [
         17790,
         1
        ],
        [
         17912,
         1
        ],
        [
         14961,
         1
        ],
        [
         16816,
         1
        ],
        [
         17204,
         1
        ],
        [
         17368,
         1
        ],
        [
         14258,
         1
        ],
        [
         17555,
         1
        ],
        [
         14755,
         1
        ],
        [
         13767,
         1
        ],
        [
         14237,
         1
        ],
        [
         15485,
         1
        ],
        [
         16955,
         1
        ],
        [
         16203,
         1
        ],
        [
         13798,
         1
        ],
        [
         12708,
         1
        ],
        [
         15078,
         1
        ],
        [
         17223,
         1
        ],
        [
         13488,
         1
        ],
        [
         16125,
         1
        ],
        [
         14821,
         1
        ],
        [
         13113,
         1
        ],
        [
         15192,
         1
        ],
        [
         14441,
         1
        ],
        [
         13230,
         1
        ],
        [
         17496,
         1
        ],
        [
         16676,
         1
        ],
        [
         13764,
         1
        ],
        [
         14889,
         1
        ],
        [
         18171,
         1
        ],
        [
         16539,
         1
        ],
        [
         15834,
         1
        ],
        [
         14810,
         1
        ],
        [
         17691,
         1
        ],
        [
         13842,
         1
        ],
        [
         15347,
         1
        ],
        [
         12494,
         1
        ],
        [
         12872,
         1
        ],
        [
         17576,
         1
        ],
        [
         16923,
         1
        ],
        [
         17188,
         1
        ],
        [
         16262,
         1
        ],
        [
         14298,
         1
        ],
        [
         12829,
         1
        ],
        [
         13874,
         1
        ],
        [
         16583,
         1
        ],
        [
         15299,
         1
        ],
        [
         16150,
         1
        ],
        [
         15240,
         1
        ],
        [
         17238,
         1
        ],
        [
         13838,
         1
        ],
        [
         16983,
         1
        ],
        [
         15898,
         1
        ],
        [
         17227,
         1
        ],
        [
         16919,
         1
        ],
        [
         16654,
         1
        ],
        [
         14850,
         1
        ],
        [
         13240,
         1
        ],
        [
         13021,
         1
        ],
        [
         15211,
         1
        ],
        [
         17827,
         1
        ],
        [
         13198,
         1
        ],
        [
         17214,
         1
        ],
        [
         15789,
         1
        ],
        [
         14735,
         1
        ],
        [
         14119,
         1
        ],
        [
         15587,
         1
        ],
        [
         15799,
         1
        ],
        [
         16250,
         1
        ],
        [
         15605,
         1
        ],
        [
         12793,
         1
        ],
        [
         13497,
         1
        ],
        [
         16059,
         1
        ],
        [
         16863,
         1
        ],
        [
         16081,
         1
        ],
        [
         13455,
         1
        ],
        [
         13102,
         1
        ],
        [
         17251,
         1
        ],
        [
         13829,
         1
        ],
        [
         12423,
         1
        ],
        [
         16600,
         1
        ],
        [
         13672,
         1
        ],
        [
         17511,
         1
        ],
        [
         15922,
         1
        ],
        [
         16274,
         1
        ],
        [
         14696,
         1
        ],
        [
         14741,
         1
        ],
        [
         16546,
         1
        ],
        [
         15544,
         1
        ],
        [
         16477,
         1
        ],
        [
         15570,
         1
        ],
        [
         15649,
         1
        ],
        [
         17491,
         1
        ],
        [
         12870,
         1
        ],
        [
         15005,
         1
        ],
        [
         17865,
         1
        ],
        [
         13668,
         1
        ],
        [
         17293,
         1
        ],
        [
         16003,
         1
        ],
        [
         14201,
         1
        ],
        [
         14777,
         1
        ],
        [
         15197,
         1
        ],
        [
         12691,
         1
        ],
        [
         12484,
         1
        ],
        [
         18041,
         1
        ],
        [
         17787,
         1
        ],
        [
         16353,
         1
        ],
        [
         15716,
         1
        ],
        [
         17402,
         1
        ],
        [
         12647,
         1
        ],
        [
         16161,
         1
        ],
        [
         18193,
         1
        ],
        [
         15723,
         1
        ],
        [
         18016,
         1
        ],
        [
         15950,
         1
        ],
        [
         12782,
         1
        ],
        [
         14737,
         1
        ],
        [
         13368,
         1
        ],
        [
         16889,
         1
        ],
        [
         13569,
         1
        ],
        [
         14309,
         1
        ],
        [
         13593,
         1
        ],
        [
         16086,
         1
        ],
        [
         15687,
         1
        ],
        [
         15346,
         1
        ],
        [
         17771,
         1
        ],
        [
         14715,
         1
        ],
        [
         17364,
         1
        ],
        [
         18106,
         1
        ],
        [
         15831,
         1
        ],
        [
         12359,
         1
        ],
        [
         14976,
         1
        ],
        [
         12437,
         1
        ],
        [
         13614,
         1
        ],
        [
         15939,
         1
        ],
        [
         15510,
         1
        ],
        [
         18212,
         1
        ],
        [
         12728,
         1
        ],
        [
         13898,
         1
        ],
        [
         17951,
         1
        ],
        [
         15525,
         1
        ],
        [
         15640,
         1
        ],
        [
         18239,
         1
        ],
        [
         16891,
         1
        ],
        [
         18109,
         1
        ],
        [
         14293,
         1
        ],
        [
         13173,
         1
        ],
        [
         17999,
         1
        ],
        [
         15380,
         1
        ],
        [
         12731,
         1
        ],
        [
         14505,
         1
        ],
        [
         17454,
         1
        ],
        [
         17692,
         1
        ],
        [
         17980,
         1
        ],
        [
         15620,
         1
        ],
        [
         18256,
         1
        ],
        [
         16532,
         1
        ],
        [
         15845,
         1
        ],
        [
         15607,
         1
        ],
        [
         17707,
         1
        ],
        [
         13448,
         1
        ],
        [
         17908,
         1
        ],
        [
         12662,
         1
        ],
        [
         13011,
         1
        ],
        [
         15384,
         1
        ],
        [
         15953,
         1
        ],
        [
         17596,
         1
        ],
        [
         16817,
         1
        ],
        [
         15194,
         1
        ],
        [
         16950,
         1
        ],
        [
         17816,
         1
        ],
        [
         17456,
         1
        ],
        [
         15535,
         1
        ],
        [
         12605,
         1
        ],
        [
         18116,
         1
        ],
        [
         14498,
         1
        ],
        [
         17611,
         1
        ],
        [
         17189,
         1
        ],
        [
         14472,
         1
        ],
        [
         17284,
         1
        ],
        [
         13408,
         1
        ],
        [
         14307,
         1
        ],
        [
         17757,
         1
        ],
        [
         17796,
         1
        ],
        [
         13329,
         1
        ],
        [
         16252,
         1
        ],
        [
         18092,
         1
        ],
        [
         15361,
         1
        ],
        [
         15777,
         1
        ],
        [
         15456,
         1
        ],
        [
         16875,
         1
        ],
        [
         12413,
         1
        ],
        [
         14092,
         1
        ],
        [
         15646,
         1
        ],
        [
         14576,
         1
        ],
        [
         14395,
         1
        ],
        [
         13520,
         1
        ],
        [
         17954,
         1
        ],
        [
         16718,
         1
        ],
        [
         15048,
         1
        ],
        [
         17682,
         1
        ],
        [
         14282,
         1
        ],
        [
         17720,
         1
        ],
        [
         17676,
         1
        ],
        [
         12942,
         1
        ],
        [
         14479,
         1
        ],
        [
         13959,
         1
        ],
        [
         16531,
         1
        ],
        [
         12928,
         1
        ],
        [
         14944,
         1
        ],
        [
         13107,
         1
        ],
        [
         12472,
         1
        ],
        [
         17873,
         1
        ],
        [
         13941,
         1
        ],
        [
         15107,
         1
        ],
        [
         16638,
         1
        ],
        [
         13649,
         1
        ],
        [
         14713,
         1
        ],
        [
         14608,
         1
        ],
        [
         12939,
         1
        ],
        [
         17949,
         1
        ],
        [
         13267,
         1
        ],
        [
         15581,
         1
        ],
        [
         13115,
         1
        ],
        [
         13984,
         1
        ],
        [
         16670,
         1
        ],
        [
         16470,
         1
        ],
        [
         14709,
         1
        ],
        [
         15460,
         1
        ],
        [
         14672,
         1
        ],
        [
         14723,
         1
        ],
        [
         15351,
         1
        ],
        [
         14800,
         1
        ],
        [
         17812,
         1
        ],
        [
         14032,
         1
        ],
        [
         15181,
         1
        ],
        [
         17702,
         1
        ],
        [
         16565,
         1
        ],
        [
         16873,
         1
        ],
        [
         13225,
         1
        ],
        [
         17001,
         1
        ],
        [
         14985,
         1
        ],
        [
         14016,
         1
        ],
        [
         12734,
         1
        ],
        [
         13165,
         1
        ],
        [
         13304,
         1
        ],
        [
         16094,
         1
        ],
        [
         15165,
         1
        ],
        [
         17760,
         1
        ],
        [
         14606,
         1
        ],
        [
         15363,
         1
        ],
        [
         13491,
         1
        ],
        [
         13138,
         1
        ],
        [
         18118,
         1
        ],
        [
         16710,
         1
        ],
        [
         12441,
         1
        ],
        [
         13199,
         1
        ],
        [
         16558,
         1
        ],
        [
         12481,
         1
        ],
        [
         17917,
         1
        ],
        [
         16805,
         1
        ],
        [
         17288,
         1
        ],
        [
         16711,
         1
        ],
        [
         12668,
         1
        ],
        [
         12585,
         1
        ],
        [
         16735,
         1
        ],
        [
         17950,
         1
        ],
        [
         13473,
         1
        ],
        [
         13782,
         1
        ],
        [
         14101,
         1
        ],
        [
         16912,
         1
        ],
        [
         17365,
         1
        ],
        [
         13862,
         1
        ],
        [
         14167,
         1
        ],
        [
         16593,
         1
        ],
        [
         12820,
         1
        ],
        [
         16321,
         1
        ],
        [
         14770,
         1
        ],
        [
         14295,
         1
        ],
        [
         12951,
         1
        ],
        [
         14779,
         1
        ],
        [
         15673,
         1
        ],
        [
         13693,
         1
        ],
        [
         16034,
         1
        ],
        [
         17569,
         1
        ],
        [
         14329,
         1
        ],
        [
         15422,
         1
        ],
        [
         13144,
         1
        ],
        [
         13634,
         1
        ],
        [
         12356,
         1
        ],
        [
         14078,
         1
        ],
        [
         16244,
         1
        ],
        [
         14180,
         1
        ],
        [
         16143,
         1
        ],
        [
         17860,
         1
        ],
        [
         16658,
         1
        ],
        [
         16779,
         1
        ],
        [
         15224,
         1
        ],
        [
         16010,
         1
        ],
        [
         15468,
         1
        ],
        [
         12867,
         1
        ],
        [
         17629,
         1
        ],
        [
         17090,
         1
        ],
        [
         15661,
         1
        ],
        [
         17643,
         1
        ],
        [
         13963,
         1
        ],
        [
         16233,
         1
        ],
        [
         17307,
         1
        ],
        [
         15394,
         1
        ],
        [
         15379,
         1
        ],
        [
         15562,
         1
        ],
        [
         15752,
         1
        ],
        [
         15070,
         1
        ],
        [
         16634,
         1
        ],
        [
         15081,
         1
        ],
        [
         14355,
         1
        ],
        [
         16519,
         1
        ],
        [
         12785,
         1
        ],
        [
         16202,
         1
        ],
        [
         14871,
         1
        ],
        [
         13027,
         1
        ],
        [
         13817,
         1
        ],
        [
         16567,
         1
        ],
        [
         13451,
         1
        ],
        [
         16186,
         1
        ],
        [
         16883,
         1
        ],
        [
         12395,
         1
        ],
        [
         15028,
         1
        ],
        [
         13030,
         1
        ],
        [
         16904,
         1
        ],
        [
         13854,
         1
        ],
        [
         15279,
         1
        ],
        [
         14413,
         1
        ],
        [
         15454,
         1
        ],
        [
         16145,
         1
        ],
        [
         13317,
         1
        ],
        [
         18097,
         1
        ],
        [
         17585,
         1
        ],
        [
         16549,
         1
        ],
        [
         16218,
         1
        ],
        [
         18144,
         1
        ],
        [
         13715,
         1
        ],
        [
         16754,
         1
        ],
        [
         15221,
         1
        ],
        [
         16393,
         1
        ],
        [
         14667,
         1
        ],
        [
         17675,
         1
        ],
        [
         17262,
         1
        ],
        [
         17857,
         1
        ],
        [
         15945,
         1
        ],
        [
         15596,
         1
        ],
        [
         14525,
         1
        ],
        [
         14206,
         1
        ],
        [
         16810,
         1
        ],
        [
         16899,
         1
        ],
        [
         17820,
         1
        ],
        [
         15366,
         1
        ],
        [
         17343,
         1
        ],
        [
         15139,
         1
        ],
        [
         17811,
         1
        ],
        [
         16510,
         1
        ],
        [
         12557,
         1
        ],
        [
         17019,
         1
        ],
        [
         12347,
         1
        ],
        [
         12386,
         1
        ],
        [
         14987,
         1
        ],
        [
         16812,
         1
        ],
        [
         12726,
         1
        ],
        [
         15291,
         1
        ],
        [
         12431,
         1
        ],
        [
         12838,
         1
        ],
        [
         13468,
         1
        ],
        [
         18225,
         1
        ],
        [
         12600,
         1
        ],
        [
         12720,
         1
        ],
        [
         13078,
         1
        ],
        [
         17097,
         1
        ],
        [
         12826,
         1
        ],
        [
         15514,
         1
        ],
        [
         13846,
         1
        ],
        [
         17306,
         1
        ],
        [
         13253,
         1
        ],
        [
         12578,
         1
        ],
        [
         18032,
         1
        ],
        [
         17905,
         1
        ],
        [
         17346,
         1
        ],
        [
         15694,
         1
        ],
        [
         14156,
         1
        ],
        [
         18055,
         1
        ],
        [
         17059,
         1
        ],
        [
         15916,
         1
        ],
        [
         18071,
         1
        ],
        [
         13948,
         1
        ],
        [
         16985,
         1
        ],
        [
         12377,
         1
        ],
        [
         16771,
         1
        ],
        [
         16303,
         1
        ],
        [
         13155,
         1
        ],
        [
         17655,
         1
        ],
        [
         16473,
         1
        ],
        [
         18168,
         1
        ],
        [
         14209,
         1
        ],
        [
         12665,
         1
        ],
        [
         15835,
         1
        ],
        [
         12510,
         1
        ],
        [
         15606,
         1
        ],
        [
         14238,
         1
        ],
        [
         17730,
         1
        ],
        [
         12637,
         1
        ],
        [
         15569,
         1
        ],
        [
         17988,
         1
        ],
        [
         14090,
         1
        ],
        [
         16997,
         1
        ],
        [
         14688,
         1
        ],
        [
         15983,
         1
        ],
        [
         14443,
         1
        ],
        [
         14679,
         1
        ],
        [
         17026,
         1
        ],
        [
         12747,
         1
        ],
        [
         15899,
         1
        ],
        [
         15356,
         1
        ],
        [
         15180,
         1
        ],
        [
         17591,
         1
        ],
        [
         14618,
         1
        ],
        [
         16795,
         1
        ],
        [
         16062,
         1
        ],
        [
         13124,
         1
        ],
        [
         15532,
         1
        ],
        [
         13004,
         1
        ],
        [
         16748,
         1
        ],
        [
         16210,
         1
        ],
        [
         16928,
         1
        ],
        [
         17964,
         1
        ],
        [
         15823,
         1
        ],
        [
         12427,
         1
        ],
        [
         12682,
         1
        ],
        [
         12709,
         1
        ],
        [
         16265,
         1
        ],
        [
         15503,
         1
        ],
        [
         17085,
         1
        ],
        [
         17618,
         1
        ],
        [
         15641,
         1
        ],
        [
         17315,
         1
        ],
        [
         12415,
         1
        ],
        [
         15326,
         1
        ],
        [
         12971,
         1
        ],
        [
         17135,
         1
        ],
        [
         14680,
         1
        ],
        [
         14083,
         1
        ],
        [
         15545,
         1
        ],
        [
         13831,
         1
        ],
        [
         15919,
         1
        ],
        [
         17259,
         1
        ],
        [
         16138,
         1
        ],
        [
         14217,
         1
        ],
        [
         15811,
         1
        ],
        [
         16701,
         1
        ],
        [
         14565,
         1
        ],
        [
         16556,
         1
        ],
        [
         14229,
         1
        ],
        [
         12712,
         1
        ],
        [
         14813,
         1
        ],
        [
         14506,
         1
        ],
        [
         15984,
         1
        ],
        [
         17735,
         1
        ],
        [
         18102,
         1
        ],
        [
         17870,
         1
        ],
        [
         17894,
         1
        ],
        [
         15881,
         1
        ],
        [
         17890,
         1
        ],
        [
         13426,
         1
        ],
        [
         12931,
         1
        ],
        [
         13313,
         1
        ],
        [
         12530,
         1
        ],
        [
         16098,
         1
        ],
        [
         14001,
         1
        ],
        [
         12947,
         1
        ],
        [
         15827,
         1
        ],
        [
         13305,
         1
        ],
        [
         17659,
         1
        ],
        [
         14867,
         1
        ],
        [
         16775,
         1
        ],
        [
         17213,
         1
        ],
        [
         15996,
         1
        ],
        [
         14030,
         1
        ],
        [
         14896,
         1
        ],
        [
         12753,
         1
        ],
        [
         17990,
         1
        ],
        [
         17194,
         1
        ],
        [
         15512,
         1
        ],
        [
         12980,
         1
        ],
        [
         13033,
         1
        ],
        [
         14113,
         1
        ],
        [
         17621,
         1
        ],
        [
         13922,
         1
        ],
        [
         16112,
         1
        ],
        [
         16833,
         1
        ],
        [
         17025,
         1
        ],
        [
         17412,
         1
        ],
        [
         16455,
         1
        ],
        [
         13579,
         1
        ],
        [
         17677,
         1
        ],
        [
         17470,
         1
        ],
        [
         14051,
         1
        ],
        [
         13209,
         1
        ],
        [
         17371,
         1
        ],
        [
         13221,
         1
        ],
        [
         16134,
         1
        ],
        [
         12501,
         1
        ],
        [
         16279,
         1
        ],
        [
         14527,
         1
        ],
        [
         15838,
         1
        ],
        [
         15574,
         1
        ],
        [
         14775,
         1
        ],
        [
         13295,
         1
        ],
        [
         17819,
         1
        ],
        [
         15708,
         1
        ],
        [
         17674,
         1
        ],
        [
         14733,
         1
        ],
        [
         16679,
         1
        ],
        [
         16163,
         1
        ],
        [
         12989,
         1
        ],
        [
         17126,
         1
        ],
        [
         16367,
         1
        ],
        [
         13008,
         1
        ],
        [
         13611,
         1
        ],
        [
         13162,
         1
        ],
        [
         13183,
         1
        ],
        [
         15235,
         1
        ],
        [
         17287,
         1
        ],
        [
         17235,
         1
        ],
        [
         17552,
         1
        ],
        [
         14898,
         1
        ],
        [
         16839,
         1
        ],
        [
         14404,
         1
        ],
        [
         15882,
         1
        ],
        [
         15498,
         1
        ],
        [
         12721,
         1
        ],
        [
         12797,
         1
        ],
        [
         14932,
         1
        ],
        [
         16255,
         1
        ],
        [
         16907,
         1
        ],
        [
         17220,
         1
        ],
        [
         14415,
         1
        ],
        [
         13534,
         1
        ],
        [
         18176,
         1
        ],
        [
         15780,
         1
        ],
        [
         17358,
         1
        ],
        [
         15312,
         1
        ],
        [
         14037,
         1
        ],
        [
         15938,
         1
        ],
        [
         13859,
         1
        ],
        [
         17048,
         1
        ],
        [
         17602,
         1
        ],
        [
         17418,
         1
        ],
        [
         16359,
         1
        ],
        [
         12422,
         1
        ],
        [
         16493,
         1
        ],
        [
         14292,
         1
        ],
        [
         14270,
         1
        ],
        [
         14114,
         1
        ],
        [
         13263,
         1
        ],
        [
         16235,
         1
        ],
        [
         16554,
         1
        ],
        [
         15626,
         1
        ],
        [
         12673,
         1
        ],
        [
         14185,
         1
        ],
        [
         12346,
         1
        ],
        [
         13047,
         1
        ],
        [
         15513,
         1
        ],
        [
         17069,
         1
        ],
        [
         15023,
         1
        ],
        [
         15860,
         1
        ],
        [
         13564,
         1
        ],
        [
         15353,
         1
        ],
        [
         14673,
         1
        ],
        [
         14744,
         1
        ],
        [
         14299,
         1
        ],
        [
         17937,
         1
        ],
        [
         14290,
         1
        ],
        [
         13097,
         1
        ],
        [
         13953,
         1
        ],
        [
         17634,
         1
        ],
        [
         12500,
         1
        ],
        [
         14321,
         1
        ],
        [
         16835,
         1
        ],
        [
         14901,
         1
        ],
        [
         17967,
         1
        ],
        [
         18156,
         1
        ],
        [
         18219,
         1
        ],
        [
         14825,
         1
        ],
        [
         12913,
         1
        ],
        [
         17341,
         1
        ],
        [
         16520,
         1
        ],
        [
         17530,
         1
        ],
        [
         16191,
         1
        ],
        [
         13627,
         1
        ],
        [
         18245,
         1
        ],
        [
         17593,
         1
        ],
        [
         14532,
         1
        ],
        [
         12483,
         1
        ],
        [
         14732,
         1
        ],
        [
         13402,
         1
        ],
        [
         17396,
         1
        ],
        [
         17062,
         1
        ],
        [
         17091,
         1
        ],
        [
         13050,
         1
        ],
        [
         16596,
         1
        ],
        [
         15689,
         1
        ],
        [
         15615,
         1
        ],
        [
         18226,
         1
        ],
        [
         14794,
         1
        ],
        [
         12524,
         1
        ],
        [
         17968,
         1
        ],
        [
         17181,
         1
        ],
        [
         14729,
         1
        ],
        [
         15111,
         1
        ],
        [
         14466,
         1
        ],
        [
         17450,
         1
        ],
        [
         13270,
         1
        ],
        [
         15998,
         1
        ],
        [
         18037,
         1
        ],
        [
         18075,
         1
        ],
        [
         13092,
         1
        ],
        [
         12551,
         1
        ],
        [
         14769,
         1
        ],
        [
         17007,
         1
        ],
        [
         13869,
         1
        ],
        [
         18229,
         1
        ],
        [
         13065,
         1
        ],
        [
         16411,
         1
        ],
        [
         15889,
         1
        ],
        [
         15713,
         1
        ],
        [
         17526,
         1
        ],
        [
         17076,
         1
        ],
        [
         18178,
         1
        ],
        [
         12540,
         1
        ],
        [
         15392,
         1
        ],
        [
         15290,
         1
        ],
        [
         14099,
         1
        ],
        [
         13093,
         1
        ],
        [
         16048,
         1
        ],
        [
         18011,
         1
        ],
        [
         15601,
         1
        ],
        [
         14829,
         1
        ],
        [
         14213,
         1
        ],
        [
         17863,
         1
        ],
        [
         14081,
         1
        ],
        [
         15987,
         1
        ],
        [
         17428,
         1
        ],
        [
         13848,
         1
        ],
        [
         15288,
         1
        ],
        [
         18050,
         1
        ],
        [
         17392,
         1
        ],
        [
         14462,
         1
        ],
        [
         13565,
         1
        ],
        [
         14594,
         1
        ],
        [
         13576,
         1
        ],
        [
         14060,
         1
        ],
        [
         15923,
         1
        ],
        [
         12841,
         1
        ],
        [
         15858,
         1
        ],
        [
         16122,
         1
        ],
        [
         14866,
         1
        ],
        [
         13369,
         1
        ],
        [
         12429,
         1
        ],
        [
         12649,
         1
        ],
        [
         15179,
         1
        ],
        [
         16996,
         1
        ],
        [
         14621,
         1
        ],
        [
         15157,
         1
        ],
        [
         13104,
         1
        ],
        [
         12678,
         1
        ],
        [
         13487,
         1
        ],
        [
         15311,
         1
        ],
        [
         17548,
         1
        ],
        [
         17924,
         1
        ],
        [
         13069,
         1
        ],
        [
         16241,
         1
        ],
        [
         14215,
         1
        ],
        [
         14739,
         1
        ],
        [
         16499,
         1
        ],
        [
         17404,
         1
        ],
        [
         16954,
         1
        ],
        [
         15482,
         1
        ],
        [
         12383,
         1
        ],
        [
         18283,
         1
        ],
        [
         16497,
         1
        ],
        [
         17965,
         1
        ],
        [
         16442,
         1
        ],
        [
         16456,
         1
        ],
        [
         17239,
         1
        ],
        [
         16665,
         1
        ],
        [
         16315,
         1
        ],
        [
         15033,
         1
        ],
        [
         17064,
         1
        ],
        [
         12553,
         1
        ],
        [
         13700,
         1
        ],
        [
         16351,
         1
        ],
        [
         13246,
         1
        ],
        [
         15395,
         1
        ],
        [
         16843,
         1
        ],
        [
         16892,
         1
        ],
        [
         17742,
         1
        ],
        [
         18095,
         1
        ],
        [
         12924,
         1
        ],
        [
         17018,
         1
        ],
        [
         14428,
         1
        ],
        [
         16655,
         1
        ],
        [
         14175,
         1
        ],
        [
         15316,
         1
        ],
        [
         15563,
         1
        ],
        [
         18179,
         1
        ],
        [
         14221,
         1
        ],
        [
         13802,
         1
        ],
        [
         13310,
         1
        ]
       ],
       "datasetInfos": [],
       "dbfsResultPath": null,
       "isJsonSchema": true,
       "metadata": {},
       "overflow": false,
       "plotOptions": {
        "customPlotOptions": {},
        "displayType": "table",
        "pivotAggregation": null,
        "pivotColumns": null,
        "xColumns": null,
        "yColumns": null
       },
       "removedWidgets": [],
       "schema": [
        {
         "metadata": "{}",
         "name": "CustomerID",
         "type": "\"integer\""
        },
        {
         "metadata": "{}",
         "name": "num_countries",
         "type": "\"long\""
        }
       ],
       "type": "table"
      }
     },
     "output_type": "display_data"
    }
   ],
   "source": [
    "%sql\n",
    "SELECT CustomerID, COUNT(Country) AS num_countries\n",
    "FROM customer_counts\n",
    "GROUP BY CustomerID\n",
    "SORT BY num_countries DESC"
   ]
  },
  {
   "cell_type": "markdown",
   "metadata": {
    "application/vnd.databricks.v1+cell": {
     "cellMetadata": {},
     "inputWidgets": {},
     "nuid": "acc56174-3a29-466a-a919-7a56be59c972",
     "showTitle": false,
     "title": ""
    }
   },
   "source": [
    "And then look at how many orders a customer made in each of these countries."
   ]
  },
  {
   "cell_type": "code",
   "execution_count": 0,
   "metadata": {
    "application/vnd.databricks.v1+cell": {
     "cellMetadata": {
      "byteLimit": 2048000,
      "implicitDf": true,
      "rowLimit": 10000
     },
     "inputWidgets": {},
     "nuid": "a71212ad-f725-4e33-a564-5db813b5f58f",
     "showTitle": false,
     "title": ""
    }
   },
   "outputs": [
    {
     "output_type": "display_data",
     "data": {
      "text/html": [
       "<style scoped>\n",
       "  .table-result-container {\n",
       "    max-height: 300px;\n",
       "    overflow: auto;\n",
       "  }\n",
       "  table, th, td {\n",
       "    border: 1px solid black;\n",
       "    border-collapse: collapse;\n",
       "  }\n",
       "  th, td {\n",
       "    padding: 5px;\n",
       "  }\n",
       "  th {\n",
       "    text-align: left;\n",
       "  }\n",
       "</style><div class='table-result-container'><table class='table-result'><thead style='background-color: white'><tr><th>Country</th><th>total_orders</th></tr></thead><tbody></tbody></table></div>"
      ]
     },
     "metadata": {
      "application/vnd.databricks.v1+output": {
       "addedWidgets": {},
       "aggData": [],
       "aggError": "",
       "aggOverflow": false,
       "aggSchema": [],
       "aggSeriesLimitReached": false,
       "aggType": "",
       "arguments": {},
       "columnCustomDisplayInfos": {},
       "data": [],
       "datasetInfos": [],
       "dbfsResultPath": null,
       "isJsonSchema": true,
       "metadata": {},
       "overflow": false,
       "plotOptions": {
        "customPlotOptions": {},
        "displayType": "table",
        "pivotAggregation": null,
        "pivotColumns": null,
        "xColumns": null,
        "yColumns": null
       },
       "removedWidgets": [],
       "schema": [
        {
         "metadata": "{}",
         "name": "Country",
         "type": "\"string\""
        },
        {
         "metadata": "{}",
         "name": "total_orders",
         "type": "\"long\""
        }
       ],
       "type": "table"
      }
     },
     "output_type": "display_data"
    }
   ],
   "source": [
    "%sql\n",
    "SELECT Country, total_orders\n",
    "FROM customer_counts\n",
    "WHERE CustomerID = 20059"
   ]
  },
  {
   "cell_type": "markdown",
   "metadata": {
    "application/vnd.databricks.v1+cell": {
     "cellMetadata": {},
     "inputWidgets": {},
     "nuid": "0e736297-41ef-4740-9dca-277e03917b33",
     "showTitle": false,
     "title": ""
    }
   },
   "source": [
    "### Using VACUUM to clean up small files\n",
    "\n",
    "After we run OPTIMIZE, we have a number of uncompacted files that are no longer necessary. Running VACUUM will remove these files for us.\n",
    "\n",
    "Let's go ahead and VACUUM our `customer_data_delta` table, which points at the files in our `DeltaPath` variable.\n",
    "\n",
    "Count number of files before `VACUUM` for `Country=Sweden`."
   ]
  },
  {
   "cell_type": "code",
   "execution_count": 0,
   "metadata": {
    "application/vnd.databricks.v1+cell": {
     "cellMetadata": {
      "byteLimit": 2048000,
      "rowLimit": 10000
     },
     "inputWidgets": {},
     "nuid": "d96b21d4-362a-49cb-b7a4-f5bbb3d71985",
     "showTitle": false,
     "title": ""
    }
   },
   "outputs": [
    {
     "output_type": "stream",
     "name": "stdout",
     "output_type": "stream",
     "text": [
      "25"
     ]
    }
   ],
   "source": [
    "# TODO\n",
    "preNumFiles = len(dbutils.fs.ls(DeltaPath))\n",
    "display(preNumFiles)"
   ]
  },
  {
   "cell_type": "markdown",
   "metadata": {
    "application/vnd.databricks.v1+cell": {
     "cellMetadata": {},
     "inputWidgets": {},
     "nuid": "dd02b638-e192-47d6-ad94-668cf4a307c1",
     "showTitle": false,
     "title": ""
    }
   },
   "source": [
    "If you try to perform an immediate `VACUUM` (using `RETAIN 0 HOURS` to clean up recently optimized files), you will get an error."
   ]
  },
  {
   "cell_type": "code",
   "execution_count": 0,
   "metadata": {
    "application/vnd.databricks.v1+cell": {
     "cellMetadata": {
      "byteLimit": 2048000,
      "implicitDf": true,
      "rowLimit": 10000
     },
     "inputWidgets": {},
     "nuid": "6949ee72-8145-44ea-b210-4b5f10e3f497",
     "showTitle": false,
     "title": ""
    }
   },
   "outputs": [
    {
     "output_type": "display_data",
     "data": {
      "text/plain": [
       "\u001B[0;31m---------------------------------------------------------------------------\u001B[0m\n",
       "\u001B[0;31mIllegalArgumentException\u001B[0m                  Traceback (most recent call last)\n",
       "\u001B[0;32m<command-1914720889771087>\u001B[0m in \u001B[0;36m<cell line: 1>\u001B[0;34m()\u001B[0m\n",
       "\u001B[1;32m      5\u001B[0m     \u001B[0mdisplay\u001B[0m\u001B[0;34m(\u001B[0m\u001B[0mdf\u001B[0m\u001B[0;34m)\u001B[0m\u001B[0;34m\u001B[0m\u001B[0;34m\u001B[0m\u001B[0m\n",
       "\u001B[1;32m      6\u001B[0m     \u001B[0;32mreturn\u001B[0m \u001B[0mdf\u001B[0m\u001B[0;34m\u001B[0m\u001B[0;34m\u001B[0m\u001B[0m\n",
       "\u001B[0;32m----> 7\u001B[0;31m   \u001B[0m_sqldf\u001B[0m \u001B[0;34m=\u001B[0m \u001B[0m____databricks_percent_sql\u001B[0m\u001B[0;34m(\u001B[0m\u001B[0;34m)\u001B[0m\u001B[0;34m\u001B[0m\u001B[0;34m\u001B[0m\u001B[0m\n",
       "\u001B[0m\u001B[1;32m      8\u001B[0m \u001B[0;32mfinally\u001B[0m\u001B[0;34m:\u001B[0m\u001B[0;34m\u001B[0m\u001B[0;34m\u001B[0m\u001B[0m\n",
       "\u001B[1;32m      9\u001B[0m   \u001B[0;32mdel\u001B[0m \u001B[0m____databricks_percent_sql\u001B[0m\u001B[0;34m\u001B[0m\u001B[0;34m\u001B[0m\u001B[0m\n",
       "\n",
       "\u001B[0;32m<command-1914720889771087>\u001B[0m in \u001B[0;36m____databricks_percent_sql\u001B[0;34m()\u001B[0m\n",
       "\u001B[1;32m      2\u001B[0m   \u001B[0;32mdef\u001B[0m \u001B[0m____databricks_percent_sql\u001B[0m\u001B[0;34m(\u001B[0m\u001B[0;34m)\u001B[0m\u001B[0;34m:\u001B[0m\u001B[0;34m\u001B[0m\u001B[0;34m\u001B[0m\u001B[0m\n",
       "\u001B[1;32m      3\u001B[0m     \u001B[0;32mimport\u001B[0m \u001B[0mbase64\u001B[0m\u001B[0;34m\u001B[0m\u001B[0;34m\u001B[0m\u001B[0m\n",
       "\u001B[0;32m----> 4\u001B[0;31m     \u001B[0mdf\u001B[0m \u001B[0;34m=\u001B[0m \u001B[0mspark\u001B[0m\u001B[0;34m.\u001B[0m\u001B[0msql\u001B[0m\u001B[0;34m(\u001B[0m\u001B[0mbase64\u001B[0m\u001B[0;34m.\u001B[0m\u001B[0mstandard_b64decode\u001B[0m\u001B[0;34m(\u001B[0m\u001B[0;34m\"LS0gVE9ETwpWQUNVVU0gY3VzdG9tZXJfZGF0YV9kZWx0YSBSRVRBSU4gMCBIT1VSUw==\"\u001B[0m\u001B[0;34m)\u001B[0m\u001B[0;34m.\u001B[0m\u001B[0mdecode\u001B[0m\u001B[0;34m(\u001B[0m\u001B[0;34m)\u001B[0m\u001B[0;34m)\u001B[0m\u001B[0;34m\u001B[0m\u001B[0;34m\u001B[0m\u001B[0m\n",
       "\u001B[0m\u001B[1;32m      5\u001B[0m     \u001B[0mdisplay\u001B[0m\u001B[0;34m(\u001B[0m\u001B[0mdf\u001B[0m\u001B[0;34m)\u001B[0m\u001B[0;34m\u001B[0m\u001B[0;34m\u001B[0m\u001B[0m\n",
       "\u001B[1;32m      6\u001B[0m     \u001B[0;32mreturn\u001B[0m \u001B[0mdf\u001B[0m\u001B[0;34m\u001B[0m\u001B[0;34m\u001B[0m\u001B[0m\n",
       "\n",
       "\u001B[0;32m/databricks/spark/python/pyspark/instrumentation_utils.py\u001B[0m in \u001B[0;36mwrapper\u001B[0;34m(*args, **kwargs)\u001B[0m\n",
       "\u001B[1;32m     46\u001B[0m             \u001B[0mstart\u001B[0m \u001B[0;34m=\u001B[0m \u001B[0mtime\u001B[0m\u001B[0;34m.\u001B[0m\u001B[0mperf_counter\u001B[0m\u001B[0;34m(\u001B[0m\u001B[0;34m)\u001B[0m\u001B[0;34m\u001B[0m\u001B[0;34m\u001B[0m\u001B[0m\n",
       "\u001B[1;32m     47\u001B[0m             \u001B[0;32mtry\u001B[0m\u001B[0;34m:\u001B[0m\u001B[0;34m\u001B[0m\u001B[0;34m\u001B[0m\u001B[0m\n",
       "\u001B[0;32m---> 48\u001B[0;31m                 \u001B[0mres\u001B[0m \u001B[0;34m=\u001B[0m \u001B[0mfunc\u001B[0m\u001B[0;34m(\u001B[0m\u001B[0;34m*\u001B[0m\u001B[0margs\u001B[0m\u001B[0;34m,\u001B[0m \u001B[0;34m**\u001B[0m\u001B[0mkwargs\u001B[0m\u001B[0;34m)\u001B[0m\u001B[0;34m\u001B[0m\u001B[0;34m\u001B[0m\u001B[0m\n",
       "\u001B[0m\u001B[1;32m     49\u001B[0m                 logger.log_success(\n",
       "\u001B[1;32m     50\u001B[0m                     \u001B[0mmodule_name\u001B[0m\u001B[0;34m,\u001B[0m \u001B[0mclass_name\u001B[0m\u001B[0;34m,\u001B[0m \u001B[0mfunction_name\u001B[0m\u001B[0;34m,\u001B[0m \u001B[0mtime\u001B[0m\u001B[0;34m.\u001B[0m\u001B[0mperf_counter\u001B[0m\u001B[0;34m(\u001B[0m\u001B[0;34m)\u001B[0m \u001B[0;34m-\u001B[0m \u001B[0mstart\u001B[0m\u001B[0;34m,\u001B[0m \u001B[0msignature\u001B[0m\u001B[0;34m\u001B[0m\u001B[0;34m\u001B[0m\u001B[0m\n",
       "\n",
       "\u001B[0;32m/databricks/spark/python/pyspark/sql/session.py\u001B[0m in \u001B[0;36msql\u001B[0;34m(self, sqlQuery, **kwargs)\u001B[0m\n",
       "\u001B[1;32m   1117\u001B[0m             \u001B[0msqlQuery\u001B[0m \u001B[0;34m=\u001B[0m \u001B[0mformatter\u001B[0m\u001B[0;34m.\u001B[0m\u001B[0mformat\u001B[0m\u001B[0;34m(\u001B[0m\u001B[0msqlQuery\u001B[0m\u001B[0;34m,\u001B[0m \u001B[0;34m**\u001B[0m\u001B[0mkwargs\u001B[0m\u001B[0;34m)\u001B[0m\u001B[0;34m\u001B[0m\u001B[0;34m\u001B[0m\u001B[0m\n",
       "\u001B[1;32m   1118\u001B[0m         \u001B[0;32mtry\u001B[0m\u001B[0;34m:\u001B[0m\u001B[0;34m\u001B[0m\u001B[0;34m\u001B[0m\u001B[0m\n",
       "\u001B[0;32m-> 1119\u001B[0;31m             \u001B[0;32mreturn\u001B[0m \u001B[0mDataFrame\u001B[0m\u001B[0;34m(\u001B[0m\u001B[0mself\u001B[0m\u001B[0;34m.\u001B[0m\u001B[0m_jsparkSession\u001B[0m\u001B[0;34m.\u001B[0m\u001B[0msql\u001B[0m\u001B[0;34m(\u001B[0m\u001B[0msqlQuery\u001B[0m\u001B[0;34m)\u001B[0m\u001B[0;34m,\u001B[0m \u001B[0mself\u001B[0m\u001B[0;34m)\u001B[0m\u001B[0;34m\u001B[0m\u001B[0;34m\u001B[0m\u001B[0m\n",
       "\u001B[0m\u001B[1;32m   1120\u001B[0m         \u001B[0;32mfinally\u001B[0m\u001B[0;34m:\u001B[0m\u001B[0;34m\u001B[0m\u001B[0;34m\u001B[0m\u001B[0m\n",
       "\u001B[1;32m   1121\u001B[0m             \u001B[0;32mif\u001B[0m \u001B[0mlen\u001B[0m\u001B[0;34m(\u001B[0m\u001B[0mkwargs\u001B[0m\u001B[0;34m)\u001B[0m \u001B[0;34m>\u001B[0m \u001B[0;36m0\u001B[0m\u001B[0;34m:\u001B[0m\u001B[0;34m\u001B[0m\u001B[0;34m\u001B[0m\u001B[0m\n",
       "\n",
       "\u001B[0;32m/databricks/spark/python/lib/py4j-0.10.9.5-src.zip/py4j/java_gateway.py\u001B[0m in \u001B[0;36m__call__\u001B[0;34m(self, *args)\u001B[0m\n",
       "\u001B[1;32m   1319\u001B[0m \u001B[0;34m\u001B[0m\u001B[0m\n",
       "\u001B[1;32m   1320\u001B[0m         \u001B[0manswer\u001B[0m \u001B[0;34m=\u001B[0m \u001B[0mself\u001B[0m\u001B[0;34m.\u001B[0m\u001B[0mgateway_client\u001B[0m\u001B[0;34m.\u001B[0m\u001B[0msend_command\u001B[0m\u001B[0;34m(\u001B[0m\u001B[0mcommand\u001B[0m\u001B[0;34m)\u001B[0m\u001B[0;34m\u001B[0m\u001B[0;34m\u001B[0m\u001B[0m\n",
       "\u001B[0;32m-> 1321\u001B[0;31m         return_value = get_return_value(\n",
       "\u001B[0m\u001B[1;32m   1322\u001B[0m             answer, self.gateway_client, self.target_id, self.name)\n",
       "\u001B[1;32m   1323\u001B[0m \u001B[0;34m\u001B[0m\u001B[0m\n",
       "\n",
       "\u001B[0;32m/databricks/spark/python/pyspark/sql/utils.py\u001B[0m in \u001B[0;36mdeco\u001B[0;34m(*a, **kw)\u001B[0m\n",
       "\u001B[1;32m    200\u001B[0m                 \u001B[0;31m# Hide where the exception came from that shows a non-Pythonic\u001B[0m\u001B[0;34m\u001B[0m\u001B[0;34m\u001B[0m\u001B[0m\n",
       "\u001B[1;32m    201\u001B[0m                 \u001B[0;31m# JVM exception message.\u001B[0m\u001B[0;34m\u001B[0m\u001B[0;34m\u001B[0m\u001B[0m\n",
       "\u001B[0;32m--> 202\u001B[0;31m                 \u001B[0;32mraise\u001B[0m \u001B[0mconverted\u001B[0m \u001B[0;32mfrom\u001B[0m \u001B[0;32mNone\u001B[0m\u001B[0;34m\u001B[0m\u001B[0;34m\u001B[0m\u001B[0m\n",
       "\u001B[0m\u001B[1;32m    203\u001B[0m             \u001B[0;32melse\u001B[0m\u001B[0;34m:\u001B[0m\u001B[0;34m\u001B[0m\u001B[0;34m\u001B[0m\u001B[0m\n",
       "\u001B[1;32m    204\u001B[0m                 \u001B[0;32mraise\u001B[0m\u001B[0;34m\u001B[0m\u001B[0;34m\u001B[0m\u001B[0m\n",
       "\n",
       "\u001B[0;31mIllegalArgumentException\u001B[0m: requirement failed: Are you sure you would like to vacuum files with such a low retention period? If you have\n",
       "writers that are currently writing to this table, there is a risk that you may corrupt the\n",
       "state of your Delta table.\n",
       "\n",
       "If you are certain that there are no operations being performed on this table, such as\n",
       "insert/upsert/delete/optimize, then you may turn off this check by setting:\n",
       "spark.databricks.delta.retentionDurationCheck.enabled = false\n",
       "\n",
       "If you are not sure, please use a value not less than \"168 hours\".\n",
       "       "
      ]
     },
     "metadata": {
      "application/vnd.databricks.v1+output": {
       "arguments": {},
       "data": "\u001B[0;31m---------------------------------------------------------------------------\u001B[0m\n\u001B[0;31mIllegalArgumentException\u001B[0m                  Traceback (most recent call last)\n\u001B[0;32m<command-1914720889771087>\u001B[0m in \u001B[0;36m<cell line: 1>\u001B[0;34m()\u001B[0m\n\u001B[1;32m      5\u001B[0m     \u001B[0mdisplay\u001B[0m\u001B[0;34m(\u001B[0m\u001B[0mdf\u001B[0m\u001B[0;34m)\u001B[0m\u001B[0;34m\u001B[0m\u001B[0;34m\u001B[0m\u001B[0m\n\u001B[1;32m      6\u001B[0m     \u001B[0;32mreturn\u001B[0m \u001B[0mdf\u001B[0m\u001B[0;34m\u001B[0m\u001B[0;34m\u001B[0m\u001B[0m\n\u001B[0;32m----> 7\u001B[0;31m   \u001B[0m_sqldf\u001B[0m \u001B[0;34m=\u001B[0m \u001B[0m____databricks_percent_sql\u001B[0m\u001B[0;34m(\u001B[0m\u001B[0;34m)\u001B[0m\u001B[0;34m\u001B[0m\u001B[0;34m\u001B[0m\u001B[0m\n\u001B[0m\u001B[1;32m      8\u001B[0m \u001B[0;32mfinally\u001B[0m\u001B[0;34m:\u001B[0m\u001B[0;34m\u001B[0m\u001B[0;34m\u001B[0m\u001B[0m\n\u001B[1;32m      9\u001B[0m   \u001B[0;32mdel\u001B[0m \u001B[0m____databricks_percent_sql\u001B[0m\u001B[0;34m\u001B[0m\u001B[0;34m\u001B[0m\u001B[0m\n\n\u001B[0;32m<command-1914720889771087>\u001B[0m in \u001B[0;36m____databricks_percent_sql\u001B[0;34m()\u001B[0m\n\u001B[1;32m      2\u001B[0m   \u001B[0;32mdef\u001B[0m \u001B[0m____databricks_percent_sql\u001B[0m\u001B[0;34m(\u001B[0m\u001B[0;34m)\u001B[0m\u001B[0;34m:\u001B[0m\u001B[0;34m\u001B[0m\u001B[0;34m\u001B[0m\u001B[0m\n\u001B[1;32m      3\u001B[0m     \u001B[0;32mimport\u001B[0m \u001B[0mbase64\u001B[0m\u001B[0;34m\u001B[0m\u001B[0;34m\u001B[0m\u001B[0m\n\u001B[0;32m----> 4\u001B[0;31m     \u001B[0mdf\u001B[0m \u001B[0;34m=\u001B[0m \u001B[0mspark\u001B[0m\u001B[0;34m.\u001B[0m\u001B[0msql\u001B[0m\u001B[0;34m(\u001B[0m\u001B[0mbase64\u001B[0m\u001B[0;34m.\u001B[0m\u001B[0mstandard_b64decode\u001B[0m\u001B[0;34m(\u001B[0m\u001B[0;34m\"LS0gVE9ETwpWQUNVVU0gY3VzdG9tZXJfZGF0YV9kZWx0YSBSRVRBSU4gMCBIT1VSUw==\"\u001B[0m\u001B[0;34m)\u001B[0m\u001B[0;34m.\u001B[0m\u001B[0mdecode\u001B[0m\u001B[0;34m(\u001B[0m\u001B[0;34m)\u001B[0m\u001B[0;34m)\u001B[0m\u001B[0;34m\u001B[0m\u001B[0;34m\u001B[0m\u001B[0m\n\u001B[0m\u001B[1;32m      5\u001B[0m     \u001B[0mdisplay\u001B[0m\u001B[0;34m(\u001B[0m\u001B[0mdf\u001B[0m\u001B[0;34m)\u001B[0m\u001B[0;34m\u001B[0m\u001B[0;34m\u001B[0m\u001B[0m\n\u001B[1;32m      6\u001B[0m     \u001B[0;32mreturn\u001B[0m \u001B[0mdf\u001B[0m\u001B[0;34m\u001B[0m\u001B[0;34m\u001B[0m\u001B[0m\n\n\u001B[0;32m/databricks/spark/python/pyspark/instrumentation_utils.py\u001B[0m in \u001B[0;36mwrapper\u001B[0;34m(*args, **kwargs)\u001B[0m\n\u001B[1;32m     46\u001B[0m             \u001B[0mstart\u001B[0m \u001B[0;34m=\u001B[0m \u001B[0mtime\u001B[0m\u001B[0;34m.\u001B[0m\u001B[0mperf_counter\u001B[0m\u001B[0;34m(\u001B[0m\u001B[0;34m)\u001B[0m\u001B[0;34m\u001B[0m\u001B[0;34m\u001B[0m\u001B[0m\n\u001B[1;32m     47\u001B[0m             \u001B[0;32mtry\u001B[0m\u001B[0;34m:\u001B[0m\u001B[0;34m\u001B[0m\u001B[0;34m\u001B[0m\u001B[0m\n\u001B[0;32m---> 48\u001B[0;31m                 \u001B[0mres\u001B[0m \u001B[0;34m=\u001B[0m \u001B[0mfunc\u001B[0m\u001B[0;34m(\u001B[0m\u001B[0;34m*\u001B[0m\u001B[0margs\u001B[0m\u001B[0;34m,\u001B[0m \u001B[0;34m**\u001B[0m\u001B[0mkwargs\u001B[0m\u001B[0;34m)\u001B[0m\u001B[0;34m\u001B[0m\u001B[0;34m\u001B[0m\u001B[0m\n\u001B[0m\u001B[1;32m     49\u001B[0m                 logger.log_success(\n\u001B[1;32m     50\u001B[0m                     \u001B[0mmodule_name\u001B[0m\u001B[0;34m,\u001B[0m \u001B[0mclass_name\u001B[0m\u001B[0;34m,\u001B[0m \u001B[0mfunction_name\u001B[0m\u001B[0;34m,\u001B[0m \u001B[0mtime\u001B[0m\u001B[0;34m.\u001B[0m\u001B[0mperf_counter\u001B[0m\u001B[0;34m(\u001B[0m\u001B[0;34m)\u001B[0m \u001B[0;34m-\u001B[0m \u001B[0mstart\u001B[0m\u001B[0;34m,\u001B[0m \u001B[0msignature\u001B[0m\u001B[0;34m\u001B[0m\u001B[0;34m\u001B[0m\u001B[0m\n\n\u001B[0;32m/databricks/spark/python/pyspark/sql/session.py\u001B[0m in \u001B[0;36msql\u001B[0;34m(self, sqlQuery, **kwargs)\u001B[0m\n\u001B[1;32m   1117\u001B[0m             \u001B[0msqlQuery\u001B[0m \u001B[0;34m=\u001B[0m \u001B[0mformatter\u001B[0m\u001B[0;34m.\u001B[0m\u001B[0mformat\u001B[0m\u001B[0;34m(\u001B[0m\u001B[0msqlQuery\u001B[0m\u001B[0;34m,\u001B[0m \u001B[0;34m**\u001B[0m\u001B[0mkwargs\u001B[0m\u001B[0;34m)\u001B[0m\u001B[0;34m\u001B[0m\u001B[0;34m\u001B[0m\u001B[0m\n\u001B[1;32m   1118\u001B[0m         \u001B[0;32mtry\u001B[0m\u001B[0;34m:\u001B[0m\u001B[0;34m\u001B[0m\u001B[0;34m\u001B[0m\u001B[0m\n\u001B[0;32m-> 1119\u001B[0;31m             \u001B[0;32mreturn\u001B[0m \u001B[0mDataFrame\u001B[0m\u001B[0;34m(\u001B[0m\u001B[0mself\u001B[0m\u001B[0;34m.\u001B[0m\u001B[0m_jsparkSession\u001B[0m\u001B[0;34m.\u001B[0m\u001B[0msql\u001B[0m\u001B[0;34m(\u001B[0m\u001B[0msqlQuery\u001B[0m\u001B[0;34m)\u001B[0m\u001B[0;34m,\u001B[0m \u001B[0mself\u001B[0m\u001B[0;34m)\u001B[0m\u001B[0;34m\u001B[0m\u001B[0;34m\u001B[0m\u001B[0m\n\u001B[0m\u001B[1;32m   1120\u001B[0m         \u001B[0;32mfinally\u001B[0m\u001B[0;34m:\u001B[0m\u001B[0;34m\u001B[0m\u001B[0;34m\u001B[0m\u001B[0m\n\u001B[1;32m   1121\u001B[0m             \u001B[0;32mif\u001B[0m \u001B[0mlen\u001B[0m\u001B[0;34m(\u001B[0m\u001B[0mkwargs\u001B[0m\u001B[0;34m)\u001B[0m \u001B[0;34m>\u001B[0m \u001B[0;36m0\u001B[0m\u001B[0;34m:\u001B[0m\u001B[0;34m\u001B[0m\u001B[0;34m\u001B[0m\u001B[0m\n\n\u001B[0;32m/databricks/spark/python/lib/py4j-0.10.9.5-src.zip/py4j/java_gateway.py\u001B[0m in \u001B[0;36m__call__\u001B[0;34m(self, *args)\u001B[0m\n\u001B[1;32m   1319\u001B[0m \u001B[0;34m\u001B[0m\u001B[0m\n\u001B[1;32m   1320\u001B[0m         \u001B[0manswer\u001B[0m \u001B[0;34m=\u001B[0m \u001B[0mself\u001B[0m\u001B[0;34m.\u001B[0m\u001B[0mgateway_client\u001B[0m\u001B[0;34m.\u001B[0m\u001B[0msend_command\u001B[0m\u001B[0;34m(\u001B[0m\u001B[0mcommand\u001B[0m\u001B[0;34m)\u001B[0m\u001B[0;34m\u001B[0m\u001B[0;34m\u001B[0m\u001B[0m\n\u001B[0;32m-> 1321\u001B[0;31m         return_value = get_return_value(\n\u001B[0m\u001B[1;32m   1322\u001B[0m             answer, self.gateway_client, self.target_id, self.name)\n\u001B[1;32m   1323\u001B[0m \u001B[0;34m\u001B[0m\u001B[0m\n\n\u001B[0;32m/databricks/spark/python/pyspark/sql/utils.py\u001B[0m in \u001B[0;36mdeco\u001B[0;34m(*a, **kw)\u001B[0m\n\u001B[1;32m    200\u001B[0m                 \u001B[0;31m# Hide where the exception came from that shows a non-Pythonic\u001B[0m\u001B[0;34m\u001B[0m\u001B[0;34m\u001B[0m\u001B[0m\n\u001B[1;32m    201\u001B[0m                 \u001B[0;31m# JVM exception message.\u001B[0m\u001B[0;34m\u001B[0m\u001B[0;34m\u001B[0m\u001B[0m\n\u001B[0;32m--> 202\u001B[0;31m                 \u001B[0;32mraise\u001B[0m \u001B[0mconverted\u001B[0m \u001B[0;32mfrom\u001B[0m \u001B[0;32mNone\u001B[0m\u001B[0;34m\u001B[0m\u001B[0;34m\u001B[0m\u001B[0m\n\u001B[0m\u001B[1;32m    203\u001B[0m             \u001B[0;32melse\u001B[0m\u001B[0;34m:\u001B[0m\u001B[0;34m\u001B[0m\u001B[0;34m\u001B[0m\u001B[0m\n\u001B[1;32m    204\u001B[0m                 \u001B[0;32mraise\u001B[0m\u001B[0;34m\u001B[0m\u001B[0;34m\u001B[0m\u001B[0m\n\n\u001B[0;31mIllegalArgumentException\u001B[0m: requirement failed: Are you sure you would like to vacuum files with such a low retention period? If you have\nwriters that are currently writing to this table, there is a risk that you may corrupt the\nstate of your Delta table.\n\nIf you are certain that there are no operations being performed on this table, such as\ninsert/upsert/delete/optimize, then you may turn off this check by setting:\nspark.databricks.delta.retentionDurationCheck.enabled = false\n\nIf you are not sure, please use a value not less than \"168 hours\".\n       ",
       "errorSummary": "<span class='ansi-red-fg'>IllegalArgumentException</span>: requirement failed: Are you sure you would like to vacuum files with such a low retention period? If you have\nwriters that are currently writing to this table, there is a risk that you may corrupt the\nstate of your Delta table.\n\nIf you are certain that there are no operations being performed on this table, such as\ninsert/upsert/delete/optimize, then you may turn off this check by setting:\nspark.databricks.delta.retentionDurationCheck.enabled = false\n\nIf you are not sure, please use a value not less than \"168 hours\".\n       ",
       "errorTraceType": "ansi",
       "metadata": {},
       "type": "ipynbError"
      }
     },
     "output_type": "display_data"
    }
   ],
   "source": [
    "%sql\n",
    "-- TODO\n",
    "VACUUM customer_data_delta RETAIN 0 HOURS;"
   ]
  },
  {
   "cell_type": "markdown",
   "metadata": {
    "application/vnd.databricks.v1+cell": {
     "cellMetadata": {},
     "inputWidgets": {},
     "nuid": "6a94a29f-f07a-49b1-ac1e-1a72e93e58fd",
     "showTitle": false,
     "title": ""
    }
   },
   "source": [
    "This is a helfpul error. Remember that `VACUUM` is intended for occasional garbage collection. Here we'll just demonstrating that we _can_ use it to clean up files, so we'll set our configuration to allow this operation."
   ]
  },
  {
   "cell_type": "code",
   "execution_count": 0,
   "metadata": {
    "application/vnd.databricks.v1+cell": {
     "cellMetadata": {
      "byteLimit": 2048000,
      "rowLimit": 10000
     },
     "inputWidgets": {},
     "nuid": "14df9cdc-faf7-47fd-bc44-824b727b65db",
     "showTitle": false,
     "title": ""
    }
   },
   "outputs": [],
   "source": [
    "spark.conf.set(\"spark.databricks.delta.retentionDurationCheck.enabled\", False)"
   ]
  },
  {
   "cell_type": "markdown",
   "metadata": {
    "application/vnd.databricks.v1+cell": {
     "cellMetadata": {},
     "inputWidgets": {},
     "nuid": "eb404501-c441-4a7b-946b-34fd6d01c553",
     "showTitle": false,
     "title": ""
    }
   },
   "source": [
    "Now we won't get an error when we run `VACUUM`."
   ]
  },
  {
   "cell_type": "code",
   "execution_count": 0,
   "metadata": {
    "application/vnd.databricks.v1+cell": {
     "cellMetadata": {
      "byteLimit": 2048000,
      "implicitDf": true,
      "rowLimit": 10000
     },
     "inputWidgets": {},
     "nuid": "bcc81e85-bbc2-4717-a1d7-e7fce1028e2d",
     "showTitle": false,
     "title": ""
    }
   },
   "outputs": [
    {
     "output_type": "display_data",
     "data": {
      "text/html": [
       "<style scoped>\n",
       "  .table-result-container {\n",
       "    max-height: 300px;\n",
       "    overflow: auto;\n",
       "  }\n",
       "  table, th, td {\n",
       "    border: 1px solid black;\n",
       "    border-collapse: collapse;\n",
       "  }\n",
       "  th, td {\n",
       "    padding: 5px;\n",
       "  }\n",
       "  th {\n",
       "    text-align: left;\n",
       "  }\n",
       "</style><div class='table-result-container'><table class='table-result'><thead style='background-color: white'><tr><th>path</th></tr></thead><tbody><tr><td>dbfs:/user/saifahmed.k@outlook.com/delta/customer-data</td></tr></tbody></table></div>"
      ]
     },
     "metadata": {
      "application/vnd.databricks.v1+output": {
       "addedWidgets": {},
       "aggData": [],
       "aggError": "",
       "aggOverflow": false,
       "aggSchema": [],
       "aggSeriesLimitReached": false,
       "aggType": "",
       "arguments": {},
       "columnCustomDisplayInfos": {},
       "data": [
        [
         "dbfs:/user/saifahmed.k@outlook.com/delta/customer-data"
        ]
       ],
       "datasetInfos": [],
       "dbfsResultPath": null,
       "isJsonSchema": true,
       "metadata": {},
       "overflow": false,
       "plotOptions": {
        "customPlotOptions": {},
        "displayType": "table",
        "pivotAggregation": null,
        "pivotColumns": null,
        "xColumns": null,
        "yColumns": null
       },
       "removedWidgets": [],
       "schema": [
        {
         "metadata": "{}",
         "name": "path",
         "type": "\"string\""
        }
       ],
       "type": "table"
      }
     },
     "output_type": "display_data"
    }
   ],
   "source": [
    "%sql\n",
    "VACUUM customer_data_delta RETAIN 0 HOURS;"
   ]
  },
  {
   "cell_type": "markdown",
   "metadata": {
    "application/vnd.databricks.v1+cell": {
     "cellMetadata": {},
     "inputWidgets": {},
     "nuid": "aa1eddbc-e89e-496d-afc5-68ebabca2a99",
     "showTitle": false,
     "title": ""
    }
   },
   "source": [
    "Count how many files there are for `Country=Sweden`."
   ]
  },
  {
   "cell_type": "code",
   "execution_count": 0,
   "metadata": {
    "application/vnd.databricks.v1+cell": {
     "cellMetadata": {
      "byteLimit": 2048000,
      "rowLimit": 10000
     },
     "inputWidgets": {},
     "nuid": "2481dced-d7fa-43d5-a7f5-a2b8e65392c4",
     "showTitle": false,
     "title": ""
    }
   },
   "outputs": [
    {
     "output_type": "stream",
     "name": "stdout",
     "output_type": "stream",
     "text": [
      "25"
     ]
    }
   ],
   "source": [
    "# TODO\n",
    "postNumFiles = len(dbutils.fs.ls(DeltaPath))\n",
    "display(postNumFiles)"
   ]
  },
  {
   "cell_type": "markdown",
   "metadata": {
    "application/vnd.databricks.v1+cell": {
     "cellMetadata": {},
     "inputWidgets": {},
     "nuid": "1753035f-86ea-422a-9f74-968d735b48ad",
     "showTitle": false,
     "title": ""
    }
   },
   "source": [
    "Comparing our `preNumFiles` to `postNumFiles`, we can see that this number has reduced."
   ]
  },
  {
   "cell_type": "markdown",
   "metadata": {
    "application/vnd.databricks.v1+cell": {
     "cellMetadata": {},
     "inputWidgets": {},
     "nuid": "6dbd3d2c-eb36-405c-aad3-6bdd8a9feff8",
     "showTitle": false,
     "title": ""
    }
   },
   "source": [
    "This notebook is focused on optimizing and managing data in a **Delta Lake**, which is an open-source storage layer that helps with efficient data processing and version control in data lakes.\n",
    "\n",
    "Here’s a breakdown of the key concepts covered:\n",
    "\n",
    "### 1. **Delta Lake**\n",
    "   - **Delta Lake** is a tool that allows you to store large amounts of data in a way that supports version control and transactional reliability (ACID compliance). It enables efficient **reading**, **writing**, and **querying** of data stored in data lakes.\n",
    "\n",
    "### 2. **Time Travel**\n",
    "   - **Time Travel** in Delta Lake allows you to look at different **versions** of your data at specific points in time. This means you can query data as it existed at any version by using the **`VERSION AS OF`** feature.\n",
    "   - Example: You query an older version of a table to see how the data looked in the past or compare changes over time.\n",
    "\n",
    "### 3. **Optimization (OPTIMIZE & ZORDER)**\n",
    "   - **Optimize**: In a Delta Lake, data is stored in multiple small files. Over time, as data is updated, the number of these small files can grow, which can slow down query performance. \n",
    "     - **Optimization** compacts these small files into larger ones, making the system faster and more efficient to query.\n",
    "   - **ZORDER**: This is a method of sorting data to further speed up specific types of queries.\n",
    "     - For example, if you often query data based on a specific column (e.g., **CustomerID**), you can reorder the data using **ZORDER** to make the searches more efficient by reducing the number of files that need to be checked.\n",
    "\n",
    "### 4. **VACUUM**\n",
    "   - **Vacuum** is a process that cleans up **old and unnecessary files** in Delta Lake.\n",
    "   - After optimizing or making changes, there can be leftover data files that are no longer needed. **VACUUM** removes these old files, freeing up storage space and making the data system more efficient.\n",
    "   - Important: Delta Lake retains old versions of data files for a set time (default is 7 days) to support time travel. If you try to vacuum immediately, it may throw an error because recent files may still be needed. You can override this by adjusting the retention setting.\n",
    "\n",
    "### 5. **Partitioning**\n",
    "   - **Partitioning** divides data into subsets based on a specific column, such as **Country** or **CustomerID**. This allows queries to focus on a specific subset of data, improving performance.\n",
    "   - Example: Partitioning data by country can help when you want to query all data from **Sweden** without needing to scan data from other countries.\n",
    "\n",
    "### 6. **Aggregations**\n",
    "   - **Aggregations** (like SUM or COUNT) are calculations across your data. For instance, you can calculate the total number of orders from a specific country or customer.\n",
    "   - This notebook demonstrates using SQL to calculate such aggregates and compare data between different time versions (before and after changes).\n",
    "\n",
    "### 7. **SQL Queries**\n",
    "   - You interact with the Delta Lake data using **SQL queries** to retrieve or manipulate data.\n",
    "   - Examples in the notebook include querying the total number of orders, retrieving historical data (using `VERSION AS OF`), and running optimization commands.\n",
    "\n",
    "### 8. **Cluster Configuration**\n",
    "   - Spark is used to process the data in parallel using multiple nodes (computers). In the notebook, the number of partitions is reduced to better match the available resources of the cluster, improving efficiency.\n",
    "\n",
    "### Summary:\n",
    "This notebook helps you manage and optimize large datasets stored in Delta Lake. It allows you to:\n",
    "- **View historical data versions** (Time Travel)\n",
    "- **Optimize performance** by reducing the number of small files and sorting data efficiently (OPTIMIZE and ZORDER)\n",
    "- **Clean up unnecessary files** after updates (VACUUM)\n",
    "- **Query data** efficiently using SQL, leveraging features like partitioning to speed up queries."
   ]
  },
  {
   "cell_type": "markdown",
   "metadata": {
    "application/vnd.databricks.v1+cell": {
     "cellMetadata": {},
     "inputWidgets": {},
     "nuid": "5ca76d5b-0026-4685-93a5-aecdb66a3e9f",
     "showTitle": false,
     "title": ""
    }
   },
   "source": [
    "Let's break down **OPTIMIZE** and **VACUUM** using simple examples with tables.\n",
    "\n",
    "### 1. **OPTIMIZE**\n",
    "**OPTIMIZE** is used to compact many small files in a Delta table into fewer, larger files. This makes queries run faster because it reduces the number of files Spark has to read.\n",
    "\n",
    "#### Example Scenario:\n",
    "Imagine you have a Delta table called `customer_orders` that stores millions of customer orders. Each update or write operation might create many small files. Over time, as more data is added, the number of small files grows, and queries start to slow down because the system has to read a lot of files to retrieve the data.\n",
    "\n",
    "**Without Optimization**:\n",
    "```plaintext\n",
    "Table: customer_orders\n",
    "\n",
    "Files:\n",
    "order_part_001.parquet\n",
    "order_part_002.parquet\n",
    "order_part_003.parquet\n",
    "...\n",
    "order_part_5000.parquet\n",
    "```\n",
    "You might have thousands of small files, and every time you query the table (e.g., to get the total orders for a customer), Spark has to scan all those files.\n",
    "\n",
    "Now, let’s **optimize** this table to improve query performance.\n",
    "\n",
    "**Optimization Command**:\n",
    "```sql\n",
    "OPTIMIZE customer_orders\n",
    "```\n",
    "\n",
    "What happens:\n",
    "- The system will **compact** these files. It will merge smaller files into larger ones, reducing the overall number of files.\n",
    "  \n",
    "**After Optimization**:\n",
    "```plaintext\n",
    "Table: customer_orders\n",
    "\n",
    "Files:\n",
    "order_part_optimized_001.parquet\n",
    "order_part_optimized_002.parquet\n",
    "```\n",
    "Now, instead of thousands of small files, we have just a few large ones, making the queries faster.\n",
    "\n",
    "#### ZORDER for Even Faster Queries:\n",
    "You can further optimize the table based on frequently queried columns. For instance, if you often query `customer_orders` by **CustomerID**, you can use **ZORDER** to reorder the data.\n",
    "\n",
    "**Command with ZORDER**:\n",
    "```sql\n",
    "OPTIMIZE customer_orders ZORDER BY (CustomerID)\n",
    "```\n",
    "This ensures that rows with the same `CustomerID` are stored together in fewer files, which improves the speed of queries related to `CustomerID`.\n",
    "\n",
    "---\n",
    "\n",
    "### 2. **VACUUM**\n",
    "**VACUUM** cleans up old, unnecessary files that are no longer in use after updates or optimizations. Delta Lake keeps old files to support features like time travel, but over time, these files take up space and are not needed anymore.\n",
    "\n",
    "#### Example Scenario:\n",
    "After you update or optimize the `customer_orders` table, there might be old versions of files lying around, which are no longer part of the current table. These old files consume storage space.\n",
    "\n",
    "Before running **VACUUM**, your table might look like this:\n",
    "\n",
    "**Files After Updates (Before VACUUM)**:\n",
    "```plaintext\n",
    "Files:\n",
    "order_part_001.parquet    <-- Old file (no longer needed)\n",
    "order_part_002.parquet    <-- Old file (no longer needed)\n",
    "order_part_optimized_001.parquet  <-- New file (current data)\n",
    "order_part_optimized_002.parquet  <-- New file (current data)\n",
    "```\n",
    "\n",
    "The old files `order_part_001.parquet` and `order_part_002.parquet` are no longer used in the current table after optimization, but they still exist for time travel or rollback purposes.\n",
    "\n",
    "To clean up these files, you can run the **VACUUM** command.\n",
    "\n",
    "**Vacuum Command**:\n",
    "```sql\n",
    "VACUUM customer_orders RETAIN 168 HOURS\n",
    "```\n",
    "\n",
    "This command tells Delta Lake to delete files that are older than **168 hours** (7 days). You can adjust the number of hours if you want to keep the old files for a shorter or longer period. **After VACUUM**, only the necessary, optimized files remain:\n",
    "\n",
    "**Files After VACUUM**:\n",
    "```plaintext\n",
    "Files:\n",
    "order_part_optimized_001.parquet  <-- New file (current data)\n",
    "order_part_optimized_002.parquet  <-- New file (current data)\n",
    "```\n",
    "\n",
    "In this case, the old files are removed, freeing up storage space.\n",
    "\n",
    "---\n",
    "\n",
    "### Summary with a Simple Analogy:\n",
    "- **OPTIMIZE** is like cleaning up your workspace by putting all scattered papers (small files) into a few neatly organized folders (larger, compacted files).\n",
    "- **VACUUM** is like throwing away old drafts or documents you no longer need after reorganizing your workspace.\n",
    "\n",
    "Together, these operations keep your Delta Lake tables efficient and clean, speeding up query performance and saving storage space."
   ]
  },
  {
   "cell_type": "code",
   "execution_count": 0,
   "metadata": {
    "application/vnd.databricks.v1+cell": {
     "cellMetadata": {},
     "inputWidgets": {},
     "nuid": "7a2b8449-7e1f-4f33-8451-781023b2b782",
     "showTitle": false,
     "title": ""
    }
   },
   "outputs": [],
   "source": []
  }
 ],
 "metadata": {
  "application/vnd.databricks.v1+notebook": {
   "dashboards": [],
   "environmentMetadata": null,
   "language": "python",
   "notebookMetadata": {
    "mostRecentlyExecutedCommandWithImplicitDF": {
     "commandId": 1914720889771091,
     "dataframes": [
      "_sqldf"
     ]
    },
    "pythonIndentUnit": 4
   },
   "notebookName": "4.Delta-Time-Machine-and-Optimization-Lab-2",
   "widgets": {}
  },
  "name": "4.Delta-Time-Machine-and-Optimization-Lab-2",
  "notebookId": 1947196994888284
 },
 "nbformat": 4,
 "nbformat_minor": 0
}

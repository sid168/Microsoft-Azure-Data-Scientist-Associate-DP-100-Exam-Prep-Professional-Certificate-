{
 "cells": [
  {
   "cell_type": "code",
   "execution_count": 0,
   "metadata": {
    "application/vnd.databricks.v1+cell": {
     "cellMetadata": {
      "byteLimit": 2048000,
      "rowLimit": 10000
     },
     "inputWidgets": {},
     "nuid": "5238d6dd-edba-48e1-ab8d-8b611c8b1fe7",
     "showTitle": false,
     "title": ""
    }
   },
   "outputs": [
    {
     "output_type": "stream",
     "name": "stdout",
     "output_type": "stream",
     "text": [
      "Python interpreter will be restarted.\nRequirement already satisfied: typing_extensions in /local_disk0/.ephemeral_nfs/envs/pythonEnv-564a3435-2623-4b7b-8e8c-d16d63074450/lib/python3.9/site-packages (4.12.2)\nPython interpreter will be restarted.\nPython interpreter will be restarted.\nRequirement already satisfied: tensorflow in /local_disk0/.ephemeral_nfs/envs/pythonEnv-564a3435-2623-4b7b-8e8c-d16d63074450/lib/python3.9/site-packages (2.17.0)\nRequirement already satisfied: keras>=3.2.0 in /local_disk0/.ephemeral_nfs/envs/pythonEnv-564a3435-2623-4b7b-8e8c-d16d63074450/lib/python3.9/site-packages (from tensorflow) (3.6.0)\nRequirement already satisfied: tensorflow-io-gcs-filesystem>=0.23.1 in /local_disk0/.ephemeral_nfs/envs/pythonEnv-564a3435-2623-4b7b-8e8c-d16d63074450/lib/python3.9/site-packages (from tensorflow) (0.37.1)\nRequirement already satisfied: numpy<2.0.0,>=1.23.5 in /local_disk0/.ephemeral_nfs/envs/pythonEnv-564a3435-2623-4b7b-8e8c-d16d63074450/lib/python3.9/site-packages (from tensorflow) (1.26.4)\nRequirement already satisfied: typing-extensions>=3.6.6 in /local_disk0/.ephemeral_nfs/envs/pythonEnv-564a3435-2623-4b7b-8e8c-d16d63074450/lib/python3.9/site-packages (from tensorflow) (4.12.2)\nRequirement already satisfied: setuptools in /usr/local/lib/python3.9/dist-packages (from tensorflow) (58.0.4)\nRequirement already satisfied: absl-py>=1.0.0 in /local_disk0/.ephemeral_nfs/envs/pythonEnv-564a3435-2623-4b7b-8e8c-d16d63074450/lib/python3.9/site-packages (from tensorflow) (2.1.0)\nRequirement already satisfied: wrapt>=1.11.0 in /local_disk0/.ephemeral_nfs/envs/pythonEnv-564a3435-2623-4b7b-8e8c-d16d63074450/lib/python3.9/site-packages (from tensorflow) (1.16.0)\nRequirement already satisfied: protobuf!=4.21.0,!=4.21.1,!=4.21.2,!=4.21.3,!=4.21.4,!=4.21.5,<5.0.0dev,>=3.20.3 in /local_disk0/.ephemeral_nfs/envs/pythonEnv-564a3435-2623-4b7b-8e8c-d16d63074450/lib/python3.9/site-packages (from tensorflow) (4.25.5)\nRequirement already satisfied: opt-einsum>=2.3.2 in /local_disk0/.ephemeral_nfs/envs/pythonEnv-564a3435-2623-4b7b-8e8c-d16d63074450/lib/python3.9/site-packages (from tensorflow) (3.4.0)\nRequirement already satisfied: gast!=0.5.0,!=0.5.1,!=0.5.2,>=0.2.1 in /local_disk0/.ephemeral_nfs/envs/pythonEnv-564a3435-2623-4b7b-8e8c-d16d63074450/lib/python3.9/site-packages (from tensorflow) (0.6.0)\nRequirement already satisfied: tensorboard<2.18,>=2.17 in /local_disk0/.ephemeral_nfs/envs/pythonEnv-564a3435-2623-4b7b-8e8c-d16d63074450/lib/python3.9/site-packages (from tensorflow) (2.17.1)\nRequirement already satisfied: termcolor>=1.1.0 in /local_disk0/.ephemeral_nfs/envs/pythonEnv-564a3435-2623-4b7b-8e8c-d16d63074450/lib/python3.9/site-packages (from tensorflow) (2.5.0)\nRequirement already satisfied: ml-dtypes<0.5.0,>=0.3.1 in /local_disk0/.ephemeral_nfs/envs/pythonEnv-564a3435-2623-4b7b-8e8c-d16d63074450/lib/python3.9/site-packages (from tensorflow) (0.4.1)\nRequirement already satisfied: astunparse>=1.6.0 in /local_disk0/.ephemeral_nfs/envs/pythonEnv-564a3435-2623-4b7b-8e8c-d16d63074450/lib/python3.9/site-packages (from tensorflow) (1.6.3)\nRequirement already satisfied: h5py>=3.10.0 in /local_disk0/.ephemeral_nfs/envs/pythonEnv-564a3435-2623-4b7b-8e8c-d16d63074450/lib/python3.9/site-packages (from tensorflow) (3.12.1)\nRequirement already satisfied: grpcio<2.0,>=1.24.3 in /local_disk0/.ephemeral_nfs/envs/pythonEnv-564a3435-2623-4b7b-8e8c-d16d63074450/lib/python3.9/site-packages (from tensorflow) (1.67.0)\nRequirement already satisfied: requests<3,>=2.21.0 in /databricks/python3/lib/python3.9/site-packages (from tensorflow) (2.26.0)\nRequirement already satisfied: packaging in /databricks/python3/lib/python3.9/site-packages (from tensorflow) (21.0)\nRequirement already satisfied: six>=1.12.0 in /databricks/python3/lib/python3.9/site-packages (from tensorflow) (1.16.0)\nRequirement already satisfied: google-pasta>=0.1.1 in /local_disk0/.ephemeral_nfs/envs/pythonEnv-564a3435-2623-4b7b-8e8c-d16d63074450/lib/python3.9/site-packages (from tensorflow) (0.2.0)\nRequirement already satisfied: flatbuffers>=24.3.25 in /local_disk0/.ephemeral_nfs/envs/pythonEnv-564a3435-2623-4b7b-8e8c-d16d63074450/lib/python3.9/site-packages (from tensorflow) (24.3.25)\nRequirement already satisfied: libclang>=13.0.0 in /local_disk0/.ephemeral_nfs/envs/pythonEnv-564a3435-2623-4b7b-8e8c-d16d63074450/lib/python3.9/site-packages (from tensorflow) (18.1.1)\nRequirement already satisfied: wheel<1.0,>=0.23.0 in /databricks/python3/lib/python3.9/site-packages (from astunparse>=1.6.0->tensorflow) (0.37.0)\nRequirement already satisfied: namex in /local_disk0/.ephemeral_nfs/envs/pythonEnv-564a3435-2623-4b7b-8e8c-d16d63074450/lib/python3.9/site-packages (from keras>=3.2.0->tensorflow) (0.0.8)\nRequirement already satisfied: optree in /local_disk0/.ephemeral_nfs/envs/pythonEnv-564a3435-2623-4b7b-8e8c-d16d63074450/lib/python3.9/site-packages (from keras>=3.2.0->tensorflow) (0.13.0)\nRequirement already satisfied: rich in /local_disk0/.ephemeral_nfs/envs/pythonEnv-564a3435-2623-4b7b-8e8c-d16d63074450/lib/python3.9/site-packages (from keras>=3.2.0->tensorflow) (13.9.2)\nRequirement already satisfied: charset-normalizer~=2.0.0 in /databricks/python3/lib/python3.9/site-packages (from requests<3,>=2.21.0->tensorflow) (2.0.4)\nRequirement already satisfied: idna<4,>=2.5 in /databricks/python3/lib/python3.9/site-packages (from requests<3,>=2.21.0->tensorflow) (3.2)\nRequirement already satisfied: certifi>=2017.4.17 in /databricks/python3/lib/python3.9/site-packages (from requests<3,>=2.21.0->tensorflow) (2021.10.8)\nRequirement already satisfied: urllib3<1.27,>=1.21.1 in /databricks/python3/lib/python3.9/site-packages (from requests<3,>=2.21.0->tensorflow) (1.26.7)\nRequirement already satisfied: tensorboard-data-server<0.8.0,>=0.7.0 in /local_disk0/.ephemeral_nfs/envs/pythonEnv-564a3435-2623-4b7b-8e8c-d16d63074450/lib/python3.9/site-packages (from tensorboard<2.18,>=2.17->tensorflow) (0.7.2)\nRequirement already satisfied: werkzeug>=1.0.1 in /local_disk0/.ephemeral_nfs/envs/pythonEnv-564a3435-2623-4b7b-8e8c-d16d63074450/lib/python3.9/site-packages (from tensorboard<2.18,>=2.17->tensorflow) (3.0.4)\nRequirement already satisfied: markdown>=2.6.8 in /local_disk0/.ephemeral_nfs/envs/pythonEnv-564a3435-2623-4b7b-8e8c-d16d63074450/lib/python3.9/site-packages (from tensorboard<2.18,>=2.17->tensorflow) (3.7)\nRequirement already satisfied: importlib-metadata>=4.4 in /local_disk0/.ephemeral_nfs/envs/pythonEnv-564a3435-2623-4b7b-8e8c-d16d63074450/lib/python3.9/site-packages (from markdown>=2.6.8->tensorboard<2.18,>=2.17->tensorflow) (8.5.0)\nRequirement already satisfied: zipp>=3.20 in /local_disk0/.ephemeral_nfs/envs/pythonEnv-564a3435-2623-4b7b-8e8c-d16d63074450/lib/python3.9/site-packages (from importlib-metadata>=4.4->markdown>=2.6.8->tensorboard<2.18,>=2.17->tensorflow) (3.20.2)\nRequirement already satisfied: MarkupSafe>=2.1.1 in /local_disk0/.ephemeral_nfs/envs/pythonEnv-564a3435-2623-4b7b-8e8c-d16d63074450/lib/python3.9/site-packages (from werkzeug>=1.0.1->tensorboard<2.18,>=2.17->tensorflow) (3.0.2)\nRequirement already satisfied: pyparsing>=2.0.2 in /databricks/python3/lib/python3.9/site-packages (from packaging->tensorflow) (3.0.4)\nRequirement already satisfied: pygments<3.0.0,>=2.13.0 in /local_disk0/.ephemeral_nfs/envs/pythonEnv-564a3435-2623-4b7b-8e8c-d16d63074450/lib/python3.9/site-packages (from rich->keras>=3.2.0->tensorflow) (2.18.0)\nRequirement already satisfied: markdown-it-py>=2.2.0 in /local_disk0/.ephemeral_nfs/envs/pythonEnv-564a3435-2623-4b7b-8e8c-d16d63074450/lib/python3.9/site-packages (from rich->keras>=3.2.0->tensorflow) (3.0.0)\nRequirement already satisfied: mdurl~=0.1 in /local_disk0/.ephemeral_nfs/envs/pythonEnv-564a3435-2623-4b7b-8e8c-d16d63074450/lib/python3.9/site-packages (from markdown-it-py>=2.2.0->rich->keras>=3.2.0->tensorflow) (0.1.2)\nPython interpreter will be restarted.\n"
     ]
    },
    {
     "output_type": "display_data",
     "data": {
      "text/html": [
       "Preparing the learning environment..."
      ]
     },
     "metadata": {
      "application/vnd.databricks.v1+output": {
       "addedWidgets": {},
       "arguments": {},
       "data": "Preparing the learning environment...",
       "datasetInfos": [],
       "metadata": {},
       "removedWidgets": [],
       "textData": null,
       "type": "htmlSandbox"
      }
     },
     "output_type": "display_data"
    }
   ],
   "source": [
    "# Upgrade typing_extensions\n",
    "%pip install --upgrade typing_extensions\n",
    "\n",
    "# Install TensorFlow\n",
    "%pip install tensorflow\n",
    "\n",
    "# Your existing code\n",
    "spark.conf.set(\"com.databricks.training.module-name\", \"deep-learning\")\n",
    "spark.conf.set(\"com.databricks.training.expected-dbr\", \"6.4\")\n",
    "\n",
    "spark.conf.set(\"com.databricks.training.suppress.untilStreamIsReady\", \"true\")\n",
    "spark.conf.set(\"com.databricks.training.suppress.stopAllStreams\", \"true\")\n",
    "spark.conf.set(\"com.databricks.training.suppress.moduleName\", \"true\")\n",
    "spark.conf.set(\"com.databricks.training.suppress.lessonName\", \"true\")\n",
    "# spark.conf.set(\"com.databricks.training.suppress.username\", \"true\")\n",
    "spark.conf.set(\"com.databricks.training.suppress.userhome\", \"true\")\n",
    "# spark.conf.set(\"com.databricks.training.suppress.workingDir\", \"true\")\n",
    "spark.conf.set(\"com.databricks.training.suppress.databaseName\", \"true\")\n",
    "\n",
    "import warnings\n",
    "warnings.filterwarnings(\"ignore\")\n",
    "\n",
    "import tensorflow\n",
    "\n",
    "def display_run_uri(experiment_id, run_id):\n",
    "    host_name = dbutils.notebook.entry_point.getDbutils().notebook().getContext().tags().get(\"browserHostName\").get()\n",
    "    uri = \"https://{}/#mlflow/experiments/{}/runs/{}\".format(host_name,experiment_id,run_id)\n",
    "    displayHTML(\"\"\"<b>Run URI:</b> <a href=\"{}\">{}</a>\"\"\".format(uri,uri))\n",
    "\n",
    "def waitForMLflow():\n",
    "  try:\n",
    "    import mlflow; \n",
    "    if int(mlflow.__version__.split(\".\")[1]) >= 2:\n",
    "        print(\"\"\"The module \"mlflow\" is attached and ready to go.\"\"\");\n",
    "    else:\n",
    "        print(\"\"\"You need MLflow version 1.2.0+ installed.\"\"\")\n",
    "  except ModuleNotFoundError:\n",
    "    print(\"\"\"The module \"mlflow\" is not yet attached to the cluster, waiting...\"\"\");\n",
    "    while True:\n",
    "      try: import mlflow; print(\"\"\"The module \"mlflow\" is attached and ready to go.\"\"\"); break;\n",
    "      except ModuleNotFoundError: import time; time.sleep(1); print(\".\", end=\"\");\n",
    "\n",
    "\n",
    "from sklearn.metrics import confusion_matrix,f1_score,accuracy_score,fbeta_score,precision_score,recall_score\n",
    "import matplotlib.pyplot as plt\n",
    "import numpy as np\n",
    "from sklearn.utils.multiclass import unique_labels\n",
    "\n",
    "def plot_confusion_matrix(y_true, y_pred, classes,\n",
    "                          title=None,\n",
    "                          cmap=plt.cm.Blues):\n",
    "    # Compute confusion matrix\n",
    "    cm = confusion_matrix(y_true, y_pred)\n",
    "    fig, ax = plt.subplots()\n",
    "    im = ax.imshow(cm, interpolation='nearest', cmap=cmap)\n",
    "    ax.figure.colorbar(im, ax=ax)\n",
    "    ax.set(xticks=np.arange(cm.shape[1]),\n",
    "           yticks=np.arange(cm.shape[0]),\n",
    "           xticklabels=classes, yticklabels=classes,\n",
    "           title=title,\n",
    "           ylabel='True label',\n",
    "           xlabel='Predicted label')\n",
    "\n",
    "    plt.setp(ax.get_xticklabels(), rotation=45, ha=\"right\",\n",
    "             rotation_mode=\"anchor\")\n",
    "\n",
    "    fmt = 'd'\n",
    "    thresh = cm.max() / 2.\n",
    "    for i in range(cm.shape[0]):\n",
    "        for j in range(cm.shape[1]):\n",
    "            ax.text(j, i, format(cm[i, j], fmt),\n",
    "                    ha=\"center\", va=\"center\",\n",
    "                    color=\"white\" if cm[i, j] > thresh else \"black\")\n",
    "    fig.tight_layout()\n",
    "    return fig\n",
    "\n",
    "np.set_printoptions(precision=2)\n",
    "\n",
    "displayHTML(\"Preparing the learning environment...\")"
   ]
  },
  {
   "cell_type": "code",
   "execution_count": 0,
   "metadata": {
    "application/vnd.databricks.v1+cell": {
     "cellMetadata": {
      "byteLimit": 2048000,
      "rowLimit": 10000
     },
     "inputWidgets": {},
     "nuid": "4d627801-867a-4751-be48-e97b5d94cb12",
     "showTitle": false,
     "title": ""
    }
   },
   "outputs": [
    {
     "output_type": "display_data",
     "data": {
      "text/plain": [
       "\u001B[0;31m---------------------------------------------------------------------------\u001B[0m\n",
       "\u001B[0;31mModuleNotFoundError\u001B[0m                       Traceback (most recent call last)\n",
       "\u001B[0;32m<command-138804032757734>\u001B[0m in \u001B[0;36m<cell line: 16>\u001B[0;34m()\u001B[0m\n",
       "\u001B[1;32m     14\u001B[0m \u001B[0mwarnings\u001B[0m\u001B[0;34m.\u001B[0m\u001B[0mfilterwarnings\u001B[0m\u001B[0;34m(\u001B[0m\u001B[0;34m\"ignore\"\u001B[0m\u001B[0;34m)\u001B[0m\u001B[0;34m\u001B[0m\u001B[0;34m\u001B[0m\u001B[0m\n",
       "\u001B[1;32m     15\u001B[0m \u001B[0;34m\u001B[0m\u001B[0m\n",
       "\u001B[0;32m---> 16\u001B[0;31m \u001B[0;32mimport\u001B[0m \u001B[0mtensorflow\u001B[0m\u001B[0;34m\u001B[0m\u001B[0;34m\u001B[0m\u001B[0m\n",
       "\u001B[0m\u001B[1;32m     17\u001B[0m \u001B[0;34m\u001B[0m\u001B[0m\n",
       "\u001B[1;32m     18\u001B[0m \u001B[0;32mdef\u001B[0m \u001B[0mdisplay_run_uri\u001B[0m\u001B[0;34m(\u001B[0m\u001B[0mexperiment_id\u001B[0m\u001B[0;34m,\u001B[0m \u001B[0mrun_id\u001B[0m\u001B[0;34m)\u001B[0m\u001B[0;34m:\u001B[0m\u001B[0;34m\u001B[0m\u001B[0;34m\u001B[0m\u001B[0m\n",
       "\n",
       "\u001B[0;32m/databricks/python_shell/dbruntime/PythonPackageImportsInstrumentation/__init__.py\u001B[0m in \u001B[0;36mimport_patch\u001B[0;34m(name, globals, locals, fromlist, level)\u001B[0m\n",
       "\u001B[1;32m    169\u001B[0m             \u001B[0;31m# Import the desired module. If you’re seeing this while debugging a failed import,\u001B[0m\u001B[0;34m\u001B[0m\u001B[0;34m\u001B[0m\u001B[0m\n",
       "\u001B[1;32m    170\u001B[0m             \u001B[0;31m# look at preceding stack frames for relevant error information.\u001B[0m\u001B[0;34m\u001B[0m\u001B[0;34m\u001B[0m\u001B[0m\n",
       "\u001B[0;32m--> 171\u001B[0;31m             \u001B[0moriginal_result\u001B[0m \u001B[0;34m=\u001B[0m \u001B[0mpython_builtin_import\u001B[0m\u001B[0;34m(\u001B[0m\u001B[0mname\u001B[0m\u001B[0;34m,\u001B[0m \u001B[0mglobals\u001B[0m\u001B[0;34m,\u001B[0m \u001B[0mlocals\u001B[0m\u001B[0;34m,\u001B[0m \u001B[0mfromlist\u001B[0m\u001B[0;34m,\u001B[0m \u001B[0mlevel\u001B[0m\u001B[0;34m)\u001B[0m\u001B[0;34m\u001B[0m\u001B[0;34m\u001B[0m\u001B[0m\n",
       "\u001B[0m\u001B[1;32m    172\u001B[0m \u001B[0;34m\u001B[0m\u001B[0m\n",
       "\u001B[1;32m    173\u001B[0m             \u001B[0mis_root_import\u001B[0m \u001B[0;34m=\u001B[0m \u001B[0mthread_local\u001B[0m\u001B[0;34m.\u001B[0m\u001B[0m_nest_level\u001B[0m \u001B[0;34m==\u001B[0m \u001B[0;36m1\u001B[0m\u001B[0;34m\u001B[0m\u001B[0;34m\u001B[0m\u001B[0m\n",
       "\n",
       "\u001B[0;31mModuleNotFoundError\u001B[0m: No module named 'tensorflow'"
      ]
     },
     "metadata": {
      "application/vnd.databricks.v1+output": {
       "arguments": {},
       "data": "\u001B[0;31m---------------------------------------------------------------------------\u001B[0m\n\u001B[0;31mModuleNotFoundError\u001B[0m                       Traceback (most recent call last)\n\u001B[0;32m<command-138804032757734>\u001B[0m in \u001B[0;36m<cell line: 16>\u001B[0;34m()\u001B[0m\n\u001B[1;32m     14\u001B[0m \u001B[0mwarnings\u001B[0m\u001B[0;34m.\u001B[0m\u001B[0mfilterwarnings\u001B[0m\u001B[0;34m(\u001B[0m\u001B[0;34m\"ignore\"\u001B[0m\u001B[0;34m)\u001B[0m\u001B[0;34m\u001B[0m\u001B[0;34m\u001B[0m\u001B[0m\n\u001B[1;32m     15\u001B[0m \u001B[0;34m\u001B[0m\u001B[0m\n\u001B[0;32m---> 16\u001B[0;31m \u001B[0;32mimport\u001B[0m \u001B[0mtensorflow\u001B[0m\u001B[0;34m\u001B[0m\u001B[0;34m\u001B[0m\u001B[0m\n\u001B[0m\u001B[1;32m     17\u001B[0m \u001B[0;34m\u001B[0m\u001B[0m\n\u001B[1;32m     18\u001B[0m \u001B[0;32mdef\u001B[0m \u001B[0mdisplay_run_uri\u001B[0m\u001B[0;34m(\u001B[0m\u001B[0mexperiment_id\u001B[0m\u001B[0;34m,\u001B[0m \u001B[0mrun_id\u001B[0m\u001B[0;34m)\u001B[0m\u001B[0;34m:\u001B[0m\u001B[0;34m\u001B[0m\u001B[0;34m\u001B[0m\u001B[0m\n\n\u001B[0;32m/databricks/python_shell/dbruntime/PythonPackageImportsInstrumentation/__init__.py\u001B[0m in \u001B[0;36mimport_patch\u001B[0;34m(name, globals, locals, fromlist, level)\u001B[0m\n\u001B[1;32m    169\u001B[0m             \u001B[0;31m# Import the desired module. If you’re seeing this while debugging a failed import,\u001B[0m\u001B[0;34m\u001B[0m\u001B[0;34m\u001B[0m\u001B[0m\n\u001B[1;32m    170\u001B[0m             \u001B[0;31m# look at preceding stack frames for relevant error information.\u001B[0m\u001B[0;34m\u001B[0m\u001B[0;34m\u001B[0m\u001B[0m\n\u001B[0;32m--> 171\u001B[0;31m             \u001B[0moriginal_result\u001B[0m \u001B[0;34m=\u001B[0m \u001B[0mpython_builtin_import\u001B[0m\u001B[0;34m(\u001B[0m\u001B[0mname\u001B[0m\u001B[0;34m,\u001B[0m \u001B[0mglobals\u001B[0m\u001B[0;34m,\u001B[0m \u001B[0mlocals\u001B[0m\u001B[0;34m,\u001B[0m \u001B[0mfromlist\u001B[0m\u001B[0;34m,\u001B[0m \u001B[0mlevel\u001B[0m\u001B[0;34m)\u001B[0m\u001B[0;34m\u001B[0m\u001B[0;34m\u001B[0m\u001B[0m\n\u001B[0m\u001B[1;32m    172\u001B[0m \u001B[0;34m\u001B[0m\u001B[0m\n\u001B[1;32m    173\u001B[0m             \u001B[0mis_root_import\u001B[0m \u001B[0;34m=\u001B[0m \u001B[0mthread_local\u001B[0m\u001B[0;34m.\u001B[0m\u001B[0m_nest_level\u001B[0m \u001B[0;34m==\u001B[0m \u001B[0;36m1\u001B[0m\u001B[0;34m\u001B[0m\u001B[0;34m\u001B[0m\u001B[0m\n\n\u001B[0;31mModuleNotFoundError\u001B[0m: No module named 'tensorflow'",
       "errorSummary": "<span class='ansi-red-fg'>ModuleNotFoundError</span>: No module named 'tensorflow'",
       "errorTraceType": "ansi",
       "metadata": {},
       "type": "ipynbError"
      }
     },
     "output_type": "display_data"
    }
   ],
   "source": [
    "# %python\n",
    "\n",
    "# spark.conf.set(\"com.databricks.training.module-name\", \"deep-learning\")\n",
    "# spark.conf.set(\"com.databricks.training.expected-dbr\", \"6.4\")\n",
    "\n",
    "# spark.conf.set(\"com.databricks.training.suppress.untilStreamIsReady\", \"true\")\n",
    "# spark.conf.set(\"com.databricks.training.suppress.stopAllStreams\", \"true\")\n",
    "# spark.conf.set(\"com.databricks.training.suppress.moduleName\", \"true\")\n",
    "# spark.conf.set(\"com.databricks.training.suppress.lessonName\", \"true\")\n",
    "# # spark.conf.set(\"com.databricks.training.suppress.username\", \"true\")\n",
    "# spark.conf.set(\"com.databricks.training.suppress.userhome\", \"true\")\n",
    "# # spark.conf.set(\"com.databricks.training.suppress.workingDir\", \"true\")\n",
    "# spark.conf.set(\"com.databricks.training.suppress.databaseName\", \"true\")\n",
    "\n",
    "# import warnings\n",
    "# warnings.filterwarnings(\"ignore\")\n",
    "\n",
    "# import tensorflow\n",
    "\n",
    "# def display_run_uri(experiment_id, run_id):\n",
    "#     host_name = dbutils.notebook.entry_point.getDbutils().notebook().getContext().tags().get(\"browserHostName\").get()\n",
    "#     uri = \"https://{}/#mlflow/experiments/{}/runs/{}\".format(host_name,experiment_id,run_id)\n",
    "#     displayHTML(\"\"\"<b>Run URI:</b> <a href=\"{}\">{}</a>\"\"\".format(uri,uri))\n",
    "\n",
    "# def waitForMLflow():\n",
    "#   try:\n",
    "#     import mlflow; \n",
    "#     if int(mlflow.__version__.split(\".\")[1]) >= 2:\n",
    "#         print(\"\"\"The module \"mlflow\" is attached and ready to go.\"\"\");\n",
    "#     else:\n",
    "#         print(\"\"\"You need MLflow version 1.2.0+ installed.\"\"\")\n",
    "#   except ModuleNotFoundError:\n",
    "#     print(\"\"\"The module \"mlflow\" is not yet attached to the cluster, waiting...\"\"\");\n",
    "#     while True:\n",
    "#       try: import mlflow; print(\"\"\"The module \"mlflow\" is attached and ready to go.\"\"\"); break;\n",
    "#       except ModuleNotFoundError: import time; time.sleep(1); print(\".\", end=\"\");\n",
    "\n",
    "\n",
    "# from sklearn.metrics import confusion_matrix,f1_score,accuracy_score,fbeta_score,precision_score,recall_score\n",
    "# import matplotlib.pyplot as plt\n",
    "# import numpy as np\n",
    "# from sklearn.utils.multiclass import unique_labels\n",
    "\n",
    "# def plot_confusion_matrix(y_true, y_pred, classes,\n",
    "#                           title=None,\n",
    "#                           cmap=plt.cm.Blues):\n",
    "#     # Compute confusion matrix\n",
    "#     cm = confusion_matrix(y_true, y_pred)\n",
    "#     fig, ax = plt.subplots()\n",
    "#     im = ax.imshow(cm, interpolation='nearest', cmap=cmap)\n",
    "#     ax.figure.colorbar(im, ax=ax)\n",
    "#     ax.set(xticks=np.arange(cm.shape[1]),\n",
    "#            yticks=np.arange(cm.shape[0]),\n",
    "#            xticklabels=classes, yticklabels=classes,\n",
    "#            title=title,\n",
    "#            ylabel='True label',\n",
    "#            xlabel='Predicted label')\n",
    "\n",
    "#     plt.setp(ax.get_xticklabels(), rotation=45, ha=\"right\",\n",
    "#              rotation_mode=\"anchor\")\n",
    "\n",
    "#     fmt = 'd'\n",
    "#     thresh = cm.max() / 2.\n",
    "#     for i in range(cm.shape[0]):\n",
    "#         for j in range(cm.shape[1]):\n",
    "#             ax.text(j, i, format(cm[i, j], fmt),\n",
    "#                     ha=\"center\", va=\"center\",\n",
    "#                     color=\"white\" if cm[i, j] > thresh else \"black\")\n",
    "#     fig.tight_layout()\n",
    "#     return fig\n",
    "\n",
    "# np.set_printoptions(precision=2)\n",
    "\n",
    "# displayHTML(\"Preparing the learning environment...\")"
   ]
  },
  {
   "cell_type": "code",
   "execution_count": 0,
   "metadata": {
    "application/vnd.databricks.v1+cell": {
     "cellMetadata": {
      "byteLimit": 2048000,
      "rowLimit": 10000
     },
     "inputWidgets": {},
     "nuid": "c5bb31e4-3181-4b17-9a70-21fdaaed24a2",
     "showTitle": false,
     "title": ""
    }
   },
   "outputs": [
    {
     "output_type": "display_data",
     "data": {
      "text/html": [
       "Preparing the Scala environment..."
      ]
     },
     "metadata": {
      "application/vnd.databricks.v1+output": {
       "addedWidgets": {},
       "arguments": {},
       "data": "Preparing the Scala environment...",
       "datasetInfos": [],
       "metadata": {
        "isDbfsCommandResult": false
       },
       "removedWidgets": [],
       "textData": null,
       "type": "htmlSandbox"
      }
     },
     "output_type": "display_data"
    },
    {
     "output_type": "display_data",
     "data": {
      "text/html": [
       "Preparing the Scala environment..."
      ]
     },
     "metadata": {
      "application/vnd.databricks.v1+output": {
       "addedWidgets": {},
       "arguments": {},
       "data": "Preparing the Scala environment...",
       "datasetInfos": [],
       "metadata": {
        "isDbfsCommandResult": false
       },
       "removedWidgets": [],
       "textData": null,
       "type": "htmlSandbox"
      }
     },
     "output_type": "display_data"
    },
    {
     "output_type": "display_data",
     "data": {
      "text/html": [
       "Preparing the Python environment..."
      ]
     },
     "metadata": {
      "application/vnd.databricks.v1+output": {
       "addedWidgets": {},
       "arguments": {},
       "data": "Preparing the Python environment...",
       "datasetInfos": [],
       "metadata": {},
       "removedWidgets": [],
       "textData": null,
       "type": "htmlSandbox"
      }
     },
     "output_type": "display_data"
    },
    {
     "output_type": "display_data",
     "data": {
      "text/html": [
       "Preparing the Python environment..."
      ]
     },
     "metadata": {
      "application/vnd.databricks.v1+output": {
       "addedWidgets": {},
       "arguments": {},
       "data": "Preparing the Python environment...",
       "datasetInfos": [],
       "metadata": {},
       "removedWidgets": [],
       "textData": null,
       "type": "htmlSandbox"
      }
     },
     "output_type": "display_data"
    },
    {
     "output_type": "display_data",
     "data": {
      "text/html": [
       "Defining courseware-specific utility methods..."
      ]
     },
     "metadata": {
      "application/vnd.databricks.v1+output": {
       "addedWidgets": {},
       "arguments": {},
       "data": "Defining courseware-specific utility methods...",
       "datasetInfos": [],
       "metadata": {
        "isDbfsCommandResult": false
       },
       "removedWidgets": [],
       "textData": null,
       "type": "htmlSandbox"
      }
     },
     "output_type": "display_data"
    },
    {
     "output_type": "display_data",
     "data": {
      "text/html": [
       "Defining courseware-specific utility methods..."
      ]
     },
     "metadata": {
      "application/vnd.databricks.v1+output": {
       "addedWidgets": {},
       "arguments": {},
       "data": "Defining courseware-specific utility methods...",
       "datasetInfos": [],
       "metadata": {},
       "removedWidgets": [],
       "textData": null,
       "type": "htmlSandbox"
      }
     },
     "output_type": "display_data"
    },
    {
     "output_type": "display_data",
     "data": {
      "text/html": [
       "Defining user-facing utility methods..."
      ]
     },
     "metadata": {
      "application/vnd.databricks.v1+output": {
       "addedWidgets": {},
       "arguments": {},
       "data": "Defining user-facing utility methods...",
       "datasetInfos": [],
       "metadata": {
        "isDbfsCommandResult": false
       },
       "removedWidgets": [],
       "textData": null,
       "type": "htmlSandbox"
      }
     },
     "output_type": "display_data"
    },
    {
     "output_type": "display_data",
     "data": {
      "text/html": [
       "Defining custom variables for this lesson..."
      ]
     },
     "metadata": {
      "application/vnd.databricks.v1+output": {
       "addedWidgets": {},
       "arguments": {},
       "data": "Defining custom variables for this lesson...",
       "datasetInfos": [],
       "metadata": {
        "isDbfsCommandResult": false
       },
       "removedWidgets": [],
       "textData": null,
       "type": "htmlSandbox"
      }
     },
     "output_type": "display_data"
    },
    {
     "output_type": "display_data",
     "data": {
      "text/html": [
       "Defining custom variables for this lesson..."
      ]
     },
     "metadata": {
      "application/vnd.databricks.v1+output": {
       "addedWidgets": {},
       "arguments": {},
       "data": "Defining custom variables for this lesson...",
       "datasetInfos": [],
       "metadata": {},
       "removedWidgets": [],
       "textData": null,
       "type": "htmlSandbox"
      }
     },
     "output_type": "display_data"
    }
   ],
   "source": [
    "%run ./Common-Notebooks/Common"
   ]
  },
  {
   "cell_type": "code",
   "execution_count": 0,
   "metadata": {
    "application/vnd.databricks.v1+cell": {
     "cellMetadata": {
      "byteLimit": 2048000,
      "rowLimit": 10000
     },
     "inputWidgets": {},
     "nuid": "2171c3df-362b-482c-8091-f2bcdb92e800",
     "showTitle": false,
     "title": ""
    }
   },
   "outputs": [
    {
     "output_type": "display_data",
     "data": {
      "text/html": [
       "The following functions were defined for you:<ul style='margin-top:0'><li style=\"cursor:help\" onclick=\"document.getElementById('waitForMLflow').style.display='block'\">\n",
       "        <span style=\"color: green; font-weight:bold\">waitForMLflow</span>\n",
       "        <span style=\"font-weight:bold\">(</span>\n",
       "        <span style=\"color: green; font-weight:bold; font-style:italic\"></span>\n",
       "        <span style=\"font-weight:bold\">)</span>\n",
       "        <div id=\"waitForMLflow\" style=\"display:none; margin:0.5em 0; border-left: 3px solid grey; padding-left: 0.5em\">MLflow is an open source platform to manage the ML lifecycle, including experimentation, reproducibility and deployment</div>\n",
       "        </li><li style=\"cursor:help\" onclick=\"document.getElementById('display_run_uri').style.display='block'\">\n",
       "        <span style=\"color: green; font-weight:bold\">display_run_uri</span>\n",
       "        <span style=\"font-weight:bold\">(</span>\n",
       "        <span style=\"color: green; font-weight:bold; font-style:italic\">experiment_id, run_id</span>\n",
       "        <span style=\"font-weight:bold\">)</span>\n",
       "        <div id=\"display_run_uri\" style=\"display:none; margin:0.5em 0; border-left: 3px solid grey; padding-left: 0.5em\">Experiment and run ids</div>\n",
       "        </li><li style=\"cursor:help\" onclick=\"document.getElementById('plot_confusion_matrix').style.display='block'\">\n",
       "        <span style=\"color: green; font-weight:bold\">plot_confusion_matrix</span>\n",
       "        <span style=\"font-weight:bold\">(</span>\n",
       "        <span style=\"color: green; font-weight:bold; font-style:italic\">y_true, y_pred, classes, title=None, cmap=plt.cm.Blues</span>\n",
       "        <span style=\"font-weight:bold\">)</span>\n",
       "        <div id=\"plot_confusion_matrix\" style=\"display:none; margin:0.5em 0; border-left: 3px solid grey; padding-left: 0.5em\">Confusion matrix</div>\n",
       "        </li></ul>The following variables were defined for you:<ul style='margin-top:0'><li style=\"cursor:help\" onclick=\"document.getElementById('working_path').style.display='block'\">\n",
       "        <span style=\"color: green; font-weight:bold\">working_path</span>: <span style=\"font-style:italic; font-weight:bold\">/dbfs/user/saifahmed.k@outlook.com/deep_learning/classroom_setup_pil </span>\n",
       "        <div id=\"working_path\" style=\"display:none; margin:0.5em 0; border-left: 3px solid grey; padding-left: 0.5em\">This is working directory.</div>\n",
       "        </li><li style=\"cursor:help\" onclick=\"document.getElementById('ml_working_path').style.display='block'\">\n",
       "        <span style=\"color: green; font-weight:bold\">ml_working_path</span>: <span style=\"font-style:italic; font-weight:bold\">/dbfs/ml/saifahmed.k@outlook.com </span>\n",
       "        <div id=\"ml_working_path\" style=\"display:none; margin:0.5em 0; border-left: 3px solid grey; padding-left: 0.5em\">This is ML working directory.</div>\n",
       "        </li></ul>All done!"
      ]
     },
     "metadata": {
      "application/vnd.databricks.v1+output": {
       "addedWidgets": {},
       "arguments": {},
       "data": "The following functions were defined for you:<ul style='margin-top:0'><li style=\"cursor:help\" onclick=\"document.getElementById('waitForMLflow').style.display='block'\">\n        <span style=\"color: green; font-weight:bold\">waitForMLflow</span>\n        <span style=\"font-weight:bold\">(</span>\n        <span style=\"color: green; font-weight:bold; font-style:italic\"></span>\n        <span style=\"font-weight:bold\">)</span>\n        <div id=\"waitForMLflow\" style=\"display:none; margin:0.5em 0; border-left: 3px solid grey; padding-left: 0.5em\">MLflow is an open source platform to manage the ML lifecycle, including experimentation, reproducibility and deployment</div>\n        </li><li style=\"cursor:help\" onclick=\"document.getElementById('display_run_uri').style.display='block'\">\n        <span style=\"color: green; font-weight:bold\">display_run_uri</span>\n        <span style=\"font-weight:bold\">(</span>\n        <span style=\"color: green; font-weight:bold; font-style:italic\">experiment_id, run_id</span>\n        <span style=\"font-weight:bold\">)</span>\n        <div id=\"display_run_uri\" style=\"display:none; margin:0.5em 0; border-left: 3px solid grey; padding-left: 0.5em\">Experiment and run ids</div>\n        </li><li style=\"cursor:help\" onclick=\"document.getElementById('plot_confusion_matrix').style.display='block'\">\n        <span style=\"color: green; font-weight:bold\">plot_confusion_matrix</span>\n        <span style=\"font-weight:bold\">(</span>\n        <span style=\"color: green; font-weight:bold; font-style:italic\">y_true, y_pred, classes, title=None, cmap=plt.cm.Blues</span>\n        <span style=\"font-weight:bold\">)</span>\n        <div id=\"plot_confusion_matrix\" style=\"display:none; margin:0.5em 0; border-left: 3px solid grey; padding-left: 0.5em\">Confusion matrix</div>\n        </li></ul>The following variables were defined for you:<ul style='margin-top:0'><li style=\"cursor:help\" onclick=\"document.getElementById('working_path').style.display='block'\">\n        <span style=\"color: green; font-weight:bold\">working_path</span>: <span style=\"font-style:italic; font-weight:bold\">/dbfs/user/saifahmed.k@outlook.com/deep_learning/classroom_setup_pil </span>\n        <div id=\"working_path\" style=\"display:none; margin:0.5em 0; border-left: 3px solid grey; padding-left: 0.5em\">This is working directory.</div>\n        </li><li style=\"cursor:help\" onclick=\"document.getElementById('ml_working_path').style.display='block'\">\n        <span style=\"color: green; font-weight:bold\">ml_working_path</span>: <span style=\"font-style:italic; font-weight:bold\">/dbfs/ml/saifahmed.k@outlook.com </span>\n        <div id=\"ml_working_path\" style=\"display:none; margin:0.5em 0; border-left: 3px solid grey; padding-left: 0.5em\">This is ML working directory.</div>\n        </li></ul>All done!",
       "datasetInfos": [],
       "metadata": {},
       "removedWidgets": [],
       "textData": null,
       "type": "htmlSandbox"
      }
     },
     "output_type": "display_data"
    },
    {
     "output_type": "display_data",
     "data": {
      "text/html": [
       "Initializing Databricks Academy's testing framework..."
      ]
     },
     "metadata": {
      "application/vnd.databricks.v1+output": {
       "addedWidgets": {},
       "arguments": {},
       "data": "Initializing Databricks Academy's testing framework...",
       "datasetInfos": [],
       "metadata": {},
       "removedWidgets": [],
       "textData": null,
       "type": "htmlSandbox"
      }
     },
     "output_type": "display_data"
    },
    {
     "output_type": "display_data",
     "data": {
      "text/html": [
       "Initializing Databricks Academy's testing framework..."
      ]
     },
     "metadata": {
      "application/vnd.databricks.v1+output": {
       "addedWidgets": {},
       "arguments": {},
       "data": "Initializing Databricks Academy's testing framework...",
       "datasetInfos": [],
       "metadata": {
        "isDbfsCommandResult": false
       },
       "removedWidgets": [],
       "textData": null,
       "type": "htmlSandbox"
      }
     },
     "output_type": "display_data"
    },
    {
     "output_type": "display_data",
     "data": {
      "text/html": [
       "Initializing Databricks Academy's services for generating dynamic data..."
      ]
     },
     "metadata": {
      "application/vnd.databricks.v1+output": {
       "addedWidgets": {},
       "arguments": {},
       "data": "Initializing Databricks Academy's services for generating dynamic data...",
       "datasetInfos": [],
       "metadata": {},
       "removedWidgets": [],
       "textData": null,
       "type": "htmlSandbox"
      }
     },
     "output_type": "display_data"
    },
    {
     "output_type": "display_data",
     "data": {
      "text/html": [
       "Initializing Databricks Academy's services for generating dynamic data..."
      ]
     },
     "metadata": {
      "application/vnd.databricks.v1+output": {
       "addedWidgets": {},
       "arguments": {},
       "data": "Initializing Databricks Academy's services for generating dynamic data...",
       "datasetInfos": [],
       "metadata": {
        "isDbfsCommandResult": false
       },
       "removedWidgets": [],
       "textData": null,
       "type": "htmlSandbox"
      }
     },
     "output_type": "display_data"
    },
    {
     "output_type": "display_data",
     "data": {
      "text/html": [
       "Mounting course-specific datasets to <b>/mnt/training</b>...</br>Datasets are already mounted to <b>/mnt/training</b> from <b>wasbs://training@dbtrainwesteurope.blob.core.windows.net/</b>"
      ]
     },
     "metadata": {
      "application/vnd.databricks.v1+output": {
       "addedWidgets": {},
       "arguments": {},
       "data": "Mounting course-specific datasets to <b>/mnt/training</b>...</br>Datasets are already mounted to <b>/mnt/training</b> from <b>wasbs://training@dbtrainwesteurope.blob.core.windows.net/</b>",
       "datasetInfos": [],
       "metadata": {
        "isDbfsCommandResult": false
       },
       "removedWidgets": [],
       "textData": null,
       "type": "htmlSandbox"
      }
     },
     "output_type": "display_data"
    },
    {
     "output_type": "display_data",
     "data": {
      "text/html": [
       "Cleaning up the learning environment...no actions taken."
      ]
     },
     "metadata": {
      "application/vnd.databricks.v1+output": {
       "addedWidgets": {},
       "arguments": {},
       "data": "Cleaning up the learning environment...no actions taken.",
       "datasetInfos": [],
       "metadata": {
        "isDbfsCommandResult": false
       },
       "removedWidgets": [],
       "textData": null,
       "type": "htmlSandbox"
      }
     },
     "output_type": "display_data"
    },
    {
     "output_type": "display_data",
     "data": {
      "text/html": [
       "Cleaning up the learning environment...no actions taken."
      ]
     },
     "metadata": {
      "application/vnd.databricks.v1+output": {
       "addedWidgets": {},
       "arguments": {},
       "data": "Cleaning up the learning environment...no actions taken.",
       "datasetInfos": [],
       "metadata": {},
       "removedWidgets": [],
       "textData": null,
       "type": "htmlSandbox"
      }
     },
     "output_type": "display_data"
    },
    {
     "output_type": "display_data",
     "data": {
      "text/html": [
       "\n",
       "    "
      ]
     },
     "metadata": {
      "application/vnd.databricks.v1+output": {
       "addedWidgets": {},
       "arguments": {},
       "data": "\n    ",
       "datasetInfos": [],
       "metadata": {
        "isDbfsCommandResult": false
       },
       "removedWidgets": [],
       "textData": null,
       "type": "htmlSandbox"
      }
     },
     "output_type": "display_data"
    },
    {
     "output_type": "display_data",
     "data": {
      "text/html": [
       "\n",
       "    "
      ]
     },
     "metadata": {
      "application/vnd.databricks.v1+output": {
       "addedWidgets": {},
       "arguments": {},
       "data": "\n    ",
       "datasetInfos": [],
       "metadata": {},
       "removedWidgets": [],
       "textData": null,
       "type": "htmlSandbox"
      }
     },
     "output_type": "display_data"
    }
   ],
   "source": [
    "courseAdvertisements = {}\n",
    "\n",
    "courseAdvertisements[\"waitForMLflow\"] = (\"f\", \"\", \"MLflow is an open source platform to manage the ML lifecycle, including experimentation, reproducibility and deployment\")\n",
    "courseAdvertisements[\"display_run_uri\"] = (\"f\", \"experiment_id, run_id\", \"Experiment and run ids\")\n",
    "courseAdvertisements[\"plot_confusion_matrix\"] = (\"f\", \"y_true, y_pred, classes, title=None, cmap=plt.cm.Blues\", \"Confusion matrix\")\n",
    "\n",
    "working_path = workingDir.replace(\"dbfs:/\", \"/dbfs/\")\n",
    "courseAdvertisements[\"working_path\"] = (\"v\", working_path, \"This is working directory.\")\n",
    "# Make sure workingDir exists before continuing\n",
    "dbutils.fs.mkdirs(working_path.replace(\"/dbfs/\", \"dbfs:/\"))\n",
    "\n",
    "# Optimized fuse mount\n",
    "ml_working_path = f\"/dbfs/ml/{username.replace('+', '')}\"\n",
    "courseAdvertisements[\"ml_working_path\"] = (\"v\", ml_working_path, \"This is ML working directory.\")\n",
    "# Make sure workingDir exists before continuing\n",
    "dbutils.fs.mkdirs(ml_working_path.replace(\"/dbfs/\", \"dbfs:/\"))\n",
    "\n",
    "dbutils.fs.mkdirs(f\"{workingDir}/temp\")\n",
    "\n",
    "allDone(courseAdvertisements)"
   ]
  }
 ],
 "metadata": {
  "application/vnd.databricks.v1+notebook": {
   "dashboards": [],
   "environmentMetadata": null,
   "language": "python",
   "notebookMetadata": {
    "pythonIndentUnit": 2
   },
   "notebookName": "Classroom-Setup",
   "widgets": {}
  }
 },
 "nbformat": 4,
 "nbformat_minor": 0
}
